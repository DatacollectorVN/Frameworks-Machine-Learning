{
  "nbformat": 4,
  "nbformat_minor": 0,
  "metadata": {
    "colab": {
      "name": "2.1 Regression_Analysis-Simple_Linear_Regression",
      "provenance": []
    },
    "kernelspec": {
      "name": "python3",
      "display_name": "Python 3"
    }
  },
  "cells": [
    {
      "cell_type": "code",
      "metadata": {
        "id": "PFuJE8huDDCY",
        "colab": {
          "base_uri": "https://localhost:8080/"
        },
        "outputId": "85ff4815-6e27-4213-ca1e-26c26958c374"
      },
      "source": [
        "from google.colab import drive\n",
        "drive.mount(\"/content/gdrive\",force_remount = True)"
      ],
      "execution_count": 1,
      "outputs": [
        {
          "output_type": "stream",
          "text": [
            "Mounted at /content/gdrive\n"
          ],
          "name": "stdout"
        }
      ]
    },
    {
      "cell_type": "code",
      "metadata": {
        "id": "BmhH8VGPDS76",
        "colab": {
          "base_uri": "https://localhost:8080/"
        },
        "outputId": "922ffb56-95b7-4ea8-cab0-b28439eb7817"
      },
      "source": [
        "%cd \"/content/gdrive/My Drive/Document/DS&AI/Machine_Learning/Course_4/LDS6_NgoTrongNhan/Week_1/Chapter_2\""
      ],
      "execution_count": 2,
      "outputs": [
        {
          "output_type": "stream",
          "text": [
            "/content/gdrive/My Drive/Document/DS&AI/Machine_Learning/Course_4/LDS6_NgoTrongNhan/Week_1/Chapter_2\n"
          ],
          "name": "stdout"
        }
      ]
    },
    {
      "cell_type": "markdown",
      "metadata": {
        "id": "1p5c-JVJKwiY"
      },
      "source": [
        "1. Loading data"
      ]
    },
    {
      "cell_type": "code",
      "metadata": {
        "id": "YGur7QuPDqWT",
        "colab": {
          "base_uri": "https://localhost:8080/",
          "height": 143
        },
        "outputId": "4e7e0016-5988-41d8-b2eb-773e7d721375"
      },
      "source": [
        "import pandas as pd\n",
        "data = pd.read_excel(\"Iris.xls\")\n",
        "data.head(3)"
      ],
      "execution_count": 3,
      "outputs": [
        {
          "output_type": "execute_result",
          "data": {
            "text/html": [
              "<div>\n",
              "<style scoped>\n",
              "    .dataframe tbody tr th:only-of-type {\n",
              "        vertical-align: middle;\n",
              "    }\n",
              "\n",
              "    .dataframe tbody tr th {\n",
              "        vertical-align: top;\n",
              "    }\n",
              "\n",
              "    .dataframe thead th {\n",
              "        text-align: right;\n",
              "    }\n",
              "</style>\n",
              "<table border=\"1\" class=\"dataframe\">\n",
              "  <thead>\n",
              "    <tr style=\"text-align: right;\">\n",
              "      <th></th>\n",
              "      <th>sepallength</th>\n",
              "      <th>sepalwidth</th>\n",
              "      <th>petallength</th>\n",
              "      <th>petalwidth</th>\n",
              "      <th>iris</th>\n",
              "    </tr>\n",
              "  </thead>\n",
              "  <tbody>\n",
              "    <tr>\n",
              "      <th>0</th>\n",
              "      <td>5.1</td>\n",
              "      <td>3.5</td>\n",
              "      <td>1.4</td>\n",
              "      <td>0.2</td>\n",
              "      <td>Iris-setosa</td>\n",
              "    </tr>\n",
              "    <tr>\n",
              "      <th>1</th>\n",
              "      <td>4.9</td>\n",
              "      <td>3.0</td>\n",
              "      <td>1.4</td>\n",
              "      <td>0.2</td>\n",
              "      <td>Iris-setosa</td>\n",
              "    </tr>\n",
              "    <tr>\n",
              "      <th>2</th>\n",
              "      <td>4.7</td>\n",
              "      <td>3.2</td>\n",
              "      <td>1.3</td>\n",
              "      <td>0.2</td>\n",
              "      <td>Iris-setosa</td>\n",
              "    </tr>\n",
              "  </tbody>\n",
              "</table>\n",
              "</div>"
            ],
            "text/plain": [
              "   sepallength  sepalwidth  petallength  petalwidth         iris\n",
              "0          5.1         3.5          1.4         0.2  Iris-setosa\n",
              "1          4.9         3.0          1.4         0.2  Iris-setosa\n",
              "2          4.7         3.2          1.3         0.2  Iris-setosa"
            ]
          },
          "metadata": {},
          "execution_count": 3
        }
      ]
    },
    {
      "cell_type": "markdown",
      "metadata": {
        "id": "X07aOUtqKK9y"
      },
      "source": [
        "**2. Input: Petallength và Output: Petalwidth**"
      ]
    },
    {
      "cell_type": "code",
      "metadata": {
        "id": "RCdVUqo-Ke_A",
        "colab": {
          "base_uri": "https://localhost:8080/",
          "height": 143
        },
        "outputId": "41c248cc-7680-4181-ce78-90d23dea30cf"
      },
      "source": [
        "data_for_train = data[[\"petallength\", \"petalwidth\"]]\n",
        "data_for_train.head(3)"
      ],
      "execution_count": 4,
      "outputs": [
        {
          "output_type": "execute_result",
          "data": {
            "text/html": [
              "<div>\n",
              "<style scoped>\n",
              "    .dataframe tbody tr th:only-of-type {\n",
              "        vertical-align: middle;\n",
              "    }\n",
              "\n",
              "    .dataframe tbody tr th {\n",
              "        vertical-align: top;\n",
              "    }\n",
              "\n",
              "    .dataframe thead th {\n",
              "        text-align: right;\n",
              "    }\n",
              "</style>\n",
              "<table border=\"1\" class=\"dataframe\">\n",
              "  <thead>\n",
              "    <tr style=\"text-align: right;\">\n",
              "      <th></th>\n",
              "      <th>petallength</th>\n",
              "      <th>petalwidth</th>\n",
              "    </tr>\n",
              "  </thead>\n",
              "  <tbody>\n",
              "    <tr>\n",
              "      <th>0</th>\n",
              "      <td>1.4</td>\n",
              "      <td>0.2</td>\n",
              "    </tr>\n",
              "    <tr>\n",
              "      <th>1</th>\n",
              "      <td>1.4</td>\n",
              "      <td>0.2</td>\n",
              "    </tr>\n",
              "    <tr>\n",
              "      <th>2</th>\n",
              "      <td>1.3</td>\n",
              "      <td>0.2</td>\n",
              "    </tr>\n",
              "  </tbody>\n",
              "</table>\n",
              "</div>"
            ],
            "text/plain": [
              "   petallength  petalwidth\n",
              "0          1.4         0.2\n",
              "1          1.4         0.2\n",
              "2          1.3         0.2"
            ]
          },
          "metadata": {},
          "execution_count": 4
        }
      ]
    },
    {
      "cell_type": "markdown",
      "metadata": {
        "id": "20Vm8XuHLCbs"
      },
      "source": [
        "3. Discovering the relationship both of petallength and petalwidth"
      ]
    },
    {
      "cell_type": "code",
      "metadata": {
        "id": "YkNj8ZgOLLCC"
      },
      "source": [
        "import matplotlib.pyplot as plt\n",
        "import seaborn as sns"
      ],
      "execution_count": 5,
      "outputs": []
    },
    {
      "cell_type": "code",
      "metadata": {
        "id": "lR0Rw2ZSLx_A",
        "colab": {
          "base_uri": "https://localhost:8080/",
          "height": 623
        },
        "outputId": "8c2dea9c-68ca-4015-de24-f11f3de1fd41"
      },
      "source": [
        "#1 using matplotlib\n",
        "plt.figure(figsize=(10,10))\n",
        "plt.plot(data_for_train.petallength, data_for_train.petalwidth, \"o\", color = \"blue\")\n",
        "plt.xlabel(\"Petal Length\")\n",
        "plt.ylabel (\"Petal width\")"
      ],
      "execution_count": 6,
      "outputs": [
        {
          "output_type": "execute_result",
          "data": {
            "text/plain": [
              "Text(0, 0.5, 'Petal width')"
            ]
          },
          "metadata": {},
          "execution_count": 6
        },
        {
          "output_type": "display_data",
          "data": {
            "image/png": "[encoded data removed]",
            "text/plain": [
              "<Figure size 720x720 with 1 Axes>"
            ]
          },
          "metadata": {
            "needs_background": "light"
          }
        }
      ]
    },
    {
      "cell_type": "code",
      "metadata": {
        "id": "ANB_ZPjsMOd_",
        "colab": {
          "base_uri": "https://localhost:8080/",
          "height": 606
        },
        "outputId": "ca688001-1d81-47eb-98b2-47c93e056121"
      },
      "source": [
        "#2 using seaborn\n",
        "plt.figure(figsize = (10,10))\n",
        "sns.regplot(data = data_for_train, x = \"petallength\", y =\"petalwidth\")\n",
        "plt.show()"
      ],
      "execution_count": 7,
      "outputs": [
        {
          "output_type": "display_data",
          "data": {
            "image/png": "[encoded data removed]",
            "text/plain": [
              "<Figure size 720x720 with 1 Axes>"
            ]
          },
          "metadata": {
            "needs_background": "light"
          }
        }
      ]
    },
    {
      "cell_type": "code",
      "metadata": {
        "id": "0DoVix12NIc3",
        "colab": {
          "base_uri": "https://localhost:8080/",
          "height": 112
        },
        "outputId": "f002218f-14e7-4603-94d1-c8f07c07559c"
      },
      "source": [
        "#3 dua vao correlation\n",
        "data_for_train.corr(method=\"pearson\")"
      ],
      "execution_count": 8,
      "outputs": [
        {
          "output_type": "execute_result",
          "data": {
            "text/html": [
              "<div>\n",
              "<style scoped>\n",
              "    .dataframe tbody tr th:only-of-type {\n",
              "        vertical-align: middle;\n",
              "    }\n",
              "\n",
              "    .dataframe tbody tr th {\n",
              "        vertical-align: top;\n",
              "    }\n",
              "\n",
              "    .dataframe thead th {\n",
              "        text-align: right;\n",
              "    }\n",
              "</style>\n",
              "<table border=\"1\" class=\"dataframe\">\n",
              "  <thead>\n",
              "    <tr style=\"text-align: right;\">\n",
              "      <th></th>\n",
              "      <th>petallength</th>\n",
              "      <th>petalwidth</th>\n",
              "    </tr>\n",
              "  </thead>\n",
              "  <tbody>\n",
              "    <tr>\n",
              "      <th>petallength</th>\n",
              "      <td>1.000000</td>\n",
              "      <td>0.962757</td>\n",
              "    </tr>\n",
              "    <tr>\n",
              "      <th>petalwidth</th>\n",
              "      <td>0.962757</td>\n",
              "      <td>1.000000</td>\n",
              "    </tr>\n",
              "  </tbody>\n",
              "</table>\n",
              "</div>"
            ],
            "text/plain": [
              "             petallength  petalwidth\n",
              "petallength     1.000000    0.962757\n",
              "petalwidth      0.962757    1.000000"
            ]
          },
          "metadata": {},
          "execution_count": 8
        }
      ]
    },
    {
      "cell_type": "markdown",
      "metadata": {
        "id": "66rhYsOUlBcP"
      },
      "source": [
        "**4. spliting the data to 2 dataframe with including Input/independent variable and Output/ dependent variable**"
      ]
    },
    {
      "cell_type": "code",
      "metadata": {
        "id": "LYKkAf_dlUtg"
      },
      "source": [
        "input = data_for_train[[\"petallength\"]]\n",
        "output = data_for_train[[\"petalwidth\"]]"
      ],
      "execution_count": 9,
      "outputs": []
    },
    {
      "cell_type": "markdown",
      "metadata": {
        "id": "OcBOGmTzleph"
      },
      "source": [
        "**5. Create X_train, y_train, X_test, y_test from input and output (that has just created)**"
      ]
    },
    {
      "cell_type": "code",
      "metadata": {
        "id": "Yn6LImb8lcwH"
      },
      "source": [
        "import numpy as np\n",
        "import sklearn as skl\n",
        "import sklearn.model_selection #train_test_split\n",
        "import sklearn.linear_model  # LinearRegression\n",
        "import sklearn.metrics # using mean_squared_error, r2_score"
      ],
      "execution_count": 10,
      "outputs": []
    },
    {
      "cell_type": "code",
      "metadata": {
        "id": "Hh4Lgyufl1uS"
      },
      "source": [
        "X_train, X_test,y_train, y_test = sklearn.model_selection.train_test_split(input,\n",
        "                                                                            output,\n",
        "                                                                            test_size = 0.2)"
      ],
      "execution_count": 11,
      "outputs": []
    },
    {
      "cell_type": "code",
      "metadata": {
        "id": "IsFSxELQn0dG"
      },
      "source": [
        "model_linear_regr = sklearn.linear_model.LinearRegression() #return obj LR model"
      ],
      "execution_count": 19,
      "outputs": []
    },
    {
      "cell_type": "code",
      "metadata": {
        "id": "XFz8odSoofPy",
        "colab": {
          "base_uri": "https://localhost:8080/"
        },
        "outputId": "77fa808e-5708-4708-cba5-578ec7941804"
      },
      "source": [
        "model_linear_regr.fit(X_train, y_train) # model_1"
      ],
      "execution_count": 20,
      "outputs": [
        {
          "output_type": "execute_result",
          "data": {
            "text/plain": [
              "LinearRegression(copy_X=True, fit_intercept=True, n_jobs=None, normalize=False)"
            ]
          },
          "metadata": {},
          "execution_count": 20
        }
      ]
    },
    {
      "cell_type": "markdown",
      "metadata": {
        "id": "S9ax0fJErh8n"
      },
      "source": [
        "6. Chek and customize "
      ]
    },
    {
      "cell_type": "code",
      "metadata": {
        "id": "xCmpp7GurMf9"
      },
      "source": [
        "#step 1: create y_hat (the value of prediction)\n",
        "y_hat = model_linear_regr.predict(X_test) # create y_hat (the value of prediction)"
      ],
      "execution_count": 21,
      "outputs": []
    },
    {
      "cell_type": "code",
      "metadata": {
        "id": "PzQCd-rOJVtl",
        "colab": {
          "base_uri": "https://localhost:8080/"
        },
        "outputId": "ea9d9d5a-e1de-4700-c4a1-cc7dd42cab58"
      },
      "source": [
        "y_test.shape"
      ],
      "execution_count": 22,
      "outputs": [
        {
          "output_type": "execute_result",
          "data": {
            "text/plain": [
              "(30, 1)"
            ]
          },
          "metadata": {},
          "execution_count": 22
        }
      ]
    },
    {
      "cell_type": "code",
      "metadata": {
        "id": "iak_WVMHwxSp"
      },
      "source": [
        "#step 2: create a DF with include 2 colum (Actual value of y and prediction of y hat)\n",
        "# Actual value of y --> y_test\n",
        "# prediction value --> y_hat"
      ],
      "execution_count": 16,
      "outputs": []
    },
    {
      "cell_type": "code",
      "metadata": {
        "id": "MoSAxNLRzEVE",
        "colab": {
          "base_uri": "https://localhost:8080/",
          "height": 206
        },
        "outputId": "bbfc2ba5-d8b1-45e3-b5a7-36d535989b4f"
      },
      "source": [
        "df = pd.DataFrame({\"Actual\":pd.DataFrame(y_test.values)[0].values,\n",
        "                   \"Prediction\": pd.DataFrame(y_hat)[0].values})\n",
        "df.head()"
      ],
      "execution_count": 23,
      "outputs": [
        {
          "output_type": "execute_result",
          "data": {
            "text/html": [
              "<div>\n",
              "<style scoped>\n",
              "    .dataframe tbody tr th:only-of-type {\n",
              "        vertical-align: middle;\n",
              "    }\n",
              "\n",
              "    .dataframe tbody tr th {\n",
              "        vertical-align: top;\n",
              "    }\n",
              "\n",
              "    .dataframe thead th {\n",
              "        text-align: right;\n",
              "    }\n",
              "</style>\n",
              "<table border=\"1\" class=\"dataframe\">\n",
              "  <thead>\n",
              "    <tr style=\"text-align: right;\">\n",
              "      <th></th>\n",
              "      <th>Actual</th>\n",
              "      <th>Prediction</th>\n",
              "    </tr>\n",
              "  </thead>\n",
              "  <tbody>\n",
              "    <tr>\n",
              "      <th>0</th>\n",
              "      <td>2.1</td>\n",
              "      <td>2.039137</td>\n",
              "    </tr>\n",
              "    <tr>\n",
              "      <th>1</th>\n",
              "      <td>1.9</td>\n",
              "      <td>1.868434</td>\n",
              "    </tr>\n",
              "    <tr>\n",
              "      <th>2</th>\n",
              "      <td>1.8</td>\n",
              "      <td>1.783082</td>\n",
              "    </tr>\n",
              "    <tr>\n",
              "      <th>3</th>\n",
              "      <td>1.5</td>\n",
              "      <td>1.527027</td>\n",
              "    </tr>\n",
              "    <tr>\n",
              "      <th>4</th>\n",
              "      <td>1.6</td>\n",
              "      <td>1.783082</td>\n",
              "    </tr>\n",
              "  </tbody>\n",
              "</table>\n",
              "</div>"
            ],
            "text/plain": [
              "   Actual  Prediction\n",
              "0     2.1    2.039137\n",
              "1     1.9    1.868434\n",
              "2     1.8    1.783082\n",
              "3     1.5    1.527027\n",
              "4     1.6    1.783082"
            ]
          },
          "metadata": {},
          "execution_count": 23
        }
      ]
    },
    {
      "cell_type": "code",
      "metadata": {
        "id": "QUMJqkQpLmKA",
        "colab": {
          "base_uri": "https://localhost:8080/"
        },
        "outputId": "a6084857-9c8a-45a8-e18d-0c9513214da5"
      },
      "source": [
        "# step 3: tim slope va intercept cua line of linear regression\n",
        "# slope = correlation coefficient cua model\n",
        "m = model_linear_regr_1.coef_[0] # vi model_linear_regr_1.coef \n",
        "# --> retrun ra 1 array object with 1 value \n",
        "# --> [0] to get this value\n",
        "b = model_linear_regr.intercept_\n",
        "print (\"Coefficients: \\n\", m)\n",
        "print (\"Intercept: \\n\", b)"
      ],
      "execution_count": 24,
      "outputs": [
        {
          "output_type": "stream",
          "text": [
            "Coefficients: \n",
            " [0.42675787]\n",
            "Intercept: \n",
            " [-0.39338319]\n"
          ],
          "name": "stdout"
        }
      ]
    },
    {
      "cell_type": "code",
      "metadata": {
        "id": "ebsKR3bxMPu8"
      },
      "source": [
        "# y_hat = mx+b vi minh su dung linear regression va chi co 1 independent variable\n",
        "# Neu nhieu indepenent --> dung Model_name.predict(x_input) --> y_predict"
      ],
      "execution_count": 25,
      "outputs": []
    },
    {
      "cell_type": "code",
      "metadata": {
        "id": "Ort59GMWNMMU",
        "colab": {
          "base_uri": "https://localhost:8080/",
          "height": 206
        },
        "outputId": "a2efba13-e38e-49b2-b849-b45999e2844d"
      },
      "source": [
        "# create a DataFrame to see total prediction of model\n",
        "df_1 = pd.DataFrame({\"PentalWidth actually\": output[\"petalwidth\"].values, \n",
        "                     \"PeantalWidth preidicted\": pd.DataFrame(model_linear_regr_1.predict(input))[0].values})\n",
        "df_1.head(5)"
      ],
      "execution_count": 26,
      "outputs": [
        {
          "output_type": "execute_result",
          "data": {
            "text/html": [
              "<div>\n",
              "<style scoped>\n",
              "    .dataframe tbody tr th:only-of-type {\n",
              "        vertical-align: middle;\n",
              "    }\n",
              "\n",
              "    .dataframe tbody tr th {\n",
              "        vertical-align: top;\n",
              "    }\n",
              "\n",
              "    .dataframe thead th {\n",
              "        text-align: right;\n",
              "    }\n",
              "</style>\n",
              "<table border=\"1\" class=\"dataframe\">\n",
              "  <thead>\n",
              "    <tr style=\"text-align: right;\">\n",
              "      <th></th>\n",
              "      <th>PentalWidth actually</th>\n",
              "      <th>PeantalWidth preidicted</th>\n",
              "    </tr>\n",
              "  </thead>\n",
              "  <tbody>\n",
              "    <tr>\n",
              "      <th>0</th>\n",
              "      <td>0.2</td>\n",
              "      <td>0.204078</td>\n",
              "    </tr>\n",
              "    <tr>\n",
              "      <th>1</th>\n",
              "      <td>0.2</td>\n",
              "      <td>0.204078</td>\n",
              "    </tr>\n",
              "    <tr>\n",
              "      <th>2</th>\n",
              "      <td>0.2</td>\n",
              "      <td>0.161402</td>\n",
              "    </tr>\n",
              "    <tr>\n",
              "      <th>3</th>\n",
              "      <td>0.2</td>\n",
              "      <td>0.246754</td>\n",
              "    </tr>\n",
              "    <tr>\n",
              "      <th>4</th>\n",
              "      <td>0.2</td>\n",
              "      <td>0.204078</td>\n",
              "    </tr>\n",
              "  </tbody>\n",
              "</table>\n",
              "</div>"
            ],
            "text/plain": [
              "   PentalWidth actually  PeantalWidth preidicted\n",
              "0                   0.2                 0.204078\n",
              "1                   0.2                 0.204078\n",
              "2                   0.2                 0.161402\n",
              "3                   0.2                 0.246754\n",
              "4                   0.2                 0.204078"
            ]
          },
          "metadata": {},
          "execution_count": 26
        }
      ]
    },
    {
      "cell_type": "code",
      "metadata": {
        "id": "wf4OdVnB4fPm"
      },
      "source": [
        "#Step 4: tính MSE và variance score để check model có hiểu quả hay không ?"
      ],
      "execution_count": 27,
      "outputs": []
    },
    {
      "cell_type": "code",
      "metadata": {
        "id": "PwHK3YvIPuym"
      },
      "source": [
        "#  MSE cho ca bo du lieu \n",
        "# (MSE = 1/n*(sumof(pentalwidth actually - pentalwidth predicted)^2))\n",
        "MSE = sklearn.metrics.mean_absolute_error(output, model_linear_regr_1.predict(input))"
      ],
      "execution_count": 28,
      "outputs": []
    },
    {
      "cell_type": "code",
      "metadata": {
        "id": "XU6fdXQEP82b"
      },
      "source": [
        " # the variance score = 1 is perfect prediction\n",
        "variance_score = model_linear_regr_1.score(input, output) #Return the coefficient of determination R^2 of the prediction."
      ],
      "execution_count": 29,
      "outputs": []
    },
    {
      "cell_type": "code",
      "metadata": {
        "id": "QVws1uC_3zw8",
        "colab": {
          "base_uri": "https://localhost:8080/"
        },
        "outputId": "56315264-b54a-4740-86d2-132318cd388b"
      },
      "source": [
        "print (\"Mean squared error: %.2f\" % MSE)\n",
        "print (\"Variance score: %2.f\" %variance_score)"
      ],
      "execution_count": 30,
      "outputs": [
        {
          "output_type": "stream",
          "text": [
            "Mean squared error: 0.16\n",
            "Variance score:  1\n"
          ],
          "name": "stdout"
        }
      ]
    },
    {
      "cell_type": "markdown",
      "metadata": {
        "id": "PVNmV18h4IBh"
      },
      "source": [
        "**Nhân xét: Variance score = 1 --> pefect prediction **\n",
        "**MSE = 0.16 is too small --> approve**"
      ]
    },
    {
      "cell_type": "code",
      "metadata": {
        "id": "7Ml_-LPL4Buf"
      },
      "source": [
        "#step 5: check variance score in training phase and test to make sure\n",
        "# this model don't be overfitting or underfitting "
      ],
      "execution_count": 31,
      "outputs": []
    },
    {
      "cell_type": "code",
      "metadata": {
        "id": "QGHY-nXE5IZ3",
        "colab": {
          "base_uri": "https://localhost:8080/"
        },
        "outputId": "666f0651-c7c9-48ec-b5e2-01c9ec9640d9"
      },
      "source": [
        "model_linear_regr.score(X_train, y_train)"
      ],
      "execution_count": 39,
      "outputs": [
        {
          "output_type": "execute_result",
          "data": {
            "text/plain": [
              "0.9245359580952118"
            ]
          },
          "metadata": {},
          "execution_count": 39
        }
      ]
    },
    {
      "cell_type": "code",
      "metadata": {
        "id": "H9tw07lh5NsZ",
        "colab": {
          "base_uri": "https://localhost:8080/"
        },
        "outputId": "910bfdc2-60a7-4e31-b3d7-aed255a83640"
      },
      "source": [
        "model_linear_regr.score(X_test, y_test)"
      ],
      "execution_count": 40,
      "outputs": [
        {
          "output_type": "execute_result",
          "data": {
            "text/plain": [
              "0.933190919023052"
            ]
          },
          "metadata": {},
          "execution_count": 40
        }
      ]
    },
    {
      "cell_type": "code",
      "metadata": {
        "id": "WwaiRLu35Q9l"
      },
      "source": [
        "#both training data and testing data have high score --> choose this model"
      ],
      "execution_count": 34,
      "outputs": []
    },
    {
      "cell_type": "code",
      "metadata": {
        "id": "Y51NTFth5TX3"
      },
      "source": [
        "# step 6: đưa về dạng Regression line\n",
        "# note in this case is simple Linear Regression --> y = b+mx \n",
        "# --> 2 way to generate regression line"
      ],
      "execution_count": 35,
      "outputs": []
    },
    {
      "cell_type": "code",
      "metadata": {
        "id": "xlh8Y-HS5lvP"
      },
      "source": [
        "#cach 1: lam bang tay\n",
        "reg_line_1 = [(m*float(x)) + b for x in np.array(input)]  # cu moi input se co 1 y_hat"
      ],
      "execution_count": 41,
      "outputs": []
    },
    {
      "cell_type": "code",
      "metadata": {
        "id": "LIAxZXC6570R"
      },
      "source": [
        "# cach 2: dung model_name.predict(input)\n",
        "reg_line_2 = model_linear_regr.predict(input)"
      ],
      "execution_count": 42,
      "outputs": []
    },
    {
      "cell_type": "code",
      "metadata": {
        "id": "aPL9jeg16Zry",
        "colab": {
          "base_uri": "https://localhost:8080/"
        },
        "outputId": "05303ebd-45a1-46f1-b999-81a60e612da2"
      },
      "source": [
        "x_new = [[1.5]] # pentalWidth new\n",
        "y_new = model_linear_regr.predict(x_new)\n",
        "y_new"
      ],
      "execution_count": 43,
      "outputs": [
        {
          "output_type": "execute_result",
          "data": {
            "text/plain": [
              "array([[0.24675362]])"
            ]
          },
          "metadata": {},
          "execution_count": 43
        }
      ]
    },
    {
      "cell_type": "code",
      "metadata": {
        "id": "0cHPmNg66e6w",
        "colab": {
          "base_uri": "https://localhost:8080/",
          "height": 606
        },
        "outputId": "807b0320-8590-41d1-be63-8571f2afcb1c"
      },
      "source": [
        "plt.figure(figsize=(10,10))\n",
        "plt.scatter(X_train, y_train, color = \"green\", label = \"Training Data\")\n",
        "plt.scatter(X_test, y_test, color = \"red\", label = \"Test Data\")\n",
        "plt.scatter(x_new, y_new, color = \"black\", label = \"New Data\")\n",
        "plt.plot(input, reg_line_1, color = \"blue\", linewidth = 1)\n",
        "\n",
        "plt.xlabel(\"petalWidth\")\n",
        "plt.ylabel(\"petalLength\")\n",
        "plt.legend()\n",
        "plt.show()"
      ],
      "execution_count": 44,
      "outputs": [
        {
          "output_type": "display_data",
          "data": {
            "image/png": "[encoded data removed]",
            "text/plain": [
              "<Figure size 720x720 with 1 Axes>"
            ]
          },
          "metadata": {
            "needs_background": "light"
          }
        }
      ]
    },
    {
      "cell_type": "code",
      "metadata": {
        "id": "pCIh3VSX7Tsp"
      },
      "source": [
        ""
      ],
      "execution_count": null,
      "outputs": []
    },
    {
      "cell_type": "code",
      "metadata": {
        "id": "yyHIw0Zn7fvj"
      },
      "source": [
        ""
      ],
      "execution_count": null,
      "outputs": []
    }
  ]
}