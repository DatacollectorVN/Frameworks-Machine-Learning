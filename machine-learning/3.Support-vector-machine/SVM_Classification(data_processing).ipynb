{
  "nbformat": 4,
  "nbformat_minor": 0,
  "metadata": {
    "colab": {
      "provenance": []
    },
    "kernelspec": {
      "name": "python3",
      "display_name": "Python 3"
    },
    "language_info": {
      "name": "python"
    }
  },
  "cells": [
    {
      "cell_type": "code",
      "execution_count": 1,
      "metadata": {
        "colab": {
          "base_uri": "https://localhost:8080/"
        },
        "id": "kC1zPWmDlsBR",
        "outputId": "7027477d-47e4-43f6-be7f-fbf48f51af82"
      },
      "outputs": [
        {
          "output_type": "stream",
          "name": "stdout",
          "text": [
            "Downloading...\n",
            "From: https://drive.google.com/uc?id=1emykV3Q2ebJ7u6kIX1o4fZBX1kjNXx1F\n",
            "To: /content/healthcare-dataset-stroke-data.csv\n",
            "\r  0% 0.00/317k [00:00<?, ?B/s]\r100% 317k/317k [00:00<00:00, 98.8MB/s]\n"
          ]
        }
      ],
      "source": [
        "!gdown 1emykV3Q2ebJ7u6kIX1o4fZBX1kjNXx1F"
      ]
    },
    {
      "cell_type": "code",
      "source": [
        "!ls"
      ],
      "metadata": {
        "colab": {
          "base_uri": "https://localhost:8080/"
        },
        "id": "EeqpNj0SopCr",
        "outputId": "f0e5259f-b99d-4b71-ee90-47fd72934bfb"
      },
      "execution_count": 2,
      "outputs": [
        {
          "output_type": "stream",
          "name": "stdout",
          "text": [
            "healthcare-dataset-stroke-data.csv  sample_data\n"
          ]
        }
      ]
    },
    {
      "cell_type": "code",
      "source": [
        "import numpy as np \n",
        "import pandas as pd \n",
        "import seaborn as sns\n",
        "import matplotlib.pyplot as plt"
      ],
      "metadata": {
        "id": "4J1vj_ryopYq"
      },
      "execution_count": 3,
      "outputs": []
    },
    {
      "cell_type": "code",
      "source": [
        "data = pd.read_csv('healthcare-dataset-stroke-data.csv') \n",
        "\n",
        "data.head(10)"
      ],
      "metadata": {
        "colab": {
          "base_uri": "https://localhost:8080/",
          "height": 363
        },
        "id": "F178y_t_pBCB",
        "outputId": "27a54526-3a93-440b-bbc0-ff4f8eb4cbdc"
      },
      "execution_count": 4,
      "outputs": [
        {
          "output_type": "execute_result",
          "data": {
            "text/plain": [
              "      id  gender   age  hypertension  heart_disease ever_married  \\\n",
              "0   9046    Male  67.0             0              1          Yes   \n",
              "1  51676  Female  61.0             0              0          Yes   \n",
              "2  31112    Male  80.0             0              1          Yes   \n",
              "3  60182  Female  49.0             0              0          Yes   \n",
              "4   1665  Female  79.0             1              0          Yes   \n",
              "5  56669    Male  81.0             0              0          Yes   \n",
              "6  53882    Male  74.0             1              1          Yes   \n",
              "7  10434  Female  69.0             0              0           No   \n",
              "8  27419  Female  59.0             0              0          Yes   \n",
              "9  60491  Female  78.0             0              0          Yes   \n",
              "\n",
              "       work_type Residence_type  avg_glucose_level   bmi   smoking_status  \\\n",
              "0        Private          Urban             228.69  36.6  formerly smoked   \n",
              "1  Self-employed          Rural             202.21   NaN     never smoked   \n",
              "2        Private          Rural             105.92  32.5     never smoked   \n",
              "3        Private          Urban             171.23  34.4           smokes   \n",
              "4  Self-employed          Rural             174.12  24.0     never smoked   \n",
              "5        Private          Urban             186.21  29.0  formerly smoked   \n",
              "6        Private          Rural              70.09  27.4     never smoked   \n",
              "7        Private          Urban              94.39  22.8     never smoked   \n",
              "8        Private          Rural              76.15   NaN          Unknown   \n",
              "9        Private          Urban              58.57  24.2          Unknown   \n",
              "\n",
              "   stroke  \n",
              "0       1  \n",
              "1       1  \n",
              "2       1  \n",
              "3       1  \n",
              "4       1  \n",
              "5       1  \n",
              "6       1  \n",
              "7       1  \n",
              "8       1  \n",
              "9       1  "
            ],
            "text/html": [
              "\n",
              "  <div id=\"df-303e9453-6c6d-4588-8ef8-c80b38bd5f95\">\n",
              "    <div class=\"colab-df-container\">\n",
              "      <div>\n",
              "<style scoped>\n",
              "    .dataframe tbody tr th:only-of-type {\n",
              "        vertical-align: middle;\n",
              "    }\n",
              "\n",
              "    .dataframe tbody tr th {\n",
              "        vertical-align: top;\n",
              "    }\n",
              "\n",
              "    .dataframe thead th {\n",
              "        text-align: right;\n",
              "    }\n",
              "</style>\n",
              "<table border=\"1\" class=\"dataframe\">\n",
              "  <thead>\n",
              "    <tr style=\"text-align: right;\">\n",
              "      <th></th>\n",
              "      <th>id</th>\n",
              "      <th>gender</th>\n",
              "      <th>age</th>\n",
              "      <th>hypertension</th>\n",
              "      <th>heart_disease</th>\n",
              "      <th>ever_married</th>\n",
              "      <th>work_type</th>\n",
              "      <th>Residence_type</th>\n",
              "      <th>avg_glucose_level</th>\n",
              "      <th>bmi</th>\n",
              "      <th>smoking_status</th>\n",
              "      <th>stroke</th>\n",
              "    </tr>\n",
              "  </thead>\n",
              "  <tbody>\n",
              "    <tr>\n",
              "      <th>0</th>\n",
              "      <td>9046</td>\n",
              "      <td>Male</td>\n",
              "      <td>67.0</td>\n",
              "      <td>0</td>\n",
              "      <td>1</td>\n",
              "      <td>Yes</td>\n",
              "      <td>Private</td>\n",
              "      <td>Urban</td>\n",
              "      <td>228.69</td>\n",
              "      <td>36.6</td>\n",
              "      <td>formerly smoked</td>\n",
              "      <td>1</td>\n",
              "    </tr>\n",
              "    <tr>\n",
              "      <th>1</th>\n",
              "      <td>51676</td>\n",
              "      <td>Female</td>\n",
              "      <td>61.0</td>\n",
              "      <td>0</td>\n",
              "      <td>0</td>\n",
              "      <td>Yes</td>\n",
              "      <td>Self-employed</td>\n",
              "      <td>Rural</td>\n",
              "      <td>202.21</td>\n",
              "      <td>NaN</td>\n",
              "      <td>never smoked</td>\n",
              "      <td>1</td>\n",
              "    </tr>\n",
              "    <tr>\n",
              "      <th>2</th>\n",
              "      <td>31112</td>\n",
              "      <td>Male</td>\n",
              "      <td>80.0</td>\n",
              "      <td>0</td>\n",
              "      <td>1</td>\n",
              "      <td>Yes</td>\n",
              "      <td>Private</td>\n",
              "      <td>Rural</td>\n",
              "      <td>105.92</td>\n",
              "      <td>32.5</td>\n",
              "      <td>never smoked</td>\n",
              "      <td>1</td>\n",
              "    </tr>\n",
              "    <tr>\n",
              "      <th>3</th>\n",
              "      <td>60182</td>\n",
              "      <td>Female</td>\n",
              "      <td>49.0</td>\n",
              "      <td>0</td>\n",
              "      <td>0</td>\n",
              "      <td>Yes</td>\n",
              "      <td>Private</td>\n",
              "      <td>Urban</td>\n",
              "      <td>171.23</td>\n",
              "      <td>34.4</td>\n",
              "      <td>smokes</td>\n",
              "      <td>1</td>\n",
              "    </tr>\n",
              "    <tr>\n",
              "      <th>4</th>\n",
              "      <td>1665</td>\n",
              "      <td>Female</td>\n",
              "      <td>79.0</td>\n",
              "      <td>1</td>\n",
              "      <td>0</td>\n",
              "      <td>Yes</td>\n",
              "      <td>Self-employed</td>\n",
              "      <td>Rural</td>\n",
              "      <td>174.12</td>\n",
              "      <td>24.0</td>\n",
              "      <td>never smoked</td>\n",
              "      <td>1</td>\n",
              "    </tr>\n",
              "    <tr>\n",
              "      <th>5</th>\n",
              "      <td>56669</td>\n",
              "      <td>Male</td>\n",
              "      <td>81.0</td>\n",
              "      <td>0</td>\n",
              "      <td>0</td>\n",
              "      <td>Yes</td>\n",
              "      <td>Private</td>\n",
              "      <td>Urban</td>\n",
              "      <td>186.21</td>\n",
              "      <td>29.0</td>\n",
              "      <td>formerly smoked</td>\n",
              "      <td>1</td>\n",
              "    </tr>\n",
              "    <tr>\n",
              "      <th>6</th>\n",
              "      <td>53882</td>\n",
              "      <td>Male</td>\n",
              "      <td>74.0</td>\n",
              "      <td>1</td>\n",
              "      <td>1</td>\n",
              "      <td>Yes</td>\n",
              "      <td>Private</td>\n",
              "      <td>Rural</td>\n",
              "      <td>70.09</td>\n",
              "      <td>27.4</td>\n",
              "      <td>never smoked</td>\n",
              "      <td>1</td>\n",
              "    </tr>\n",
              "    <tr>\n",
              "      <th>7</th>\n",
              "      <td>10434</td>\n",
              "      <td>Female</td>\n",
              "      <td>69.0</td>\n",
              "      <td>0</td>\n",
              "      <td>0</td>\n",
              "      <td>No</td>\n",
              "      <td>Private</td>\n",
              "      <td>Urban</td>\n",
              "      <td>94.39</td>\n",
              "      <td>22.8</td>\n",
              "      <td>never smoked</td>\n",
              "      <td>1</td>\n",
              "    </tr>\n",
              "    <tr>\n",
              "      <th>8</th>\n",
              "      <td>27419</td>\n",
              "      <td>Female</td>\n",
              "      <td>59.0</td>\n",
              "      <td>0</td>\n",
              "      <td>0</td>\n",
              "      <td>Yes</td>\n",
              "      <td>Private</td>\n",
              "      <td>Rural</td>\n",
              "      <td>76.15</td>\n",
              "      <td>NaN</td>\n",
              "      <td>Unknown</td>\n",
              "      <td>1</td>\n",
              "    </tr>\n",
              "    <tr>\n",
              "      <th>9</th>\n",
              "      <td>60491</td>\n",
              "      <td>Female</td>\n",
              "      <td>78.0</td>\n",
              "      <td>0</td>\n",
              "      <td>0</td>\n",
              "      <td>Yes</td>\n",
              "      <td>Private</td>\n",
              "      <td>Urban</td>\n",
              "      <td>58.57</td>\n",
              "      <td>24.2</td>\n",
              "      <td>Unknown</td>\n",
              "      <td>1</td>\n",
              "    </tr>\n",
              "  </tbody>\n",
              "</table>\n",
              "</div>\n",
              "      <button class=\"colab-df-convert\" onclick=\"convertToInteractive('df-303e9453-6c6d-4588-8ef8-c80b38bd5f95')\"\n",
              "              title=\"Convert this dataframe to an interactive table.\"\n",
              "              style=\"display:none;\">\n",
              "        \n",
              "  <svg xmlns=\"http://www.w3.org/2000/svg\" height=\"24px\"viewBox=\"0 0 24 24\"\n",
              "       width=\"24px\">\n",
              "    <path d=\"M0 0h24v24H0V0z\" fill=\"none\"/>\n",
              "    <path d=\"M18.56 5.44l.94 2.06.94-2.06 2.06-.94-2.06-.94-.94-2.06-.94 2.06-2.06.94zm-11 1L8.5 8.5l.94-2.06 2.06-.94-2.06-.94L8.5 2.5l-.94 2.06-2.06.94zm10 10l.94 2.06.94-2.06 2.06-.94-2.06-.94-.94-2.06-.94 2.06-2.06.94z\"/><path d=\"M17.41 7.96l-1.37-1.37c-.4-.4-.92-.59-1.43-.59-.52 0-1.04.2-1.43.59L10.3 9.45l-7.72 7.72c-.78.78-.78 2.05 0 2.83L4 21.41c.39.39.9.59 1.41.59.51 0 1.02-.2 1.41-.59l7.78-7.78 2.81-2.81c.8-.78.8-2.07 0-2.86zM5.41 20L4 18.59l7.72-7.72 1.47 1.35L5.41 20z\"/>\n",
              "  </svg>\n",
              "      </button>\n",
              "      \n",
              "  <style>\n",
              "    .colab-df-container {\n",
              "      display:flex;\n",
              "      flex-wrap:wrap;\n",
              "      gap: 12px;\n",
              "    }\n",
              "\n",
              "    .colab-df-convert {\n",
              "      background-color: #E8F0FE;\n",
              "      border: none;\n",
              "      border-radius: 50%;\n",
              "      cursor: pointer;\n",
              "      display: none;\n",
              "      fill: #1967D2;\n",
              "      height: 32px;\n",
              "      padding: 0 0 0 0;\n",
              "      width: 32px;\n",
              "    }\n",
              "\n",
              "    .colab-df-convert:hover {\n",
              "      background-color: #E2EBFA;\n",
              "      box-shadow: 0px 1px 2px rgba(60, 64, 67, 0.3), 0px 1px 3px 1px rgba(60, 64, 67, 0.15);\n",
              "      fill: #174EA6;\n",
              "    }\n",
              "\n",
              "    [theme=dark] .colab-df-convert {\n",
              "      background-color: #3B4455;\n",
              "      fill: #D2E3FC;\n",
              "    }\n",
              "\n",
              "    [theme=dark] .colab-df-convert:hover {\n",
              "      background-color: #434B5C;\n",
              "      box-shadow: 0px 1px 3px 1px rgba(0, 0, 0, 0.15);\n",
              "      filter: drop-shadow(0px 1px 2px rgba(0, 0, 0, 0.3));\n",
              "      fill: #FFFFFF;\n",
              "    }\n",
              "  </style>\n",
              "\n",
              "      <script>\n",
              "        const buttonEl =\n",
              "          document.querySelector('#df-303e9453-6c6d-4588-8ef8-c80b38bd5f95 button.colab-df-convert');\n",
              "        buttonEl.style.display =\n",
              "          google.colab.kernel.accessAllowed ? 'block' : 'none';\n",
              "\n",
              "        async function convertToInteractive(key) {\n",
              "          const element = document.querySelector('#df-303e9453-6c6d-4588-8ef8-c80b38bd5f95');\n",
              "          const dataTable =\n",
              "            await google.colab.kernel.invokeFunction('convertToInteractive',\n",
              "                                                     [key], {});\n",
              "          if (!dataTable) return;\n",
              "\n",
              "          const docLinkHtml = 'Like what you see? Visit the ' +\n",
              "            '<a target=\"_blank\" href=https://colab.research.google.com/notebooks/data_table.ipynb>data table notebook</a>'\n",
              "            + ' to learn more about interactive tables.';\n",
              "          element.innerHTML = '';\n",
              "          dataTable['output_type'] = 'display_data';\n",
              "          await google.colab.output.renderOutput(dataTable, element);\n",
              "          const docLink = document.createElement('div');\n",
              "          docLink.innerHTML = docLinkHtml;\n",
              "          element.appendChild(docLink);\n",
              "        }\n",
              "      </script>\n",
              "    </div>\n",
              "  </div>\n",
              "  "
            ]
          },
          "metadata": {},
          "execution_count": 4
        }
      ]
    },
    {
      "cell_type": "code",
      "source": [
        "data.drop(\"id\", axis = 1, inplace = True) # Why drop it ?"
      ],
      "metadata": {
        "id": "n70umx1RpEXM"
      },
      "execution_count": 5,
      "outputs": []
    },
    {
      "cell_type": "code",
      "source": [
        "data.info()"
      ],
      "metadata": {
        "colab": {
          "base_uri": "https://localhost:8080/"
        },
        "id": "Fhy_ZwZJpHCy",
        "outputId": "57b836c5-64b5-4f65-8f4f-51f0b9fa2e96"
      },
      "execution_count": 6,
      "outputs": [
        {
          "output_type": "stream",
          "name": "stdout",
          "text": [
            "<class 'pandas.core.frame.DataFrame'>\n",
            "RangeIndex: 5110 entries, 0 to 5109\n",
            "Data columns (total 11 columns):\n",
            " #   Column             Non-Null Count  Dtype  \n",
            "---  ------             --------------  -----  \n",
            " 0   gender             5110 non-null   object \n",
            " 1   age                5110 non-null   float64\n",
            " 2   hypertension       5110 non-null   int64  \n",
            " 3   heart_disease      5110 non-null   int64  \n",
            " 4   ever_married       5110 non-null   object \n",
            " 5   work_type          5110 non-null   object \n",
            " 6   Residence_type     5110 non-null   object \n",
            " 7   avg_glucose_level  5110 non-null   float64\n",
            " 8   bmi                4909 non-null   float64\n",
            " 9   smoking_status     5110 non-null   object \n",
            " 10  stroke             5110 non-null   int64  \n",
            "dtypes: float64(3), int64(3), object(5)\n",
            "memory usage: 439.3+ KB\n"
          ]
        }
      ]
    },
    {
      "cell_type": "code",
      "source": [
        "data.isna().sum() # check logic it ?"
      ],
      "metadata": {
        "colab": {
          "base_uri": "https://localhost:8080/"
        },
        "id": "oltyF_KkpJsx",
        "outputId": "33ead9da-01cd-4dfc-eaae-4cc5e67cb849"
      },
      "execution_count": 7,
      "outputs": [
        {
          "output_type": "execute_result",
          "data": {
            "text/plain": [
              "gender                 0\n",
              "age                    0\n",
              "hypertension           0\n",
              "heart_disease          0\n",
              "ever_married           0\n",
              "work_type              0\n",
              "Residence_type         0\n",
              "avg_glucose_level      0\n",
              "bmi                  201\n",
              "smoking_status         0\n",
              "stroke                 0\n",
              "dtype: int64"
            ]
          },
          "metadata": {},
          "execution_count": 7
        }
      ]
    },
    {
      "cell_type": "markdown",
      "source": [
        "Please check logic below code ?"
      ],
      "metadata": {
        "id": "IQUZbKYwpY8p"
      }
    },
    {
      "cell_type": "code",
      "source": [
        "from sklearn.impute import SimpleImputer\n",
        "imp_mean = SimpleImputer(missing_values=np.nan, strategy='mean')\n",
        "data['bmi'] = imp_mean.fit_transform(data['bmi'].values.reshape(-1,1)) \n",
        "\n",
        "data.isna().sum() "
      ],
      "metadata": {
        "colab": {
          "base_uri": "https://localhost:8080/"
        },
        "id": "oBQ3ZykJpS9S",
        "outputId": "7b5bdec8-05f8-4d8a-e0d2-6bbb11d0cd6e"
      },
      "execution_count": 8,
      "outputs": [
        {
          "output_type": "execute_result",
          "data": {
            "text/plain": [
              "gender               0\n",
              "age                  0\n",
              "hypertension         0\n",
              "heart_disease        0\n",
              "ever_married         0\n",
              "work_type            0\n",
              "Residence_type       0\n",
              "avg_glucose_level    0\n",
              "bmi                  0\n",
              "smoking_status       0\n",
              "stroke               0\n",
              "dtype: int64"
            ]
          },
          "metadata": {},
          "execution_count": 8
        }
      ]
    },
    {
      "cell_type": "code",
      "source": [
        "data.gender.value_counts(normalize=False) # value_count(normalize) --> mean what ?"
      ],
      "metadata": {
        "colab": {
          "base_uri": "https://localhost:8080/"
        },
        "id": "Uh5qv3hrpeo-",
        "outputId": "b9f8bb7d-715e-4e71-f7de-c03f4a8edc2e"
      },
      "execution_count": 9,
      "outputs": [
        {
          "output_type": "execute_result",
          "data": {
            "text/plain": [
              "Female    2994\n",
              "Male      2115\n",
              "Other        1\n",
              "Name: gender, dtype: int64"
            ]
          },
          "metadata": {},
          "execution_count": 9
        }
      ]
    },
    {
      "cell_type": "code",
      "source": [
        "data = data[data.gender != 'Other'] # why drop Other"
      ],
      "metadata": {
        "id": "fpFIpjIupgj3"
      },
      "execution_count": 10,
      "outputs": []
    },
    {
      "cell_type": "code",
      "source": [
        "data.ever_married.value_counts(normalize=False) "
      ],
      "metadata": {
        "colab": {
          "base_uri": "https://localhost:8080/"
        },
        "id": "GuFWev_4p2x4",
        "outputId": "efffbe2d-3ba8-48f1-b6ae-87971edbd20e"
      },
      "execution_count": 11,
      "outputs": [
        {
          "output_type": "execute_result",
          "data": {
            "text/plain": [
              "Yes    3353\n",
              "No     1756\n",
              "Name: ever_married, dtype: int64"
            ]
          },
          "metadata": {},
          "execution_count": 11
        }
      ]
    },
    {
      "cell_type": "code",
      "source": [
        "data.work_type.value_counts(normalize=False) "
      ],
      "metadata": {
        "colab": {
          "base_uri": "https://localhost:8080/"
        },
        "id": "ldlqnBQSp27E",
        "outputId": "45c6a61c-3723-4277-991d-674ef6caae8c"
      },
      "execution_count": 12,
      "outputs": [
        {
          "output_type": "execute_result",
          "data": {
            "text/plain": [
              "Private          2924\n",
              "Self-employed     819\n",
              "children          687\n",
              "Govt_job          657\n",
              "Never_worked       22\n",
              "Name: work_type, dtype: int64"
            ]
          },
          "metadata": {},
          "execution_count": 12
        }
      ]
    },
    {
      "cell_type": "code",
      "source": [
        "data.smoking_status.value_counts(normalize=False) "
      ],
      "metadata": {
        "colab": {
          "base_uri": "https://localhost:8080/"
        },
        "id": "KkyU71aEp4WI",
        "outputId": "3a5a7c64-669f-488c-b6d5-ca8d0347b2e7"
      },
      "execution_count": 13,
      "outputs": [
        {
          "output_type": "execute_result",
          "data": {
            "text/plain": [
              "never smoked       1892\n",
              "Unknown            1544\n",
              "formerly smoked     884\n",
              "smokes              789\n",
              "Name: smoking_status, dtype: int64"
            ]
          },
          "metadata": {},
          "execution_count": 13
        }
      ]
    },
    {
      "cell_type": "code",
      "source": [
        "pie_df=pd.DataFrame(data.groupby('stroke')['stroke'].count()) #Checking the percentages of stroke and no-stroke \n",
        "plt.figure(figsize=(8,8))\n",
        "pie_df\n",
        "colors = ['#B2BEBF','#BD2A2E']\n",
        "plt.pie(pie_df['stroke'],labels=['no stroke','stroke'],\n",
        "        autopct='%.1f%%',colors=colors,radius=1,explode = (0, 0.1),shadow=True)\n",
        "plt.show()"
      ],
      "metadata": {
        "colab": {
          "base_uri": "https://localhost:8080/",
          "height": 466
        },
        "id": "DKbCuwWBp5sc",
        "outputId": "d1d67c46-5a29-49ee-a93f-12d4e902fd58"
      },
      "execution_count": 14,
      "outputs": [
        {
          "output_type": "display_data",
          "data": {
            "text/plain": [
              "<Figure size 576x576 with 1 Axes>"
            ],
            "image/png": "[encoded data removed]"
          },
          "metadata": {}
        }
      ]
    },
    {
      "cell_type": "markdown",
      "source": [
        "\n",
        "\n",
        "```\n",
        "plt.pie(pie_df['stroke'],labels=['no stroke','stroke'],\n",
        "        autopct='%.1f%%',colors=colors,radius=1,explode = (0, 0.1),shadow=True)\n",
        "```\n",
        "Logic of this code above ?\n",
        "\n"
      ],
      "metadata": {
        "id": "PYyxEfNXp_pm"
      }
    },
    {
      "cell_type": "code",
      "source": [
        "#checking the sum of each categorical feature\n",
        "\n",
        "fig, ((ax1, ax2) ,(ax3,ax4)) = plt.subplots(2,2, figsize=(14,8))\n",
        "sns.countplot(data=data, x=\"gender\", hue=\"stroke\",ax=ax1)\n",
        "sns.countplot(data=data, x=\"ever_married\", hue=\"stroke\",ax=ax2)\n",
        "sns.countplot(data=data, x=\"work_type\", hue=\"stroke\",ax=ax3)\n",
        "sns.countplot(data=data, x=\"smoking_status\", hue=\"stroke\",ax=ax4)"
      ],
      "metadata": {
        "colab": {
          "base_uri": "https://localhost:8080/",
          "height": 517
        },
        "id": "D7mO_S9Mp9tj",
        "outputId": "d6cc3bc2-4d22-413d-eefb-ba4446735099"
      },
      "execution_count": 15,
      "outputs": [
        {
          "output_type": "execute_result",
          "data": {
            "text/plain": [
              "<matplotlib.axes._subplots.AxesSubplot at 0x7f5046a5fd10>"
            ]
          },
          "metadata": {},
          "execution_count": 15
        },
        {
          "output_type": "display_data",
          "data": {
            "text/plain": [
              "<Figure size 1008x576 with 4 Axes>"
            ],
            "image/png": "[encoded data removed]"
          },
          "metadata": {
            "needs_background": "light"
          }
        }
      ]
    },
    {
      "cell_type": "markdown",
      "source": [
        "`hue` parameter in this case mean what ?"
      ],
      "metadata": {
        "id": "mBrsU4WDqJZf"
      }
    },
    {
      "cell_type": "code",
      "source": [
        "print(data.hypertension.value_counts(normalize=False))"
      ],
      "metadata": {
        "colab": {
          "base_uri": "https://localhost:8080/"
        },
        "id": "nIvx1UjoqGPg",
        "outputId": "078fffac-fa5a-4ffd-fb35-6673bbacfe27"
      },
      "execution_count": 16,
      "outputs": [
        {
          "output_type": "stream",
          "name": "stdout",
          "text": [
            "0    4611\n",
            "1     498\n",
            "Name: hypertension, dtype: int64\n"
          ]
        }
      ]
    },
    {
      "cell_type": "code",
      "source": [
        "print(data.heart_disease.value_counts(normalize=False))\n"
      ],
      "metadata": {
        "colab": {
          "base_uri": "https://localhost:8080/"
        },
        "id": "nR0k0jgFqQj5",
        "outputId": "2e3cdbc4-efe0-4fbc-c735-9134f0f8d86b"
      },
      "execution_count": 17,
      "outputs": [
        {
          "output_type": "stream",
          "name": "stdout",
          "text": [
            "0    4833\n",
            "1     276\n",
            "Name: heart_disease, dtype: int64\n"
          ]
        }
      ]
    },
    {
      "cell_type": "code",
      "source": [
        "fig, (ax1,ax2) = plt.subplots(1,2, figsize=(12,6))\n",
        "sns.countplot(data=data, x=\"hypertension\", hue=\"stroke\",ax=ax1)\n",
        "sns.countplot(data=data, x=\"heart_disease\", hue=\"stroke\",ax=ax2)"
      ],
      "metadata": {
        "colab": {
          "base_uri": "https://localhost:8080/",
          "height": 407
        },
        "id": "w2Mnf6MWqRtU",
        "outputId": "32f7ae63-2c3b-415b-85e2-671c4f3a16f6"
      },
      "execution_count": 18,
      "outputs": [
        {
          "output_type": "execute_result",
          "data": {
            "text/plain": [
              "<matplotlib.axes._subplots.AxesSubplot at 0x7f5046901810>"
            ]
          },
          "metadata": {},
          "execution_count": 18
        },
        {
          "output_type": "display_data",
          "data": {
            "text/plain": [
              "<Figure size 864x432 with 2 Axes>"
            ],
            "image/png": "[encoded data removed]"
          },
          "metadata": {
            "needs_background": "light"
          }
        }
      ]
    },
    {
      "cell_type": "markdown",
      "source": [
        "`hue` parameter in this case mean what ?"
      ],
      "metadata": {
        "id": "SpoUEGpcqURa"
      }
    },
    {
      "cell_type": "code",
      "source": [
        "from sklearn.preprocessing import LabelEncoder  #encoding (we convert categorical variables into Numeric)\n",
        "\n",
        "lb=LabelEncoder()\n",
        "\n",
        "data['gender'] = lb.fit_transform(data['gender'])\n",
        "data['ever_married'] = lb.fit_transform(data['ever_married'])\n",
        "data['work_type'] = lb.fit_transform(data['work_type'])\n",
        "data['Residence_type'] = lb.fit_transform(data['Residence_type'])\n",
        "data['smoking_status'] = lb.fit_transform(data['smoking_status'])\n",
        "\n",
        "data.head(5)"
      ],
      "metadata": {
        "colab": {
          "base_uri": "https://localhost:8080/",
          "height": 206
        },
        "id": "0ZnRZx-wqTTm",
        "outputId": "1b58f45d-c04c-402a-f3d7-d467e07db228"
      },
      "execution_count": 19,
      "outputs": [
        {
          "output_type": "execute_result",
          "data": {
            "text/plain": [
              "   gender   age  hypertension  heart_disease  ever_married  work_type  \\\n",
              "0       1  67.0             0              1             1          2   \n",
              "1       0  61.0             0              0             1          3   \n",
              "2       1  80.0             0              1             1          2   \n",
              "3       0  49.0             0              0             1          2   \n",
              "4       0  79.0             1              0             1          3   \n",
              "\n",
              "   Residence_type  avg_glucose_level        bmi  smoking_status  stroke  \n",
              "0               1             228.69  36.600000               1       1  \n",
              "1               0             202.21  28.893237               2       1  \n",
              "2               0             105.92  32.500000               2       1  \n",
              "3               1             171.23  34.400000               3       1  \n",
              "4               0             174.12  24.000000               2       1  "
            ],
            "text/html": [
              "\n",
              "  <div id=\"df-6b895a09-fca7-4630-8760-839b18d27659\">\n",
              "    <div class=\"colab-df-container\">\n",
              "      <div>\n",
              "<style scoped>\n",
              "    .dataframe tbody tr th:only-of-type {\n",
              "        vertical-align: middle;\n",
              "    }\n",
              "\n",
              "    .dataframe tbody tr th {\n",
              "        vertical-align: top;\n",
              "    }\n",
              "\n",
              "    .dataframe thead th {\n",
              "        text-align: right;\n",
              "    }\n",
              "</style>\n",
              "<table border=\"1\" class=\"dataframe\">\n",
              "  <thead>\n",
              "    <tr style=\"text-align: right;\">\n",
              "      <th></th>\n",
              "      <th>gender</th>\n",
              "      <th>age</th>\n",
              "      <th>hypertension</th>\n",
              "      <th>heart_disease</th>\n",
              "      <th>ever_married</th>\n",
              "      <th>work_type</th>\n",
              "      <th>Residence_type</th>\n",
              "      <th>avg_glucose_level</th>\n",
              "      <th>bmi</th>\n",
              "      <th>smoking_status</th>\n",
              "      <th>stroke</th>\n",
              "    </tr>\n",
              "  </thead>\n",
              "  <tbody>\n",
              "    <tr>\n",
              "      <th>0</th>\n",
              "      <td>1</td>\n",
              "      <td>67.0</td>\n",
              "      <td>0</td>\n",
              "      <td>1</td>\n",
              "      <td>1</td>\n",
              "      <td>2</td>\n",
              "      <td>1</td>\n",
              "      <td>228.69</td>\n",
              "      <td>36.600000</td>\n",
              "      <td>1</td>\n",
              "      <td>1</td>\n",
              "    </tr>\n",
              "    <tr>\n",
              "      <th>1</th>\n",
              "      <td>0</td>\n",
              "      <td>61.0</td>\n",
              "      <td>0</td>\n",
              "      <td>0</td>\n",
              "      <td>1</td>\n",
              "      <td>3</td>\n",
              "      <td>0</td>\n",
              "      <td>202.21</td>\n",
              "      <td>28.893237</td>\n",
              "      <td>2</td>\n",
              "      <td>1</td>\n",
              "    </tr>\n",
              "    <tr>\n",
              "      <th>2</th>\n",
              "      <td>1</td>\n",
              "      <td>80.0</td>\n",
              "      <td>0</td>\n",
              "      <td>1</td>\n",
              "      <td>1</td>\n",
              "      <td>2</td>\n",
              "      <td>0</td>\n",
              "      <td>105.92</td>\n",
              "      <td>32.500000</td>\n",
              "      <td>2</td>\n",
              "      <td>1</td>\n",
              "    </tr>\n",
              "    <tr>\n",
              "      <th>3</th>\n",
              "      <td>0</td>\n",
              "      <td>49.0</td>\n",
              "      <td>0</td>\n",
              "      <td>0</td>\n",
              "      <td>1</td>\n",
              "      <td>2</td>\n",
              "      <td>1</td>\n",
              "      <td>171.23</td>\n",
              "      <td>34.400000</td>\n",
              "      <td>3</td>\n",
              "      <td>1</td>\n",
              "    </tr>\n",
              "    <tr>\n",
              "      <th>4</th>\n",
              "      <td>0</td>\n",
              "      <td>79.0</td>\n",
              "      <td>1</td>\n",
              "      <td>0</td>\n",
              "      <td>1</td>\n",
              "      <td>3</td>\n",
              "      <td>0</td>\n",
              "      <td>174.12</td>\n",
              "      <td>24.000000</td>\n",
              "      <td>2</td>\n",
              "      <td>1</td>\n",
              "    </tr>\n",
              "  </tbody>\n",
              "</table>\n",
              "</div>\n",
              "      <button class=\"colab-df-convert\" onclick=\"convertToInteractive('df-6b895a09-fca7-4630-8760-839b18d27659')\"\n",
              "              title=\"Convert this dataframe to an interactive table.\"\n",
              "              style=\"display:none;\">\n",
              "        \n",
              "  <svg xmlns=\"http://www.w3.org/2000/svg\" height=\"24px\"viewBox=\"0 0 24 24\"\n",
              "       width=\"24px\">\n",
              "    <path d=\"M0 0h24v24H0V0z\" fill=\"none\"/>\n",
              "    <path d=\"M18.56 5.44l.94 2.06.94-2.06 2.06-.94-2.06-.94-.94-2.06-.94 2.06-2.06.94zm-11 1L8.5 8.5l.94-2.06 2.06-.94-2.06-.94L8.5 2.5l-.94 2.06-2.06.94zm10 10l.94 2.06.94-2.06 2.06-.94-2.06-.94-.94-2.06-.94 2.06-2.06.94z\"/><path d=\"M17.41 7.96l-1.37-1.37c-.4-.4-.92-.59-1.43-.59-.52 0-1.04.2-1.43.59L10.3 9.45l-7.72 7.72c-.78.78-.78 2.05 0 2.83L4 21.41c.39.39.9.59 1.41.59.51 0 1.02-.2 1.41-.59l7.78-7.78 2.81-2.81c.8-.78.8-2.07 0-2.86zM5.41 20L4 18.59l7.72-7.72 1.47 1.35L5.41 20z\"/>\n",
              "  </svg>\n",
              "      </button>\n",
              "      \n",
              "  <style>\n",
              "    .colab-df-container {\n",
              "      display:flex;\n",
              "      flex-wrap:wrap;\n",
              "      gap: 12px;\n",
              "    }\n",
              "\n",
              "    .colab-df-convert {\n",
              "      background-color: #E8F0FE;\n",
              "      border: none;\n",
              "      border-radius: 50%;\n",
              "      cursor: pointer;\n",
              "      display: none;\n",
              "      fill: #1967D2;\n",
              "      height: 32px;\n",
              "      padding: 0 0 0 0;\n",
              "      width: 32px;\n",
              "    }\n",
              "\n",
              "    .colab-df-convert:hover {\n",
              "      background-color: #E2EBFA;\n",
              "      box-shadow: 0px 1px 2px rgba(60, 64, 67, 0.3), 0px 1px 3px 1px rgba(60, 64, 67, 0.15);\n",
              "      fill: #174EA6;\n",
              "    }\n",
              "\n",
              "    [theme=dark] .colab-df-convert {\n",
              "      background-color: #3B4455;\n",
              "      fill: #D2E3FC;\n",
              "    }\n",
              "\n",
              "    [theme=dark] .colab-df-convert:hover {\n",
              "      background-color: #434B5C;\n",
              "      box-shadow: 0px 1px 3px 1px rgba(0, 0, 0, 0.15);\n",
              "      filter: drop-shadow(0px 1px 2px rgba(0, 0, 0, 0.3));\n",
              "      fill: #FFFFFF;\n",
              "    }\n",
              "  </style>\n",
              "\n",
              "      <script>\n",
              "        const buttonEl =\n",
              "          document.querySelector('#df-6b895a09-fca7-4630-8760-839b18d27659 button.colab-df-convert');\n",
              "        buttonEl.style.display =\n",
              "          google.colab.kernel.accessAllowed ? 'block' : 'none';\n",
              "\n",
              "        async function convertToInteractive(key) {\n",
              "          const element = document.querySelector('#df-6b895a09-fca7-4630-8760-839b18d27659');\n",
              "          const dataTable =\n",
              "            await google.colab.kernel.invokeFunction('convertToInteractive',\n",
              "                                                     [key], {});\n",
              "          if (!dataTable) return;\n",
              "\n",
              "          const docLinkHtml = 'Like what you see? Visit the ' +\n",
              "            '<a target=\"_blank\" href=https://colab.research.google.com/notebooks/data_table.ipynb>data table notebook</a>'\n",
              "            + ' to learn more about interactive tables.';\n",
              "          element.innerHTML = '';\n",
              "          dataTable['output_type'] = 'display_data';\n",
              "          await google.colab.output.renderOutput(dataTable, element);\n",
              "          const docLink = document.createElement('div');\n",
              "          docLink.innerHTML = docLinkHtml;\n",
              "          element.appendChild(docLink);\n",
              "        }\n",
              "      </script>\n",
              "    </div>\n",
              "  </div>\n",
              "  "
            ]
          },
          "metadata": {},
          "execution_count": 19
        }
      ]
    },
    {
      "cell_type": "markdown",
      "source": [
        "Why we must LabelEncoder ?"
      ],
      "metadata": {
        "id": "fg59MQ2cqj9Q"
      }
    },
    {
      "cell_type": "code",
      "source": [
        "data.corr().style.background_gradient(cmap='GnBu')"
      ],
      "metadata": {
        "colab": {
          "base_uri": "https://localhost:8080/",
          "height": 394
        },
        "id": "yD0pc4k0qjOR",
        "outputId": "985a3627-b1fd-4887-dd8b-380bec11d954"
      },
      "execution_count": 20,
      "outputs": [
        {
          "output_type": "execute_result",
          "data": {
            "text/plain": [
              "<pandas.io.formats.style.Styler at 0x7f50470181d0>"
            ],
            "text/html": [
              "<style type=\"text/css\">\n",
              "#T_fe140_row0_col0, #T_fe140_row1_col1, #T_fe140_row2_col2, #T_fe140_row3_col3, #T_fe140_row4_col4, #T_fe140_row5_col5, #T_fe140_row6_col6, #T_fe140_row7_col7, #T_fe140_row8_col8, #T_fe140_row9_col9, #T_fe140_row10_col10 {\n",
              "  background-color: #084081;\n",
              "  color: #f1f1f1;\n",
              "}\n",
              "#T_fe140_row0_col1, #T_fe140_row3_col5 {\n",
              "  background-color: #cdebc6;\n",
              "  color: #000000;\n",
              "}\n",
              "#T_fe140_row0_col2, #T_fe140_row8_col3, #T_fe140_row8_col10, #T_fe140_row10_col0 {\n",
              "  background-color: #ebf7e5;\n",
              "  color: #000000;\n",
              "}\n",
              "#T_fe140_row0_col3, #T_fe140_row5_col0, #T_fe140_row7_col0 {\n",
              "  background-color: #e3f4de;\n",
              "  color: #000000;\n",
              "}\n",
              "#T_fe140_row0_col4, #T_fe140_row6_col9, #T_fe140_row10_col5 {\n",
              "  background-color: #ceecc7;\n",
              "  color: #000000;\n",
              "}\n",
              "#T_fe140_row0_col5 {\n",
              "  background-color: #bce5be;\n",
              "  color: #000000;\n",
              "}\n",
              "#T_fe140_row0_col6, #T_fe140_row1_col5, #T_fe140_row2_col6, #T_fe140_row5_col1, #T_fe140_row5_col2, #T_fe140_row5_col3, #T_fe140_row5_col4, #T_fe140_row5_col6, #T_fe140_row5_col7, #T_fe140_row5_col8, #T_fe140_row5_col9, #T_fe140_row5_col10, #T_fe140_row7_col6, #T_fe140_row9_col0 {\n",
              "  background-color: #f7fcf0;\n",
              "  color: #000000;\n",
              "}\n",
              "#T_fe140_row0_col7 {\n",
              "  background-color: #e5f5e0;\n",
              "  color: #000000;\n",
              "}\n",
              "#T_fe140_row0_col8, #T_fe140_row8_col7 {\n",
              "  background-color: #d3eecc;\n",
              "  color: #000000;\n",
              "}\n",
              "#T_fe140_row0_col9, #T_fe140_row7_col3 {\n",
              "  background-color: #d7efd1;\n",
              "  color: #000000;\n",
              "}\n",
              "#T_fe140_row0_col10, #T_fe140_row6_col2, #T_fe140_row9_col5 {\n",
              "  background-color: #f0f9e9;\n",
              "  color: #000000;\n",
              "}\n",
              "#T_fe140_row1_col0, #T_fe140_row8_col0 {\n",
              "  background-color: #f1faeb;\n",
              "  color: #000000;\n",
              "}\n",
              "#T_fe140_row1_col2 {\n",
              "  background-color: #bbe4bd;\n",
              "  color: #000000;\n",
              "}\n",
              "#T_fe140_row1_col3, #T_fe140_row7_col9 {\n",
              "  background-color: #c3e7c1;\n",
              "  color: #000000;\n",
              "}\n",
              "#T_fe140_row1_col4, #T_fe140_row4_col1 {\n",
              "  background-color: #2788bc;\n",
              "  color: #f1f1f1;\n",
              "}\n",
              "#T_fe140_row1_col6, #T_fe140_row10_col6 {\n",
              "  background-color: #f3fbed;\n",
              "  color: #000000;\n",
              "}\n",
              "#T_fe140_row1_col7, #T_fe140_row6_col1 {\n",
              "  background-color: #c5e8c2;\n",
              "  color: #000000;\n",
              "}\n",
              "#T_fe140_row1_col8 {\n",
              "  background-color: #81cec2;\n",
              "  color: #000000;\n",
              "}\n",
              "#T_fe140_row1_col9 {\n",
              "  background-color: #92d5bc;\n",
              "  color: #000000;\n",
              "}\n",
              "#T_fe140_row1_col10 {\n",
              "  background-color: #c7e9c3;\n",
              "  color: #000000;\n",
              "}\n",
              "#T_fe140_row2_col0 {\n",
              "  background-color: #e9f6e3;\n",
              "  color: #000000;\n",
              "}\n",
              "#T_fe140_row2_col1 {\n",
              "  background-color: #87d1c0;\n",
              "  color: #000000;\n",
              "}\n",
              "#T_fe140_row2_col3 {\n",
              "  background-color: #dff3da;\n",
              "  color: #000000;\n",
              "}\n",
              "#T_fe140_row2_col4 {\n",
              "  background-color: #a6dcb6;\n",
              "  color: #000000;\n",
              "}\n",
              "#T_fe140_row2_col5, #T_fe140_row6_col8, #T_fe140_row7_col5 {\n",
              "  background-color: #d0ecc9;\n",
              "  color: #000000;\n",
              "}\n",
              "#T_fe140_row2_col7 {\n",
              "  background-color: #d2edcc;\n",
              "  color: #000000;\n",
              "}\n",
              "#T_fe140_row2_col8 {\n",
              "  background-color: #aedfb8;\n",
              "  color: #000000;\n",
              "}\n",
              "#T_fe140_row2_col9 {\n",
              "  background-color: #b9e3bc;\n",
              "  color: #000000;\n",
              "}\n",
              "#T_fe140_row2_col10, #T_fe140_row9_col2 {\n",
              "  background-color: #dcf1d6;\n",
              "  color: #000000;\n",
              "}\n",
              "#T_fe140_row3_col0, #T_fe140_row4_col3 {\n",
              "  background-color: #def2d9;\n",
              "  color: #000000;\n",
              "}\n",
              "#T_fe140_row3_col1, #T_fe140_row9_col1 {\n",
              "  background-color: #8ad2bf;\n",
              "  color: #000000;\n",
              "}\n",
              "#T_fe140_row3_col2 {\n",
              "  background-color: #dcf1d7;\n",
              "  color: #000000;\n",
              "}\n",
              "#T_fe140_row3_col4 {\n",
              "  background-color: #b1e0b9;\n",
              "  color: #000000;\n",
              "}\n",
              "#T_fe140_row3_col6 {\n",
              "  background-color: #f6fbef;\n",
              "  color: #000000;\n",
              "}\n",
              "#T_fe140_row3_col7, #T_fe140_row8_col2 {\n",
              "  background-color: #d4eece;\n",
              "  color: #000000;\n",
              "}\n",
              "#T_fe140_row3_col8, #T_fe140_row6_col5, #T_fe140_row10_col8 {\n",
              "  background-color: #c9eac4;\n",
              "  color: #000000;\n",
              "}\n",
              "#T_fe140_row3_col9 {\n",
              "  background-color: #c6e9c2;\n",
              "  color: #000000;\n",
              "}\n",
              "#T_fe140_row3_col10 {\n",
              "  background-color: #daf1d5;\n",
              "  color: #000000;\n",
              "}\n",
              "#T_fe140_row4_col0, #T_fe140_row6_col3 {\n",
              "  background-color: #f2faeb;\n",
              "  color: #000000;\n",
              "}\n",
              "#T_fe140_row4_col2 {\n",
              "  background-color: #d3eecd;\n",
              "  color: #000000;\n",
              "}\n",
              "#T_fe140_row4_col5, #T_fe140_row8_col6 {\n",
              "  background-color: #f6fcef;\n",
              "  color: #000000;\n",
              "}\n",
              "#T_fe140_row4_col6 {\n",
              "  background-color: #f5fbee;\n",
              "  color: #000000;\n",
              "}\n",
              "#T_fe140_row4_col7 {\n",
              "  background-color: #d5eece;\n",
              "  color: #000000;\n",
              "}\n",
              "#T_fe140_row4_col8 {\n",
              "  background-color: #7fcdc3;\n",
              "  color: #000000;\n",
              "}\n",
              "#T_fe140_row4_col9 {\n",
              "  background-color: #94d5bc;\n",
              "  color: #000000;\n",
              "}\n",
              "#T_fe140_row4_col10 {\n",
              "  background-color: #dff2da;\n",
              "  color: #000000;\n",
              "}\n",
              "#T_fe140_row6_col0 {\n",
              "  background-color: #eef8e7;\n",
              "  color: #000000;\n",
              "}\n",
              "#T_fe140_row6_col4 {\n",
              "  background-color: #c8eac3;\n",
              "  color: #000000;\n",
              "}\n",
              "#T_fe140_row6_col7, #T_fe140_row6_col10, #T_fe140_row8_col5 {\n",
              "  background-color: #eff9e9;\n",
              "  color: #000000;\n",
              "}\n",
              "#T_fe140_row7_col1 {\n",
              "  background-color: #91d4bd;\n",
              "  color: #000000;\n",
              "}\n",
              "#T_fe140_row7_col2 {\n",
              "  background-color: #d1edcb;\n",
              "  color: #000000;\n",
              "}\n",
              "#T_fe140_row7_col4 {\n",
              "  background-color: #a7ddb5;\n",
              "  color: #000000;\n",
              "}\n",
              "#T_fe140_row7_col8 {\n",
              "  background-color: #acdfb7;\n",
              "  color: #000000;\n",
              "}\n",
              "#T_fe140_row7_col10, #T_fe140_row10_col3 {\n",
              "  background-color: #dbf1d5;\n",
              "  color: #000000;\n",
              "}\n",
              "#T_fe140_row8_col1 {\n",
              "  background-color: #79cbc5;\n",
              "  color: #000000;\n",
              "}\n",
              "#T_fe140_row8_col4 {\n",
              "  background-color: #77cac5;\n",
              "  color: #000000;\n",
              "}\n",
              "#T_fe140_row8_col9, #T_fe140_row9_col8 {\n",
              "  background-color: #9fdab8;\n",
              "  color: #000000;\n",
              "}\n",
              "#T_fe140_row9_col3 {\n",
              "  background-color: #e9f7e3;\n",
              "  color: #000000;\n",
              "}\n",
              "#T_fe140_row9_col4 {\n",
              "  background-color: #8dd3be;\n",
              "  color: #000000;\n",
              "}\n",
              "#T_fe140_row9_col6 {\n",
              "  background-color: #f4fbed;\n",
              "  color: #000000;\n",
              "}\n",
              "#T_fe140_row9_col7 {\n",
              "  background-color: #e4f4de;\n",
              "  color: #000000;\n",
              "}\n",
              "#T_fe140_row9_col10 {\n",
              "  background-color: #edf8e7;\n",
              "  color: #000000;\n",
              "}\n",
              "#T_fe140_row10_col1 {\n",
              "  background-color: #8ed3be;\n",
              "  color: #000000;\n",
              "}\n",
              "#T_fe140_row10_col2 {\n",
              "  background-color: #d9f0d3;\n",
              "  color: #000000;\n",
              "}\n",
              "#T_fe140_row10_col4 {\n",
              "  background-color: #b2e1b9;\n",
              "  color: #000000;\n",
              "}\n",
              "#T_fe140_row10_col7 {\n",
              "  background-color: #d8f0d3;\n",
              "  color: #000000;\n",
              "}\n",
              "#T_fe140_row10_col9 {\n",
              "  background-color: #cbeac4;\n",
              "  color: #000000;\n",
              "}\n",
              "</style>\n",
              "<table id=\"T_fe140_\" class=\"dataframe\">\n",
              "  <thead>\n",
              "    <tr>\n",
              "      <th class=\"blank level0\" >&nbsp;</th>\n",
              "      <th class=\"col_heading level0 col0\" >gender</th>\n",
              "      <th class=\"col_heading level0 col1\" >age</th>\n",
              "      <th class=\"col_heading level0 col2\" >hypertension</th>\n",
              "      <th class=\"col_heading level0 col3\" >heart_disease</th>\n",
              "      <th class=\"col_heading level0 col4\" >ever_married</th>\n",
              "      <th class=\"col_heading level0 col5\" >work_type</th>\n",
              "      <th class=\"col_heading level0 col6\" >Residence_type</th>\n",
              "      <th class=\"col_heading level0 col7\" >avg_glucose_level</th>\n",
              "      <th class=\"col_heading level0 col8\" >bmi</th>\n",
              "      <th class=\"col_heading level0 col9\" >smoking_status</th>\n",
              "      <th class=\"col_heading level0 col10\" >stroke</th>\n",
              "    </tr>\n",
              "  </thead>\n",
              "  <tbody>\n",
              "    <tr>\n",
              "      <th id=\"T_fe140_level0_row0\" class=\"row_heading level0 row0\" >gender</th>\n",
              "      <td id=\"T_fe140_row0_col0\" class=\"data row0 col0\" >1.000000</td>\n",
              "      <td id=\"T_fe140_row0_col1\" class=\"data row0 col1\" >-0.027752</td>\n",
              "      <td id=\"T_fe140_row0_col2\" class=\"data row0 col2\" >0.021223</td>\n",
              "      <td id=\"T_fe140_row0_col3\" class=\"data row0 col3\" >0.085685</td>\n",
              "      <td id=\"T_fe140_row0_col4\" class=\"data row0 col4\" >-0.030171</td>\n",
              "      <td id=\"T_fe140_row0_col5\" class=\"data row0 col5\" >0.056576</td>\n",
              "      <td id=\"T_fe140_row0_col6\" class=\"data row0 col6\" >-0.006105</td>\n",
              "      <td id=\"T_fe140_row0_col7\" class=\"data row0 col7\" >0.054722</td>\n",
              "      <td id=\"T_fe140_row0_col8\" class=\"data row0 col8\" >-0.025606</td>\n",
              "      <td id=\"T_fe140_row0_col9\" class=\"data row0 col9\" >-0.062423</td>\n",
              "      <td id=\"T_fe140_row0_col10\" class=\"data row0 col10\" >0.009081</td>\n",
              "    </tr>\n",
              "    <tr>\n",
              "      <th id=\"T_fe140_level0_row1\" class=\"row_heading level0 row1\" >age</th>\n",
              "      <td id=\"T_fe140_row1_col0\" class=\"data row1 col0\" >-0.027752</td>\n",
              "      <td id=\"T_fe140_row1_col1\" class=\"data row1 col1\" >1.000000</td>\n",
              "      <td id=\"T_fe140_row1_col2\" class=\"data row1 col2\" >0.276367</td>\n",
              "      <td id=\"T_fe140_row1_col3\" class=\"data row1 col3\" >0.263777</td>\n",
              "      <td id=\"T_fe140_row1_col4\" class=\"data row1 col4\" >0.679084</td>\n",
              "      <td id=\"T_fe140_row1_col5\" class=\"data row1 col5\" >-0.361686</td>\n",
              "      <td id=\"T_fe140_row1_col6\" class=\"data row1 col6\" >0.014031</td>\n",
              "      <td id=\"T_fe140_row1_col7\" class=\"data row1 col7\" >0.238323</td>\n",
              "      <td id=\"T_fe140_row1_col8\" class=\"data row1 col8\" >0.325858</td>\n",
              "      <td id=\"T_fe140_row1_col9\" class=\"data row1 col9\" >0.265165</td>\n",
              "      <td id=\"T_fe140_row1_col10\" class=\"data row1 col10\" >0.245239</td>\n",
              "    </tr>\n",
              "    <tr>\n",
              "      <th id=\"T_fe140_level0_row2\" class=\"row_heading level0 row2\" >hypertension</th>\n",
              "      <td id=\"T_fe140_row2_col0\" class=\"data row2 col0\" >0.021223</td>\n",
              "      <td id=\"T_fe140_row2_col1\" class=\"data row2 col1\" >0.276367</td>\n",
              "      <td id=\"T_fe140_row2_col2\" class=\"data row2 col2\" >1.000000</td>\n",
              "      <td id=\"T_fe140_row2_col3\" class=\"data row2 col3\" >0.108292</td>\n",
              "      <td id=\"T_fe140_row2_col4\" class=\"data row2 col4\" >0.164187</td>\n",
              "      <td id=\"T_fe140_row2_col5\" class=\"data row2 col5\" >-0.051772</td>\n",
              "      <td id=\"T_fe140_row2_col6\" class=\"data row2 col6\" >-0.007980</td>\n",
              "      <td id=\"T_fe140_row2_col7\" class=\"data row2 col7\" >0.174540</td>\n",
              "      <td id=\"T_fe140_row2_col8\" class=\"data row2 col8\" >0.160147</td>\n",
              "      <td id=\"T_fe140_row2_col9\" class=\"data row2 col9\" >0.111018</td>\n",
              "      <td id=\"T_fe140_row2_col10\" class=\"data row2 col10\" >0.127891</td>\n",
              "    </tr>\n",
              "    <tr>\n",
              "      <th id=\"T_fe140_level0_row3\" class=\"row_heading level0 row3\" >heart_disease</th>\n",
              "      <td id=\"T_fe140_row3_col0\" class=\"data row3 col0\" >0.085685</td>\n",
              "      <td id=\"T_fe140_row3_col1\" class=\"data row3 col1\" >0.263777</td>\n",
              "      <td id=\"T_fe140_row3_col2\" class=\"data row3 col2\" >0.108292</td>\n",
              "      <td id=\"T_fe140_row3_col3\" class=\"data row3 col3\" >1.000000</td>\n",
              "      <td id=\"T_fe140_row3_col4\" class=\"data row3 col4\" >0.114601</td>\n",
              "      <td id=\"T_fe140_row3_col5\" class=\"data row3 col5\" >-0.028031</td>\n",
              "      <td id=\"T_fe140_row3_col6\" class=\"data row3 col6\" >0.003045</td>\n",
              "      <td id=\"T_fe140_row3_col7\" class=\"data row3 col7\" >0.161907</td>\n",
              "      <td id=\"T_fe140_row3_col8\" class=\"data row3 col8\" >0.038862</td>\n",
              "      <td id=\"T_fe140_row3_col9\" class=\"data row3 col9\" >0.048445</td>\n",
              "      <td id=\"T_fe140_row3_col10\" class=\"data row3 col10\" >0.134905</td>\n",
              "    </tr>\n",
              "    <tr>\n",
              "      <th id=\"T_fe140_level0_row4\" class=\"row_heading level0 row4\" >ever_married</th>\n",
              "      <td id=\"T_fe140_row4_col0\" class=\"data row4 col0\" >-0.030171</td>\n",
              "      <td id=\"T_fe140_row4_col1\" class=\"data row4 col1\" >0.679084</td>\n",
              "      <td id=\"T_fe140_row4_col2\" class=\"data row4 col2\" >0.164187</td>\n",
              "      <td id=\"T_fe140_row4_col3\" class=\"data row4 col3\" >0.114601</td>\n",
              "      <td id=\"T_fe140_row4_col4\" class=\"data row4 col4\" >1.000000</td>\n",
              "      <td id=\"T_fe140_row4_col5\" class=\"data row4 col5\" >-0.352831</td>\n",
              "      <td id=\"T_fe140_row4_col6\" class=\"data row4 col6\" >0.005988</td>\n",
              "      <td id=\"T_fe140_row4_col7\" class=\"data row4 col7\" >0.155329</td>\n",
              "      <td id=\"T_fe140_row4_col8\" class=\"data row4 col8\" >0.335563</td>\n",
              "      <td id=\"T_fe140_row4_col9\" class=\"data row4 col9\" >0.259604</td>\n",
              "      <td id=\"T_fe140_row4_col10\" class=\"data row4 col10\" >0.108299</td>\n",
              "    </tr>\n",
              "    <tr>\n",
              "      <th id=\"T_fe140_level0_row5\" class=\"row_heading level0 row5\" >work_type</th>\n",
              "      <td id=\"T_fe140_row5_col0\" class=\"data row5 col0\" >0.056576</td>\n",
              "      <td id=\"T_fe140_row5_col1\" class=\"data row5 col1\" >-0.361686</td>\n",
              "      <td id=\"T_fe140_row5_col2\" class=\"data row5 col2\" >-0.051772</td>\n",
              "      <td id=\"T_fe140_row5_col3\" class=\"data row5 col3\" >-0.028031</td>\n",
              "      <td id=\"T_fe140_row5_col4\" class=\"data row5 col4\" >-0.352831</td>\n",
              "      <td id=\"T_fe140_row5_col5\" class=\"data row5 col5\" >1.000000</td>\n",
              "      <td id=\"T_fe140_row5_col6\" class=\"data row5 col6\" >-0.007348</td>\n",
              "      <td id=\"T_fe140_row5_col7\" class=\"data row5 col7\" >-0.050492</td>\n",
              "      <td id=\"T_fe140_row5_col8\" class=\"data row5 col8\" >-0.299495</td>\n",
              "      <td id=\"T_fe140_row5_col9\" class=\"data row5 col9\" >-0.305942</td>\n",
              "      <td id=\"T_fe140_row5_col10\" class=\"data row5 col10\" >-0.032323</td>\n",
              "    </tr>\n",
              "    <tr>\n",
              "      <th id=\"T_fe140_level0_row6\" class=\"row_heading level0 row6\" >Residence_type</th>\n",
              "      <td id=\"T_fe140_row6_col0\" class=\"data row6 col0\" >-0.006105</td>\n",
              "      <td id=\"T_fe140_row6_col1\" class=\"data row6 col1\" >0.014031</td>\n",
              "      <td id=\"T_fe140_row6_col2\" class=\"data row6 col2\" >-0.007980</td>\n",
              "      <td id=\"T_fe140_row6_col3\" class=\"data row6 col3\" >0.003045</td>\n",
              "      <td id=\"T_fe140_row6_col4\" class=\"data row6 col4\" >0.005988</td>\n",
              "      <td id=\"T_fe140_row6_col5\" class=\"data row6 col5\" >-0.007348</td>\n",
              "      <td id=\"T_fe140_row6_col6\" class=\"data row6 col6\" >1.000000</td>\n",
              "      <td id=\"T_fe140_row6_col7\" class=\"data row6 col7\" >-0.004783</td>\n",
              "      <td id=\"T_fe140_row6_col8\" class=\"data row6 col8\" >-0.000288</td>\n",
              "      <td id=\"T_fe140_row6_col9\" class=\"data row6 col9\" >0.008168</td>\n",
              "      <td id=\"T_fe140_row6_col10\" class=\"data row6 col10\" >0.015415</td>\n",
              "    </tr>\n",
              "    <tr>\n",
              "      <th id=\"T_fe140_level0_row7\" class=\"row_heading level0 row7\" >avg_glucose_level</th>\n",
              "      <td id=\"T_fe140_row7_col0\" class=\"data row7 col0\" >0.054722</td>\n",
              "      <td id=\"T_fe140_row7_col1\" class=\"data row7 col1\" >0.238323</td>\n",
              "      <td id=\"T_fe140_row7_col2\" class=\"data row7 col2\" >0.174540</td>\n",
              "      <td id=\"T_fe140_row7_col3\" class=\"data row7 col3\" >0.161907</td>\n",
              "      <td id=\"T_fe140_row7_col4\" class=\"data row7 col4\" >0.155329</td>\n",
              "      <td id=\"T_fe140_row7_col5\" class=\"data row7 col5\" >-0.050492</td>\n",
              "      <td id=\"T_fe140_row7_col6\" class=\"data row7 col6\" >-0.004783</td>\n",
              "      <td id=\"T_fe140_row7_col7\" class=\"data row7 col7\" >1.000000</td>\n",
              "      <td id=\"T_fe140_row7_col8\" class=\"data row7 col8\" >0.168910</td>\n",
              "      <td id=\"T_fe140_row7_col9\" class=\"data row7 col9\" >0.063498</td>\n",
              "      <td id=\"T_fe140_row7_col10\" class=\"data row7 col10\" >0.131991</td>\n",
              "    </tr>\n",
              "    <tr>\n",
              "      <th id=\"T_fe140_level0_row8\" class=\"row_heading level0 row8\" >bmi</th>\n",
              "      <td id=\"T_fe140_row8_col0\" class=\"data row8 col0\" >-0.025606</td>\n",
              "      <td id=\"T_fe140_row8_col1\" class=\"data row8 col1\" >0.325858</td>\n",
              "      <td id=\"T_fe140_row8_col2\" class=\"data row8 col2\" >0.160147</td>\n",
              "      <td id=\"T_fe140_row8_col3\" class=\"data row8 col3\" >0.038862</td>\n",
              "      <td id=\"T_fe140_row8_col4\" class=\"data row8 col4\" >0.335563</td>\n",
              "      <td id=\"T_fe140_row8_col5\" class=\"data row8 col5\" >-0.299495</td>\n",
              "      <td id=\"T_fe140_row8_col6\" class=\"data row8 col6\" >-0.000288</td>\n",
              "      <td id=\"T_fe140_row8_col7\" class=\"data row8 col7\" >0.168910</td>\n",
              "      <td id=\"T_fe140_row8_col8\" class=\"data row8 col8\" >1.000000</td>\n",
              "      <td id=\"T_fe140_row8_col9\" class=\"data row8 col9\" >0.219108</td>\n",
              "      <td id=\"T_fe140_row8_col10\" class=\"data row8 col10\" >0.038912</td>\n",
              "    </tr>\n",
              "    <tr>\n",
              "      <th id=\"T_fe140_level0_row9\" class=\"row_heading level0 row9\" >smoking_status</th>\n",
              "      <td id=\"T_fe140_row9_col0\" class=\"data row9 col0\" >-0.062423</td>\n",
              "      <td id=\"T_fe140_row9_col1\" class=\"data row9 col1\" >0.265165</td>\n",
              "      <td id=\"T_fe140_row9_col2\" class=\"data row9 col2\" >0.111018</td>\n",
              "      <td id=\"T_fe140_row9_col3\" class=\"data row9 col3\" >0.048445</td>\n",
              "      <td id=\"T_fe140_row9_col4\" class=\"data row9 col4\" >0.259604</td>\n",
              "      <td id=\"T_fe140_row9_col5\" class=\"data row9 col5\" >-0.305942</td>\n",
              "      <td id=\"T_fe140_row9_col6\" class=\"data row9 col6\" >0.008168</td>\n",
              "      <td id=\"T_fe140_row9_col7\" class=\"data row9 col7\" >0.063498</td>\n",
              "      <td id=\"T_fe140_row9_col8\" class=\"data row9 col8\" >0.219108</td>\n",
              "      <td id=\"T_fe140_row9_col9\" class=\"data row9 col9\" >1.000000</td>\n",
              "      <td id=\"T_fe140_row9_col10\" class=\"data row9 col10\" >0.028108</td>\n",
              "    </tr>\n",
              "    <tr>\n",
              "      <th id=\"T_fe140_level0_row10\" class=\"row_heading level0 row10\" >stroke</th>\n",
              "      <td id=\"T_fe140_row10_col0\" class=\"data row10 col0\" >0.009081</td>\n",
              "      <td id=\"T_fe140_row10_col1\" class=\"data row10 col1\" >0.245239</td>\n",
              "      <td id=\"T_fe140_row10_col2\" class=\"data row10 col2\" >0.127891</td>\n",
              "      <td id=\"T_fe140_row10_col3\" class=\"data row10 col3\" >0.134905</td>\n",
              "      <td id=\"T_fe140_row10_col4\" class=\"data row10 col4\" >0.108299</td>\n",
              "      <td id=\"T_fe140_row10_col5\" class=\"data row10 col5\" >-0.032323</td>\n",
              "      <td id=\"T_fe140_row10_col6\" class=\"data row10 col6\" >0.015415</td>\n",
              "      <td id=\"T_fe140_row10_col7\" class=\"data row10 col7\" >0.131991</td>\n",
              "      <td id=\"T_fe140_row10_col8\" class=\"data row10 col8\" >0.038912</td>\n",
              "      <td id=\"T_fe140_row10_col9\" class=\"data row10 col9\" >0.028108</td>\n",
              "      <td id=\"T_fe140_row10_col10\" class=\"data row10 col10\" >1.000000</td>\n",
              "    </tr>\n",
              "  </tbody>\n",
              "</table>\n"
            ]
          },
          "metadata": {},
          "execution_count": 20
        }
      ]
    },
    {
      "cell_type": "code",
      "source": [
        "X = data.drop(['stroke'], axis=1).values  #Features\n",
        "y = data['stroke'].values #target variable"
      ],
      "metadata": {
        "id": "IEpp7zyxqqqA"
      },
      "execution_count": 21,
      "outputs": []
    },
    {
      "cell_type": "code",
      "source": [
        "from sklearn.preprocessing import StandardScaler   \n",
        "# Standardize features by removing the mean and scaling to unit variance.\n",
        "scalr=StandardScaler(copy=True,with_mean=True,with_std=True)\n",
        "X=scalr.fit_transform(X)"
      ],
      "metadata": {
        "id": "7vS4K9SVq2Vd"
      },
      "execution_count": 22,
      "outputs": []
    },
    {
      "cell_type": "markdown",
      "source": [
        "`StandardScaler` is what ?"
      ],
      "metadata": {
        "id": "MMAHaxGZrBvU"
      }
    }
  ]
}