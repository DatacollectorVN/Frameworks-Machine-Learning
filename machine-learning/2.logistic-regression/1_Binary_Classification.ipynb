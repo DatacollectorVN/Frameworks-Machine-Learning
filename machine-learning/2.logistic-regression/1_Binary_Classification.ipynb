{
 "cells": [
  {
   "cell_type": "code",
   "execution_count": 37,
   "id": "4de5a226",
   "metadata": {},
   "outputs": [],
   "source": [
    "import numpy as np\n",
    "import pandas as pd \n",
    "import matplotlib.pyplot as plt\n",
    "import seaborn as sns\n",
    "import os\n",
    "from sklearn.model_selection import train_test_split\n",
    "from sklearn.linear_model import LogisticRegression\n",
    "from sklearn.metrics import accuracy_score, confusion_matrix, plot_confusion_matrix\n",
    "import warnings\n",
    "warnings.filterwarnings('ignore')"
   ]
  },
  {
   "cell_type": "markdown",
   "id": "350b385f",
   "metadata": {},
   "source": [
    "# 1. Use all features"
   ]
  },
  {
   "cell_type": "markdown",
   "id": "6425dede",
   "metadata": {},
   "source": [
    "### 1.1 Loading dataset"
   ]
  },
  {
   "cell_type": "code",
   "execution_count": 5,
   "id": "7a026c74",
   "metadata": {},
   "outputs": [],
   "source": [
    "ANNOTATIONS_CSV = os.path.join(\"dataset\", \"diabetes.csv\")"
   ]
  },
  {
   "cell_type": "code",
   "execution_count": 6,
   "id": "54e2e84b",
   "metadata": {
    "scrolled": false
   },
   "outputs": [
    {
     "data": {
      "text/html": [
       "<div>\n",
       "<style scoped>\n",
       "    .dataframe tbody tr th:only-of-type {\n",
       "        vertical-align: middle;\n",
       "    }\n",
       "\n",
       "    .dataframe tbody tr th {\n",
       "        vertical-align: top;\n",
       "    }\n",
       "\n",
       "    .dataframe thead th {\n",
       "        text-align: right;\n",
       "    }\n",
       "</style>\n",
       "<table border=\"1\" class=\"dataframe\">\n",
       "  <thead>\n",
       "    <tr style=\"text-align: right;\">\n",
       "      <th></th>\n",
       "      <th>Pregnancies</th>\n",
       "      <th>Glucose</th>\n",
       "      <th>BloodPressure</th>\n",
       "      <th>SkinThickness</th>\n",
       "      <th>Insulin</th>\n",
       "      <th>BMI</th>\n",
       "      <th>DiabetesPedigreeFunction</th>\n",
       "      <th>Age</th>\n",
       "      <th>Outcome</th>\n",
       "    </tr>\n",
       "  </thead>\n",
       "  <tbody>\n",
       "    <tr>\n",
       "      <th>0</th>\n",
       "      <td>6</td>\n",
       "      <td>148</td>\n",
       "      <td>72</td>\n",
       "      <td>35</td>\n",
       "      <td>0</td>\n",
       "      <td>33.6</td>\n",
       "      <td>0.627</td>\n",
       "      <td>50</td>\n",
       "      <td>1</td>\n",
       "    </tr>\n",
       "    <tr>\n",
       "      <th>1</th>\n",
       "      <td>1</td>\n",
       "      <td>85</td>\n",
       "      <td>66</td>\n",
       "      <td>29</td>\n",
       "      <td>0</td>\n",
       "      <td>26.6</td>\n",
       "      <td>0.351</td>\n",
       "      <td>31</td>\n",
       "      <td>0</td>\n",
       "    </tr>\n",
       "    <tr>\n",
       "      <th>2</th>\n",
       "      <td>8</td>\n",
       "      <td>183</td>\n",
       "      <td>64</td>\n",
       "      <td>0</td>\n",
       "      <td>0</td>\n",
       "      <td>23.3</td>\n",
       "      <td>0.672</td>\n",
       "      <td>32</td>\n",
       "      <td>1</td>\n",
       "    </tr>\n",
       "    <tr>\n",
       "      <th>3</th>\n",
       "      <td>1</td>\n",
       "      <td>89</td>\n",
       "      <td>66</td>\n",
       "      <td>23</td>\n",
       "      <td>94</td>\n",
       "      <td>28.1</td>\n",
       "      <td>0.167</td>\n",
       "      <td>21</td>\n",
       "      <td>0</td>\n",
       "    </tr>\n",
       "    <tr>\n",
       "      <th>4</th>\n",
       "      <td>0</td>\n",
       "      <td>137</td>\n",
       "      <td>40</td>\n",
       "      <td>35</td>\n",
       "      <td>168</td>\n",
       "      <td>43.1</td>\n",
       "      <td>2.288</td>\n",
       "      <td>33</td>\n",
       "      <td>1</td>\n",
       "    </tr>\n",
       "  </tbody>\n",
       "</table>\n",
       "</div>"
      ],
      "text/plain": [
       "   Pregnancies  Glucose  BloodPressure  SkinThickness  Insulin   BMI  \\\n",
       "0            6      148             72             35        0  33.6   \n",
       "1            1       85             66             29        0  26.6   \n",
       "2            8      183             64              0        0  23.3   \n",
       "3            1       89             66             23       94  28.1   \n",
       "4            0      137             40             35      168  43.1   \n",
       "\n",
       "   DiabetesPedigreeFunction  Age  Outcome  \n",
       "0                     0.627   50        1  \n",
       "1                     0.351   31        0  \n",
       "2                     0.672   32        1  \n",
       "3                     0.167   21        0  \n",
       "4                     2.288   33        1  "
      ]
     },
     "execution_count": 6,
     "metadata": {},
     "output_type": "execute_result"
    }
   ],
   "source": [
    "df = pd.read_csv(ANNOTATIONS_CSV)\n",
    "df.head()"
   ]
  },
  {
   "cell_type": "markdown",
   "id": "92ba34f5",
   "metadata": {},
   "source": [
    "### 1.2 Data-preprocessing (Explore Data Analysis - EDA)"
   ]
  },
  {
   "cell_type": "code",
   "execution_count": 7,
   "id": "5a031504",
   "metadata": {},
   "outputs": [
    {
     "name": "stdout",
     "output_type": "stream",
     "text": [
      "num_samples = 768\n",
      "num_features = 9\n"
     ]
    }
   ],
   "source": [
    "num_samples = df.shape[0]\n",
    "num_features = df.shape[1]\n",
    "\n",
    "print(f\"num_samples = {num_samples}\")\n",
    "print(f\"num_features = {num_features}\")"
   ]
  },
  {
   "cell_type": "code",
   "execution_count": 8,
   "id": "10ef26d3",
   "metadata": {},
   "outputs": [
    {
     "name": "stdout",
     "output_type": "stream",
     "text": [
      "<class 'pandas.core.frame.DataFrame'>\n",
      "RangeIndex: 768 entries, 0 to 767\n",
      "Data columns (total 9 columns):\n",
      " #   Column                    Non-Null Count  Dtype  \n",
      "---  ------                    --------------  -----  \n",
      " 0   Pregnancies               768 non-null    int64  \n",
      " 1   Glucose                   768 non-null    int64  \n",
      " 2   BloodPressure             768 non-null    int64  \n",
      " 3   SkinThickness             768 non-null    int64  \n",
      " 4   Insulin                   768 non-null    int64  \n",
      " 5   BMI                       768 non-null    float64\n",
      " 6   DiabetesPedigreeFunction  768 non-null    float64\n",
      " 7   Age                       768 non-null    int64  \n",
      " 8   Outcome                   768 non-null    int64  \n",
      "dtypes: float64(2), int64(7)\n",
      "memory usage: 54.1 KB\n"
     ]
    }
   ],
   "source": [
    "df.info()"
   ]
  },
  {
   "cell_type": "code",
   "execution_count": 9,
   "id": "ab2e33e4",
   "metadata": {},
   "outputs": [
    {
     "data": {
      "text/html": [
       "<div>\n",
       "<style scoped>\n",
       "    .dataframe tbody tr th:only-of-type {\n",
       "        vertical-align: middle;\n",
       "    }\n",
       "\n",
       "    .dataframe tbody tr th {\n",
       "        vertical-align: top;\n",
       "    }\n",
       "\n",
       "    .dataframe thead th {\n",
       "        text-align: right;\n",
       "    }\n",
       "</style>\n",
       "<table border=\"1\" class=\"dataframe\">\n",
       "  <thead>\n",
       "    <tr style=\"text-align: right;\">\n",
       "      <th></th>\n",
       "      <th>Pregnancies</th>\n",
       "      <th>Glucose</th>\n",
       "      <th>BloodPressure</th>\n",
       "      <th>SkinThickness</th>\n",
       "      <th>Insulin</th>\n",
       "      <th>BMI</th>\n",
       "      <th>DiabetesPedigreeFunction</th>\n",
       "      <th>Age</th>\n",
       "      <th>Outcome</th>\n",
       "    </tr>\n",
       "  </thead>\n",
       "  <tbody>\n",
       "    <tr>\n",
       "      <th>count</th>\n",
       "      <td>768.000000</td>\n",
       "      <td>768.000000</td>\n",
       "      <td>768.000000</td>\n",
       "      <td>768.000000</td>\n",
       "      <td>768.000000</td>\n",
       "      <td>768.000000</td>\n",
       "      <td>768.000000</td>\n",
       "      <td>768.000000</td>\n",
       "      <td>768.000000</td>\n",
       "    </tr>\n",
       "    <tr>\n",
       "      <th>mean</th>\n",
       "      <td>3.845052</td>\n",
       "      <td>120.894531</td>\n",
       "      <td>69.105469</td>\n",
       "      <td>20.536458</td>\n",
       "      <td>79.799479</td>\n",
       "      <td>31.992578</td>\n",
       "      <td>0.471876</td>\n",
       "      <td>33.240885</td>\n",
       "      <td>0.348958</td>\n",
       "    </tr>\n",
       "    <tr>\n",
       "      <th>std</th>\n",
       "      <td>3.369578</td>\n",
       "      <td>31.972618</td>\n",
       "      <td>19.355807</td>\n",
       "      <td>15.952218</td>\n",
       "      <td>115.244002</td>\n",
       "      <td>7.884160</td>\n",
       "      <td>0.331329</td>\n",
       "      <td>11.760232</td>\n",
       "      <td>0.476951</td>\n",
       "    </tr>\n",
       "    <tr>\n",
       "      <th>min</th>\n",
       "      <td>0.000000</td>\n",
       "      <td>0.000000</td>\n",
       "      <td>0.000000</td>\n",
       "      <td>0.000000</td>\n",
       "      <td>0.000000</td>\n",
       "      <td>0.000000</td>\n",
       "      <td>0.078000</td>\n",
       "      <td>21.000000</td>\n",
       "      <td>0.000000</td>\n",
       "    </tr>\n",
       "    <tr>\n",
       "      <th>25%</th>\n",
       "      <td>1.000000</td>\n",
       "      <td>99.000000</td>\n",
       "      <td>62.000000</td>\n",
       "      <td>0.000000</td>\n",
       "      <td>0.000000</td>\n",
       "      <td>27.300000</td>\n",
       "      <td>0.243750</td>\n",
       "      <td>24.000000</td>\n",
       "      <td>0.000000</td>\n",
       "    </tr>\n",
       "    <tr>\n",
       "      <th>50%</th>\n",
       "      <td>3.000000</td>\n",
       "      <td>117.000000</td>\n",
       "      <td>72.000000</td>\n",
       "      <td>23.000000</td>\n",
       "      <td>30.500000</td>\n",
       "      <td>32.000000</td>\n",
       "      <td>0.372500</td>\n",
       "      <td>29.000000</td>\n",
       "      <td>0.000000</td>\n",
       "    </tr>\n",
       "    <tr>\n",
       "      <th>75%</th>\n",
       "      <td>6.000000</td>\n",
       "      <td>140.250000</td>\n",
       "      <td>80.000000</td>\n",
       "      <td>32.000000</td>\n",
       "      <td>127.250000</td>\n",
       "      <td>36.600000</td>\n",
       "      <td>0.626250</td>\n",
       "      <td>41.000000</td>\n",
       "      <td>1.000000</td>\n",
       "    </tr>\n",
       "    <tr>\n",
       "      <th>max</th>\n",
       "      <td>17.000000</td>\n",
       "      <td>199.000000</td>\n",
       "      <td>122.000000</td>\n",
       "      <td>99.000000</td>\n",
       "      <td>846.000000</td>\n",
       "      <td>67.100000</td>\n",
       "      <td>2.420000</td>\n",
       "      <td>81.000000</td>\n",
       "      <td>1.000000</td>\n",
       "    </tr>\n",
       "  </tbody>\n",
       "</table>\n",
       "</div>"
      ],
      "text/plain": [
       "       Pregnancies     Glucose  BloodPressure  SkinThickness     Insulin  \\\n",
       "count   768.000000  768.000000     768.000000     768.000000  768.000000   \n",
       "mean      3.845052  120.894531      69.105469      20.536458   79.799479   \n",
       "std       3.369578   31.972618      19.355807      15.952218  115.244002   \n",
       "min       0.000000    0.000000       0.000000       0.000000    0.000000   \n",
       "25%       1.000000   99.000000      62.000000       0.000000    0.000000   \n",
       "50%       3.000000  117.000000      72.000000      23.000000   30.500000   \n",
       "75%       6.000000  140.250000      80.000000      32.000000  127.250000   \n",
       "max      17.000000  199.000000     122.000000      99.000000  846.000000   \n",
       "\n",
       "              BMI  DiabetesPedigreeFunction         Age     Outcome  \n",
       "count  768.000000                768.000000  768.000000  768.000000  \n",
       "mean    31.992578                  0.471876   33.240885    0.348958  \n",
       "std      7.884160                  0.331329   11.760232    0.476951  \n",
       "min      0.000000                  0.078000   21.000000    0.000000  \n",
       "25%     27.300000                  0.243750   24.000000    0.000000  \n",
       "50%     32.000000                  0.372500   29.000000    0.000000  \n",
       "75%     36.600000                  0.626250   41.000000    1.000000  \n",
       "max     67.100000                  2.420000   81.000000    1.000000  "
      ]
     },
     "execution_count": 9,
     "metadata": {},
     "output_type": "execute_result"
    }
   ],
   "source": [
    "df.describe()"
   ]
  },
  {
   "cell_type": "code",
   "execution_count": 16,
   "id": "43f8978e",
   "metadata": {},
   "outputs": [],
   "source": [
    "X = df.iloc[:, :df.shape[1] - 1].values\n",
    "y = df.iloc[:, df.shape[1] - 1].values"
   ]
  },
  {
   "cell_type": "code",
   "execution_count": 17,
   "id": "b2a691c6",
   "metadata": {},
   "outputs": [],
   "source": [
    "VAL_RATIO = 0.2\n",
    "SEED = 42\n",
    "\n",
    "X_train, X_val, y_train, y_val = train_test_split(X, y, test_size = VAL_RATIO, random_state = SEED)"
   ]
  },
  {
   "cell_type": "code",
   "execution_count": 18,
   "id": "721b78fc",
   "metadata": {},
   "outputs": [
    {
     "name": "stdout",
     "output_type": "stream",
     "text": [
      "num_train = 614\n",
      "num_val = 154\n"
     ]
    }
   ],
   "source": [
    "num_train = X_train.shape[0]\n",
    "num_val = X_val.shape[0]\n",
    "\n",
    "print(f\"num_train = {num_train}\")\n",
    "print(f\"num_val = {num_val}\")"
   ]
  },
  {
   "cell_type": "markdown",
   "id": "c4dde4cb",
   "metadata": {},
   "source": [
    "### 1.3 Create model"
   ]
  },
  {
   "cell_type": "code",
   "execution_count": 23,
   "id": "f937c9c4",
   "metadata": {},
   "outputs": [],
   "source": [
    "model = LogisticRegression(verbose = 1)"
   ]
  },
  {
   "cell_type": "markdown",
   "id": "0702b98c",
   "metadata": {},
   "source": [
    "### 1.4 Training model"
   ]
  },
  {
   "cell_type": "code",
   "execution_count": 24,
   "id": "9b7034cf",
   "metadata": {},
   "outputs": [
    {
     "name": "stdout",
     "output_type": "stream",
     "text": [
      "DONE\n"
     ]
    },
    {
     "name": "stderr",
     "output_type": "stream",
     "text": [
      "[Parallel(n_jobs=1)]: Using backend SequentialBackend with 1 concurrent workers.\n",
      "[Parallel(n_jobs=1)]: Done   1 out of   1 | elapsed:    0.0s finished\n"
     ]
    }
   ],
   "source": [
    "model.fit(X_train, y_train)\n",
    "\n",
    "print(f\"DONE\")"
   ]
  },
  {
   "cell_type": "markdown",
   "id": "ec26e5ba",
   "metadata": {},
   "source": [
    "### 1.5 Evaluating model"
   ]
  },
  {
   "cell_type": "code",
   "execution_count": 28,
   "id": "01ed5d75",
   "metadata": {},
   "outputs": [
    {
     "data": {
      "text/html": [
       "<div>\n",
       "<style scoped>\n",
       "    .dataframe tbody tr th:only-of-type {\n",
       "        vertical-align: middle;\n",
       "    }\n",
       "\n",
       "    .dataframe tbody tr th {\n",
       "        vertical-align: top;\n",
       "    }\n",
       "\n",
       "    .dataframe thead th {\n",
       "        text-align: right;\n",
       "    }\n",
       "</style>\n",
       "<table border=\"1\" class=\"dataframe\">\n",
       "  <thead>\n",
       "    <tr style=\"text-align: right;\">\n",
       "      <th></th>\n",
       "      <th>Actual</th>\n",
       "      <th>Predicted</th>\n",
       "    </tr>\n",
       "  </thead>\n",
       "  <tbody>\n",
       "    <tr>\n",
       "      <th>0</th>\n",
       "      <td>0</td>\n",
       "      <td>0</td>\n",
       "    </tr>\n",
       "    <tr>\n",
       "      <th>1</th>\n",
       "      <td>0</td>\n",
       "      <td>0</td>\n",
       "    </tr>\n",
       "    <tr>\n",
       "      <th>2</th>\n",
       "      <td>0</td>\n",
       "      <td>0</td>\n",
       "    </tr>\n",
       "    <tr>\n",
       "      <th>3</th>\n",
       "      <td>0</td>\n",
       "      <td>0</td>\n",
       "    </tr>\n",
       "    <tr>\n",
       "      <th>4</th>\n",
       "      <td>0</td>\n",
       "      <td>0</td>\n",
       "    </tr>\n",
       "  </tbody>\n",
       "</table>\n",
       "</div>"
      ],
      "text/plain": [
       "   Actual  Predicted\n",
       "0       0          0\n",
       "1       0          0\n",
       "2       0          0\n",
       "3       0          0\n",
       "4       0          0"
      ]
     },
     "execution_count": 28,
     "metadata": {},
     "output_type": "execute_result"
    }
   ],
   "source": [
    "y_hat = model.predict(X_val)\n",
    "\n",
    "performance = pd.DataFrame({\"Actual\" : y_val,\n",
    "                            \"Predicted\" : y_hat})\n",
    "performance.head()"
   ]
  },
  {
   "cell_type": "code",
   "execution_count": 29,
   "id": "e118403f",
   "metadata": {},
   "outputs": [
    {
     "name": "stdout",
     "output_type": "stream",
     "text": [
      "acc_train = 0.77\n",
      "acc_val = 0.75\n"
     ]
    }
   ],
   "source": [
    "# calculate acc\n",
    "acc_train = accuracy_score(y_train, model.predict(X_train))\n",
    "acc_val = accuracy_score(y_val, model.predict(X_val))\n",
    "\n",
    "print(f\"acc_train = {acc_train:.2f}\")\n",
    "print(f\"acc_val = {acc_val:.2f}\")"
   ]
  },
  {
   "cell_type": "code",
   "execution_count": 33,
   "id": "b5e7f29e",
   "metadata": {},
   "outputs": [
    {
     "data": {
      "text/html": [
       "<div>\n",
       "<style scoped>\n",
       "    .dataframe tbody tr th:only-of-type {\n",
       "        vertical-align: middle;\n",
       "    }\n",
       "\n",
       "    .dataframe tbody tr th {\n",
       "        vertical-align: top;\n",
       "    }\n",
       "\n",
       "    .dataframe thead th {\n",
       "        text-align: right;\n",
       "    }\n",
       "</style>\n",
       "<table border=\"1\" class=\"dataframe\">\n",
       "  <thead>\n",
       "    <tr style=\"text-align: right;\">\n",
       "      <th></th>\n",
       "      <th>Actual</th>\n",
       "      <th>Predicted</th>\n",
       "      <th>Predicted_class_0</th>\n",
       "      <th>Predicted_class_1</th>\n",
       "    </tr>\n",
       "  </thead>\n",
       "  <tbody>\n",
       "    <tr>\n",
       "      <th>0</th>\n",
       "      <td>0</td>\n",
       "      <td>0</td>\n",
       "      <td>0.724240</td>\n",
       "      <td>0.275760</td>\n",
       "    </tr>\n",
       "    <tr>\n",
       "      <th>1</th>\n",
       "      <td>0</td>\n",
       "      <td>0</td>\n",
       "      <td>0.803737</td>\n",
       "      <td>0.196263</td>\n",
       "    </tr>\n",
       "    <tr>\n",
       "      <th>2</th>\n",
       "      <td>0</td>\n",
       "      <td>0</td>\n",
       "      <td>0.882837</td>\n",
       "      <td>0.117163</td>\n",
       "    </tr>\n",
       "    <tr>\n",
       "      <th>3</th>\n",
       "      <td>0</td>\n",
       "      <td>0</td>\n",
       "      <td>0.834643</td>\n",
       "      <td>0.165357</td>\n",
       "    </tr>\n",
       "    <tr>\n",
       "      <th>4</th>\n",
       "      <td>0</td>\n",
       "      <td>0</td>\n",
       "      <td>0.539275</td>\n",
       "      <td>0.460725</td>\n",
       "    </tr>\n",
       "  </tbody>\n",
       "</table>\n",
       "</div>"
      ],
      "text/plain": [
       "   Actual  Predicted  Predicted_class_0  Predicted_class_1\n",
       "0       0          0           0.724240           0.275760\n",
       "1       0          0           0.803737           0.196263\n",
       "2       0          0           0.882837           0.117163\n",
       "3       0          0           0.834643           0.165357\n",
       "4       0          0           0.539275           0.460725"
      ]
     },
     "execution_count": 33,
     "metadata": {},
     "output_type": "execute_result"
    }
   ],
   "source": [
    "y_hat = model.predict(X_val)\n",
    "y_hat_proba = model.predict_proba(X_val)\n",
    "\n",
    "performance = pd.DataFrame({\"Actual\" : y_val,\n",
    "                            \"Predicted\" : y_hat, \n",
    "                            \"Predicted_class_0\" : y_hat_proba[:, 0],\n",
    "                            \"Predicted_class_1\" : y_hat_proba[:, 1]})\n",
    "performance.head()"
   ]
  },
  {
   "cell_type": "code",
   "execution_count": 43,
   "id": "8390dab5",
   "metadata": {},
   "outputs": [
    {
     "name": "stdout",
     "output_type": "stream",
     "text": [
      "TN = 78\n",
      "FP = 21\n",
      "FN = 18\n",
      "TP = 37\n"
     ]
    }
   ],
   "source": [
    "# confusion matrix in validation \n",
    "confusion_matrix_val = confusion_matrix(y_val, model.predict(X_val))\n",
    "TN = confusion_matrix_val[0, 0]\n",
    "FP = confusion_matrix_val[0, 1]\n",
    "FN = confusion_matrix_val[1, 0]\n",
    "TP = confusion_matrix_val[1, 1]\n",
    "\n",
    "print(f\"TN = {TN}\")\n",
    "print(f\"FP = {FP}\")\n",
    "print(f\"FN = {FN}\")\n",
    "print(f\"TP = {TP}\")"
   ]
  },
  {
   "cell_type": "code",
   "execution_count": 44,
   "id": "aa4c4336",
   "metadata": {},
   "outputs": [
    {
     "name": "stdout",
     "output_type": "stream",
     "text": [
      "acc_val = 0.75\n"
     ]
    }
   ],
   "source": [
    "acc_val = (TP + TN) / (TP + FP + FN + TN)\n",
    "print(f\"acc_val = {acc_val:.2f}\")"
   ]
  },
  {
   "cell_type": "code",
   "execution_count": 38,
   "id": "6986bbd7",
   "metadata": {},
   "outputs": [
    {
     "data": {
      "text/plain": [
       "<sklearn.metrics._plot.confusion_matrix.ConfusionMatrixDisplay at 0x7f4a1c74f850>"
      ]
     },
     "execution_count": 38,
     "metadata": {},
     "output_type": "execute_result"
    },
    {
     "data": {
      "image/png": "[encoded data removed]",
      "text/plain": [
       "<Figure size 432x288 with 2 Axes>"
      ]
     },
     "metadata": {
      "needs_background": "light"
     },
     "output_type": "display_data"
    }
   ],
   "source": [
    "plot_confusion_matrix(model, X_val, y_val)"
   ]
  },
  {
   "cell_type": "markdown",
   "id": "26a237c5",
   "metadata": {},
   "source": [
    "# 2. Feature Selection"
   ]
  },
  {
   "cell_type": "markdown",
   "id": "82294432",
   "metadata": {},
   "source": [
    "### 2.1 ANOVA-f Statistic (SelectKBest - f_classif())"
   ]
  },
  {
   "cell_type": "markdown",
   "id": "71970da0",
   "metadata": {},
   "source": [
    "The scikit-learn machine library provides an implementation of the ANOVA f-test in the f_classif() function. This function can be used in a feature selection strategy, such as selecting the top k most relevant features (largest values) via the SelectKBest class."
   ]
  },
  {
   "cell_type": "code",
   "execution_count": 46,
   "id": "90a40f25",
   "metadata": {},
   "outputs": [],
   "source": [
    "from sklearn.feature_selection import SelectKBest, f_classif"
   ]
  },
  {
   "cell_type": "code",
   "execution_count": 51,
   "id": "39c89ce3",
   "metadata": {},
   "outputs": [
    {
     "data": {
      "text/plain": [
       "SelectKBest(k='all')"
      ]
     },
     "execution_count": 51,
     "metadata": {},
     "output_type": "execute_result"
    }
   ],
   "source": [
    "# configure to select all features\n",
    "fs = SelectKBest(score_func = f_classif, k = 'all')\n",
    "fs"
   ]
  },
  {
   "cell_type": "code",
   "execution_count": 52,
   "id": "f1902405",
   "metadata": {},
   "outputs": [],
   "source": [
    "# learn relationship from data\n",
    "fs.fit(X, y)\n",
    "X_fs = fs.transform(X)"
   ]
  },
  {
   "cell_type": "code",
   "execution_count": 53,
   "id": "08d73312",
   "metadata": {},
   "outputs": [
    {
     "name": "stdout",
     "output_type": "stream",
     "text": [
      "Feature 0: 39.670227\n",
      "Feature 1: 213.161752\n",
      "Feature 2: 3.256950\n",
      "Feature 3: 4.304381\n",
      "Feature 4: 13.281108\n",
      "Feature 5: 71.772072\n",
      "Feature 6: 23.871300\n",
      "Feature 7: 46.140611\n"
     ]
    }
   ],
   "source": [
    "for i in range(len(fs.scores_)):\n",
    "    print('Feature %d: %f' % (i, fs.scores_[i]))"
   ]
  },
  {
   "cell_type": "markdown",
   "id": "85350982",
   "metadata": {},
   "source": [
    "Note: Your results may vary given the stochastic nature of the algorithm or evaluation procedure, or differences in numerical precision. Consider running the example a few times and compare the average outcome."
   ]
  },
  {
   "cell_type": "markdown",
   "id": "f9f62245",
   "metadata": {},
   "source": [
    "In this case, we can see that some features stand out as perhaps being more relevant than others, with much larger test statistic values."
   ]
  },
  {
   "cell_type": "markdown",
   "id": "7499d5bc",
   "metadata": {},
   "source": [
    "Choose: \n",
    "+ Feature 1: 213.161752\n",
    "+ Feature 5: 71.772072\n",
    "+ Feature 7: 46.140611"
   ]
  },
  {
   "cell_type": "code",
   "execution_count": 57,
   "id": "d4ee09eb",
   "metadata": {},
   "outputs": [],
   "source": [
    "X_remain = X_fs[:, [1, 5, 7]]"
   ]
  },
  {
   "cell_type": "markdown",
   "id": "d4c245a0",
   "metadata": {},
   "source": [
    "### All those step below is the same"
   ]
  },
  {
   "cell_type": "code",
   "execution_count": 58,
   "id": "35033a00",
   "metadata": {},
   "outputs": [],
   "source": [
    "VAL_RATIO = 0.2\n",
    "SEED = 42\n",
    "\n",
    "X_train, X_val, y_train, y_val = train_test_split(X_remain, y, test_size = VAL_RATIO, random_state = SEED)"
   ]
  },
  {
   "cell_type": "code",
   "execution_count": 59,
   "id": "3849ada7",
   "metadata": {},
   "outputs": [],
   "source": [
    "model = LogisticRegression(verbose = 1)"
   ]
  },
  {
   "cell_type": "code",
   "execution_count": 60,
   "id": "0e7c08d3",
   "metadata": {},
   "outputs": [
    {
     "name": "stdout",
     "output_type": "stream",
     "text": [
      "DONE\n"
     ]
    },
    {
     "name": "stderr",
     "output_type": "stream",
     "text": [
      "[Parallel(n_jobs=1)]: Using backend SequentialBackend with 1 concurrent workers.\n",
      "[Parallel(n_jobs=1)]: Done   1 out of   1 | elapsed:    0.0s finished\n"
     ]
    }
   ],
   "source": [
    "model.fit(X_train, y_train)\n",
    "\n",
    "print(f\"DONE\")"
   ]
  },
  {
   "cell_type": "code",
   "execution_count": 61,
   "id": "493d9ae1",
   "metadata": {},
   "outputs": [
    {
     "data": {
      "text/html": [
       "<div>\n",
       "<style scoped>\n",
       "    .dataframe tbody tr th:only-of-type {\n",
       "        vertical-align: middle;\n",
       "    }\n",
       "\n",
       "    .dataframe tbody tr th {\n",
       "        vertical-align: top;\n",
       "    }\n",
       "\n",
       "    .dataframe thead th {\n",
       "        text-align: right;\n",
       "    }\n",
       "</style>\n",
       "<table border=\"1\" class=\"dataframe\">\n",
       "  <thead>\n",
       "    <tr style=\"text-align: right;\">\n",
       "      <th></th>\n",
       "      <th>Actual</th>\n",
       "      <th>Predicted</th>\n",
       "    </tr>\n",
       "  </thead>\n",
       "  <tbody>\n",
       "    <tr>\n",
       "      <th>0</th>\n",
       "      <td>0</td>\n",
       "      <td>0</td>\n",
       "    </tr>\n",
       "    <tr>\n",
       "      <th>1</th>\n",
       "      <td>0</td>\n",
       "      <td>0</td>\n",
       "    </tr>\n",
       "    <tr>\n",
       "      <th>2</th>\n",
       "      <td>0</td>\n",
       "      <td>0</td>\n",
       "    </tr>\n",
       "    <tr>\n",
       "      <th>3</th>\n",
       "      <td>0</td>\n",
       "      <td>0</td>\n",
       "    </tr>\n",
       "    <tr>\n",
       "      <th>4</th>\n",
       "      <td>0</td>\n",
       "      <td>1</td>\n",
       "    </tr>\n",
       "  </tbody>\n",
       "</table>\n",
       "</div>"
      ],
      "text/plain": [
       "   Actual  Predicted\n",
       "0       0          0\n",
       "1       0          0\n",
       "2       0          0\n",
       "3       0          0\n",
       "4       0          1"
      ]
     },
     "execution_count": 61,
     "metadata": {},
     "output_type": "execute_result"
    }
   ],
   "source": [
    "y_hat = model.predict(X_val)\n",
    "\n",
    "performance = pd.DataFrame({\"Actual\" : y_val,\n",
    "                            \"Predicted\" : y_hat})\n",
    "performance.head()"
   ]
  },
  {
   "cell_type": "code",
   "execution_count": 62,
   "id": "a0245e26",
   "metadata": {},
   "outputs": [
    {
     "name": "stdout",
     "output_type": "stream",
     "text": [
      "acc_train = 0.77\n",
      "acc_val = 0.75\n"
     ]
    }
   ],
   "source": [
    "# calculate acc\n",
    "acc_train = accuracy_score(y_train, model.predict(X_train))\n",
    "acc_val = accuracy_score(y_val, model.predict(X_val))\n",
    "\n",
    "print(f\"acc_train = {acc_train:.2f}\")\n",
    "print(f\"acc_val = {acc_val:.2f}\")"
   ]
  },
  {
   "cell_type": "markdown",
   "id": "29aef955",
   "metadata": {},
   "source": [
    "### 2.2 Mutual Information Feature Selection"
   ]
  },
  {
   "cell_type": "markdown",
   "id": "275f1c79",
   "metadata": {},
   "source": [
    "Mutual information from the field of information theory is the application of information gain (typically used in the construction of decision trees) to feature selection.\n",
    "\n",
    "Mutual information is calculated between two variables and measures the reduction in uncertainty for one variable given a known value of the other variable."
   ]
  },
  {
   "cell_type": "code",
   "execution_count": 64,
   "id": "53ef3f16",
   "metadata": {},
   "outputs": [],
   "source": [
    "from sklearn.feature_selection import SelectKBest, mutual_info_classif"
   ]
  },
  {
   "cell_type": "code",
   "execution_count": 65,
   "id": "56f39681",
   "metadata": {},
   "outputs": [],
   "source": [
    "fs = SelectKBest(score_func = mutual_info_classif, k = 'all')"
   ]
  },
  {
   "cell_type": "code",
   "execution_count": 66,
   "id": "6a6b9e43",
   "metadata": {},
   "outputs": [],
   "source": [
    "# learn relationship from data\n",
    "fs.fit(X, y)\n",
    "X_fs = fs.transform(X)"
   ]
  },
  {
   "cell_type": "code",
   "execution_count": 67,
   "id": "b870e31a",
   "metadata": {},
   "outputs": [
    {
     "name": "stdout",
     "output_type": "stream",
     "text": [
      "Feature 0: 0.058373\n",
      "Feature 1: 0.130872\n",
      "Feature 2: 0.003449\n",
      "Feature 3: 0.035345\n",
      "Feature 4: 0.041327\n",
      "Feature 5: 0.083182\n",
      "Feature 6: 0.012731\n",
      "Feature 7: 0.062350\n"
     ]
    }
   ],
   "source": [
    "for i in range(len(fs.scores_)):\n",
    "    print('Feature %d: %f' % (i, fs.scores_[i]))"
   ]
  },
  {
   "cell_type": "markdown",
   "id": "d9f06101",
   "metadata": {},
   "source": [
    "Mutual information is always larger than or equal to zero, where the larger the value, the greater the relationship between the two variables. If the calculated result is zero, then the variables are independent."
   ]
  },
  {
   "cell_type": "markdown",
   "id": "f005693a",
   "metadata": {},
   "source": [
    "Choose: \n",
    "+ Feature 1: 0.130872\n",
    "+ Feature 5: 0.083182"
   ]
  },
  {
   "cell_type": "code",
   "execution_count": 68,
   "id": "7963be5d",
   "metadata": {},
   "outputs": [],
   "source": [
    "X_remain = X_fs[:, [1, 5]]"
   ]
  },
  {
   "cell_type": "code",
   "execution_count": 69,
   "id": "c4238b0d",
   "metadata": {},
   "outputs": [],
   "source": [
    "VAL_RATIO = 0.2\n",
    "SEED = 42\n",
    "\n",
    "X_train, X_val, y_train, y_val = train_test_split(X_remain, y, test_size = VAL_RATIO, random_state = SEED)"
   ]
  },
  {
   "cell_type": "code",
   "execution_count": 70,
   "id": "686347d4",
   "metadata": {},
   "outputs": [],
   "source": [
    "model = LogisticRegression(verbose = 1)"
   ]
  },
  {
   "cell_type": "code",
   "execution_count": 71,
   "id": "26320db8",
   "metadata": {},
   "outputs": [
    {
     "name": "stdout",
     "output_type": "stream",
     "text": [
      "DONE\n"
     ]
    },
    {
     "name": "stderr",
     "output_type": "stream",
     "text": [
      "[Parallel(n_jobs=1)]: Using backend SequentialBackend with 1 concurrent workers.\n",
      "[Parallel(n_jobs=1)]: Done   1 out of   1 | elapsed:    0.0s finished\n"
     ]
    }
   ],
   "source": [
    "model.fit(X_train, y_train)\n",
    "\n",
    "print(f\"DONE\")"
   ]
  },
  {
   "cell_type": "code",
   "execution_count": 72,
   "id": "2e3f484c",
   "metadata": {},
   "outputs": [
    {
     "data": {
      "text/html": [
       "<div>\n",
       "<style scoped>\n",
       "    .dataframe tbody tr th:only-of-type {\n",
       "        vertical-align: middle;\n",
       "    }\n",
       "\n",
       "    .dataframe tbody tr th {\n",
       "        vertical-align: top;\n",
       "    }\n",
       "\n",
       "    .dataframe thead th {\n",
       "        text-align: right;\n",
       "    }\n",
       "</style>\n",
       "<table border=\"1\" class=\"dataframe\">\n",
       "  <thead>\n",
       "    <tr style=\"text-align: right;\">\n",
       "      <th></th>\n",
       "      <th>Actual</th>\n",
       "      <th>Predicted</th>\n",
       "    </tr>\n",
       "  </thead>\n",
       "  <tbody>\n",
       "    <tr>\n",
       "      <th>0</th>\n",
       "      <td>0</td>\n",
       "      <td>0</td>\n",
       "    </tr>\n",
       "    <tr>\n",
       "      <th>1</th>\n",
       "      <td>0</td>\n",
       "      <td>0</td>\n",
       "    </tr>\n",
       "    <tr>\n",
       "      <th>2</th>\n",
       "      <td>0</td>\n",
       "      <td>0</td>\n",
       "    </tr>\n",
       "    <tr>\n",
       "      <th>3</th>\n",
       "      <td>0</td>\n",
       "      <td>0</td>\n",
       "    </tr>\n",
       "    <tr>\n",
       "      <th>4</th>\n",
       "      <td>0</td>\n",
       "      <td>0</td>\n",
       "    </tr>\n",
       "  </tbody>\n",
       "</table>\n",
       "</div>"
      ],
      "text/plain": [
       "   Actual  Predicted\n",
       "0       0          0\n",
       "1       0          0\n",
       "2       0          0\n",
       "3       0          0\n",
       "4       0          0"
      ]
     },
     "execution_count": 72,
     "metadata": {},
     "output_type": "execute_result"
    }
   ],
   "source": [
    "y_hat = model.predict(X_val)\n",
    "\n",
    "performance = pd.DataFrame({\"Actual\" : y_val,\n",
    "                            \"Predicted\" : y_hat})\n",
    "performance.head()"
   ]
  },
  {
   "cell_type": "code",
   "execution_count": 73,
   "id": "734b6b5c",
   "metadata": {},
   "outputs": [
    {
     "name": "stdout",
     "output_type": "stream",
     "text": [
      "acc_train = 0.76\n",
      "acc_val = 0.77\n"
     ]
    }
   ],
   "source": [
    "# calculate acc\n",
    "acc_train = accuracy_score(y_train, model.predict(X_train))\n",
    "acc_val = accuracy_score(y_val, model.predict(X_val))\n",
    "\n",
    "print(f\"acc_train = {acc_train:.2f}\")\n",
    "print(f\"acc_val = {acc_val:.2f}\")"
   ]
  },
  {
   "cell_type": "code",
   "execution_count": null,
   "id": "d15d52f4",
   "metadata": {},
   "outputs": [],
   "source": []
  }
 ],
 "metadata": {
  "kernelspec": {
   "display_name": "Python 3.7 (odmalocation)",
   "language": "python",
   "name": "odmalocation"
  },
  "language_info": {
   "codemirror_mode": {
    "name": "ipython",
    "version": 3
   },
   "file_extension": ".py",
   "mimetype": "text/x-python",
   "name": "python",
   "nbconvert_exporter": "python",
   "pygments_lexer": "ipython3",
   "version": "3.7.10"
  }
 },
 "nbformat": 4,
 "nbformat_minor": 5
}
