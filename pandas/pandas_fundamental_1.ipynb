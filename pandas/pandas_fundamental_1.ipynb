{
  "nbformat": 4,
  "nbformat_minor": 0,
  "metadata": {
    "colab": {
      "name": "pandas-fundamental-1",
      "provenance": []
    },
    "kernelspec": {
      "name": "python3",
      "display_name": "Python 3"
    },
    "language_info": {
      "name": "python"
    }
  },
  "cells": [
    {
      "cell_type": "code",
      "metadata": {
        "colab": {
          "base_uri": "https://localhost:8080/"
        },
        "id": "dYRQDWALYZBP",
        "outputId": "316f3749-bc20-4823-dfbb-4de377ee6b04"
      },
      "source": [
        "from google.colab import drive\n",
        "drive.mount('/content/gdrive', force_remount = True)"
      ],
      "execution_count": 2,
      "outputs": [
        {
          "output_type": "stream",
          "text": [
            "Mounted at /content/gdrive\n"
          ],
          "name": "stdout"
        }
      ]
    },
    {
      "cell_type": "code",
      "metadata": {
        "colab": {
          "base_uri": "https://localhost:8080/"
        },
        "id": "ZFx07JkpYh0j",
        "outputId": "3afbdc92-7989-40e2-e1ac-a122b9d046c2"
      },
      "source": [
        "%cd \"/content/gdrive/MyDrive/BME/Lab-513/Training/Pandas\""
      ],
      "execution_count": 3,
      "outputs": [
        {
          "output_type": "stream",
          "text": [
            "/content/gdrive/MyDrive/BME/Lab-513/Training/Pandas\n"
          ],
          "name": "stdout"
        }
      ]
    },
    {
      "cell_type": "code",
      "metadata": {
        "colab": {
          "base_uri": "https://localhost:8080/"
        },
        "id": "H8UxS9FUZq-h",
        "outputId": "aaf9e86c-acb3-4522-a97f-7e04844c818f"
      },
      "source": [
        "!ls"
      ],
      "execution_count": 4,
      "outputs": [
        {
          "output_type": "stream",
          "text": [
            "pandas-fundamental-1\n"
          ],
          "name": "stdout"
        }
      ]
    },
    {
      "cell_type": "code",
      "metadata": {
        "id": "Vwyf9BzdpnM6"
      },
      "source": [
        "import warnings\n",
        "warnings.filterwarnings('ignore')"
      ],
      "execution_count": 34,
      "outputs": []
    },
    {
      "cell_type": "code",
      "metadata": {
        "id": "7b7X8qsfdPCS"
      },
      "source": [
        "import numpy as np\n",
        "import pandas as pd "
      ],
      "execution_count": 10,
      "outputs": []
    },
    {
      "cell_type": "markdown",
      "metadata": {
        "id": "MWcWn6y5dJKY"
      },
      "source": [
        "### 1. Series"
      ]
    },
    {
      "cell_type": "code",
      "metadata": {
        "colab": {
          "base_uri": "https://localhost:8080/"
        },
        "id": "EnQ-FtwQZsRO",
        "outputId": "850e34e3-38a8-45b0-c976-a43711d2ccf1"
      },
      "source": [
        "s = pd.Series()\n",
        "print(s)"
      ],
      "execution_count": 36,
      "outputs": [
        {
          "output_type": "stream",
          "text": [
            "Series([], dtype: float64)\n"
          ],
          "name": "stdout"
        }
      ]
    },
    {
      "cell_type": "code",
      "metadata": {
        "colab": {
          "base_uri": "https://localhost:8080/"
        },
        "id": "YULutLIcf1xU",
        "outputId": "fb6fb125-c28e-421f-b2fb-99cf0320a01c"
      },
      "source": [
        "s = pd.Series(['a', 'b', 'c', 'd'])\n",
        "print(s)"
      ],
      "execution_count": 7,
      "outputs": [
        {
          "output_type": "stream",
          "text": [
            "0    a\n",
            "1    b\n",
            "2    c\n",
            "3    d\n",
            "dtype: object\n"
          ],
          "name": "stdout"
        }
      ]
    },
    {
      "cell_type": "code",
      "metadata": {
        "colab": {
          "base_uri": "https://localhost:8080/"
        },
        "id": "wrdGiMB2f_cT",
        "outputId": "2b166c8a-c660-4cec-ad7b-e0d1dea7962d"
      },
      "source": [
        "s = pd.Series(['a', 'b', 'c', 'd'], index = [100, 101, 102, 500])\n",
        "print(s)"
      ],
      "execution_count": 9,
      "outputs": [
        {
          "output_type": "stream",
          "text": [
            "100    a\n",
            "101    b\n",
            "102    c\n",
            "500    d\n",
            "dtype: object\n"
          ],
          "name": "stdout"
        }
      ]
    },
    {
      "cell_type": "code",
      "metadata": {
        "colab": {
          "base_uri": "https://localhost:8080/"
        },
        "id": "vfL3PP5hgFjx",
        "outputId": "7c36217e-10aa-4993-e5ac-f6785512cbd2"
      },
      "source": [
        "# create series from array\n",
        "a = np.arange(0, 10, 1)\n",
        "s = pd.Series(a)\n",
        "print(f'a = \\n{a}')\n",
        "print(f's = \\n{s}')"
      ],
      "execution_count": 11,
      "outputs": [
        {
          "output_type": "stream",
          "text": [
            "a = \n",
            "[0 1 2 3 4 5 6 7 8 9]\n",
            "s = \n",
            "0    0\n",
            "1    1\n",
            "2    2\n",
            "3    3\n",
            "4    4\n",
            "5    5\n",
            "6    6\n",
            "7    7\n",
            "8    8\n",
            "9    9\n",
            "dtype: int64\n"
          ],
          "name": "stdout"
        }
      ]
    },
    {
      "cell_type": "code",
      "metadata": {
        "colab": {
          "base_uri": "https://localhost:8080/"
        },
        "id": "2sCaRxWtgeq1",
        "outputId": "efc2f84f-211e-42d0-9e50-67cbb9d83588"
      },
      "source": [
        "# create series from array\n",
        "a = np.arange(0, 10, 1)\n",
        "# [i for i in range(100, 110)] ~ [100, 1001, ..., 109]\n",
        "s = pd.Series(a, index = [i for i in range(100, 110)])\n",
        "print(f'a = \\n{a}')\n",
        "print(f's = \\n{s}')"
      ],
      "execution_count": 12,
      "outputs": [
        {
          "output_type": "stream",
          "text": [
            "a = \n",
            "[0 1 2 3 4 5 6 7 8 9]\n",
            "s = \n",
            "100    0\n",
            "101    1\n",
            "102    2\n",
            "103    3\n",
            "104    4\n",
            "105    5\n",
            "106    6\n",
            "107    7\n",
            "108    8\n",
            "109    9\n",
            "dtype: int64\n"
          ],
          "name": "stdout"
        }
      ]
    },
    {
      "cell_type": "code",
      "metadata": {
        "colab": {
          "base_uri": "https://localhost:8080/"
        },
        "id": "4OgJoRzSgmcR",
        "outputId": "2bdec045-e100-4b3e-815d-52119ad0c56b"
      },
      "source": [
        "# create series from dictionary \n",
        "dic_1 = {'Nhan' : 21, \"Nhu\" : 21, \"Uyen\" : 21}\n",
        "s = pd.Series(dic_1)\n",
        "print(f's = \\n{s}')"
      ],
      "execution_count": 14,
      "outputs": [
        {
          "output_type": "stream",
          "text": [
            "s = \n",
            "Nhan    21\n",
            "Nhu     21\n",
            "Uyen    21\n",
            "dtype: int64\n"
          ],
          "name": "stdout"
        }
      ]
    },
    {
      "cell_type": "code",
      "metadata": {
        "colab": {
          "base_uri": "https://localhost:8080/"
        },
        "id": "F4Rg18g3i3O3",
        "outputId": "3d475191-f4cf-4565-89b6-99f69d826b83"
      },
      "source": [
        "# create seriese from scalar\n",
        "s = pd.Series(10, index = [0, 1, 2])\n",
        "print(s)"
      ],
      "execution_count": 16,
      "outputs": [
        {
          "output_type": "stream",
          "text": [
            "0    10\n",
            "1    10\n",
            "2    10\n",
            "dtype: int64\n"
          ],
          "name": "stdout"
        }
      ]
    },
    {
      "cell_type": "markdown",
      "metadata": {
        "id": "PBFL5O0KjKFM"
      },
      "source": [
        "+ get item in series"
      ]
    },
    {
      "cell_type": "code",
      "metadata": {
        "colab": {
          "base_uri": "https://localhost:8080/"
        },
        "id": "JeUkUYAijAhE",
        "outputId": "d731da27-b53e-48ca-d95f-ec62be756576"
      },
      "source": [
        "dic_1 = {'Nhan' : 21, \"Nhu\" : 21, \"Uyen\" : 21}\n",
        "s1 = pd.Series(dic_1)\n",
        "print(f's1 = \\n{s1}')"
      ],
      "execution_count": 21,
      "outputs": [
        {
          "output_type": "stream",
          "text": [
            "s1 = \n",
            "Nhan    21\n",
            "Nhu     21\n",
            "Uyen    21\n",
            "dtype: int64\n"
          ],
          "name": "stdout"
        }
      ]
    },
    {
      "cell_type": "markdown",
      "metadata": {
        "id": "N1UFquczjRNl"
      },
      "source": [
        "index: 0 ~ label: Nhan\n",
        "\n",
        "index: 1 ~ label: Nhu\n",
        "\n",
        "index: 2 ~ label: Uyen"
      ]
    },
    {
      "cell_type": "code",
      "metadata": {
        "colab": {
          "base_uri": "https://localhost:8080/"
        },
        "id": "WBRbM_81jPVf",
        "outputId": "478a955c-17b5-4c7c-9a0e-d89bed88f62c"
      },
      "source": [
        "# get single item\n",
        "print(f's1[0] = {s1[0]}')\n",
        "print(f's1[\"Nhan\"] = {s1[\"Nhan\"]}')"
      ],
      "execution_count": 22,
      "outputs": [
        {
          "output_type": "stream",
          "text": [
            "s1[0] = 21\n",
            "s1[\"Nhan\"] = 21\n"
          ],
          "name": "stdout"
        }
      ]
    },
    {
      "cell_type": "code",
      "metadata": {
        "colab": {
          "base_uri": "https://localhost:8080/"
        },
        "id": "J3jqfN2Njmnb",
        "outputId": "b77abaf2-ad2d-4f81-c42f-c984688938dc"
      },
      "source": [
        "# get multi-items\n",
        "print(f's1[0:2] = \\n{s1[0:2]}')\n",
        "print(f's1[[\"Nhan\", \"Nhu\"]] = \\n{s1[[\"Nhan\", \"Nhu\"]]}')"
      ],
      "execution_count": 25,
      "outputs": [
        {
          "output_type": "stream",
          "text": [
            "s1[0:2] = \n",
            "Nhan    21\n",
            "Nhu     21\n",
            "dtype: int64\n",
            "s1[[\"Nhan\", \"Nhu\"]] = \n",
            "Nhan    21\n",
            "Nhu     21\n",
            "dtype: int64\n"
          ],
          "name": "stdout"
        }
      ]
    },
    {
      "cell_type": "markdown",
      "metadata": {
        "id": "KffiQoMBkUHX"
      },
      "source": [
        "+ update/add/del item"
      ]
    },
    {
      "cell_type": "code",
      "metadata": {
        "colab": {
          "base_uri": "https://localhost:8080/"
        },
        "id": "gU6l4EOwj8Z7",
        "outputId": "f45bea7f-d0bc-4f11-9150-38ff5645dde2"
      },
      "source": [
        "# update\n",
        "s = pd.Series(10, index = [0, 1, 2])\n",
        "print(f's (before) = \\n{s}')\n",
        "s[1] = 69\n",
        "print(f's (after) = \\n{s}')"
      ],
      "execution_count": 28,
      "outputs": [
        {
          "output_type": "stream",
          "text": [
            "s (before) = \n",
            "0    10\n",
            "1    10\n",
            "2    10\n",
            "dtype: int64\n",
            "s (after) = \n",
            "0    10\n",
            "1    69\n",
            "2    10\n",
            "dtype: int64\n"
          ],
          "name": "stdout"
        }
      ]
    },
    {
      "cell_type": "code",
      "metadata": {
        "colab": {
          "base_uri": "https://localhost:8080/"
        },
        "id": "wCBYij1MkmAz",
        "outputId": "e57101cc-9ac7-401c-df8e-32c924ca8e52"
      },
      "source": [
        "# add\n",
        "s = pd.Series(10, index = [0, 1, 2])\n",
        "print(f's (before) = \\n{s}')\n",
        "s[3] = 100\n",
        "s[1000] = 69\n",
        "print(f's (after) = \\n{s}')"
      ],
      "execution_count": 29,
      "outputs": [
        {
          "output_type": "stream",
          "text": [
            "s (before) = \n",
            "0    10\n",
            "1    10\n",
            "2    10\n",
            "dtype: int64\n",
            "s (after) = \n",
            "0        10\n",
            "1        10\n",
            "2        10\n",
            "3       100\n",
            "1000     69\n",
            "dtype: int64\n"
          ],
          "name": "stdout"
        }
      ]
    },
    {
      "cell_type": "code",
      "metadata": {
        "colab": {
          "base_uri": "https://localhost:8080/"
        },
        "id": "CT5Kzl7OkzCn",
        "outputId": "5b413088-4813-41d0-f1f4-4499d9fb390b"
      },
      "source": [
        "# del \n",
        "a = np.arange(0, 10, 1)\n",
        "s = pd.Series(a, index = [i for i in range(10)])\n",
        "print(f's (before) = \\n{s}')\n",
        "s = s.drop([8, 3])\n",
        "print(f's (after) = \\n{s}')"
      ],
      "execution_count": 31,
      "outputs": [
        {
          "output_type": "stream",
          "text": [
            "s (before) = \n",
            "0    0\n",
            "1    1\n",
            "2    2\n",
            "3    3\n",
            "4    4\n",
            "5    5\n",
            "6    6\n",
            "7    7\n",
            "8    8\n",
            "9    9\n",
            "dtype: int64\n",
            "s (after) = \n",
            "0    0\n",
            "1    1\n",
            "2    2\n",
            "4    4\n",
            "5    5\n",
            "6    6\n",
            "7    7\n",
            "9    9\n",
            "dtype: int64\n"
          ],
          "name": "stdout"
        }
      ]
    },
    {
      "cell_type": "markdown",
      "metadata": {
        "id": "5A5t6UvVpXdZ"
      },
      "source": [
        "+ series empty or not ?"
      ]
    },
    {
      "cell_type": "code",
      "metadata": {
        "colab": {
          "base_uri": "https://localhost:8080/"
        },
        "id": "y7fTmK-DlEOT",
        "outputId": "a23bbc3f-7014-4673-f939-18ac9eb70159"
      },
      "source": [
        "s1 = pd.Series()\n",
        "s2 = pd.Series(10, index = [0, 1, 2])\n",
        "print(s1.empty)\n",
        "print(s2.empty)"
      ],
      "execution_count": 35,
      "outputs": [
        {
          "output_type": "stream",
          "text": [
            "True\n",
            "False\n"
          ],
          "name": "stdout"
        }
      ]
    },
    {
      "cell_type": "markdown",
      "metadata": {
        "id": "AcqGkTa4p_l4"
      },
      "source": [
        "+ get index of series"
      ]
    },
    {
      "cell_type": "code",
      "metadata": {
        "colab": {
          "base_uri": "https://localhost:8080/"
        },
        "id": "A0Zk26adplFX",
        "outputId": "224a97ca-962b-450a-ecba-e55e2fa6ca22"
      },
      "source": [
        "dic_1 = {'Nhan' : 21, \"Nhu\" : 21, \"Uyen\" : 21}\n",
        "s1 = pd.Series(dic_1)\n",
        "s2 = pd.Series(10, index = [0, 1, 2])\n",
        "print(f's1.axes = {s1.axes}')\n",
        "print(f's2.axes = {s2.axes}')"
      ],
      "execution_count": 37,
      "outputs": [
        {
          "output_type": "stream",
          "text": [
            "s1.axes = [Index(['Nhan', 'Nhu', 'Uyen'], dtype='object')]\n",
            "s2.axes = [Int64Index([0, 1, 2], dtype='int64')]\n"
          ],
          "name": "stdout"
        }
      ]
    },
    {
      "cell_type": "markdown",
      "metadata": {
        "id": "lTcpBJVaqfUb"
      },
      "source": [
        "series from 2-D array ?"
      ]
    },
    {
      "cell_type": "code",
      "metadata": {
        "colab": {
          "base_uri": "https://localhost:8080/"
        },
        "id": "9sm7HDe5qJmj",
        "outputId": "78aa8538-516e-4329-a2ed-4d7ee23d45ad"
      },
      "source": [
        "arr = np.array([[1, 2, 3], \n",
        "                [1, 2, 3]])\n",
        "\n",
        "# https://www.w3schools.com/python/python_try_except.asp\n",
        "try: \n",
        "  s = pd.Series(arr)\n",
        "except Exception:\n",
        "  print('Error: Data must be 1-dimensional')"
      ],
      "execution_count": 39,
      "outputs": [
        {
          "output_type": "stream",
          "text": [
            "Error: Data must be 1-dimensional\n"
          ],
          "name": "stdout"
        }
      ]
    },
    {
      "cell_type": "markdown",
      "metadata": {
        "id": "ZlBL0Avnq58b"
      },
      "source": [
        "+ size/dimension"
      ]
    },
    {
      "cell_type": "code",
      "metadata": {
        "colab": {
          "base_uri": "https://localhost:8080/"
        },
        "id": "d-6fP0TBqYpU",
        "outputId": "82c4fa76-bf61-4ed7-8cb5-7509c6b4beb3"
      },
      "source": [
        "# dimension\n",
        "dic_1 = {'Nhan' : 21, \"Nhu\" : 21, \"Uyen\" : 21}\n",
        "s1 = pd.Series(dic_1)\n",
        "s2 = pd.Series(10, index = [0, 1, 2])\n",
        "print(f's1.ndim = {s1.ndim}')\n",
        "print(f's2.ndim = {s2.ndim}')"
      ],
      "execution_count": 41,
      "outputs": [
        {
          "output_type": "stream",
          "text": [
            "s1.ndim = 1\n",
            "s2.ndim = 1\n"
          ],
          "name": "stdout"
        }
      ]
    },
    {
      "cell_type": "code",
      "metadata": {
        "colab": {
          "base_uri": "https://localhost:8080/"
        },
        "id": "4CYxqzfsrBbg",
        "outputId": "89c78bdd-2552-49a6-bed8-d067d0f2d14f"
      },
      "source": [
        "# size ~ number of item \n",
        "dic_1 = {'Nhan' : 21, \"Nhu\" : 21, \"Uyen\" : 21}\n",
        "s1 = pd.Series(dic_1)\n",
        "s2 = pd.Series(10, index = [0, 1, 2, 4, 5])\n",
        "print(f's1.size = {s1.size}')\n",
        "print(f's2.size = {s2.size}')"
      ],
      "execution_count": 43,
      "outputs": [
        {
          "output_type": "stream",
          "text": [
            "s1.size = 3\n",
            "s2.size = 5\n"
          ],
          "name": "stdout"
        }
      ]
    },
    {
      "cell_type": "markdown",
      "metadata": {
        "id": "CKEE78LArYv7"
      },
      "source": [
        "+ from series to array"
      ]
    },
    {
      "cell_type": "code",
      "metadata": {
        "colab": {
          "base_uri": "https://localhost:8080/"
        },
        "id": "nBypR6lBrSGn",
        "outputId": "ca08e28f-1903-49c6-f898-a36a05ae97e3"
      },
      "source": [
        "s2 = pd.Series(10, index = [0, 1, 2, 4, 5])\n",
        "print(f's2 = \\n{s2}')\n",
        "arr = s2.values\n",
        "print(f'arr = {arr}')"
      ],
      "execution_count": 47,
      "outputs": [
        {
          "output_type": "stream",
          "text": [
            "s2 = \n",
            "0    10\n",
            "1    10\n",
            "2    10\n",
            "4    10\n",
            "5    10\n",
            "dtype: int64\n",
            "arr = [10 10 10 10 10]\n"
          ],
          "name": "stdout"
        }
      ]
    },
    {
      "cell_type": "markdown",
      "metadata": {
        "id": "BV9pOUPIrwvj"
      },
      "source": [
        "+ get head/tail of series"
      ]
    },
    {
      "cell_type": "code",
      "metadata": {
        "colab": {
          "base_uri": "https://localhost:8080/"
        },
        "id": "fnxxU_B5rdJZ",
        "outputId": "ef9092fd-5bb5-4b75-bd42-6f7013fc6270"
      },
      "source": [
        "s = pd.Series(np.arange(100))\n",
        "print(f's.head() = \\n{s.head()}')\n",
        "print(f's.head(3) = \\n{s.head(3)}')\n",
        "print()\n",
        "print(f's.tail() = \\n{s.tail()}')\n",
        "print(f's.tail(4) = \\n{s.tail(4)}')"
      ],
      "execution_count": 51,
      "outputs": [
        {
          "output_type": "stream",
          "text": [
            "s.head() = \n",
            "0    0\n",
            "1    1\n",
            "2    2\n",
            "3    3\n",
            "4    4\n",
            "dtype: int64\n",
            "s.head(3) = \n",
            "0    0\n",
            "1    1\n",
            "2    2\n",
            "dtype: int64\n",
            "\n",
            "s.tail() = \n",
            "95    95\n",
            "96    96\n",
            "97    97\n",
            "98    98\n",
            "99    99\n",
            "dtype: int64\n",
            "s.tail(4) = \n",
            "96    96\n",
            "97    97\n",
            "98    98\n",
            "99    99\n",
            "dtype: int64\n"
          ],
          "name": "stdout"
        }
      ]
    },
    {
      "cell_type": "markdown",
      "metadata": {
        "id": "cQVretXVtkmD"
      },
      "source": [
        "+ create series for other series by mapping "
      ]
    },
    {
      "cell_type": "code",
      "metadata": {
        "id": "tgXncv9ar-35"
      },
      "source": [
        "# map() function + lambda function\n",
        "s1 = pd.Series(np.arange(10))\n",
        "s2 = s1.map(lambda x: x + 100)\n",
        "s3 = s1.map(lambda x: x * 2)"
      ],
      "execution_count": 53,
      "outputs": []
    },
    {
      "cell_type": "code",
      "metadata": {
        "colab": {
          "base_uri": "https://localhost:8080/"
        },
        "id": "d_gJow6Xtw6e",
        "outputId": "8e32aaa2-128b-4781-be21-d20c5790c635"
      },
      "source": [
        "print(f's2 = \\n{s2}')\n",
        "print(f's3 = \\n{s3}')"
      ],
      "execution_count": 54,
      "outputs": [
        {
          "output_type": "stream",
          "text": [
            "s2 = \n",
            "0    100\n",
            "1    101\n",
            "2    102\n",
            "3    103\n",
            "4    104\n",
            "5    105\n",
            "6    106\n",
            "7    107\n",
            "8    108\n",
            "9    109\n",
            "dtype: int64\n",
            "s3 = \n",
            "0     0\n",
            "1     2\n",
            "2     4\n",
            "3     6\n",
            "4     8\n",
            "5    10\n",
            "6    12\n",
            "7    14\n",
            "8    16\n",
            "9    18\n",
            "dtype: int64\n"
          ],
          "name": "stdout"
        }
      ]
    },
    {
      "cell_type": "markdown",
      "metadata": {
        "id": "sRnpVvvqvTjd"
      },
      "source": [
        "![image.png](data:image/png;base64,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)"
      ]
    },
    {
      "cell_type": "code",
      "metadata": {
        "colab": {
          "base_uri": "https://localhost:8080/"
        },
        "id": "CdNaDf_ut_li",
        "outputId": "f2bbe47a-1398-4afe-af7d-6097c701e947"
      },
      "source": [
        "s1 = pd.Series([1, 2, np.NaN]) # NaN = Not a Number\n",
        "print(f'Number of items withoy null: {s1.count()}')"
      ],
      "execution_count": 56,
      "outputs": [
        {
          "output_type": "stream",
          "text": [
            "Number of items withoy null: 2\n"
          ],
          "name": "stdout"
        }
      ]
    },
    {
      "cell_type": "code",
      "metadata": {
        "colab": {
          "base_uri": "https://localhost:8080/"
        },
        "id": "JgU606Y_vt8t",
        "outputId": "8debe53e-2019-4606-cf50-56e7ae5a0784"
      },
      "source": [
        "s = pd.Series(np.random.randint(0, 100, size = 100))\n",
        "print(f's.head() = \\n{s.head()}')"
      ],
      "execution_count": 57,
      "outputs": [
        {
          "output_type": "stream",
          "text": [
            "s.head() = \n",
            "0    88\n",
            "1    28\n",
            "2    10\n",
            "3    26\n",
            "4    34\n",
            "dtype: int64\n"
          ],
          "name": "stdout"
        }
      ]
    },
    {
      "cell_type": "code",
      "metadata": {
        "colab": {
          "base_uri": "https://localhost:8080/"
        },
        "id": "uhOephqhv68w",
        "outputId": "8036539a-d2e1-4175-fc82-bdd194695b38"
      },
      "source": [
        "print(f'sum = {s.sum()}')\n",
        "print(f'Mean = {s.mean()}')\n",
        "print(f'Median= {s.median()}')\n",
        "print(f'Mode = {s.mode()}')\n",
        "print(f'std = {s.std()}')\n",
        "print(f'Min = {s.min()}')\n",
        "print(f'Max = {s.max()}')\n",
        "print(f'prod = {s.prod()}')"
      ],
      "execution_count": 60,
      "outputs": [
        {
          "output_type": "stream",
          "text": [
            "sum = 4567\n",
            "Mean = 45.67\n",
            "Median= 46.5\n",
            "Mode = 0    10\n",
            "dtype: int64\n",
            "std = 28.997406710938755\n",
            "Min = 0\n",
            "Max = 99\n",
            "prod = 0\n"
          ],
          "name": "stdout"
        }
      ]
    },
    {
      "cell_type": "code",
      "metadata": {
        "colab": {
          "base_uri": "https://localhost:8080/"
        },
        "id": "A4_cNYGFwIN-",
        "outputId": "05ee3ca7-2a42-49ac-9aa8-cb6bd28c4932"
      },
      "source": [
        "print(f'cumsum = \\n{s.cumsum()}')\n",
        "print(f'cumprod = \\n{s.cumprod()}')"
      ],
      "execution_count": 62,
      "outputs": [
        {
          "output_type": "stream",
          "text": [
            "cumsum = \n",
            "0       88\n",
            "1      116\n",
            "2      126\n",
            "3      152\n",
            "4      186\n",
            "      ... \n",
            "95    4358\n",
            "96    4452\n",
            "97    4452\n",
            "98    4507\n",
            "99    4567\n",
            "Length: 100, dtype: int64\n",
            "cumprod = \n",
            "0           88\n",
            "1         2464\n",
            "2        24640\n",
            "3       640640\n",
            "4     21781760\n",
            "        ...   \n",
            "95           0\n",
            "96           0\n",
            "97           0\n",
            "98           0\n",
            "99           0\n",
            "Length: 100, dtype: int64\n"
          ],
          "name": "stdout"
        }
      ]
    },
    {
      "cell_type": "markdown",
      "metadata": {
        "id": "zkXDlMxAwf8-"
      },
      "source": [
        "+ overall stats"
      ]
    },
    {
      "cell_type": "code",
      "metadata": {
        "colab": {
          "base_uri": "https://localhost:8080/"
        },
        "id": "_T1VLQQ9wcB9",
        "outputId": "9028bf51-2135-42be-d694-476a3642b5bb"
      },
      "source": [
        "print(s.describe())\n",
        "# to know 25%; 50%; 75% --> https://www.statisticshowto.com/calculators/interquartile-range-calculator/"
      ],
      "execution_count": 63,
      "outputs": [
        {
          "output_type": "stream",
          "text": [
            "count    100.000000\n",
            "mean      45.670000\n",
            "std       28.997407\n",
            "min        0.000000\n",
            "25%       20.750000\n",
            "50%       46.500000\n",
            "75%       67.250000\n",
            "max       99.000000\n",
            "dtype: float64\n"
          ],
          "name": "stdout"
        }
      ]
    },
    {
      "cell_type": "markdown",
      "metadata": {
        "id": "8RQPIjLg2_W4"
      },
      "source": [
        "### DataFrame"
      ]
    },
    {
      "cell_type": "code",
      "metadata": {
        "colab": {
          "base_uri": "https://localhost:8080/",
          "height": 206
        },
        "id": "EvFd4Deqwmhx",
        "outputId": "a42a3145-dcca-4358-d787-fd25612a5ccd"
      },
      "source": [
        "# create df from list\n",
        "lst = [1, 2, 3, 4, 5]\n",
        "df1 = pd.DataFrame(lst)\n",
        "df1 # pritn(df1)"
      ],
      "execution_count": 67,
      "outputs": [
        {
          "output_type": "execute_result",
          "data": {
            "text/html": [
              "<div>\n",
              "<style scoped>\n",
              "    .dataframe tbody tr th:only-of-type {\n",
              "        vertical-align: middle;\n",
              "    }\n",
              "\n",
              "    .dataframe tbody tr th {\n",
              "        vertical-align: top;\n",
              "    }\n",
              "\n",
              "    .dataframe thead th {\n",
              "        text-align: right;\n",
              "    }\n",
              "</style>\n",
              "<table border=\"1\" class=\"dataframe\">\n",
              "  <thead>\n",
              "    <tr style=\"text-align: right;\">\n",
              "      <th></th>\n",
              "      <th>0</th>\n",
              "    </tr>\n",
              "  </thead>\n",
              "  <tbody>\n",
              "    <tr>\n",
              "      <th>0</th>\n",
              "      <td>1</td>\n",
              "    </tr>\n",
              "    <tr>\n",
              "      <th>1</th>\n",
              "      <td>2</td>\n",
              "    </tr>\n",
              "    <tr>\n",
              "      <th>2</th>\n",
              "      <td>3</td>\n",
              "    </tr>\n",
              "    <tr>\n",
              "      <th>3</th>\n",
              "      <td>4</td>\n",
              "    </tr>\n",
              "    <tr>\n",
              "      <th>4</th>\n",
              "      <td>5</td>\n",
              "    </tr>\n",
              "  </tbody>\n",
              "</table>\n",
              "</div>"
            ],
            "text/plain": [
              "   0\n",
              "0  1\n",
              "1  2\n",
              "2  3\n",
              "3  4\n",
              "4  5"
            ]
          },
          "metadata": {
            "tags": []
          },
          "execution_count": 67
        }
      ]
    },
    {
      "cell_type": "code",
      "metadata": {
        "colab": {
          "base_uri": "https://localhost:8080/",
          "height": 143
        },
        "id": "vKUrw5Gs3My6",
        "outputId": "8ec44379-9cd9-405a-c4d6-05a096713394"
      },
      "source": [
        "lst = [['Nhan', 21], ['Nhu', 21], ['Uyen', 21]]\n",
        "df1 = pd.DataFrame(lst, columns = ['Name', 'Age'])\n",
        "df1"
      ],
      "execution_count": 66,
      "outputs": [
        {
          "output_type": "execute_result",
          "data": {
            "text/html": [
              "<div>\n",
              "<style scoped>\n",
              "    .dataframe tbody tr th:only-of-type {\n",
              "        vertical-align: middle;\n",
              "    }\n",
              "\n",
              "    .dataframe tbody tr th {\n",
              "        vertical-align: top;\n",
              "    }\n",
              "\n",
              "    .dataframe thead th {\n",
              "        text-align: right;\n",
              "    }\n",
              "</style>\n",
              "<table border=\"1\" class=\"dataframe\">\n",
              "  <thead>\n",
              "    <tr style=\"text-align: right;\">\n",
              "      <th></th>\n",
              "      <th>Name</th>\n",
              "      <th>Age</th>\n",
              "    </tr>\n",
              "  </thead>\n",
              "  <tbody>\n",
              "    <tr>\n",
              "      <th>0</th>\n",
              "      <td>Nhan</td>\n",
              "      <td>21</td>\n",
              "    </tr>\n",
              "    <tr>\n",
              "      <th>1</th>\n",
              "      <td>Nhu</td>\n",
              "      <td>21</td>\n",
              "    </tr>\n",
              "    <tr>\n",
              "      <th>2</th>\n",
              "      <td>Uyen</td>\n",
              "      <td>21</td>\n",
              "    </tr>\n",
              "  </tbody>\n",
              "</table>\n",
              "</div>"
            ],
            "text/plain": [
              "   Name  Age\n",
              "0  Nhan   21\n",
              "1   Nhu   21\n",
              "2  Uyen   21"
            ]
          },
          "metadata": {
            "tags": []
          },
          "execution_count": 66
        }
      ]
    },
    {
      "cell_type": "code",
      "metadata": {
        "id": "LiG08fhs3YDI"
      },
      "source": [
        "# create df from dict(list)\n",
        "dct = {'Name' : ['Nhan', 'Nhu', 'Uyen'], \n",
        "       'Age' : [21, 21, 21]}\n",
        "df1 = pd.DataFrame(dct)\n",
        "df2 = pd.DataFrame(dct, index = ['p1', 'p2', 'p3'])"
      ],
      "execution_count": 69,
      "outputs": []
    },
    {
      "cell_type": "code",
      "metadata": {
        "colab": {
          "base_uri": "https://localhost:8080/",
          "height": 143
        },
        "id": "AL0g-r7a37_j",
        "outputId": "d2fd5cf7-848b-45e5-aecb-24947c5ce307"
      },
      "source": [
        "df1"
      ],
      "execution_count": 70,
      "outputs": [
        {
          "output_type": "execute_result",
          "data": {
            "text/html": [
              "<div>\n",
              "<style scoped>\n",
              "    .dataframe tbody tr th:only-of-type {\n",
              "        vertical-align: middle;\n",
              "    }\n",
              "\n",
              "    .dataframe tbody tr th {\n",
              "        vertical-align: top;\n",
              "    }\n",
              "\n",
              "    .dataframe thead th {\n",
              "        text-align: right;\n",
              "    }\n",
              "</style>\n",
              "<table border=\"1\" class=\"dataframe\">\n",
              "  <thead>\n",
              "    <tr style=\"text-align: right;\">\n",
              "      <th></th>\n",
              "      <th>Name</th>\n",
              "      <th>Age</th>\n",
              "    </tr>\n",
              "  </thead>\n",
              "  <tbody>\n",
              "    <tr>\n",
              "      <th>0</th>\n",
              "      <td>Nhan</td>\n",
              "      <td>21</td>\n",
              "    </tr>\n",
              "    <tr>\n",
              "      <th>1</th>\n",
              "      <td>Nhu</td>\n",
              "      <td>21</td>\n",
              "    </tr>\n",
              "    <tr>\n",
              "      <th>2</th>\n",
              "      <td>Uyen</td>\n",
              "      <td>21</td>\n",
              "    </tr>\n",
              "  </tbody>\n",
              "</table>\n",
              "</div>"
            ],
            "text/plain": [
              "   Name  Age\n",
              "0  Nhan   21\n",
              "1   Nhu   21\n",
              "2  Uyen   21"
            ]
          },
          "metadata": {
            "tags": []
          },
          "execution_count": 70
        }
      ]
    },
    {
      "cell_type": "code",
      "metadata": {
        "colab": {
          "base_uri": "https://localhost:8080/",
          "height": 143
        },
        "id": "7z_IQyow38Og",
        "outputId": "bbdc606c-ad3e-4f6f-8f06-b2ddf4d1edeb"
      },
      "source": [
        "df2"
      ],
      "execution_count": 71,
      "outputs": [
        {
          "output_type": "execute_result",
          "data": {
            "text/html": [
              "<div>\n",
              "<style scoped>\n",
              "    .dataframe tbody tr th:only-of-type {\n",
              "        vertical-align: middle;\n",
              "    }\n",
              "\n",
              "    .dataframe tbody tr th {\n",
              "        vertical-align: top;\n",
              "    }\n",
              "\n",
              "    .dataframe thead th {\n",
              "        text-align: right;\n",
              "    }\n",
              "</style>\n",
              "<table border=\"1\" class=\"dataframe\">\n",
              "  <thead>\n",
              "    <tr style=\"text-align: right;\">\n",
              "      <th></th>\n",
              "      <th>Name</th>\n",
              "      <th>Age</th>\n",
              "    </tr>\n",
              "  </thead>\n",
              "  <tbody>\n",
              "    <tr>\n",
              "      <th>p1</th>\n",
              "      <td>Nhan</td>\n",
              "      <td>21</td>\n",
              "    </tr>\n",
              "    <tr>\n",
              "      <th>p2</th>\n",
              "      <td>Nhu</td>\n",
              "      <td>21</td>\n",
              "    </tr>\n",
              "    <tr>\n",
              "      <th>p3</th>\n",
              "      <td>Uyen</td>\n",
              "      <td>21</td>\n",
              "    </tr>\n",
              "  </tbody>\n",
              "</table>\n",
              "</div>"
            ],
            "text/plain": [
              "    Name  Age\n",
              "p1  Nhan   21\n",
              "p2   Nhu   21\n",
              "p3  Uyen   21"
            ]
          },
          "metadata": {
            "tags": []
          },
          "execution_count": 71
        }
      ]
    },
    {
      "cell_type": "markdown",
      "metadata": {
        "id": "N7b5j1kM4Nr2"
      },
      "source": [
        "![image.png](data:image/png;base64,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)"
      ]
    },
    {
      "cell_type": "markdown",
      "metadata": {
        "id": "EXSgWiNu754T"
      },
      "source": [
        "+ dataframe manipulation"
      ]
    },
    {
      "cell_type": "code",
      "metadata": {
        "colab": {
          "base_uri": "https://localhost:8080/",
          "height": 143
        },
        "id": "On7T_33c3-cw",
        "outputId": "a60873f0-dff9-4ef4-bebe-9d5fca8bd30f"
      },
      "source": [
        "dct = {'Name' : ['Nhan', 'Nhu', 'Uyen'], \n",
        "       'Age' : [21, 21, 21]}\n",
        "df2 = pd.DataFrame(dct, index = ['p1', 'p2', 'p3'])\n",
        "df2    "
      ],
      "execution_count": 73,
      "outputs": [
        {
          "output_type": "execute_result",
          "data": {
            "text/html": [
              "<div>\n",
              "<style scoped>\n",
              "    .dataframe tbody tr th:only-of-type {\n",
              "        vertical-align: middle;\n",
              "    }\n",
              "\n",
              "    .dataframe tbody tr th {\n",
              "        vertical-align: top;\n",
              "    }\n",
              "\n",
              "    .dataframe thead th {\n",
              "        text-align: right;\n",
              "    }\n",
              "</style>\n",
              "<table border=\"1\" class=\"dataframe\">\n",
              "  <thead>\n",
              "    <tr style=\"text-align: right;\">\n",
              "      <th></th>\n",
              "      <th>Name</th>\n",
              "      <th>Age</th>\n",
              "    </tr>\n",
              "  </thead>\n",
              "  <tbody>\n",
              "    <tr>\n",
              "      <th>p1</th>\n",
              "      <td>Nhan</td>\n",
              "      <td>21</td>\n",
              "    </tr>\n",
              "    <tr>\n",
              "      <th>p2</th>\n",
              "      <td>Nhu</td>\n",
              "      <td>21</td>\n",
              "    </tr>\n",
              "    <tr>\n",
              "      <th>p3</th>\n",
              "      <td>Uyen</td>\n",
              "      <td>21</td>\n",
              "    </tr>\n",
              "  </tbody>\n",
              "</table>\n",
              "</div>"
            ],
            "text/plain": [
              "    Name  Age\n",
              "p1  Nhan   21\n",
              "p2   Nhu   21\n",
              "p3  Uyen   21"
            ]
          },
          "metadata": {
            "tags": []
          },
          "execution_count": 73
        }
      ]
    },
    {
      "cell_type": "code",
      "metadata": {
        "colab": {
          "base_uri": "https://localhost:8080/"
        },
        "id": "UHiGHiAy7-wY",
        "outputId": "8fddf280-1f0e-4a80-ec6f-9870c4a8a650"
      },
      "source": [
        "# get columns\n",
        "df2['Name']"
      ],
      "execution_count": 74,
      "outputs": [
        {
          "output_type": "execute_result",
          "data": {
            "text/plain": [
              "p1    Nhan\n",
              "p2     Nhu\n",
              "p3    Uyen\n",
              "Name: Name, dtype: object"
            ]
          },
          "metadata": {
            "tags": []
          },
          "execution_count": 74
        }
      ]
    },
    {
      "cell_type": "code",
      "metadata": {
        "colab": {
          "base_uri": "https://localhost:8080/"
        },
        "id": "JVRsZA2A8Kh1",
        "outputId": "1fbfaec1-10e4-44e1-d5bf-552d758eeb43"
      },
      "source": [
        "df2['Age']"
      ],
      "execution_count": 75,
      "outputs": [
        {
          "output_type": "execute_result",
          "data": {
            "text/plain": [
              "p1    21\n",
              "p2    21\n",
              "p3    21\n",
              "Name: Age, dtype: int64"
            ]
          },
          "metadata": {
            "tags": []
          },
          "execution_count": 75
        }
      ]
    },
    {
      "cell_type": "markdown",
      "metadata": {
        "id": "ALpuxLd18RXo"
      },
      "source": [
        "+ del/pop"
      ]
    },
    {
      "cell_type": "code",
      "metadata": {
        "id": "WixBQuBX8NiO"
      },
      "source": [
        "dct = {'Name' : ['Nhan', 'Nhu', 'Uyen'], \n",
        "       'Age' : [21, 21, 21], \n",
        "       'movie': ['Korea', 'China', 'China']}\n",
        "df2 = pd.DataFrame(dct, index = ['p1', 'p2', 'p3'])"
      ],
      "execution_count": 76,
      "outputs": []
    },
    {
      "cell_type": "code",
      "metadata": {
        "colab": {
          "base_uri": "https://localhost:8080/",
          "height": 143
        },
        "id": "AWZNEf9a8iVk",
        "outputId": "eace8a0a-5e27-4543-b6b3-2a33066130a9"
      },
      "source": [
        "df2"
      ],
      "execution_count": 77,
      "outputs": [
        {
          "output_type": "execute_result",
          "data": {
            "text/html": [
              "<div>\n",
              "<style scoped>\n",
              "    .dataframe tbody tr th:only-of-type {\n",
              "        vertical-align: middle;\n",
              "    }\n",
              "\n",
              "    .dataframe tbody tr th {\n",
              "        vertical-align: top;\n",
              "    }\n",
              "\n",
              "    .dataframe thead th {\n",
              "        text-align: right;\n",
              "    }\n",
              "</style>\n",
              "<table border=\"1\" class=\"dataframe\">\n",
              "  <thead>\n",
              "    <tr style=\"text-align: right;\">\n",
              "      <th></th>\n",
              "      <th>Name</th>\n",
              "      <th>Age</th>\n",
              "      <th>movie</th>\n",
              "    </tr>\n",
              "  </thead>\n",
              "  <tbody>\n",
              "    <tr>\n",
              "      <th>p1</th>\n",
              "      <td>Nhan</td>\n",
              "      <td>21</td>\n",
              "      <td>Korea</td>\n",
              "    </tr>\n",
              "    <tr>\n",
              "      <th>p2</th>\n",
              "      <td>Nhu</td>\n",
              "      <td>21</td>\n",
              "      <td>China</td>\n",
              "    </tr>\n",
              "    <tr>\n",
              "      <th>p3</th>\n",
              "      <td>Uyen</td>\n",
              "      <td>21</td>\n",
              "      <td>China</td>\n",
              "    </tr>\n",
              "  </tbody>\n",
              "</table>\n",
              "</div>"
            ],
            "text/plain": [
              "    Name  Age  movie\n",
              "p1  Nhan   21  Korea\n",
              "p2   Nhu   21  China\n",
              "p3  Uyen   21  China"
            ]
          },
          "metadata": {
            "tags": []
          },
          "execution_count": 77
        }
      ]
    },
    {
      "cell_type": "code",
      "metadata": {
        "colab": {
          "base_uri": "https://localhost:8080/",
          "height": 143
        },
        "id": "wnkmA5gc8k1s",
        "outputId": "05856604-f0f4-4625-ded1-069552626ea8"
      },
      "source": [
        "# del\n",
        "dct = {'Name' : ['Nhan', 'Nhu', 'Uyen'], \n",
        "       'Age' : [21, 21, 21], \n",
        "       'movie': ['Korea', 'China', 'China']}\n",
        "df2 = pd.DataFrame(dct, index = ['p1', 'p2', 'p3'])\n",
        "del df2['movie'] \n",
        "df2"
      ],
      "execution_count": 79,
      "outputs": [
        {
          "output_type": "execute_result",
          "data": {
            "text/html": [
              "<div>\n",
              "<style scoped>\n",
              "    .dataframe tbody tr th:only-of-type {\n",
              "        vertical-align: middle;\n",
              "    }\n",
              "\n",
              "    .dataframe tbody tr th {\n",
              "        vertical-align: top;\n",
              "    }\n",
              "\n",
              "    .dataframe thead th {\n",
              "        text-align: right;\n",
              "    }\n",
              "</style>\n",
              "<table border=\"1\" class=\"dataframe\">\n",
              "  <thead>\n",
              "    <tr style=\"text-align: right;\">\n",
              "      <th></th>\n",
              "      <th>Name</th>\n",
              "      <th>Age</th>\n",
              "    </tr>\n",
              "  </thead>\n",
              "  <tbody>\n",
              "    <tr>\n",
              "      <th>p1</th>\n",
              "      <td>Nhan</td>\n",
              "      <td>21</td>\n",
              "    </tr>\n",
              "    <tr>\n",
              "      <th>p2</th>\n",
              "      <td>Nhu</td>\n",
              "      <td>21</td>\n",
              "    </tr>\n",
              "    <tr>\n",
              "      <th>p3</th>\n",
              "      <td>Uyen</td>\n",
              "      <td>21</td>\n",
              "    </tr>\n",
              "  </tbody>\n",
              "</table>\n",
              "</div>"
            ],
            "text/plain": [
              "    Name  Age\n",
              "p1  Nhan   21\n",
              "p2   Nhu   21\n",
              "p3  Uyen   21"
            ]
          },
          "metadata": {
            "tags": []
          },
          "execution_count": 79
        }
      ]
    },
    {
      "cell_type": "code",
      "metadata": {
        "colab": {
          "base_uri": "https://localhost:8080/",
          "height": 143
        },
        "id": "wS0bO20A8rsM",
        "outputId": "5202073f-3eba-4332-d641-0c365f213680"
      },
      "source": [
        "# pop\n",
        "dct = {'Name' : ['Nhan', 'Nhu', 'Uyen'], \n",
        "       'Age' : [21, 21, 21], \n",
        "       'movie': ['Korea', 'China', 'China']}\n",
        "df2 = pd.DataFrame(dct, index = ['p1', 'p2', 'p3'])\n",
        "df2.pop('movie')\n",
        "df2"
      ],
      "execution_count": 81,
      "outputs": [
        {
          "output_type": "execute_result",
          "data": {
            "text/html": [
              "<div>\n",
              "<style scoped>\n",
              "    .dataframe tbody tr th:only-of-type {\n",
              "        vertical-align: middle;\n",
              "    }\n",
              "\n",
              "    .dataframe tbody tr th {\n",
              "        vertical-align: top;\n",
              "    }\n",
              "\n",
              "    .dataframe thead th {\n",
              "        text-align: right;\n",
              "    }\n",
              "</style>\n",
              "<table border=\"1\" class=\"dataframe\">\n",
              "  <thead>\n",
              "    <tr style=\"text-align: right;\">\n",
              "      <th></th>\n",
              "      <th>Name</th>\n",
              "      <th>Age</th>\n",
              "    </tr>\n",
              "  </thead>\n",
              "  <tbody>\n",
              "    <tr>\n",
              "      <th>p1</th>\n",
              "      <td>Nhan</td>\n",
              "      <td>21</td>\n",
              "    </tr>\n",
              "    <tr>\n",
              "      <th>p2</th>\n",
              "      <td>Nhu</td>\n",
              "      <td>21</td>\n",
              "    </tr>\n",
              "    <tr>\n",
              "      <th>p3</th>\n",
              "      <td>Uyen</td>\n",
              "      <td>21</td>\n",
              "    </tr>\n",
              "  </tbody>\n",
              "</table>\n",
              "</div>"
            ],
            "text/plain": [
              "    Name  Age\n",
              "p1  Nhan   21\n",
              "p2   Nhu   21\n",
              "p3  Uyen   21"
            ]
          },
          "metadata": {
            "tags": []
          },
          "execution_count": 81
        }
      ]
    },
    {
      "cell_type": "markdown",
      "metadata": {
        "id": "rffEPV8u9Aqa"
      },
      "source": [
        "+  get list of columns"
      ]
    },
    {
      "cell_type": "code",
      "metadata": {
        "colab": {
          "base_uri": "https://localhost:8080/"
        },
        "id": "JhCyDFPc80Bl",
        "outputId": "f7406693-8ab2-43e4-b429-ef68cb645ee9"
      },
      "source": [
        "dct = {'Name' : ['Nhan', 'Nhu', 'Uyen'], \n",
        "       'Age' : [21, 21, 21], \n",
        "       'movie': ['Korea', 'China', 'China']}\n",
        "df2 = pd.DataFrame(dct, index = ['p1', 'p2', 'p3'])\n",
        "print(df2.columns)"
      ],
      "execution_count": 82,
      "outputs": [
        {
          "output_type": "stream",
          "text": [
            "Index(['Name', 'Age', 'movie'], dtype='object')\n"
          ],
          "name": "stdout"
        }
      ]
    },
    {
      "cell_type": "markdown",
      "metadata": {
        "id": "AGVd5bJB9KYL"
      },
      "source": [
        "+ get items accroding row"
      ]
    },
    {
      "cell_type": "code",
      "metadata": {
        "colab": {
          "base_uri": "https://localhost:8080/"
        },
        "id": "yHKXTRgM9EaI",
        "outputId": "38890aba-731a-46fe-ab45-45ee0bdb16f7"
      },
      "source": [
        "# get by labels --> .loc[]\n",
        "dct = {'Name' : ['Nhan', 'Nhu', 'Uyen'], \n",
        "       'Age' : [21, 21, 21], \n",
        "       'movie': ['Korea', 'China', 'China']}\n",
        "df2 = pd.DataFrame(dct, index = ['p1', 'p2', 'p3'])\n",
        "df2.loc['p1']"
      ],
      "execution_count": 84,
      "outputs": [
        {
          "output_type": "execute_result",
          "data": {
            "text/plain": [
              "Name      Nhan\n",
              "Age         21\n",
              "movie    Korea\n",
              "Name: p1, dtype: object"
            ]
          },
          "metadata": {
            "tags": []
          },
          "execution_count": 84
        }
      ]
    },
    {
      "cell_type": "code",
      "metadata": {
        "colab": {
          "base_uri": "https://localhost:8080/"
        },
        "id": "FheNi4of9SXl",
        "outputId": "2f664905-0b71-422a-b138-33241e8dbb22"
      },
      "source": [
        "# get by index --> .iloc[]\n",
        "dct = {'Name' : ['Nhan', 'Nhu', 'Uyen'], \n",
        "       'Age' : [21, 21, 21], \n",
        "       'movie': ['Korea', 'China', 'China']}\n",
        "df2 = pd.DataFrame(dct, index = ['p1', 'p2', 'p3'])\n",
        "df2.iloc[0]"
      ],
      "execution_count": 85,
      "outputs": [
        {
          "output_type": "execute_result",
          "data": {
            "text/plain": [
              "Name      Nhan\n",
              "Age         21\n",
              "movie    Korea\n",
              "Name: p1, dtype: object"
            ]
          },
          "metadata": {
            "tags": []
          },
          "execution_count": 85
        }
      ]
    },
    {
      "cell_type": "markdown",
      "metadata": {
        "id": "POmGnXNS9pUZ"
      },
      "source": [
        "![image.png](data:image/png;base64,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)"
      ]
    },
    {
      "cell_type": "markdown",
      "metadata": {
        "id": "cxTbxLOj9soX"
      },
      "source": [
        "![image.png](data:image/png;base64,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)"
      ]
    },
    {
      "cell_type": "code",
      "metadata": {
        "colab": {
          "base_uri": "https://localhost:8080/",
          "height": 143
        },
        "id": "yxv40uHz9ctp",
        "outputId": "0d653880-8494-4585-cfd9-8aefb5e0e198"
      },
      "source": [
        "# df with labels (rows and columns)\n",
        "dct = {'Name' : ['Nhan', 'Nhu', 'Uyen'], \n",
        "       'Age' : [21, 21, 21], \n",
        "       'Movie': ['Korea', 'China', 'China']}\n",
        "df2 = pd.DataFrame(dct, index = ['p1', 'p2', 'p3'])\n",
        "df2"
      ],
      "execution_count": 89,
      "outputs": [
        {
          "output_type": "execute_result",
          "data": {
            "text/html": [
              "<div>\n",
              "<style scoped>\n",
              "    .dataframe tbody tr th:only-of-type {\n",
              "        vertical-align: middle;\n",
              "    }\n",
              "\n",
              "    .dataframe tbody tr th {\n",
              "        vertical-align: top;\n",
              "    }\n",
              "\n",
              "    .dataframe thead th {\n",
              "        text-align: right;\n",
              "    }\n",
              "</style>\n",
              "<table border=\"1\" class=\"dataframe\">\n",
              "  <thead>\n",
              "    <tr style=\"text-align: right;\">\n",
              "      <th></th>\n",
              "      <th>Name</th>\n",
              "      <th>Age</th>\n",
              "      <th>Movie</th>\n",
              "    </tr>\n",
              "  </thead>\n",
              "  <tbody>\n",
              "    <tr>\n",
              "      <th>p1</th>\n",
              "      <td>Nhan</td>\n",
              "      <td>21</td>\n",
              "      <td>Korea</td>\n",
              "    </tr>\n",
              "    <tr>\n",
              "      <th>p2</th>\n",
              "      <td>Nhu</td>\n",
              "      <td>21</td>\n",
              "      <td>China</td>\n",
              "    </tr>\n",
              "    <tr>\n",
              "      <th>p3</th>\n",
              "      <td>Uyen</td>\n",
              "      <td>21</td>\n",
              "      <td>China</td>\n",
              "    </tr>\n",
              "  </tbody>\n",
              "</table>\n",
              "</div>"
            ],
            "text/plain": [
              "    Name  Age  Movie\n",
              "p1  Nhan   21  Korea\n",
              "p2   Nhu   21  China\n",
              "p3  Uyen   21  China"
            ]
          },
          "metadata": {
            "tags": []
          },
          "execution_count": 89
        }
      ]
    },
    {
      "cell_type": "code",
      "metadata": {
        "colab": {
          "base_uri": "https://localhost:8080/",
          "height": 175
        },
        "id": "Cq_9GQ3b90xN",
        "outputId": "0abfe7ab-0c95-4435-ae2c-8d8413ef2f99"
      },
      "source": [
        "# df without labels (rows and columns)\n",
        "dct = {0 : ['Name', 'Nhan', 'Nhu', 'Uyen'], \n",
        "       1 : ['Age', 21, 21, 21], \n",
        "       2: ['Movie', 'Korea', 'China', 'China']}\n",
        "df2 = pd.DataFrame(dct)\n",
        "df2"
      ],
      "execution_count": 90,
      "outputs": [
        {
          "output_type": "execute_result",
          "data": {
            "text/html": [
              "<div>\n",
              "<style scoped>\n",
              "    .dataframe tbody tr th:only-of-type {\n",
              "        vertical-align: middle;\n",
              "    }\n",
              "\n",
              "    .dataframe tbody tr th {\n",
              "        vertical-align: top;\n",
              "    }\n",
              "\n",
              "    .dataframe thead th {\n",
              "        text-align: right;\n",
              "    }\n",
              "</style>\n",
              "<table border=\"1\" class=\"dataframe\">\n",
              "  <thead>\n",
              "    <tr style=\"text-align: right;\">\n",
              "      <th></th>\n",
              "      <th>0</th>\n",
              "      <th>1</th>\n",
              "      <th>2</th>\n",
              "    </tr>\n",
              "  </thead>\n",
              "  <tbody>\n",
              "    <tr>\n",
              "      <th>0</th>\n",
              "      <td>Name</td>\n",
              "      <td>Age</td>\n",
              "      <td>Movie</td>\n",
              "    </tr>\n",
              "    <tr>\n",
              "      <th>1</th>\n",
              "      <td>Nhan</td>\n",
              "      <td>21</td>\n",
              "      <td>Korea</td>\n",
              "    </tr>\n",
              "    <tr>\n",
              "      <th>2</th>\n",
              "      <td>Nhu</td>\n",
              "      <td>21</td>\n",
              "      <td>China</td>\n",
              "    </tr>\n",
              "    <tr>\n",
              "      <th>3</th>\n",
              "      <td>Uyen</td>\n",
              "      <td>21</td>\n",
              "      <td>China</td>\n",
              "    </tr>\n",
              "  </tbody>\n",
              "</table>\n",
              "</div>"
            ],
            "text/plain": [
              "      0    1      2\n",
              "0  Name  Age  Movie\n",
              "1  Nhan   21  Korea\n",
              "2   Nhu   21  China\n",
              "3  Uyen   21  China"
            ]
          },
          "metadata": {
            "tags": []
          },
          "execution_count": 90
        }
      ]
    },
    {
      "cell_type": "code",
      "metadata": {
        "colab": {
          "base_uri": "https://localhost:8080/",
          "height": 143
        },
        "id": "SwsP4olq_oQl",
        "outputId": "3d21a062-1be2-483e-8afb-a6d18e6f0127"
      },
      "source": [
        "# df with labels (rows and columns)\n",
        "dct = {'Name' : ['Nhan', 'Nhu', 'Uyen'], \n",
        "       'Age' : [21, 21, 21], \n",
        "       'Movie': ['Korea', 'China', 'China']}\n",
        "df2 = pd.DataFrame(dct, index = ['p1', 'p2', 'p3'])\n",
        "df2"
      ],
      "execution_count": 95,
      "outputs": [
        {
          "output_type": "execute_result",
          "data": {
            "text/html": [
              "<div>\n",
              "<style scoped>\n",
              "    .dataframe tbody tr th:only-of-type {\n",
              "        vertical-align: middle;\n",
              "    }\n",
              "\n",
              "    .dataframe tbody tr th {\n",
              "        vertical-align: top;\n",
              "    }\n",
              "\n",
              "    .dataframe thead th {\n",
              "        text-align: right;\n",
              "    }\n",
              "</style>\n",
              "<table border=\"1\" class=\"dataframe\">\n",
              "  <thead>\n",
              "    <tr style=\"text-align: right;\">\n",
              "      <th></th>\n",
              "      <th>Name</th>\n",
              "      <th>Age</th>\n",
              "      <th>Movie</th>\n",
              "    </tr>\n",
              "  </thead>\n",
              "  <tbody>\n",
              "    <tr>\n",
              "      <th>p1</th>\n",
              "      <td>Nhan</td>\n",
              "      <td>21</td>\n",
              "      <td>Korea</td>\n",
              "    </tr>\n",
              "    <tr>\n",
              "      <th>p2</th>\n",
              "      <td>Nhu</td>\n",
              "      <td>21</td>\n",
              "      <td>China</td>\n",
              "    </tr>\n",
              "    <tr>\n",
              "      <th>p3</th>\n",
              "      <td>Uyen</td>\n",
              "      <td>21</td>\n",
              "      <td>China</td>\n",
              "    </tr>\n",
              "  </tbody>\n",
              "</table>\n",
              "</div>"
            ],
            "text/plain": [
              "    Name  Age  Movie\n",
              "p1  Nhan   21  Korea\n",
              "p2   Nhu   21  China\n",
              "p3  Uyen   21  China"
            ]
          },
          "metadata": {
            "tags": []
          },
          "execution_count": 95
        }
      ]
    },
    {
      "cell_type": "code",
      "metadata": {
        "colab": {
          "base_uri": "https://localhost:8080/"
        },
        "id": "XolMzKpi_fqU",
        "outputId": "d835f184-6bec-466a-b3f8-655d2f4dc79f"
      },
      "source": [
        "df2.loc['p3', 'Movie'], df2.iloc[2, 2]"
      ],
      "execution_count": 98,
      "outputs": [
        {
          "output_type": "execute_result",
          "data": {
            "text/plain": [
              "('China', 'China')"
            ]
          },
          "metadata": {
            "tags": []
          },
          "execution_count": 98
        }
      ]
    },
    {
      "cell_type": "markdown",
      "metadata": {
        "id": "DrnjlqQ0-RwG"
      },
      "source": [
        "+ get item according to condition"
      ]
    },
    {
      "cell_type": "code",
      "metadata": {
        "colab": {
          "base_uri": "https://localhost:8080/",
          "height": 175
        },
        "id": "wNsN86x--GKN",
        "outputId": "8ac65a29-99da-438f-cfd0-2399e989ab70"
      },
      "source": [
        "dct = {\"Name\" : ['Nhan', \"Ben\", \"Quynh\", \"Mieu\"], \n",
        "       \"Gender\" : ['Male', \"Male\", \"Female\", \"Male\"], \n",
        "       \"Age\" : [21, 20, 20, 19]}\n",
        "       \n",
        "df = pd.DataFrame(dct)\n",
        "df"
      ],
      "execution_count": 93,
      "outputs": [
        {
          "output_type": "execute_result",
          "data": {
            "text/html": [
              "<div>\n",
              "<style scoped>\n",
              "    .dataframe tbody tr th:only-of-type {\n",
              "        vertical-align: middle;\n",
              "    }\n",
              "\n",
              "    .dataframe tbody tr th {\n",
              "        vertical-align: top;\n",
              "    }\n",
              "\n",
              "    .dataframe thead th {\n",
              "        text-align: right;\n",
              "    }\n",
              "</style>\n",
              "<table border=\"1\" class=\"dataframe\">\n",
              "  <thead>\n",
              "    <tr style=\"text-align: right;\">\n",
              "      <th></th>\n",
              "      <th>Name</th>\n",
              "      <th>Gender</th>\n",
              "      <th>Age</th>\n",
              "    </tr>\n",
              "  </thead>\n",
              "  <tbody>\n",
              "    <tr>\n",
              "      <th>0</th>\n",
              "      <td>Nhan</td>\n",
              "      <td>Male</td>\n",
              "      <td>21</td>\n",
              "    </tr>\n",
              "    <tr>\n",
              "      <th>1</th>\n",
              "      <td>Ben</td>\n",
              "      <td>Male</td>\n",
              "      <td>20</td>\n",
              "    </tr>\n",
              "    <tr>\n",
              "      <th>2</th>\n",
              "      <td>Quynh</td>\n",
              "      <td>Female</td>\n",
              "      <td>20</td>\n",
              "    </tr>\n",
              "    <tr>\n",
              "      <th>3</th>\n",
              "      <td>Mieu</td>\n",
              "      <td>Male</td>\n",
              "      <td>19</td>\n",
              "    </tr>\n",
              "  </tbody>\n",
              "</table>\n",
              "</div>"
            ],
            "text/plain": [
              "    Name  Gender  Age\n",
              "0   Nhan    Male   21\n",
              "1    Ben    Male   20\n",
              "2  Quynh  Female   20\n",
              "3   Mieu    Male   19"
            ]
          },
          "metadata": {
            "tags": []
          },
          "execution_count": 93
        }
      ]
    },
    {
      "cell_type": "code",
      "metadata": {
        "colab": {
          "base_uri": "https://localhost:8080/",
          "height": 143
        },
        "id": "7f3m67L1-3cj",
        "outputId": "ce87695c-4f04-414a-ad73-9a515ef44a0e"
      },
      "source": [
        "# filter the people with Age greater than 19\n",
        "df[df['Age'] > 19]"
      ],
      "execution_count": 99,
      "outputs": [
        {
          "output_type": "execute_result",
          "data": {
            "text/html": [
              "<div>\n",
              "<style scoped>\n",
              "    .dataframe tbody tr th:only-of-type {\n",
              "        vertical-align: middle;\n",
              "    }\n",
              "\n",
              "    .dataframe tbody tr th {\n",
              "        vertical-align: top;\n",
              "    }\n",
              "\n",
              "    .dataframe thead th {\n",
              "        text-align: right;\n",
              "    }\n",
              "</style>\n",
              "<table border=\"1\" class=\"dataframe\">\n",
              "  <thead>\n",
              "    <tr style=\"text-align: right;\">\n",
              "      <th></th>\n",
              "      <th>Name</th>\n",
              "      <th>Gender</th>\n",
              "      <th>Age</th>\n",
              "    </tr>\n",
              "  </thead>\n",
              "  <tbody>\n",
              "    <tr>\n",
              "      <th>0</th>\n",
              "      <td>Nhan</td>\n",
              "      <td>Male</td>\n",
              "      <td>21</td>\n",
              "    </tr>\n",
              "    <tr>\n",
              "      <th>1</th>\n",
              "      <td>Ben</td>\n",
              "      <td>Male</td>\n",
              "      <td>20</td>\n",
              "    </tr>\n",
              "    <tr>\n",
              "      <th>2</th>\n",
              "      <td>Quynh</td>\n",
              "      <td>Female</td>\n",
              "      <td>20</td>\n",
              "    </tr>\n",
              "  </tbody>\n",
              "</table>\n",
              "</div>"
            ],
            "text/plain": [
              "    Name  Gender  Age\n",
              "0   Nhan    Male   21\n",
              "1    Ben    Male   20\n",
              "2  Quynh  Female   20"
            ]
          },
          "metadata": {
            "tags": []
          },
          "execution_count": 99
        }
      ]
    },
    {
      "cell_type": "code",
      "metadata": {
        "colab": {
          "base_uri": "https://localhost:8080/",
          "height": 175
        },
        "id": "_bg_D7o7_ale",
        "outputId": "b6f83449-9eac-419c-fa36-b1fbc4894ce7"
      },
      "source": [
        "# filter the people with Age greater than or equal 19\n",
        "df[df['Age'] >= 19]"
      ],
      "execution_count": 100,
      "outputs": [
        {
          "output_type": "execute_result",
          "data": {
            "text/html": [
              "<div>\n",
              "<style scoped>\n",
              "    .dataframe tbody tr th:only-of-type {\n",
              "        vertical-align: middle;\n",
              "    }\n",
              "\n",
              "    .dataframe tbody tr th {\n",
              "        vertical-align: top;\n",
              "    }\n",
              "\n",
              "    .dataframe thead th {\n",
              "        text-align: right;\n",
              "    }\n",
              "</style>\n",
              "<table border=\"1\" class=\"dataframe\">\n",
              "  <thead>\n",
              "    <tr style=\"text-align: right;\">\n",
              "      <th></th>\n",
              "      <th>Name</th>\n",
              "      <th>Gender</th>\n",
              "      <th>Age</th>\n",
              "    </tr>\n",
              "  </thead>\n",
              "  <tbody>\n",
              "    <tr>\n",
              "      <th>0</th>\n",
              "      <td>Nhan</td>\n",
              "      <td>Male</td>\n",
              "      <td>21</td>\n",
              "    </tr>\n",
              "    <tr>\n",
              "      <th>1</th>\n",
              "      <td>Ben</td>\n",
              "      <td>Male</td>\n",
              "      <td>20</td>\n",
              "    </tr>\n",
              "    <tr>\n",
              "      <th>2</th>\n",
              "      <td>Quynh</td>\n",
              "      <td>Female</td>\n",
              "      <td>20</td>\n",
              "    </tr>\n",
              "    <tr>\n",
              "      <th>3</th>\n",
              "      <td>Mieu</td>\n",
              "      <td>Male</td>\n",
              "      <td>19</td>\n",
              "    </tr>\n",
              "  </tbody>\n",
              "</table>\n",
              "</div>"
            ],
            "text/plain": [
              "    Name  Gender  Age\n",
              "0   Nhan    Male   21\n",
              "1    Ben    Male   20\n",
              "2  Quynh  Female   20\n",
              "3   Mieu    Male   19"
            ]
          },
          "metadata": {
            "tags": []
          },
          "execution_count": 100
        }
      ]
    },
    {
      "cell_type": "code",
      "metadata": {
        "colab": {
          "base_uri": "https://localhost:8080/",
          "height": 81
        },
        "id": "LKvegnzb__zJ",
        "outputId": "9ddf3730-ce5b-4652-c831-90d45afdf299"
      },
      "source": [
        "# filter the people with Female\n",
        "df[df['Gender'] == \"Female\"]"
      ],
      "execution_count": 101,
      "outputs": [
        {
          "output_type": "execute_result",
          "data": {
            "text/html": [
              "<div>\n",
              "<style scoped>\n",
              "    .dataframe tbody tr th:only-of-type {\n",
              "        vertical-align: middle;\n",
              "    }\n",
              "\n",
              "    .dataframe tbody tr th {\n",
              "        vertical-align: top;\n",
              "    }\n",
              "\n",
              "    .dataframe thead th {\n",
              "        text-align: right;\n",
              "    }\n",
              "</style>\n",
              "<table border=\"1\" class=\"dataframe\">\n",
              "  <thead>\n",
              "    <tr style=\"text-align: right;\">\n",
              "      <th></th>\n",
              "      <th>Name</th>\n",
              "      <th>Gender</th>\n",
              "      <th>Age</th>\n",
              "    </tr>\n",
              "  </thead>\n",
              "  <tbody>\n",
              "    <tr>\n",
              "      <th>2</th>\n",
              "      <td>Quynh</td>\n",
              "      <td>Female</td>\n",
              "      <td>20</td>\n",
              "    </tr>\n",
              "  </tbody>\n",
              "</table>\n",
              "</div>"
            ],
            "text/plain": [
              "    Name  Gender  Age\n",
              "2  Quynh  Female   20"
            ]
          },
          "metadata": {
            "tags": []
          },
          "execution_count": 101
        }
      ]
    },
    {
      "cell_type": "code",
      "metadata": {
        "colab": {
          "base_uri": "https://localhost:8080/"
        },
        "id": "8xU8We-hAGSa",
        "outputId": "4b8ecd78-d531-4a26-cb6c-b779904b2a06"
      },
      "source": [
        "# get the name of the people with Female\n",
        "df[df['Gender'] == \"Female\"]['Name']"
      ],
      "execution_count": 103,
      "outputs": [
        {
          "output_type": "execute_result",
          "data": {
            "text/plain": [
              "2    Quynh\n",
              "Name: Name, dtype: object"
            ]
          },
          "metadata": {
            "tags": []
          },
          "execution_count": 103
        }
      ]
    },
    {
      "cell_type": "code",
      "metadata": {
        "colab": {
          "base_uri": "https://localhost:8080/"
        },
        "id": "JazSWFGSAQev",
        "outputId": "8f3f9ed2-db94-4f23-d707-f82946766b3b"
      },
      "source": [
        "# get the name of the people with Male\n",
        "df[df['Gender'] == \"Male\"]['Name']"
      ],
      "execution_count": 104,
      "outputs": [
        {
          "output_type": "execute_result",
          "data": {
            "text/plain": [
              "0    Nhan\n",
              "1     Ben\n",
              "3    Mieu\n",
              "Name: Name, dtype: object"
            ]
          },
          "metadata": {
            "tags": []
          },
          "execution_count": 104
        }
      ]
    },
    {
      "cell_type": "markdown",
      "metadata": {
        "id": "OFg8j3Q1Dw-t"
      },
      "source": [
        "+ add/del"
      ]
    },
    {
      "cell_type": "code",
      "metadata": {
        "id": "D5g7CGxzAYUF"
      },
      "source": [
        "# add --> append(axis =) (rows)\n",
        "df_add = pd.DataFrame({'Name': \"Nhu\", \n",
        "                       'Gender' : 'Female',\n",
        "                       'Age' : 21}, index = [4])\n",
        "df = df.append(df_add)"
      ],
      "execution_count": 109,
      "outputs": []
    },
    {
      "cell_type": "code",
      "metadata": {
        "colab": {
          "base_uri": "https://localhost:8080/",
          "height": 206
        },
        "id": "8veZi1ZKD4yi",
        "outputId": "c5a64fd5-7911-4e1d-82e1-8fef68cdb413"
      },
      "source": [
        "df"
      ],
      "execution_count": 110,
      "outputs": [
        {
          "output_type": "execute_result",
          "data": {
            "text/html": [
              "<div>\n",
              "<style scoped>\n",
              "    .dataframe tbody tr th:only-of-type {\n",
              "        vertical-align: middle;\n",
              "    }\n",
              "\n",
              "    .dataframe tbody tr th {\n",
              "        vertical-align: top;\n",
              "    }\n",
              "\n",
              "    .dataframe thead th {\n",
              "        text-align: right;\n",
              "    }\n",
              "</style>\n",
              "<table border=\"1\" class=\"dataframe\">\n",
              "  <thead>\n",
              "    <tr style=\"text-align: right;\">\n",
              "      <th></th>\n",
              "      <th>Name</th>\n",
              "      <th>Gender</th>\n",
              "      <th>Age</th>\n",
              "    </tr>\n",
              "  </thead>\n",
              "  <tbody>\n",
              "    <tr>\n",
              "      <th>0</th>\n",
              "      <td>Nhan</td>\n",
              "      <td>Male</td>\n",
              "      <td>21</td>\n",
              "    </tr>\n",
              "    <tr>\n",
              "      <th>1</th>\n",
              "      <td>Ben</td>\n",
              "      <td>Male</td>\n",
              "      <td>20</td>\n",
              "    </tr>\n",
              "    <tr>\n",
              "      <th>2</th>\n",
              "      <td>Quynh</td>\n",
              "      <td>Female</td>\n",
              "      <td>20</td>\n",
              "    </tr>\n",
              "    <tr>\n",
              "      <th>3</th>\n",
              "      <td>Mieu</td>\n",
              "      <td>Male</td>\n",
              "      <td>19</td>\n",
              "    </tr>\n",
              "    <tr>\n",
              "      <th>4</th>\n",
              "      <td>Nhu</td>\n",
              "      <td>Female</td>\n",
              "      <td>21</td>\n",
              "    </tr>\n",
              "  </tbody>\n",
              "</table>\n",
              "</div>"
            ],
            "text/plain": [
              "    Name  Gender  Age\n",
              "0   Nhan    Male   21\n",
              "1    Ben    Male   20\n",
              "2  Quynh  Female   20\n",
              "3   Mieu    Male   19\n",
              "4    Nhu  Female   21"
            ]
          },
          "metadata": {
            "tags": []
          },
          "execution_count": 110
        }
      ]
    },
    {
      "cell_type": "code",
      "metadata": {
        "colab": {
          "base_uri": "https://localhost:8080/",
          "height": 175
        },
        "id": "y9cTSSB9EfrY",
        "outputId": "6a59a93d-4fd6-4efd-bc1d-bfbd5bbcd01f"
      },
      "source": [
        "# del --> .drop()\n",
        "df = df.drop([3], axis = 0)\n",
        "df"
      ],
      "execution_count": 111,
      "outputs": [
        {
          "output_type": "execute_result",
          "data": {
            "text/html": [
              "<div>\n",
              "<style scoped>\n",
              "    .dataframe tbody tr th:only-of-type {\n",
              "        vertical-align: middle;\n",
              "    }\n",
              "\n",
              "    .dataframe tbody tr th {\n",
              "        vertical-align: top;\n",
              "    }\n",
              "\n",
              "    .dataframe thead th {\n",
              "        text-align: right;\n",
              "    }\n",
              "</style>\n",
              "<table border=\"1\" class=\"dataframe\">\n",
              "  <thead>\n",
              "    <tr style=\"text-align: right;\">\n",
              "      <th></th>\n",
              "      <th>Name</th>\n",
              "      <th>Gender</th>\n",
              "      <th>Age</th>\n",
              "    </tr>\n",
              "  </thead>\n",
              "  <tbody>\n",
              "    <tr>\n",
              "      <th>0</th>\n",
              "      <td>Nhan</td>\n",
              "      <td>Male</td>\n",
              "      <td>21</td>\n",
              "    </tr>\n",
              "    <tr>\n",
              "      <th>1</th>\n",
              "      <td>Ben</td>\n",
              "      <td>Male</td>\n",
              "      <td>20</td>\n",
              "    </tr>\n",
              "    <tr>\n",
              "      <th>2</th>\n",
              "      <td>Quynh</td>\n",
              "      <td>Female</td>\n",
              "      <td>20</td>\n",
              "    </tr>\n",
              "    <tr>\n",
              "      <th>4</th>\n",
              "      <td>Nhu</td>\n",
              "      <td>Female</td>\n",
              "      <td>21</td>\n",
              "    </tr>\n",
              "  </tbody>\n",
              "</table>\n",
              "</div>"
            ],
            "text/plain": [
              "    Name  Gender  Age\n",
              "0   Nhan    Male   21\n",
              "1    Ben    Male   20\n",
              "2  Quynh  Female   20\n",
              "4    Nhu  Female   21"
            ]
          },
          "metadata": {
            "tags": []
          },
          "execution_count": 111
        }
      ]
    },
    {
      "cell_type": "markdown",
      "metadata": {
        "id": "Xn--O6SkE1H5"
      },
      "source": [
        "+ sort dataframe"
      ]
    },
    {
      "cell_type": "code",
      "metadata": {
        "colab": {
          "base_uri": "https://localhost:8080/",
          "height": 175
        },
        "id": "aZx6aKNTEvKF",
        "outputId": "16a14e28-5053-4f3c-c9af-7bc72ffe918f"
      },
      "source": [
        "dct = {\"Name\" : ['Nhan', \"Ben\", \"Quynh\", \"Mieu\"], \n",
        "       \"Gender\" : ['Male', \"Male\", \"Female\", \"Male\"], \n",
        "       \"Age\" : [21, 20, 20, 19]}\n",
        "df = pd.DataFrame(dct, index = [1, 0, 3, 2])\n",
        "df"
      ],
      "execution_count": 113,
      "outputs": [
        {
          "output_type": "execute_result",
          "data": {
            "text/html": [
              "<div>\n",
              "<style scoped>\n",
              "    .dataframe tbody tr th:only-of-type {\n",
              "        vertical-align: middle;\n",
              "    }\n",
              "\n",
              "    .dataframe tbody tr th {\n",
              "        vertical-align: top;\n",
              "    }\n",
              "\n",
              "    .dataframe thead th {\n",
              "        text-align: right;\n",
              "    }\n",
              "</style>\n",
              "<table border=\"1\" class=\"dataframe\">\n",
              "  <thead>\n",
              "    <tr style=\"text-align: right;\">\n",
              "      <th></th>\n",
              "      <th>Name</th>\n",
              "      <th>Gender</th>\n",
              "      <th>Age</th>\n",
              "    </tr>\n",
              "  </thead>\n",
              "  <tbody>\n",
              "    <tr>\n",
              "      <th>1</th>\n",
              "      <td>Nhan</td>\n",
              "      <td>Male</td>\n",
              "      <td>21</td>\n",
              "    </tr>\n",
              "    <tr>\n",
              "      <th>0</th>\n",
              "      <td>Ben</td>\n",
              "      <td>Male</td>\n",
              "      <td>20</td>\n",
              "    </tr>\n",
              "    <tr>\n",
              "      <th>3</th>\n",
              "      <td>Quynh</td>\n",
              "      <td>Female</td>\n",
              "      <td>20</td>\n",
              "    </tr>\n",
              "    <tr>\n",
              "      <th>2</th>\n",
              "      <td>Mieu</td>\n",
              "      <td>Male</td>\n",
              "      <td>19</td>\n",
              "    </tr>\n",
              "  </tbody>\n",
              "</table>\n",
              "</div>"
            ],
            "text/plain": [
              "    Name  Gender  Age\n",
              "1   Nhan    Male   21\n",
              "0    Ben    Male   20\n",
              "3  Quynh  Female   20\n",
              "2   Mieu    Male   19"
            ]
          },
          "metadata": {
            "tags": []
          },
          "execution_count": 113
        }
      ]
    },
    {
      "cell_type": "code",
      "metadata": {
        "colab": {
          "base_uri": "https://localhost:8080/",
          "height": 175
        },
        "id": "_1HYrTFBFCL8",
        "outputId": "e9da881f-4a5b-4e53-98a5-d537addd8688"
      },
      "source": [
        "# sort_index()\n",
        "df.sort_index()"
      ],
      "execution_count": 114,
      "outputs": [
        {
          "output_type": "execute_result",
          "data": {
            "text/html": [
              "<div>\n",
              "<style scoped>\n",
              "    .dataframe tbody tr th:only-of-type {\n",
              "        vertical-align: middle;\n",
              "    }\n",
              "\n",
              "    .dataframe tbody tr th {\n",
              "        vertical-align: top;\n",
              "    }\n",
              "\n",
              "    .dataframe thead th {\n",
              "        text-align: right;\n",
              "    }\n",
              "</style>\n",
              "<table border=\"1\" class=\"dataframe\">\n",
              "  <thead>\n",
              "    <tr style=\"text-align: right;\">\n",
              "      <th></th>\n",
              "      <th>Name</th>\n",
              "      <th>Gender</th>\n",
              "      <th>Age</th>\n",
              "    </tr>\n",
              "  </thead>\n",
              "  <tbody>\n",
              "    <tr>\n",
              "      <th>0</th>\n",
              "      <td>Ben</td>\n",
              "      <td>Male</td>\n",
              "      <td>20</td>\n",
              "    </tr>\n",
              "    <tr>\n",
              "      <th>1</th>\n",
              "      <td>Nhan</td>\n",
              "      <td>Male</td>\n",
              "      <td>21</td>\n",
              "    </tr>\n",
              "    <tr>\n",
              "      <th>2</th>\n",
              "      <td>Mieu</td>\n",
              "      <td>Male</td>\n",
              "      <td>19</td>\n",
              "    </tr>\n",
              "    <tr>\n",
              "      <th>3</th>\n",
              "      <td>Quynh</td>\n",
              "      <td>Female</td>\n",
              "      <td>20</td>\n",
              "    </tr>\n",
              "  </tbody>\n",
              "</table>\n",
              "</div>"
            ],
            "text/plain": [
              "    Name  Gender  Age\n",
              "0    Ben    Male   20\n",
              "1   Nhan    Male   21\n",
              "2   Mieu    Male   19\n",
              "3  Quynh  Female   20"
            ]
          },
          "metadata": {
            "tags": []
          },
          "execution_count": 114
        }
      ]
    },
    {
      "cell_type": "code",
      "metadata": {
        "colab": {
          "base_uri": "https://localhost:8080/",
          "height": 175
        },
        "id": "9T-e_bqVFKrd",
        "outputId": "f25872fb-0cc8-46be-9533-472d43b76ecd"
      },
      "source": [
        "# sort_values(by = )\n",
        "df.sort_values(by = 'Age')"
      ],
      "execution_count": 116,
      "outputs": [
        {
          "output_type": "execute_result",
          "data": {
            "text/html": [
              "<div>\n",
              "<style scoped>\n",
              "    .dataframe tbody tr th:only-of-type {\n",
              "        vertical-align: middle;\n",
              "    }\n",
              "\n",
              "    .dataframe tbody tr th {\n",
              "        vertical-align: top;\n",
              "    }\n",
              "\n",
              "    .dataframe thead th {\n",
              "        text-align: right;\n",
              "    }\n",
              "</style>\n",
              "<table border=\"1\" class=\"dataframe\">\n",
              "  <thead>\n",
              "    <tr style=\"text-align: right;\">\n",
              "      <th></th>\n",
              "      <th>Name</th>\n",
              "      <th>Gender</th>\n",
              "      <th>Age</th>\n",
              "    </tr>\n",
              "  </thead>\n",
              "  <tbody>\n",
              "    <tr>\n",
              "      <th>2</th>\n",
              "      <td>Mieu</td>\n",
              "      <td>Male</td>\n",
              "      <td>19</td>\n",
              "    </tr>\n",
              "    <tr>\n",
              "      <th>0</th>\n",
              "      <td>Ben</td>\n",
              "      <td>Male</td>\n",
              "      <td>20</td>\n",
              "    </tr>\n",
              "    <tr>\n",
              "      <th>3</th>\n",
              "      <td>Quynh</td>\n",
              "      <td>Female</td>\n",
              "      <td>20</td>\n",
              "    </tr>\n",
              "    <tr>\n",
              "      <th>1</th>\n",
              "      <td>Nhan</td>\n",
              "      <td>Male</td>\n",
              "      <td>21</td>\n",
              "    </tr>\n",
              "  </tbody>\n",
              "</table>\n",
              "</div>"
            ],
            "text/plain": [
              "    Name  Gender  Age\n",
              "2   Mieu    Male   19\n",
              "0    Ben    Male   20\n",
              "3  Quynh  Female   20\n",
              "1   Nhan    Male   21"
            ]
          },
          "metadata": {
            "tags": []
          },
          "execution_count": 116
        }
      ]
    },
    {
      "cell_type": "code",
      "metadata": {
        "colab": {
          "base_uri": "https://localhost:8080/",
          "height": 175
        },
        "id": "tYX7jeN7FRDE",
        "outputId": "4d9c06bb-bd02-42c6-9bf8-9bbbb08d777f"
      },
      "source": [
        "df.sort_values(by = 'Age', ascending = False)"
      ],
      "execution_count": 117,
      "outputs": [
        {
          "output_type": "execute_result",
          "data": {
            "text/html": [
              "<div>\n",
              "<style scoped>\n",
              "    .dataframe tbody tr th:only-of-type {\n",
              "        vertical-align: middle;\n",
              "    }\n",
              "\n",
              "    .dataframe tbody tr th {\n",
              "        vertical-align: top;\n",
              "    }\n",
              "\n",
              "    .dataframe thead th {\n",
              "        text-align: right;\n",
              "    }\n",
              "</style>\n",
              "<table border=\"1\" class=\"dataframe\">\n",
              "  <thead>\n",
              "    <tr style=\"text-align: right;\">\n",
              "      <th></th>\n",
              "      <th>Name</th>\n",
              "      <th>Gender</th>\n",
              "      <th>Age</th>\n",
              "    </tr>\n",
              "  </thead>\n",
              "  <tbody>\n",
              "    <tr>\n",
              "      <th>1</th>\n",
              "      <td>Nhan</td>\n",
              "      <td>Male</td>\n",
              "      <td>21</td>\n",
              "    </tr>\n",
              "    <tr>\n",
              "      <th>0</th>\n",
              "      <td>Ben</td>\n",
              "      <td>Male</td>\n",
              "      <td>20</td>\n",
              "    </tr>\n",
              "    <tr>\n",
              "      <th>3</th>\n",
              "      <td>Quynh</td>\n",
              "      <td>Female</td>\n",
              "      <td>20</td>\n",
              "    </tr>\n",
              "    <tr>\n",
              "      <th>2</th>\n",
              "      <td>Mieu</td>\n",
              "      <td>Male</td>\n",
              "      <td>19</td>\n",
              "    </tr>\n",
              "  </tbody>\n",
              "</table>\n",
              "</div>"
            ],
            "text/plain": [
              "    Name  Gender  Age\n",
              "1   Nhan    Male   21\n",
              "0    Ben    Male   20\n",
              "3  Quynh  Female   20\n",
              "2   Mieu    Male   19"
            ]
          },
          "metadata": {
            "tags": []
          },
          "execution_count": 117
        }
      ]
    },
    {
      "cell_type": "code",
      "metadata": {
        "colab": {
          "base_uri": "https://localhost:8080/",
          "height": 175
        },
        "id": "UfjvemyoFXb5",
        "outputId": "9414f41f-2721-4862-9939-91ea597d5981"
      },
      "source": [
        "df.sort_values(by = 'Name', ascending = True)"
      ],
      "execution_count": 120,
      "outputs": [
        {
          "output_type": "execute_result",
          "data": {
            "text/html": [
              "<div>\n",
              "<style scoped>\n",
              "    .dataframe tbody tr th:only-of-type {\n",
              "        vertical-align: middle;\n",
              "    }\n",
              "\n",
              "    .dataframe tbody tr th {\n",
              "        vertical-align: top;\n",
              "    }\n",
              "\n",
              "    .dataframe thead th {\n",
              "        text-align: right;\n",
              "    }\n",
              "</style>\n",
              "<table border=\"1\" class=\"dataframe\">\n",
              "  <thead>\n",
              "    <tr style=\"text-align: right;\">\n",
              "      <th></th>\n",
              "      <th>Name</th>\n",
              "      <th>Gender</th>\n",
              "      <th>Age</th>\n",
              "    </tr>\n",
              "  </thead>\n",
              "  <tbody>\n",
              "    <tr>\n",
              "      <th>0</th>\n",
              "      <td>Ben</td>\n",
              "      <td>Male</td>\n",
              "      <td>20</td>\n",
              "    </tr>\n",
              "    <tr>\n",
              "      <th>2</th>\n",
              "      <td>Mieu</td>\n",
              "      <td>Male</td>\n",
              "      <td>19</td>\n",
              "    </tr>\n",
              "    <tr>\n",
              "      <th>1</th>\n",
              "      <td>Nhan</td>\n",
              "      <td>Male</td>\n",
              "      <td>21</td>\n",
              "    </tr>\n",
              "    <tr>\n",
              "      <th>3</th>\n",
              "      <td>Quynh</td>\n",
              "      <td>Female</td>\n",
              "      <td>20</td>\n",
              "    </tr>\n",
              "  </tbody>\n",
              "</table>\n",
              "</div>"
            ],
            "text/plain": [
              "    Name  Gender  Age\n",
              "0    Ben    Male   20\n",
              "2   Mieu    Male   19\n",
              "1   Nhan    Male   21\n",
              "3  Quynh  Female   20"
            ]
          },
          "metadata": {
            "tags": []
          },
          "execution_count": 120
        }
      ]
    },
    {
      "cell_type": "markdown",
      "metadata": {
        "id": "L3wx7LgsfmG1"
      },
      "source": [
        "+ anny()/all()"
      ]
    },
    {
      "cell_type": "code",
      "metadata": {
        "colab": {
          "base_uri": "https://localhost:8080/",
          "height": 112
        },
        "id": "VR-Ma_gLFaFs",
        "outputId": "ecffccf9-6a30-406b-8a38-9e84b558db9a"
      },
      "source": [
        "# in python, 0 is represent False, other value (non-zero) is represent True\n",
        "# see more in https://www.openbookproject.net/thinkcs/python/english2e/ch04.html\n",
        "df = pd.DataFrame({\"A\" : [True, False], \"B\" : [2, 1], \"C\" : [0, 0]})\n",
        "df"
      ],
      "execution_count": 128,
      "outputs": [
        {
          "output_type": "execute_result",
          "data": {
            "text/html": [
              "<div>\n",
              "<style scoped>\n",
              "    .dataframe tbody tr th:only-of-type {\n",
              "        vertical-align: middle;\n",
              "    }\n",
              "\n",
              "    .dataframe tbody tr th {\n",
              "        vertical-align: top;\n",
              "    }\n",
              "\n",
              "    .dataframe thead th {\n",
              "        text-align: right;\n",
              "    }\n",
              "</style>\n",
              "<table border=\"1\" class=\"dataframe\">\n",
              "  <thead>\n",
              "    <tr style=\"text-align: right;\">\n",
              "      <th></th>\n",
              "      <th>A</th>\n",
              "      <th>B</th>\n",
              "      <th>C</th>\n",
              "    </tr>\n",
              "  </thead>\n",
              "  <tbody>\n",
              "    <tr>\n",
              "      <th>0</th>\n",
              "      <td>True</td>\n",
              "      <td>2</td>\n",
              "      <td>0</td>\n",
              "    </tr>\n",
              "    <tr>\n",
              "      <th>1</th>\n",
              "      <td>False</td>\n",
              "      <td>1</td>\n",
              "      <td>0</td>\n",
              "    </tr>\n",
              "  </tbody>\n",
              "</table>\n",
              "</div>"
            ],
            "text/plain": [
              "       A  B  C\n",
              "0   True  2  0\n",
              "1  False  1  0"
            ]
          },
          "metadata": {
            "tags": []
          },
          "execution_count": 128
        }
      ]
    },
    {
      "cell_type": "code",
      "metadata": {
        "colab": {
          "base_uri": "https://localhost:8080/"
        },
        "id": "OUTOnyeWgaYE",
        "outputId": "17d24f7a-7939-403a-b0cc-3bfefbc2617f"
      },
      "source": [
        "df.any() # cols"
      ],
      "execution_count": 129,
      "outputs": [
        {
          "output_type": "execute_result",
          "data": {
            "text/plain": [
              "A     True\n",
              "B     True\n",
              "C    False\n",
              "dtype: bool"
            ]
          },
          "metadata": {
            "tags": []
          },
          "execution_count": 129
        }
      ]
    },
    {
      "cell_type": "code",
      "metadata": {
        "colab": {
          "base_uri": "https://localhost:8080/"
        },
        "id": "YPMsoDYGgmoQ",
        "outputId": "800dae57-d203-448c-a1d7-ce159723577e"
      },
      "source": [
        "df.any(axis = 1) # rows"
      ],
      "execution_count": 130,
      "outputs": [
        {
          "output_type": "execute_result",
          "data": {
            "text/plain": [
              "0    True\n",
              "1    True\n",
              "dtype: bool"
            ]
          },
          "metadata": {
            "tags": []
          },
          "execution_count": 130
        }
      ]
    },
    {
      "cell_type": "code",
      "metadata": {
        "colab": {
          "base_uri": "https://localhost:8080/"
        },
        "id": "z38vV5A5f4rv",
        "outputId": "04b4c93e-2433-437b-cc55-5c604f514799"
      },
      "source": [
        "df.all() # cols"
      ],
      "execution_count": 131,
      "outputs": [
        {
          "output_type": "execute_result",
          "data": {
            "text/plain": [
              "A    False\n",
              "B     True\n",
              "C    False\n",
              "dtype: bool"
            ]
          },
          "metadata": {
            "tags": []
          },
          "execution_count": 131
        }
      ]
    },
    {
      "cell_type": "code",
      "metadata": {
        "colab": {
          "base_uri": "https://localhost:8080/"
        },
        "id": "1PQwSLGBgSmD",
        "outputId": "7cc57f4a-3e2e-46ec-a214-57865e492000"
      },
      "source": [
        "df.all(axis = 1) # rows"
      ],
      "execution_count": 132,
      "outputs": [
        {
          "output_type": "execute_result",
          "data": {
            "text/plain": [
              "0    False\n",
              "1    False\n",
              "dtype: bool"
            ]
          },
          "metadata": {
            "tags": []
          },
          "execution_count": 132
        }
      ]
    },
    {
      "cell_type": "markdown",
      "metadata": {
        "id": "y_85ple3h63J"
      },
      "source": [
        "![image.png](data:image/png;base64,iVBORw0KGgoAAAANSUhEUgAAAsEAAAHNCAYAAAD/m6aSAAAABHNCSVQICAgIfAhkiAAAIABJREFUeF7snQe0FMXSxxsVJAgYMICCAQOCigkxIQqIWRGzmHPOAX3miDmLoj4TomLOEQMmFMEEBhAxIiBBQVSCzle/fl+Ps3NnZndn997dvVt1zp57Z6ZD9b/DVFdX1TTwhIySIqAIKAKKgCKgCCgCioAiUEUILFRFbdWmKgKKgCKgCCgCioAioAgoAhYBFYJ1ICgCioAioAgoAoqAIqAIVB0CKgRXXZdrgxUBRUARUAQUAUVAEVAEVAjWMaAIKAKKgCKgCCgCioAiUHUIqBBcdV2uDVYEFAFFQBFQBBQBRUARUCFYx4AioAgoAoqAIqAIKAKKQNUhoEJw1XW5NlgRUAQUAUVAEVAEFAFFQIVgHQOKgCKgCCgCioAioAgoAlWHgArBVdfl2mBFQBFQBBQBRUARUAQUARWCdQwoAoqAIqAIKAKKgCKgCFQdAioEV12Xa4MVAUVAEVAEFAFFQBFQBFQI1jGgCCgCioAioAgoAoqAIlB1CCxSdS0uswZPmjTbnHzyS8bzPJ+zVq2amgEDepkWLRYtM26VHUVAEVAEFAFFQBFQBOoHAioEl7gfBw/+1EyYMMPnAsH38st7qgBc4n7R6hUBRUARUAQUAUWgfiOg5hAl7N/ffvvLPP30Vz4HTZs2NDffvL1p337JEnKlVSsCioAioAgoAoqAIlD/EVAhuIR9PHTo5+avvxZYDhZddBFz/fXbmo4dly4hR1q1IqAIKAKKgCKgCCgC1YGAmkOUqJ8XLPjHvPzy16Zly8Zm4YUbmAsu2NKsv37rEnGj1SoCioAioAgoAoqAIlBdCDQQh6x/PbKqq+0lbe2sWXPNjBl/+jw0aGBMu3aLG/4qFQ8Bxbl4WGpJioAioAgoAopAfUKg4oTgceOmi9nAiKL1wT77rG26dWtny3vqqS/NSy9NyCi7f//NRThtWbT6KGju3AVmv/0eNxMn/ppR7imnbGL23XftotZV7oXdfvuH5pNPpmSwiVlIo0YLF8y64lwwhFqAIqAIKAKKgCJQbxGoOHOI2bPnmg8++KloHdKz58p+Wd9/P6tG2b//Pq9odbmCrr12RA0BmGc33/yB6dp1+apyjBs3bkYNzDEVKYYQrDgXfehqgYqAIqAIKAKKQL1BoChC8DdjJ5l3XhhTNFC22nU9s0L7+ukgNnz4d+axxz73serZcxXzzjvfWwe5efP+Nuec85q5995diyIEFq1DKrAgxbkCO01ZVgQUAUVAEVAE6hCBogjBY0d+a244/bGisf3gDa+ZQW+cWu8E4enT/zAXXfSmj1OHDq3MJZf0MK+8MsGcd97r9v748TPMrbeONCedtHHR8Ky2ghTnautxba8ioAgoAoqAIpA/AkURgl21j315kWm9YvoYt4/eNtxce/JQM/XHmeaILa+JFITbtm1psJ2No4EDR5o///xf2DGX5phjupjGjaOb2rnzcnFFFf3+Aw98ZpZZppn9LbRQA3PZZT1Nw4YLme23X818/fUMM2LEj7bOkSMnmW+//dWstNLiReehGgpUnKuhl7WNioAioAgoAopAYQhES4Ypy2wosW4bNW6YMrcxiyzyb9hiJwg/Me5is2iTf8tEgExyHrvrro9qCMF9+65pFl+8cWq+ipXxhBO6Gn5RlPQsKr3ei0cgCcukZ/El6hNFQBFQBBQBRUARqG8IFFUILjY4CMJ/zpmbIQQXu458yvv773+sxvaXX/4wfN0NTe2SSzbJpwg/LWV8992vZs6ceWaxxRqZpZduVrQoFPA5YcJM4XOO2BYvYlZcsaXVPudLRK+YPPl3G8d4hRVamDZtmudbRMnTw/9PP80SnOebJZZoYtq2bVEWG6KSA6MMKAKKgCKgCCgCVY5AWQvB5dI3OKzdc8/H5pFHxpqZM//y2cKkgQ9coF3M5Utvf/wx3zz66Of2U8mYO4QJQbVXr1XMQQetmyhcE1aMr805Wn755ua++3a1odfuvHO0efLJLzP4JF2nTsuYY4/tYjbaaPlwtRnXCNDweP/9n1oBOEi08fjju5ouXdrYeh588F9nyKWWaiI87ZFYdtqHRIs49dSXzZgxUzOKoE4+Mx0W8P/5xzPPPTde2vCJ+eabmRl56LNOnZY2++/f2fTo8W9kkLS8aT5FQBFQBBQBRUARqEwEVAjO0m8zZ/5pDjzwCeuwFiaErQ8/nGQOPvgpc9VVW5sttlgxnMS//uijyTbyw5QpmYJlMMPUqXPMkCGfWSH23HO7m623XiWyPGyef/vtX2G8efNG5ueffxch9znz/fe/ReYZO3aqfU65O++8RmQatNIIm7Qpij7//BdzzDHPitC/sTU5CfKAtrg2iE+54ExIBI0g0WacCsMCMG04/fRXaoRdc3nps88+m2rOOOMV0737SmKX3cN+slpJEVAEFAFFQBFQBKoLgX+NcKur3Tm3FsE1SgAOFoD29IIL3jCzZ0fHFMbRDQE0SQAOlofG+OyzXxXN87/a3iSGSY9wGicAu7wIlFde+Y415wgTz84449VYAThYxg03jDBvvvltuIhaub7llg/M88+Pzyi7SZNFzA03bGdWX32pjPv0w/HHvxArAIcZpA0I/frNxDAyeq0IKAKKgCKgCNR/BFQFlqWPEWw5QsdMYZNN2orWcGEbxQGThiDxed5hw74xffp0yLj/669/mf79X7UxgIOEE2DXritYe10+n4ymMyhEI5hdffW7ZtVVlzTrrZccwYL8/PjkMtpNvoCHdvO11ybaX5CIR/zyy1+bfv3WybiP9vn99/8XnSL4APOJbbdd1dpAo03GVAItcJQ5R0aBRbh4/PEvrBlKkIimcfXVvc066yxbo4ZBg0abTz/N/PocDpF7772WWWWVJax5x8MPj7U2wo7oS9q0xx4da5SnNxQBRUARUAQUAUWg/iKgQnAOfXvppT0zTBN6925vlltuMTNo0KiM3AhgYSGYNEGzATLgYMangRHMHCFEo3V+990f/HtoNhGEBw/uawXcbHThhVvZcGuOEF4xJQgL7F99Nb1GUUOGfFrjHrbJxx23kX+fjcBOO61hDj/8mRptqpG5wBt87GLAgLczSvlfWLledvMQJr7s9+CDn2XcXmqppvLhkT62rxxhCnLggU9ap0RH9977sdlttzXtZkdJEVAEFAFFQBFQBKoDATWHyNLPm2/eLtI2F2EwTERjCBJmCmEBFE1mWAAmT4sWi4qpwtY1IkR89dU0Od6vqaEN1409clAAds+jwslNm5ZpDoFWl0gQQWrXrqWYWHQJV2MF96BgXCNBEW5ge3z22cMM9ruO2AScd153s9VWK0XWgBYevIN05JEbZAjAPCMSx8knZ36IBA1xnB10ZGV6UxFQBBQBRUARUAQqHgEVgrN0YZyz27LL1gw5Fv5Ixwcf/GQ/hxykrbZaOUMDHHzGBz322y/TTIHn77zzr3Y4jt3u3aOd8ggJFqa5czNNM8JRF0jfs+fKsZpRNMwLL1x7QwentTBuRHPYccfVw03xr0ePnlzjWdeu0ZEwNtywTQ3NetiMokZhekMRUAQUAUVAEVAE6hUCag6RpTuJjxtFHJ03arRwhq0v5gtB+vLLaTWyZgtRhoAWpijzhXCa4JF/8Bm2wdgfE2bMUZjPcCg00rVvH//lPxzT2rVrUUN7HOYp7TWmIWF6//2frGY4zmRh4sTMUGjkf+KJL20fRRG4BAXtbM6PUWXoPUVAEVAEFAFFQBGoXARUCM7Sd82axX8BLxwWLBxlIBhT2FUTDukVrj5Kw0yYtmzEMX8chYXgcDrsacOUVB5pmzdfNJylVq8xC3nqqa/MrrtmOh66SqME57BTXRKD06fXjJiRlF6fKQKKgCKgCCgCikBlI1B7Z9qVjYvPfYNcPNJi2hoWkkmWrbxsz2OqyvjkdDhNmiaEo1mEy5w/P9OkIvy8Nq4HDhxpogR26po/P1MLn2/9YVOWfPNrekVAEVAEFAFFQBGoLARUE1yL/UV4rjCFnedyec7nfrNRWuGZcnHKC9OUKZlOfuHnfJyjNmnTTdvKl+mWl3jAI/xqCAN3xx2jazi2kQDN9ZRAdDTMJs48c7OcWWzRomZf5ZxZEyoCioAioAgoAopAxSGgQnAtdlkwBJqrZvTon2O/2EaaUaN+rsFRhw6tatwr5o0oPkeNmmT22WetyGqI3kD849oi7KL5Ah/Od0888UXGR0AefniMDWdG9Iog4QA4YcK/X/XDfrhHj1XMEkuocFtb/aTlKgKKgCKgCCgClYyAmkPUYu9tsEGbGo5cr7zyjZk0aXZkrTiv8dnkMG22WdvwraJed+68XI1oD2+99X3kl/IQLm+++YOi1h8ubMCAXvZjH9gyn3hi14zHYHTNNe+Fs0R+POOtt76rkY4bX3wxzVx++dtm6NCxNjQaGmYlRUARUAQUAUVAEaguBIqqCR568+um+eJNUyM45v3Mr5ulLqhMMqKFJM4wH35wNHfuAnPKKS/JMf+2Ztll//2IA/cvumi4+frrf7WZ5OHTwJgF1CbB56abrmAQfB0RQeLEE18wF1+8lUGYh/js8xVXvJPzZ4nT8hyM6MAX8NZfv7VBg+6Ir+vxURFMJhxtvXV7c9NN72d8Avm22z40bCD4aIYjnBcHDfowo608O//8LeVDIPEh2PwC9B9FQBFQBBQBRUARqBcIFFUIHnzNK/UClGI24thju1iBLRiiDEF3992H2k8xt23b0hD9YdiwiWbq1Ew7XOxaTztt0xoxbYvJnyvr6KO72HjEwQ9UwM+RRz5rhUg+F/3zz7MzhMza4COqzJNP3sQccMDjGXVfe+17hnBzaIuh1q0XM9ttt5p5/vnxfhHwf8ABT5rDDltfNMXLmFmz5on2d0wNAZiIHVtvvUpU1XpPEVAEFAFFQBFQBOopAkURgrfYqbNZbZ0VzPhPs3/ZrJ7iGNss4u3277+5ueSS4RlpiEbwzDPjYvPx4NRTN7Fa0LogNM7HH981wxHN1RsOH7buustZgT3OrKPY/K65ZqsaAi5fucOcIfhFvJNO2th8/PHkDL7QXl96aSb2Qf7YaJx9djfDh0qUFAFFQBFQBBQBRaB6ECiKTXDLpZqZ2147xQrCSjUR6NOng7nssp42gkEuhDnARRdtZfbaK9oxLZcy0qTZf/917CeRk74Gh/b12mu3MQ0bZn6EIiocXBoe4vLAF3bCQRo0aJRo0f910FtyySZm4MAdTNwHTsJl8wnrc8/tbk1WlBQBRUARUAQUAUWguhAoihAMZE4QXr2zCsJRQ6h37/bm8cf3kuP5zhk2qsG0TZs2tJEjHntsL7P99qtFFVPr9w46aF0zeHBf07fvmmKq0cIKnoR6I2IDgvktt+wQGVItLBQXm1FMFvr1WzujWGIGEzs4SMsv30I0xHuYI47YwMR9RQ8hH1tj2ql2wMXuKS1PEVAEFAFFQBGoDAQaeEKVwWr94RLE+czvN9/MNHPmzDNNmzYSJ7lmpmPHpRM/elFOCOy00xCxEf43VvAaa7QyDzzQt5xYtLyA8U8/zbZ219gPL710M4N5Ra5a+bJrkDKkCCgCioAioAgoAkVBQA0hiwJjfoXwBTdi80bF582vpOKlPu645w3mBK1bN7dOZvxWW20pey9MOPlNn54ZVoz05UjlhnM5YqQ8KQKKgCKgCCgC1YiACsHV2OsRbUZjOmJEpmNjjx4rmyuv3LpGahzSwp9VRoutpAgoAoqAIqAIKAKKQKUgoEJwpfRULfNJFIoXX/w6o5bXXptoTj/9ZWsPTPQEnNBGjpwkcYIzhWUiLBCeTEkRUAQUAUVAEVAEFIFKQUBtgiulp2qZTzTB/fo9ZubP/yfvmvbcs5M544zN8s6nGRQBRUARUAQUAUVAESgVAkWLDlGqBmi9xUEA29krrthanPQa5lUgH/zgYxZKioAioAgoAoqAIqAIVBICqgmupN6qA175CMYDD3xmXn99YuzHMJo0WcSst15rs8cenUy3bhpjtw66RatQBBQBRUARUAQUgSIjoEJwkQGtT8URh5evwvGXiBBNmjQ0LVsuaj9GgR2wkiKgCCgCioAioAgoApWKgArBldpzyrcioAgoAoqAIqAIKAKKQGoE1CY4NXSaURFQBBQBRUARUAQUAUWgUhFQIbhSe075VgQUAUVAEVAEFAFFQBFIjYAKwamh04yKgCKgCCgCioAioAgoApWKgArBldpzyrcioAgoAoqAIqAIKAKKQGoEVAhODZ1mVAQUAUVAEVAEFAFFQBGoVARUCK7UnlO+FQFFQBFQBBQBRUARUARSI6BCcGroNKMioAgoAoqAIqAIKAKKQKUioEJwpfac8q0IKAKKgCKgCCgCioAikBoBFYJTQ6cZFQFFQBFQBBQBRUARUAQqFYFFKpXxIN+TJk0yf/31V31oirZBEVAEFAFFQBFQBBQBRSAPBBo3bmzatGmTR47/Ja0XQjAC8BJLLJF34+tLhpkzZ1Z1++tLP2o7So+AzqXS94FyoAgoAopAvgiwdqchNYdIg5rmUQQUAUVAEVAEFAFFQBGoaARUCK7o7lPmFQFFQBFQBBQBRUARUATSIKBCcBrUNI8ioAgoAoqAIqAIKAKKQEUjoEJwRXefMq8IKAKKgCKgCCgCioAikAYBFYLToKZ5FAFFQBFQBBQBRUARUAQqGoF6ER2i0B4gusQXX3xhfv75Z7PccsuZNddc0zRp0iS22H/++cd8/vnn9vlqq61mFl10UT/tuHHjzLx588wqq6ximjZtGluGPigtAmPHjjWe50UyEe7TyES1cPPvv/82999/vx1P++yzTy3UoEUqAopAXSHAO4U57ahly5Zm+eWXNwstVDrdUzHWmGKUUVd9oPUoAtkQaCCCQLQkkC1nGT3/5ptvUocIe+aZZ8xpp51mfvnlF79FSy21lLn00kvNnnvuGdnKP/74w6ywwgr22VlnnWVOP/10P92GG25o4OeFF14wXbt2jcxf7Jsa1il/RFu3bm3mzp0bmXH48OFmrbXWinxW7JuPPPKI+e2338y+++5rFl54YQNfjL/x48cXuyotLwcEdC7lAJImyQkBNtPTp0/PSMsG97DDDjPnnHNOhvIkpwKLkIg1L80ao+tUEcDXImoVAdZulI/5UlVrgidPnmyOPPJIu1vnb4cOHczIkSPN0KFDzfHHH2822GAD0759+0RMr7/+eivAsMNXqjwE+vXrZ1q0aJHBeKtWreqsIVdffbUVeHfYYQez9NJLm+OOO05PEOoMfa1IEah9BFCmsLGdMmWKefnll80tt9xitcEXXnhh7VceqoGNdpo1RtepOu8qrbCOEKhqIXjUqFH2S3M77rijufzyyy3kBx54oOHYCkGY59mE4D///NOcd9555q677ortstdee828/vrr5tdffzUdO3Y0++23n2nevHlsen1QdwicccYZpm3btjUqZIN06623mnbt2lnNDfThhx+ap59+2myyySb2d+2115pll13W9O7d2zzwwAO2f3fZZRez1VZbZZT35JNPmvfee8/Mnz/fdOvWzfTp08c0aNDAPP/881YLDD366KNmt912s/8vskjmtEwaP9SZKx8ZTOmFIqAI1AkCJ510klWwQJ9++qnp0aOHGTRokDn22GPNMsssYxYsWGCGDBli3zcIy7yP1l9/fZt+1qxZ1kQK8zveGd27dzfbbrutXT8cxa0vwbVh1113Nf/97399Myu3xgTXOep8+OGHbT177723WXXVVW0Vuk75UOs/9RCBqjaHePPNNw2LA0Jv//79zfbbbx8pEIX7PWgOgQbvueeeM88++6zZdNNNTdgcgmMvhCkWrUaNGtkjeD7tN2zYMCtAFYP0CDd/FJ05BGYrwU8tLrbYYta0ZsyYMWaLLbYwG2+8sX0JQPfcc4855ZRTzNFHH22OOuoo07lzZ/vSwqJoxowZPhOY2Gy22Wb2mhfdgw8+aAVb0nHqcPDBB5trrrnG7L777oYxyD20z5TPCxB+qB/KNn5++OGHnPjwmdN/EhHQuZQIjz7MAwFnDvHuu+/6QjDZmePcY+O8zTbb2I3zO++8Y99Ds2fPtlpitMU777yz2XLLLc1XX31lBdM5c+YY/FE4pXRa5KT1xa0NHBHj44IfxIsvvmiFaLfGuHWO9RCBm3cb6xT18V7DLEzXqTw6XZOWDIG05hCls9AvGVT/VoxWbrvttrPaOGx7EWrWWGMNqw12gk82Ni+44ALTrFkzK0QHnSDIx6IzcOBAe8yNmcWPP/5oDjroIDNp0iRf85ytfH1euwjQ//S7+w0YMCCvCrH5O//88+2LaqeddrJ53dj56KOPrADMSwiHSbQ5jIW7777boIFB++tsmBCGw3bI+YyfJD7yapAmVgQUgVpFYKWVVrLl4zuCFhcBGMGUNQThGDr33HPtfe7hW/Ltt9/a98nKK69sXnrpJSuoZltfXCOop0uXLnYtijPbwymctY93E0I2wvgVV1xhi9B1yiGpf+sjAlUtBLPjZjeO0IJzW8+ePe1uG00eJgu33XZb1j5nB412kB31fffdl5EewZfFaq+99rLCDvZYOOFBH3zwQdayNUHtI8BJwP777+//eFnkQ5hLkB/hFo0O5EwcON6E0OYsvvjiNs3jjz9uXyrBiCJx9eUzfpL4iCtf7ysCikDdI4D5A8TJoHsPEFHokksuMYMHD7YnUVOnTrWaWej99983vXr1sidFd9xxhxkxYoQ9Wcx1fcHkgpMntM5xZngrrriiwT+CdQkTMSjXd5SuUxYupQpFoKptgtn94qzAzhxNMISNMDaWOAI88cQT9tg7Gx1zzDHWbouIEgi6jpwwhADkyP0fPD7PVr4+rz0E0ORH2QRH1RgVSIVTAEcNGzbMyMbxDOQiifB/p06d7C8Xymf8JPGRS12aRhFQBOoGAU6FIMwlECAhToYQhCFOI/mhtX3qqafMlVdeaX0K0PyincWcAoVLtvXl999/t+VhshW0IbY3Q4QphiNCeyKgow3OhXSdygUlTVOuCFS1Jhj7KJwUTjzxRL9/Gjdu7Ic2wz4UQvjBVopfFLF7vvjii61daDDUmjvqdkdc5OWIC8LpIFu5UXXpvbpBwDmOYFfnaPTo0XlV7o49cYZxdOONN9rxFiyXZ1ECdrbxkxczmlgRUARKjgCnjB9//LH1AcB/xK0RRxxxhHW65YeTNTbBmNd999135qqrrrJx7IlExGkS/iecPOazvmRrOIL5tGnTbDIEcwRyhPQw6ToVRkSvKx2BqtYEczzEEdQrr7xibbJYlLDbxT4T6tu3r/3LLh3tHYIRx1RRhIMcnrsuL2mIGoANF9792Bkj+HKkBRGSLZdyo+rSe7WPAOYFbG5++uknG7UBzcirr76aV8WMKV5aaHPwEMepheNONM+cNEDOLALNTvgDGdnGT17MaGJFQBEoCQI4r3FSw7vDxf8+88wzDUoWwqfdcMMNVsNLpCFs+9koo73ldPKEE04wmCoccMABVjBFEcNpI0J0tvWF90uuxAko7zAi23ACCh1yyCF+dl2nckVS01UaAlWtCcZDFvtMPPnZ/RLFgZ04x0E4CWAjlQ8RZi0Y3oqFg1BrOOARheC6666zwhR/nRNVPuVr2rpDgDGAoIpXNeHtJk6caA499NC8GMD+7qGHHrIOb5jLIAATe5owRM50AttzxgRHnmh9gqTjJy+4NbEiUJYIYMbw9ttvW9O7dddd19x+++3+WoJiBEdZBFuEXtYclDE4zLE24ENCqDNOGhGUiWl+88032y+b5rK+5ArIeuutZzW/2BxjRsGmHV8HR7pO5Yqkpqs0BKo6RFqwswhdhmcsNrs4JhSb2MXjdFcbZWtYp2L31r/lcSSJbVzQrjtNbWhw0AQ7E5tgGdRBDGFMceKoNsdPXJ3VeF/nUjX2enm0mbHHGsDGO0yY2uHIHbcOJa0v4bKC1+FQkAjA8BCOVU4eXaeSkNRnpUYgbYi0qjaHCHYaWjdMF2qL0PbxU6osBNDQxL148mkJmuU4oo6gQ2VUOh0/UajoPUWg/iCQpCBZcsklExuatL4kZgw9jNqkuyS6TuWDpKatFASq2hyiUjpJ+VQEFAFFQBFQBBQBRUARKC4CqgkuLp5amiKgCCgCioAiUBEIdOzY0TqDY2qhpAhUIwIqBFdjr2ubFQFFQBFQBKoeAYTfYplSVD2YCkBFIqDbv4rsNmVaEVAEFAFFQBFQBBQBRaAQBFQILgQ9zasIKAKKgCKgCCgCioAiUJEIqBBckd2mTCsCioAioAgoAoqAIqAIFIKACsGFoKd5FQFFQBFQBBQBRUARUAQqEoF64xhHoORqpmpvfzX3vba9uAjoXCounlqaIqAIKALlikC9EYJXWWWVcsW41vn65ptvTDW3v9YB1gqqBgGdS1XT1dpQRUARqEcIsHanITWHSIOa5lEEFAFFQBFQBBQBRUARqGgEVAiu6O5T5hUBRUARUAQUAUVAEVAE0iCgQnAa1DSPIqAIKAKKgCKgCCgCikBFI6BCcEV3nzKvCCgC1YLAyJEjzYABA8zs2bOL1uT77rvP3H///UUrTwtKRqA2+jC5Rn2qCCgCSQioEJyEjj5TBBQBRaBMEOjUqZMZOnSoGThwYFE4Gj9+vDnmmGNMhw4dilKeFpIdgWL3YfYaNYUioAgkIaBCcBI6+qzeIPD1118bz/PKpj2///67+fLLL8uGn9pg5McffzSTJ0/OKHratGmm2kKQXXzxxebcc881o0aNKgjmpk2bmscee8w0b968oHJc5ilTppghQ4aYLl26FKW8Sihk1qxZ5pNPPjFz5swpCbvF7sNgI/IdZ3/99Zf59NNPY3EAp3nz5sU+dw9Kiek///xj+3P+/Pkm+H9WpjWBIvD/CKgQXOBQ+OGHH0y3bt0KLEWzFwuBV1991SB8Benzzz83Rx99tGnQoEHqagi/svLKK5vXXnstdRkuIy+WNdZYw/xPN5wmAAAgAElEQVTnP//xy1qwYIE566yzzDrrrGO23HJL88gjj8TWgyBJWwoVoqmPFyd4bbHFFuajjz6KrTOXB+G5gNaSdr733nt+dgSvvffeO5fiyibN7rvvbvGO+73xxhuJvNLeNm3a2H4thBgjBxxwgOnfv7+58847CynKuPG2//77x5bFuKDN3377bUF1lVPmgw8+2Fx11VWmcePGRWUr1zlZrD5kzL311lsZbch3nH311Vema9eukTj8/fffZt111zXM6WxUW5hmq5fnf/75p+Vz6tSpGf/nklfTKAIgoEJwynHAIjFixAgrXLEAKpUHAqeffrp55513Mpg5+eSTzXHHHVcQg82aNTM77rijWXbZZQsqh8zvvvuuadWqldXqOTrxxBPNE088YW0+99prL4Nw8vLLLxdcV1IBCFMIOgceeKCtc7311ktKHvssbi6ccsop5qijjjJPPfWUn5fjYIi2VgpdffXVdoPA78ILLzSLLbaYf829DTfcMLEpq622mnnwwQfN448/npgu20PMINAkIvzccMMNBnOGtFTMstLyUNf52MC2aNHC3HvvvWbhhReu6+ptfcXC/bDDDjPfffddRhuKNc7yAaYcMM2HX02rCIQRqDcfywg3rLavESBuu+02ewyDhlCpJgJoK9ACLrXUUlb7xwvIES9yhMEll1zSbL/99mb55Zc3c+fONS+++KLZYYcdzCKL/G9oTpw40fz8889m0003teYMTz/9tH2OxpfjZYSqXXbZxWqs3nzzTfPbb78ZnE/WWmst+2zs2LEGLe5OO+3k182x2bPPPmuP0Zo0aWJ69epltQlffPGFQVMZ1NghiPJyWWmllWw6/kIcp6Kt/f7770379u3NHnvsYRo1alQThIg78BjEguu7777bPPfcc2arrbayOdBe33rrraZ3794RJfx7C4F/woQJZqONNqph24kGj40adW2++eYZdVICWp7NNtvM/qI0QmBP+Qh9W2+9tWEjEEVJc4G6w5p5NiWXXnqp2XXXXaOKK7t7rs9h7OOPP7YCFOPFEZp9xvoGG2xgXnjhBTvunLA/ZswYM3r0aIPQ0q5du9i2kYa5EKwLIWfGjBn+5mTnnXc2iy++uMWTuZNkFgFPr7/+ut2gr7nmmmb99dfPqJv5sPTSS9uy6OPgeIxikrnJXN544419LSpjf/r06Wa55Zazc4xx5Cg49rjfsmVLM3z4cGsKw3ynTsYkPKLFY/ytuuqqGVVzVM8mY/XVV7c/6kgy3Yhbb4LznX757LPPMvovLl+QGdZ5eKb9r7zyinVOZD1YZpllasCVNCeZ32DBOHr00Uft2gK58rNhQlryogFlvRo3bpxZccUV/b4BYyipb2yCCHLrb+fOnU3btm1tCrBjEwtmrKlurc2GKXlzwTXbmp7tnRDRDL2lCOSHgAzCiicRAkrWhnvuuccTx5KS1U/FpWx/XMNPPfVUT7SmnhyVWXxkofbkhW6Tn3HGGZ68CLyDDjrIEyHPkxe7Jy9YT+xHMdr1fv31V7/Ym2++2ZOXjb2Wo0T7/PDDD/dEqLZli2bMu+iii+zzCy64wBNBwuvevbv30EMP2XvnnHOOd/zxx9v/HcmRsicvL0+0rd52223niVDjifDtyYvb8iUvZptUNHeeHGN78qL36xbbYk9egJ68lL21117b8iAvDE+ExEANyf+KFtSTl52fiPpEgPbkRejfkxePJ0JKZEG//PKLxUE2BvYnQrttw8MPP+ynv/zyyz0RXr0+ffrYNLTjgw8+8J+LUGb7Z99997W8L7TQQp5ECfCf33jjjZ4cGXvy0vPzi1AcyY+7GTUXLrnkEk+0wRn5RHPsLbroop4IYInlleJhtrkkmxU7RoIkmzTbH2IW5YmG32IKZcM4WMZpp53m9ejRI6NcxqacbNh7Yv5gxzr9wfhmzMkmLiO9uxB7c08EFk8ENq9fv3627/v27eunzTY2XELZJNl20e/B/91zyhEB17vjjjtsu4P33djjeevWrT0R2r1jjz3WjjU3frfZZhvLI+OT8ce8cHT22Wd7IuR7u+22mycmNZ5sMDwRYP3n4X+S1pu4+U4ZSfmCdTieN9lkE09OhCye8Ccbb5sslzmZNB5ywcTxw5hgLIjplMc8zadvgm0SYdrOcUjsgz3ZnNgf/7u1lrV3n3328ddaMZ+y6ZMw5XmuuGZb07O9ExjrjFHWkuD/lkmlqkIg29odBwbatYqntI0vRsOjXvzFKDefMkrZ/ig+WVwR6hAYIYQ7hGAEWtFeWIEtKJDxcuRlmW3BcwumaB79asWu1ePF5Eg0dL4AzD1esLwoHImGzAoIojHx7/GiPeGEE+z1XXfd5Ylm3xMtnCcaLu+ll16y913dtOn555+3QhyLLiQaaW/bbbf1RDvsIeC9/fbbkT+EZ+j222/3RJtt/4fkqNzWFSTR4Hqi3c4QjN1z98JEUHDEC7Znz572UjRoNu+wYcP85yeddJInGkHLH+NFtPN+/5CIPnD5eaE0bNjQe/LJJ/38vBxFg+tfR/0TNRduueWWDAHM5YOXwYMHRxVT0nvZ5lKSEMyLH2KMZcM43EjR/FtB0G0MmAtyGuLJSYb3008/eaKFtxs1R2zuRHsaLsZeyymH3eCIts5ei7bQbvbYXGYbG8ECcxWC2SSKZtlmjSpfTH3snBIHKruBdeP3zDPP9KsTkxx/s0sZrBFyomOfI5SJyUmsEJy03iTN96R8QRz43/HMZsUR888pQLLNyWzjIRsmYX7k9MnftCYJwcG+CZfhhGDwZXwg3Ivm1SZz6534LfjZ2NCy0UvClMT54JptTc/2TlAhONyr1Xudbe2OQ0bNIfJTnGvqHBDgiBPzBcwEIEwbROg18pK35gwdO3bMONYUjbA9ZsRpJBcSodVPxvEmx5NxxBEqR6mORLizR3uQCBfWXIBjV46GoUMOOcSI8GePoEWLFmmOgPkLdrCiYbbpMUXgGBzC41peFvb/MIkwbo9CRfizJh2OOPKDryCBmUxaayLiTEPC5QVxgN/333/fJhHB3R6Bi2bRzyJCvrn++uvtMekqq6xij8n/+OMPe9zMsSo/riH6j2N3jj4d0W9p7ChFa2ntnDFdwVzAEcfAab/17hdSZv84vOjLbBiHWae/OOonWgN27dgQgxdzhf/BniNwxiaETTn9jSkNYypImBXgsS8bM4NTnwg4RjZuNkm2sRE0x8goNOGC43lnF035hFwLjz1smJlP/HUkpxT+/5hruEgFlCGnLH6ZsuE0OF9hHhRFSetN0nxPyhdVD/eOOOII/xHr1mWXXWbNijCrguLmZK7jIQ6TOH6y3Q/2TVRazBqoEzM02bzXMOkKmiytsMIK1mwjCVPqSINrPmt6VDv0niKQFgF1jEuLnOaLRQAbP17SQcJ2jnsIX9gIB4n7CJXYP4aJRTpMSyyxRPhW7DVCQtBuj/LEbMLew9GNBRt75CDxUoCXOHtcXvIIjwgm2FaS//zzz7dtwOscgTjqh+CHMIkgigDtCJvKcNgwrrHFjbPDJS9OUo7YYDissFd2Qr177q4JWQafRx55pO0HBBPso6kHoRsCs3AfpRGAKYtNCjhed911Pq/8Q5tFM5lxr9Iv5Njfb0I2jKPayoaKDRLEBywQ/CBs4rF5F027/2PcInTTV2EiIgd2qWAsGmNri4zjI+Mi29gIl5V0zXjB9hf+CAEHUX7YTtaNPdH8ZvhPsNFyFBy/CPBhwT5pzietN0nzPSlfXLuDbXM8Bfsgbk7mOh7iMInjJ+5+VN9EpcV2nHHLWMN5GD6DFOTH3U/ClDRpcE3q3zDfUe+EcBq9VgRyRUA1wbkipelyRoCXLpqFIOEEgkaHZy5mLy92COcOXh7uZRnUCCMwFkKUiYORi3yAtgPNJBoS95EABEJHkyZNsiGoeCGIiYBBkxl2QHI8iS2kEdMGK0gjDFMH2jec5KIIQZCXDenFjtnyASG0EDcYXJxzEEJ22o8YoKkWsw4r1DqMXSQBQnWJ7bDVOOI0iIYKIlwaLy+IPgIHXohO+KU/CalEFIt8CGdFfpwEBAnhyTkB5lNepaTNhnFUO3AexWkQbS+aeRdKjv5ASCSaiOsPNkk4dtKfYcLZDeGGKAiMAZzocEaDp2xjI1yWu3b1Uq4jNrRojtlIOaJ8wrchqMAzxPyGctUys1lk/AbHX1I4wKT1BmE6br4n5Qs60vqNk39YSwhjCDFfwQUnMjSkSZRmPCSV5+Y1aXLtm6jycOYFa8YT6w2aeqK6JFG2NTQNrkn18ayY74Rsdenz6kJANcHV1d910lpeILy0OMaFiDIgtoBW8yfOMFZbdO2119pn3EMzywsfYZMXJwKzy+c0Y/ZGjhT8rCzHycFQUgh6aGud8IA5BOG6XPB8tHGEJ7vpppvsS0HsPGvUSmQKjnsxp4BfBFeEeI5EeamI3WDkD80cLywwIBqAI4QDcW4zV1xxhb2FFnrQoEG+JrAGA1luYGpBe6655hqbEjMHYhLjpc8LCszBwGl7EVL4fC6mFxBtQwvt8qOZI3+Upj4LK+bDDz+05iJhTQ910jf1lbJhHNVuIjSIw5X9ihvH0E4biiadcXXeeedZoRaBi80I6aI09Ai9jAHMTRCWxB7f/qW/s42NKL64x2kN/BHBBEIARLALE6crjD3CykGYcDB22PCET1zCed01R+MIwGzMiD7BplH8CeKS2w1o3HqTNN+T8sVVRog88KddnP5wahTWWkflTTMeospx91AosJFkbufaN1HlsX4xNohMwprMGMumeEjClDrS4BrFG/dYh4rxTogrX+8rAuoYF2ctneP9KGegHLMWLVlag/CiMRBRkGitbNQHHLBw0sJxS7RDNiXOZkRnEMHIOtDhJS5aJfsMZxnSi/2ZdeS68sora0SHcA53pMe5CqcZRzir4NTlnMZEkPNEsPWfy0vDOuGJwGqd0URA80T7Yb2kqU8EWo80kLxkbIQF+A06xskL0Ea1kOXDRnDAgUniRfvt8yuL+QeHs2B0CJLhiCdCoXVowgkKnqkzipwTDU6GjiT+aIbjEI5/tAWvfTzJcXrDgQbCQQkM6B887kWD7eHpT70iwNg0OOYRAYP2gQERD5zTjF9p6J+ouRAVHQL86PdgFJC4Muv6fra5lOQYJ5stn91cMI5qm8RdteNK7NwzHhM9hfHJnOFHn4ngF1WEHYeMR8a4bLBsFAOc00SwtOmTxkawwLDDFWOMMpnTOLoSpYBxFCYRWj05YfDHHhEGcO5zFDV+ZdPpSWguPw2Os0SEYF7i+CoCv72Oo7j1Jmm+46gbly9cj+NZzEpsBBrmhIt0QdqoNgXnZLbxEJU/jEmQJyLhME6cQ2KufRMswznGBe/RVzjIBdc795z5TTSPbJiSPldco+oJr+lJ7wR1jAv2XnX/n23tjkOnAQ8qfS+AxsMd61Z6W9LwX67tR5uDxgiTBDQNQeK4FL6xOQvbDxOrF21S2j4lL5pOtGTYwGKmIBPEt6FlyKOdRnPr7DhxaEO7EjxmzNYX2EKiqeI4NBdtkCuPuJtoysJffOI5x61gkk95SXyCJY51YRtf8vAMpx7wjzuqJg1a7rBJSFKdwWfEA+Z4no8EOCImMjbTfFGu3KjYcwn80OKGNeFp2814Y16F7W6jykNLSP2kjbItTxobUeVxj2NpTkBwkorSQgfzoZFmTgUdIuPKDd5nXhEnWzZu/m00lDhXOk10VDlx6022+R6XL1gHph+sY5ip0HawzaUPwnwWczxwQsM6x/iC8umbMF/5XmfDlPJywTXXegt9J+Raj6arXATSrt0qBFdun/ucp+38etD0nJrAhwp4EfN1v3IgXuZ77rmnfdEjJJSSCPiP0O1MUIrJCy9KzGCwEw1+IppNCbbUmEmUG+lcKl6PpB1bHMdjYoRtMYIwtuv77befkdMKc+ihhxaPwTxKCgrBaW3186hOkyoCikCeCKRdu9UxLk+gNXnlIYBjDM5qfMI3H01vbbWUcFBouflKFg56pSRsn+NCsBXKFw422HPiaOgIJznC55WjAFxoezV/JgJpxxZ263yNkXkrH9axnypHE1wqAZhWERaM+epCoWlfKwKKQP1AQDXB9aAf0+6A6kHTtQmKQFER0LlUVDi1MEVAEVAE6gSBtGu3Roeok+7RShQBRUARUAQUAUVAEVAEygkBFYLLqTeUF0VAEVAEFAFFQBFQBBSBOkFAheA6gVkrUQQUAUVAEVAEFAFFQBEoJwRUCC6n3lBeFAFFQBFQBBQBRUARUATqBAEVgusEZq1EEVAEFAFFQBFQBBQBRaCcEFAhuJx6Q3lRBBQBRUARUAQUAUVAEagTBOpNiLQ6QUsrUQQUAUVAEVAEFAFFQBEoOwTSfGW23nwsI03jy64HUzKUNj5eyuo0myJQbxHQuVRvu1YbpggoAvUYAdbuNKTmEGlQ0zyKgCKgCCgCioAioAgoAhWNgArBFd19yrwioAgoAoqAIqAIKAKKQBoEVAhOg5rmUQQUAUVAEVAEFAFFQBGoaARUCK7o7lPmFQFFoFoQGDlypBkwYICZPXt2qiZPmTLFnH/++ebmm28206ZNS1WGZlIEFAFFoD4hoEJwfepNbYsioAjUWwQ6depkhg4dagYOHJiqjUsssYTZbbfdzMsvv2xOPPHEVGVoJkVAEVAE6hMCKgTXp97UtvgIfP3118bzvLJB5Pfffzdffvll2fBTW4z8+OOPZvLkyX7xaBxnzpxZW9VVRLkXX3yxOffcc82oUaMK4rdp06bmscceM82bN09VTqNGjcz8+fPNmmuuabXBpaZZs2aZTz75xMyZM6fOWClFnXXWOK1IEVAE8kZAheC8IftfhqlTp5ojjjjCdOzY0ay33nrmnHPOMX/88UfK0jRbMRH4/PPPzdFHH20aNGiQuljCray88srmtddeS12Gyzhv3jyzxhprmP/85z9+WQsWLDBnnXWWWWeddcyWW25pHnnkkdh6ECRpS6FCNPUhkCGobrHFFuajjz6KrTOXBz/88IPp1q1bRlI0lbT1vffes/c5gt97771zKa5s0+y+++4W/7jfG2+8kcg77W/Tpo3t50KIMXPAAQeY/v37mzvvvDOxKHh66623MtKQ/6STTjK33XabFaZLTQcffLC56qqrTOPGjYvKStLczaXOKOyCDBZrPha10VqYIqAIpEJAheBUsBmzxx57WKGEo0kEC14qhxxySMrSNFsxETj55JPNcccdV1CRzZo1MzvuuKNZdtllCyqHzO+++65p1apVhuDBcfQTTzxhbTz32msvs//++9tj6tokhCcE4AMPPNDWyeYtDf39999mxIgRdqMRti095ZRTzFFHHWWeeuopWzRH+BBtrVS6+uqr7YaB34UXXmgWW2wx/5p7G264YWLTVlttNfPggw+axx9/PDFdtoesNWiDEW5vuOEGM378+Ngshx12mPnuu+8ynueTP7bgIj1gc9miRQtz7733moUXXrhIpf6vmLi5m2udUdgFGaT/wXK55ZYrKt9amCKgCNQ9AvXmYxl1CR2ahuHDhxuO3Nu3b2+rZuHt1auX1dCwSCplIsCRJ9rO77//3mLGJoLj2blz55oXX3zR7LDDDmaRRf43HCdOnGh+/vlns8kmm5inn37abLPNNlao4qW+7bbbWu3pc889ZwUR/t955539ysaOHWvon5122sm/988//5hnn33WHr02adLE9tO6665rvvjiC6upDGroEEQRWlZaaSWbjr9QHP+59PNvv/1mX/iOuL777rttG7baait7G+31rbfeanr37p1Y5DvvvGMmTJhgNtpoI9OhQ4eMtN9++60VTqlr8803z6iThGhuN9tsM/vr2rVrjXrAnfIZv1tvvbUd01GEMI02kaN1tOVhon6EbUdsSi699FKz6667hpNWxLUbAzD78ccfW6GN8eMITT/aww022MC88MILVvB3wv+YMWPM6NGjDYJVu3btYttLmiWXXNIfbyRkvM+YMcPfrDDOF198cYstG6s4swh4/PPPP+34HjdunFl99dVtvcyJpZde2uann+kn+pD/GS+vv/664YSLsbHqqqtm8Prpp5/a+UZZ/JhjXbp0iW0PeHAasNRSS9mTADf+g3MRjD777LMMLCkwLm9UZeDNvIYX+oT/mVPBuZtLna7sMHb0PVgH+5b2M/dYv5QUAUWgwhEQu8mKJxEK6rQN1CfmDxl1ivCEAar366+/1ikvVFbX7c+3geLN7smLw1t77bU9OY702rZt64mQZYsR+9EauIm9oicvMU+Ob+0z0ch6xxxzjNezZ09PNGGeOPd4ffv29fr16+eJ4Ow98MADPkv0y/HHH5/Bohwhe8sss4wn2lZvu+2280SI8UTw9kRo9Fq2bOnJy9+mF02dJ8fW3vTp0/26ZaPjJfGfUVHMhWhBPREy/KfUJy9QTwQQ/54I+Z4IKJEl/PLLLxaHTTfd1P5EaLdtePjhh/30l19+uSfCq9enTx+bhnZ88MEH/nMRwjzRanv77ruvxX6hhRby7r//fv/5jTfe6MmxtLfLLrv4+UUojuTH3bznnns8EQZqpLnkkks80Qb790Vz7C266KKeCF810pbbjWxzSTYvdswESTZstn/ENMQTjb/FGMqGebCM0047zevRo0dGuYzV008/3d6TzbUd+/RP9+7d7RwSgS8jvbsgD2llg+jRr1Dc+HBjSzaa3sYbb2z7nrHBmHV09tlneyJw23knpi6eCISeCLCRdXPz1FNPtWONuc74WHHFFT0R5m36uLnoCkvKG64QfEUb6x166KGeCMAebVhrrbUy5m4udQbLDWMX1bcOM9lkhFnSa0VAESgRAtnW7ji2cB6qeErb+GI1nIVSjpY9OWIuVpF5lVPq9mdj9vnnn7dCkDiH2aTiIOSJRtcT7WpOQrAcPdp8CMUIik7I4J5otzw5lrfPIV7i7sXPtWjp7ItRNPcuiX2Zn3DCCfb6rrvu8kSb6YnWzb5QX3rpJXvfCeAIwUn8I+C9/fbbkT+EZ+j222/3RNNt/4fkaNzWFSTR4Hpic5ohGLvn7qWLMOIIAYBNASRaOpt32LBh/nOx/fTEAcqDP8aHaOQ82uLo2GOP9fMjnDZs2NB78skn/efbb7+9Jxpc/zrqnzgh+JZbbrGblCDBy+DBg6OKKat72eZSkhCMAAcx5rJhHm60nARY4dNtFNgcssGTkw3vp59+8kQrbzdujtjsicY2XIx/Lact/iYnaXzISYgV4M8880w/r5jL2E0oRF42XBKezV7/9ddfnph/xArBokm1Gzw31tjoIQSzsc02F5Py+sz9/z/MF9YUt1GjbAThsBCcrc5wuVwHsXNCcLBvVQiOQk3vKQKlRSDb2h3HnZpDFKDJ55gN2zBib8pL38jLv4DS6m9WjsyxIxUNrbWb5iifY0wol5inzvmKY2hMKXDqcoQTlmjf/WuOad3xLzdFuLNHrpAIE9ZcgKNdjoUh+BHhzx45i2Y50hwhiX8RCoxoPm1ZYRJh3IjW0IjwZ809HGECAl9BwhREJqk1D3FmIeHyCG/lCH7ff/99eymCu/X4F02i/1yEfHP99ddb85NVVlnF2u7iuMmRNsfk/JwjJ8fgHLOLltHPjxlKWltN0VRaW2eiIXCMDGFikvbb7j5TZf6Pw4++zYZ5uCn0H0f6Q4YMMaKNtDbEYIfjLf/TF5g4MFYhbMzpf0xrGGNJlG18kFdOEPwi1l9/fTtHIPLKCY5v9yyCp8G5DNOdKGIsyUbUNxNjLMuJhBEBP+tcTMobrou0rAPOVAXMMbtgrgUp2/wPlxt3HezbuDR6XxFQBCoPAXWMS9lnhIFiEeZlwMI7aNCgGoJNyqLrXTbs5xC+eJFjl7j88svbjQOCcRSxuQhSWCgMXwfTIhSI6YN/i7IuuOACew9HN16e1B8kBABsL+PscZP4x7MdgT7qh+CHMIkgygbAEQ414bBhXGOLG2eHS16cohwhVDicsFd2Qr177q4Zp+B85JFHWvtMBH3so6kHoRsCM54FKa0ATBnYeoLldddd5xdJm4OblYzK6slF69at/ZZkwzyqyWzInBAnpipW2ISwjycyhWje/R/jGMGMvstG2cYH+dkEOQqOLUKKhYVs4g3HETbFCOhBYu5xL9tcTMobro+04TEbviZPtjrD5cZdB/s2Lo3eVwQUgcpDQDXBKfqMhVWOi62W5pVXXrHOVkrxCCAEQnfccYcR0wAriCIMo83E+Q0ifJMjl96/kcc/CH84FLnIB2KqYLWSOLw4RzIEQkeTJk2yIaeIJiEmAgYtZtjhKIl/HPVw8osihEAEGdp70UUXWT4gtNfEDcax0jkgsUkIO7pFlRl1D021mHVYodaFhXORAwjNJbbDVsOI0yAaSohwaQgSEA5b4IDg5oRfnBW/+uqrVB9VePPNNw0/NICOcNpzToD+zXr8TzbMo5qOJhMnQrS9aOpdaDn6B8GUCDSuf9g04QRG/0ZRMDxgtvERld/dYyPH2AqOjaRQffDK2AnSo48+atAgI0wnzcWkvEFHV8ombTgEXNRJQ7b5H9X2IHZRz/WeIqAI1B8EVBOcoi9fffVVg9c3oaY4NuRY0v3itJspqqk3WcCLo3rMEXiZI/ih1WTzgPaTe7woISIUhI808wGCjUkwdBSCHtpaJyxgDkG4LhegH+0b4cluuukmK4SK7V+N6pL4x0NcnJoif2g/EVqIboH3vyOOcIlIccUVV9hbaKE5SXCavxoMZLmBqQXtueaaa2xKzByISUwUCIQFNLBg4DRlRAy47777rOkFRN/QDy4/2j/yw1ca+vDDD63JS1BjSJ30TbVQNsyjcCCCAmZV4gRqI2k4DSxadcbZeeedZzc6RHQgxB7p4jT2CJ1sPBgL2cZHFC/uHiY4rGlsmsRh1G7okj60gbCKkIwJB8R8Pvzww+0YzDYXk/KGeQQnzJyIS+lgFIoAACAASURBVA2xoSTiSpiy1RlOz3UQu6jnek8RUATqEQJxxsKVdD+tQXTaNorwYp1Jon4aHaImqmLL6MmL3OKFYxsOPziziUbdJsYpB8euFVZYwTpzXXnllRnRIeSl6heKBzue8o7wqsdJzJEIcp4Itv61CAGeCIOeCNzWGU2EM09irNpICNQlArlHGohoEURYwDku6BiXjX+/sph/cDgLRocgGY54IhRaL3qcnuCZOqMoyhEHZ8Gghz6Of7SF6AREBsBpTkKi2eJEqLUYyJG3zYMTJ9ECqBfnRAhHIyJ40D9ggPOhCMlR7Pj34hzjwtEhwA9nqVLMjcQGRDzMtpYkOcbJ5ssvMRfMI6r3JJatnSdywpTxWMKN2fEqGwv7ow+D8yJclpgA2XJwHIXixkfU2JINode5c2e/SKKMEBGCOSMnNzZSC9dxJBprO9ZwxmReMz+Z60lzEcc5KC5vVF1yumHHOmNeNpaefHjDRugIzt1c6gyXHcTOOcYF+zYKs3AZeq0IKAJ1i0C2tTuOmwY8qHSZnmMwd8xb6W1Jw3+ltB/bRrRJEt6php0h8XrRZhbaj9jAYgohE8K3oWWIo5FC8+xs+3BoQ+OTz9FnEv9J/UaMYz64ED6+JQ+mG9hjhu0uk8pLegaO2ExH2UfyjFjB2Gc6h6JwWaRBSx82CQmnS7omJjCxaHEahdDQYTPttHZJeUv9rNhzCTzR4ibZ0ebTZuYPmtmg3XtcfjT6nAAE49kmjY+ochjzxLCWTZX/GI00To/EuY4jeEQ7i3kS8Y8d5TIX4/IG68KhVoRRa9/PmMZhltjVxBjGFCVIudQZbkcUdsE0rC9o4ePmUbg8vVYEFIHaRSDt2q02wbXbL1p6AAEE0DgHk2J8mY2qMEHg+JcvUfFFMwhBNyxcp/lUaxL/SR0tGm5rc4v5AYJ3kCR8VFLWvJ8l4cgzHOMQup35SbiCpPzhtFHXTuAIfkSDKBnYglcjFYpnGLOozU04jbsOfqDF3cuXH0wvJF6x/QgQgjB25QibcpIQV629j4CI7XuYcpmLcXmDZbHJ4uMYEr7QmhYhlGKDzwYsTLnUGc4ThV0wDX4FSfMoXJ5eKwKKQHkioJrg8uyXvLhKuwPKq5IKSkw4MJzV+ExqPpre2moigiF2nWiucNArJeFwhaYYh6faIBy7iIhBaC1sv3GQQwNcKeEDdS7VHBWcZODQxmkKQjQ2voV+lrxmLfnf4YSBKDNotzlJgS8cUOPspPOvIT5Hbc+j+Jr1iSKgCEQhkHbtViE4Cs0Ku5e28yusmcquIlDrCOhcqnWIi14BkWWSwiYWvUItUBFQBMoOgbRrt0aHKLuuVIYUAUVAEVAEckVABeBckdJ0ioAiEEZAheAwInqtCCgCioAioAgoAoqAIlDvEVAhuN53sTZQEVAEFAFFQBFQBBQBRSCMgArBYUT0WhFQBBQBRUARUAQUAUWg3iOgQnC972JtoCKgCCgCioAioAgoAopAGIF6Ex0i3DC9VgQUAUVAEVAEFAFFQBGoDgTC3wPIpdX15mMZaRqfC0CVkCZtaJBKaJvyqAjUJQI6l+oSba1LEVAEFIHiIMDanYbUHCINappHEVAEFAFFQBFQBBQBRaCiEVAhuKK7T5lXBBQBRUARUAQUAUVAEUiDgArBaVDTPIqAIqAIKAKKgCKgCCgCFY2ACsEV3X3KvCKgCFQLAiNGjDCXXHKJmTVrVr1v8t13323uvffeet9ObaAioAiUFgEVgkuLv9auCCgCikBOCKyzzjrmiSeeMLfccktO6Ss10ZdffmlOOOEEQ3uVFAFFQBGoTQRUCK5NdLXsskPgq6++Mp7nlRVfaPbGjh2bmqcFCxakzkvGf/75x88PNrWBz/fff29++uknv56pU6eaGTNmFMR3XWUGHzCO+2XD69xzzzX9+/c37733XkEsN23a1AwdOtQ0b968oHKSMjMWR40aZWbPnp2ULPFZoeNx2rRp5v777zfrrbdeYj3l9PD33383n3zySQ2Wfvvtt1R40gdz586tUV7aG8Uag7nWX4xxlGtdwXTFqLfQ8ZuGb81TOgRUCE6J/fjx481uu+1mVl55ZbtYX3755RnCRMpiNVstIjBmzBhzzDHHmAYNGqSuZcKECaZt27Zm2LBhqcsIZpw3b55ZY401zIUXXmhvswCffvrppmPHjmbzzTc3Dz74YGI9CAwNGzY0aM/S0tlnn23OOecc8+2335rNNtvMfPTRR2mLsvl+/PFHs9FGG2WUgQZzrbXWMm+99Za9P336dLPXXnsVVE9dZd5zzz0txnG/bGPhkEMOsWNm6623LmiDMX/+fLPffvuZ888/P7U2ONv4Pfjgg80NN9xgmjVrFgnvq6++al5//fXIZ9z89ddfCxqPtJHxf+ihh2Zt4/PPP28mTpwYy0tdPkBo7dWrV40qwfGKK64wRx99dI1ncTf+/vtvs+GGG9p5VCwq1hjMlZ9s4yjXcqLSJY3hXOpNGsOFjt8ofvVeeSOgQnCK/kFw2X777c1iiy1mNTMIENdcc425/vrrU5SmWeoKgZNPPtkcf/zxBVWHFm733Xc3rVu3Lqgcl/mdd94xyyyzjB1HEMfAzz33nB1LBx10kOHlxcu+NgkheObMmeaII44wBx54oFl//fVTVYcAM3z4cHP44Yfb8oJ04okn2g3IU089ZW+vueaaVlh67LHHUtVVl5luvPFG88UXX9jfZZddZtDIumv+brrpponssFF+9NFHzdNPP13QBuy2224zSyyxhHn77bfNHXfcYTjVyJeSxi99t/TSS5t77rnHLLRQ9KvhuOOOM999911stWADb2nnRz5t/M9//mPefffdWF7K4cEiiyxihgwZYsf6+++/XzKWijUGc2lALuMol3Li0sSN4VzrTRrDhY7fOJ71fvkiUG8+llGXEI8ePdpqzT799FPTpEkT06VLF/PBBx+YF154wZxyyil1yUpZ1/Xwww+bHXfc0Tz55JP2xbnNNtuYDTbYwDzzzDMGDDt16mS16UHNLPfRrHHE3LdvX7Pqqqv6bURDgiDx8ccfW9x79uxpsSctQuSuu+5qXnnlFXv8iJBF2e5ljhYYrdHOO++ctTwSkJ7je3h2BN9obTfeeGPTrl07/z5HoQ899JDhyJ+Ptuy9996mcePGOfUNx3ctWrSwafkfZyCE4C233NLeQ8jCBpRNVzbiJfD1119bTNZee+2M5GhPcKziBdKtWzcrTDliLKN5om/CGlzSkBfBC60WeMQdx7MZHDRokGGT2KZNmxrs0k74c8RcueCCC2w/lTPRFtcehDvGa4cOHXyWaS/aJXCn79Dir7vuuvY5awTjcf/997ebnTj68MMPzeKLL54x3umXX375xZYL7bDDDnbjzSnUG2+8YdMnEbyg1adf3Rq13Xbb1Ri/wXm10korWX5dncHyuf/HH3+Yzz//3I7L9u3b201PsN1o+ykDoS+KOOIHK04wmKPkDc5/xvmSSy5p24jGOThOg+W9/PLLdqOFiQnlkJ75z2Zj2WWXtScabLi416hRI5uVccwc3WqrrXJaM8gThWHSXESTyMYOc58ePXqYrl27GgRhNMFuTchlvaJuzHAo67PPPrNjis133ObEtS88T8Gb0xdOlZwGHwymTJmS0cdunMIbawD9GEesz2w+llpqKbPvvvv64zCXcRSXN6quOOzZqAXX4FzqdeVnG8Orr7564viN4lPvVTgCMugrnmRxq9M2TJ482Xvttdcy6uzXr5935JFH1ikfrrK6bn+ujZSp4clL1xPtpte7d29PXgJenz59PFnMPTm28uTl5N15551+cTfddJMnApYn2k9PXl7eoosu6onQ6z8XQcKTF5wnGlJPhFlPXi6eCKaemBBg5GvzyXGxJ5pIT4QFT4QyPy//iwYgg/W48kgkLwpPhAxPXtg2j7xcPRGEPBFKbF0izNn7Irh6Iqh7IvTYekUA8ESAtc9yITET8OQFZZOKQGExoT2ORAvsiSAQW5TjR162ngi3nhy5e/Ki9MSm0s8j2ktPBFhPhE2ve/fuFkPRQNvnYLbccst5BxxwgO0r8opnvp9XNNK232RDYvOS1rU9jinRJFpMwjRgwABPjrn92/LysmXLsW84acmus80lsAHLIP388892TIjgZbGVTZB9nA3bYBliAuBtscUWGeWK0OvJRsHeu/322z3RUtk+lGN3OxblhZ6RPnhx2GGH2TSsSbLBsfNPBHd/rgT7MGkeBMsUu2bb9s6dO3uiHfei2i2CqcVChOQavImdsScbXzve5cTBW2GFFTza6ChpnIYLu/jiiz0Rlu1ce+CBB2ydRx11lCcaTzv2WaO5J8K2n1W0zP7czGXNiMMwzAvXsimxa46congiGNr5svDCC3usaRBrFvhB2ep2z0VY9+gbt56JXa/NH0Vx8/SHH36wOIgCwM921VVXeawXjvIZp3KiY9cAeJKNtu1Dh3G2cZSUN9ymJOwdPm4MZ6s3WHa2MbztttvGjt8wj3pdXghkW7vjuGVHXPGUtvHFaDiLG4sBiwoLbymolO1Pai+LLy9vCIGHxZPNgqM99tjDCsMQ2PGSF02G//zaa6+1LzVItG1W0HzzzTf95wgbomHxXypyrO8/44UhWib/Wo6s7YvbUVJ5Lg3CHEKtaOQs7y+99FINIQIhFWFdtME2m2hUPNF+e3PmzLFt5uUY9UN4hngxO0HgkUce8UTT6Kq3f0VDaBflv/76K+O+u3BCcFDgBxMnUIkWyRNNmycaGD//mWeeaYXUcePGWaEtKBCddNJJfl5eoG6j4TKziWFTk0RxQjBtZfMSJNE4ZQjsSeXWxbNscylJCD7ttNMsi2IW4lFOErbhtiA0sgFh8wWJps5iT/+xSWBuMP4cIQQicEWRaPztmJTTF/sYfpgLUUJwLvMgWIechPibJCcEB9udJASzYQUTR/KZU0+0qp44SNp2xo3T4KYwyAvrweDBg/05ieAk2lObJFchOG7NSMIwyIP7nzkeXO+47zb1zPUoITiubifkBYVesSv2Ntlkk6iqvaR5mk0IzmecyqmCJxp+f72ATzkN8K677rrE9Rmmk/KGG5UN+6AQnO/4pa6kMezW06hNXJhPvS4vBLKt3XHcRht+yWxWyg0Bjoc5zp00aZJv75hbzupIxbEkxDEepg0cxTvCtAA7UohjTeyxMC2Ql739tWrVypow/Pnnn/Z4laNdEe6swwjHhJhOuPyUwdGnI0wtgs/4rvhqq63mP8+lPOxjCdOEjSxHkaJN8/O7fzB/4Dju2GOPtUfU1IHZBG3hmPzqq6+O/DFeOJIULZaPCUeXHJ0GyV2LEFyj7uCNYNs5iucYHQJHjvg4mnWETZwzSxBhwR7Tjxw50ohAYY/vOfKGOD7laBqTFkccN+M4lYboO44jMctwBG/l4tyUpk3BPM7Uhj5jXCRhG64L8wqOoZ0jJHak9CPH0rLxsyYDmMuAPz9MUhj/OBiGiX4Da2eyAz9xToi5zINw+eHrYLvDz4LXzHeiTmDGNHDgQLsmcOSNyUPSOGXu5kLYoufr9Bq3ZuSDoeONuuVExWcVG3vmUlzkl7i6XQG77LKLX9byyy+fsZ4F8ShknuYzTlnfMEPADAYSTbe1c6bN2cZRUt5gW/g/H+yz1RsuO+461zEcl1/vVy4CahNcYN9h/wkhdCFcpFmIC2ShrLPHCXVhprGhkx2+EfOIjEcIn4QZEs2W9Yrn5YmnPcK1HMVlpI2zHyQRZWAr6Ah7u2zlkZYXEXbIQSEyWCkvdoRznKewYZbdppFjWSOaOmsDiEAcRzggYZ/nnPXgL+xQxjX2zy1btowrxt5H6HaEcOHCnrGpYDMRJGz5IARxORo19913nxXaiHKCcAVWEH8RgoPEiy8tYbspx43W6Q8baog2Y0dZHyjoDMbGCDvQOGyj2osT5M0332zOOOMMGyKMCAkQwjTziE1KkBibCMauP90z5lK438JpXNpc50EUv+5erk5wbBDZ7LKJ4qMfOErKyYJta9I4ZbMY3MDG8RJuczhdMBSgexa3ZuSDoSuLORj0BcAWGTv4uPEdV7crL5vNt0uX7zxljXKUzzgFk/A4ctfZxlFS3nA/5YN9tnrDZcdd5zqG4/Lr/cpFQIXgFH1HJIjHH3/c4NnviJc5cU8R5OKcQlJUVTVZVlxxRfuix5nOOX/wYkSLIqYI1gHnyiuvtAInTiIQ2le0rbkQgiCORi72KA4k2cpDSBTTAbu5QVDFoSbsFIYQC+EQJqYfVhuMAxPa45122smIyUcke2iI0aDgKEJ4NMIoIVCLGYV18nEvfbR9QSesyMISbuIVjqaVl4XDlfIhMEUYxdEJIRginqgLzUSf4BzImHabGRyS6BMibeRLOOiILb3BCcwRfYLWsr4RuCZhG9VetLVijmIdScF4n332scnQ6KJlRAPs+gHBChzREIaJ9PRtkOK0qbnMg2A5+Wpag3nlaN6e6tx11132NicCOOox55PGaZSTZbjNXEfxhpDnKCmqRbi8fDB0eZm7tJFNOsTcYRPrNKfhOop1nTRPnZImuE7ilOgon3EKJmjug8R7kI0xAn3SepqUN6jxpux8sM93/FJ+1DjJaJReVBUCag6Rors5ziMaBJEIIIQ1NGpoC6tZAOYIN0nzmQQ1ghDa3ksvvdRqU3mhoAk766yzbDa0Azx3O3bwRyggXS6Ept4Jf7mWh2aOuKxi22fEGShS8MPTHeEYYZjFFf4QNomkgCZI7CUjf7zYSYeJBYIuxMuTMSQOZBYDXqCEjCL2ZVrClAFTCl5QEMezYIrXOlocMHXaHEwk/vvf//pB+mkX0QhcXo6yiQARdQSfC3+0k2gAQY0dfYKGuL6RO72IwzaqvWgNMa1yGlKnKWSM0E9gz7hgU8ImhHThkxbK5USC6CbMR4h+DZ+wuPrznVeMaYRJZzIT1Y64ewi9bBCdQI6wwxxgg5o0Tt0GLapc1t4oYrNK2awREBtBtPK5Uj4YBss89dRT7fxB2GfjTPi8XLTYufIVlS5pnoIt44qNFcRYcOOC63zGKZt68qO5h+hHscO2yp9s4ygpry0sQPlgn63ecNlcFzKGo8rTexWOQJyxcCXdT2sQXUgbcdrCs10WGevRj5cyTgiloFK0P6qdYi9mIz84kqnhyUcc/Gu8woPRIHDmIpqDIwm744lWw0aIwAEDr3bRFNrH8tK1XuVgjpOa2E96EjrMXtMX1BV08BINh3WkcySaV+uc4iipPDmu9eRY2jqP4eAG4bAkLxMbjSJYl7zsrOc99/BWxyNcbAGtU1wuJC8nPzoE6XFmwoMeByI88eEZx6Y4inLkkDit1vnDEc6EIkjYsYqDFVEeaI+8AD36jCgY1ImDJxEcxPzCw5MfIooEeSUskfV+lw9HxDrpufriHOMoG+clRzj74cAlWk3/Xqn/yTaXkhzjRKD32c8F26i2EnWGsSThFjMeMzfoUyKFMM5wKBRBN6oIe09si+34oW9lc+XJ6ZV1rAo6FZEu2zwIVyAh7Sx/OH86x7hgu5Mc43Baw2mTOYvDKfzJaY4/V+LGaZgHd41jGeuECJ415j9pZLNnne2IYIBTIOsE6zQUxoF74TUjDkNXf/CvnADZ+cPcp12Ma/En8NekKMe4uPUqijccAFkP4yhpnooJmZ3TjBvGAo6xLjpEvuOUaDaMQTHPstjSLta6XMZRXN6oNiVhH8Qnl3rD5SeN4aTxGy5Hr8sLgWxrdxy3Gh0iDpkc7iMgyVGyDZtVSkrb+aXkOa5uXpR4jTsv+WA6ntFWMVPwbyOEcj8bkUccwPwoDqQvpLxwfZSPhzuLaD4UFoJdXoT/YguHcjwbGcGE6AOiWY/E3PFDGrz4C6GwEIywTISQcqJizyVwE21V0ZpI1AP6MWnME42AdohG0kNAJa2Y69iwXVGU7zxAcKLsOBKta+JYYoNFZBLKiaK4cRqVlqgsSZtE8ErTp/liGOSNNcBF5ojiuTbvxc1ToiggdMdhlc84RQiVD7VkhJ+jTbmMo7i8QUzyxT6XesOYJ43hbOM3XJZelwcCaeY5nKsQXB79VxAXaTu/oEorMDPxMNHwlhNJVAaraU0SKuqCXzHxsTFoa5OIWYsWxhGaevEur80q8y67PswlNuacTomXvdXS8VJHE4p2rS6oLsZSbbej1BjWdvvKufxSY18fxm85929t8ZZ27VbHuAo3Z1H2c0cA5zPszbClLBfnCL7mhc0joYecbXDuLSpeSuyeo+xLi1UDtpLY0PNVRQjHLewlo75QV6w6q7UcbKyxJcfxklB52MdiuxnnpFlsnGp7LBWb36jySo1hFE/Vcq/U2NeH8VstY6UY7WyAVF6MgkpZBgb6Sc4TpeStLuqu9vbXBcZaR3UgUN/mEk50tbm5qYZRoRiWrpcV+9JhX2k1p127NTpEpfW08qsIKAKKQI4IqACcI1AJyRTDBHBq+ZFiX8sAa/FGhWAdBIqAIqAIKAKKgCKgCCgCVYeACsFV1+XaYEVAEVAEFAFFQBFQBBQBFYJ1DCgCioAioAgoAoqAIqAIVB0CKgRXXZdrgxUBRUARUAQUAUVAEVAE6k10CO1KRUARUAQUAUVAEVAEFIHqRCBNlLB6Eyc4TePryzBJGxqkvrRf26EIFAsBnUvFQlLLUQQUAUWg7hBg7U5Dag6RBjXNowgoAoqAIqAIKAKKgCJQ0QioEFzR3afMKwKKgCKgCCgCioAioAikQUCF4DSoaR5FQBFQBBQBRUARUAQUgYpGQIXgiu4+ZV4RUAQUAUVAEVAEFAFFIA0CKgSnQU3zKAKKgCJQxwiMHDnSDBgwwMyePbuOa9bqFAFFQBGonwioEFw/+1VbpQgoAvUMgU6dOpmhQ4eagQMH1rOWaXMUAUVAESgNAioElwZ3rTUHBObMmWPGjBmTQ8r0Sb7++mvjeV76Aoqc8/fffzdffvllkUstr+J+/PFHM3ny5Aympk2bZmbOnFlejBaJm4svvtice+65ZtSoUQWV2LRpU/PYY4+Z5s2bF1ROUuZZs2aZTz75xDD36jvRxrFjx0Y2Mw0O4DZv3rzI8irxZrHGbT5tT4N7PuVHpS1FnVF86L3SIKBCcBFwv+OOO8y2225bhJK0iCACH374odlqq63sLWIArrzyyua1114rGkiff/65Ofroo02DBg1Sl1lMvniBrrHGGuY///mPz8+CBQvMWWedZdZZZx2z5ZZbmkceeSSWVwRJ2lKoEE19vAARVrfYYgvz0UcfxdaZy4MffvjBdOvWzU+KNpN2vvfee/69KVOmmL333juX4uo8ze67725xjfu98cYbiTzRrjZt2tj+K4QYCwcccIDp37+/ufPOO1MVlW28Hnzwweaqq64yjRs3jiyftr711luRz7iZbQy++uqrdlyVA7G+9OrVK5KVJk2amAsuuMAcc8wxkc/DN//++2+z7rrrGsZ6MSgKx5tvvtmsvfba5vTTTzennXaaNY2pTSrWuM2Hx2zjL5+ygmmTxn0udRY67tPyrflqHwEVggvE+IsvvjAnnniimT59eoElafYkBJo1a2Z23HFHs+yyyyYly+vZySefbI477ri88oQTF5Ovd99917Rq1cpq+xwxtp544gn7wttrr73M/vvvb15++eUwG0W9RshCUDnwwANtneutt16q8hEMRowYYTcavNQdnXLKKeaoo44yTz31lH+Po36ItpYbXX311XYjwO/CCy80iy22mH/NvQ033DCR5dVWW808+OCD5vHHH09Ml+0hZhBogxFCb7jhBjN+/PhsWWo8TxqvbDBbtGhh7r33XrPwwgvXyMuNww47zHz33XeRz7gJNvC53HLLRaZBgHvnnXcin5XTzYYNG1rTEzam77//fp2zFoUjY40xtPzyyxu0l8zP2qRijdtcecxl/OVaVjhd3LjPtc5Cx32YH70uHwTqzRfjSgHp3LlzrfZqgw02MH/99VcpWChpnZgRPP3002abbbaxAg0vRzTiaC2fe+45Kyjw/8477+zzyZHhsGHDrFZt1113NSuttJL/zJWHhhaNBy8CR8sss4zV2rj0//zzj3n22Wft0S1aG56hiYFcOTvssINB88QxNELWLrvs4mt9OQZFO7DTTjvZPEnlsdFBUxnU5CGI8pKAnyBfHLGirf3+++9N+/btzR577GEaNWrktyPpn99++80KIY64vvvuuy2WTiMONrfeeqvp3bt3UlFW0JgwYYLZaKONTIcOHTLSfvvtt1Y4pa7NN988o04Sos3abLPN7K9r164ZeSdOnGjLpm+23nprw8sljhCmb7vtNjN//nyrxQ8SdYc1gmxKLr30UjsuyomCY/Tjjz+2AqIba/CJoISmiHXghRdesGPNCfWY84wePdoKj+3atYttFmmWXHLJjPnAfJoxY4a/CWEeLb744hY3NkzZzCLghfnRpUsXyy//M46C4xWGgmMfvj/77LOM9jmmafuff/5pmA/jxo2zvMJHsN2rr766HW9RY/7NN980jGkc/NZaay3TsWNHu35st912dvOzxBJL2PKZt4ss8r9XE+Pt559/NptuumlO8xpeo9rdo0ePWOx//fVX8+STT5pffvnFkI72QAjCZ5xxhll00UVzrhssWQvBkDYG15woBj799FO7ToIbP9Yk+osx5nDkPcOpyS233GI19CeddJJdX5xJEXmYq5Abb/zP3OXEJYmi5rOrb+ONNzbDhw+32akPRU9wQ5xvXcwR2rHUUkvZ96Zb67KNv7h8Ue2K6/uk90fSmKeOQsd9FJ96r4wQEIGh4kle9iVpwwknnOAddNBB3vXXX++JNqgkPFBpqdovx7MY03qiofXk2NDr2bOnJ5oqb7fddvP69u3r9evXz5OXmffAAw9YbGQR9+TF7YkGw+YR4dV78cUXfdz69OnjyQLpyZGvJ4utxVQ0o/a5q0tseO01aWRh80Qz/RrWWgAAIABJREFU6slL1JOXhl+WS3v44Yd7sth6ctxl+brooov8us455xzv+OOP96+TyhOh0WvZsqX3+uuv2/SijfHkeNuTl0IGX+K178mLzBMB3tbZtm1bTwRFv45s/4gg4IlQ6iejPhEmPBEi/XvygvWWXnrpyKLkJW77QwQG+xOh3eLy8MMP++kvv/xyTwRYD6xJQzs++OAD/7kIa55o2719993X8r7QQgt5999/v31+4403evIS9uTF7ueVl2gkL8Gb99xzjycv9Ix0l1xyiSfa4Ix7ojn2RODwRMjLWmZtJcg2l2RTYsdCkERIs7iLyYcdr2AHJWEZ5l+Otz0RwDJuM65Fc2rvifmDHcNg3717dzu2RKgNF+NfU7doY71DDz3UEwHYk42qJ0JZjXlEhqSxH6wAXuBBNrZ2LES1241BEZRr8CbmBZ4I+pb/hx56yOeFcbDiiit611xzjcVRhFI/r5gAeCK02+tc5nVcu2swIzdEuLJ9uf7663ty4uHJhtjOF9m4+clZ32Uzl7Vuxxu87rPPPv6aI2ZFUVXbe2effbZdD1kvRVj1RPj2RCCzz4I4yqbU4hKca8xjEXw9McXz18h8xht1xM3npPosc0L51nXqqafadYV1kbWA/pYNni0rafwl5ft/Vvw/SX2fz/sjXG6h4z5cnl7XDgLZ1u64WtnhVjylbXwhDRctpLfqqqt6CD7VLgTL8aeFkoUGAc0JAdzjxSLH4Z5oLTzRGnpylOvDLkf8VmiEnnnmGStgOSGXsnhZRgnBonmzL3TRUvhl8SJhUwK5BY+XlyOxc/U22WQT/xoBkJcAlK080tx1112eaDM90c5Z4eKll16yeYOL6/PPP2+FOHFus89EA+2JZtwT7bCHgPf2229H/hhD0O233+6JFsz+D8kRuq0rSKLB9USLniEYu+fuxcnL1REvBjYnkGidbF7RxPvPRavkrbnmmpY/5hGbENcHJDr22GNtfgRT0Yx5ojHz826//faeaG/967h/ooRgNkRslMIEL4MHDw7frrPrbGtJkhDMCxtiPCVhGdUY0fDbDYfbADBf2EDKiYX3008/2bkT3DCyiRNNX1RRHmOEceiEJvhBEI4SgnMZ+8FK5HTD3xQ5ITjY7iQhmHLgAwEYcnMHQZ3xR5tzEYLj5nVSu6OAQgimPgRJR2L64om23Z/DYSE4rm7XFrHn98tio8fGKIqYiwjcohW3j+Uk0W768xWC2YizxuY73pLmczYhON+6RJNqN/NuXWFTjxDMBidp/CXlC2Oare+D63RSneFy3XWh4z6uXL1fPASyrd1xNak5RAqtPMdQRxxxhD3CCx7ZpyiqXmRxTk8c4WECgDOVI47jOG7k+B17RswFRIC0j7HvJToDx8kiINojfvJDlIXDAg4gYeKYkuNGSAQEWzbHiiKAZyQVwdi/5sjrlVde8a85QuT4EcqlvEMOOcQemXIcKBruSHMEjvyxgxUNsyE9pggcz0GYy8hL0a8/+I8I40Y0UkaEP3sU7IhjSXgLEsfEMpkNz9yRcbjQYLvh19k0grsImfbI15FsHIxs4uxx5yqrrGJtd//44w97RMuxNz+uRSttj+I53nXEUTb9lIZkg2PtnDFVccfPlIOJCX1TieSwoc+SsIxqG/3CMfiQIUOs4xM2xOCCyQD/gzOmAoxBCNtx+hXzAsZOkOgr5qAz44Afjp8ZX2HKZeyH84Svg+0OP8vlmrVUNgC5JLVp4uZ1Pu12lVEvzoaOcITDBIJxH2XrHVe3yx805VlhhRWsKVAUMRcx+XJ1YHLBeoepUz7EUT1l5DvekuZz2EwpzE+aujBncWs765acPtk+Txp/8BiXL8xTPn2fVGe43KTrQsd9Utn6rO4QUCE4BdaXXXaZtWtCqOKHXdykSZOsPSMCUtCGMEXxFZclLIyFr2kQNrW8EMJe7aINtC9ywmPxYg9SnBMcNmRi2mBfGDiJYA/H3zBhYxhH1ImdGJRreWJCYERjHSkAUw42fAiPOC1hawwOvFTPO+88a8vnBOIonsAFQRQB2hHOReGwYVyz8UqyxWWz4YgXDe2D2ICENwrumo2dHLFbfu+77z5rw4sdKfWQD7wY80FKKwBTBpsSNj3XXXddhnBGm9k0VSK1bt3aZ5vNUByWcW1j44TdJ0KwmKDYjTaETSw29KJRz8jKSzhKCJ46dWqNvgr3nSso17EfxzP3g+1OShf3DFvoOHJjN/g8bl7n025XHnbVQftl/AsY83FjMK5uVx4bxVwIx7bw5iVb2cFy2Qhj28/YIPxevuMt3/lMfY7yrYt+Ca/tuay9SfnCGOfT98UY89Rf6LgPt0GvS4OACsEpcEe7xleb0GJCaM/QzHGN1kypJgJy/GVfNnhcu5BkYIjGBUGM5zi6Bemrr76qWZDcQWuMFhEtiHP6OvLIIyPTxt2kThyP6MtcymOTg6MX0STERMCgyQw7JiHEQoTME9MGqz1FGKYOHAZxkosiBEG0QKRHuHehj9CiEzeYcSWmNzYrQnbY0S2qzKh7CLZi1mE1ya4PXIQBQniJ7bDVROI0iLYHIlwaLxicusCAF6ATfuV43tBHRLDIl3CS4odGKEi82J0TYL5lllP6JCzj+ERbi3Mg2l7mhQsZB/ZsZoga4rBnM4SjG/0WJtKHw5jFaddzGfvB8t24CddZyHW4TDm69otzcyqX8vNptysPYRBB0gk0rAmsS05rmUu9adJw4sFcDM6nuNCGrs85MXPEOwdlC0oXKN/xljSf99xzT1tmsL5g9KM0dbFWBOnRRx+1DodsBOLWcniMy+ccml2Z+fR9vmOeOsJjNKMxelHRCOR+BlXRzSwu8wgseO27n9jAWs0Z1xxfKtVEgONZjqGuvPJK+5DNApovsW201wiIeI0TnglCGOKYPooQytCsOgEAcwhMU/IJ8E8/OQEwl/LglfBkN910kxVCxQ6yBmtEosDUABMNhBYEV7SyaJfYAGDaEfVD+8mLjigbRAlwxEtOnNvMFVdcYW8RKWDQoEFWYE5DmFqAkTgg2ez0ATGJ0aTzEkH7Ba5Oa0gEALTCbPBoFxpolxdNFnnhKQ0RoxVzkbD2izrrwxxKwjIOL7zlORlBg8yxutMUojFn/HCiwAaGExU2HqSL0sZTBuZCbDghNlGsTVGUy9gP5kNwYW4WstmP++wz44t5g4AEEbkgyoQjqh3cy6fdwTKYywh8tAnzINaqcDSTuDrT3sesAgGYTSYCJhtg4gBHEVpUxgZRYiD6E0E0SPmOt6T57Opzpjfh+vKtC4EVAR+zHoh+Fadlu94kjb+kfBmNl4t8+j6pznC57roY4z6ubL1fYgTijIUr6X5ag+hitbHaHeNkgfOhlLA61pPdEV7vOGdBYjZiHSJE8LGOEmID6Ymmx0+L0xERI/DYxmsax7Uoxzh5WVnPaNLiOCbClCcmCNaxDmeLoBOEKxxnq2AEDzzRRbC1j7OVR5k4QZIOEiHARljAOS5Yl9hseiKwWGcbHARxbMIpUI7f/DYm/YPTWTA6BGlxxBOh0HpW4xwFz9QZRVFOSTgtOmcb8uBMSFvAFU9/nN5whIFEsLW44hhEHiJ04IVOvTj34XyCIyNto/04QIqAHMVKxr0ox7io6BDgx7iQl2PWMmsrQba1JMkxTjZVPlvZsIzjX+KW2vEjZlYZSSS0lHVgZO7wo2+C8y5cnmj0bf/Sz7KZ8uQDGNZJKzw3so39cLlEeIA/nLGcY1yw3VFjMFgGTpuyGbaREcK8kO7MM8+0zptiT2vbK5vmGtEhnIMV6cPzOq7d4XZwjWMcOLI+McZxJsRxT7TmfvKwY1xc3VFtYdyzHsYRUVmICMG6hdMuEXa4hsI4Mo9Z73BcZQ0lYgFz1VGa8ZY0n119RPMI15emLjnFsOsK/NO/YM66mG38xeWLwjSp74P9k63OqLILHfdRZeq94iKQbe2Oq02jQ8QhU0H303Z+KZrIwsdLJij8BvlAqJIjdus1nESUQ7vliN5PhhCVq8DJCxwBGuEOKrS8IK/wJJq4vIW5KCHYlYvgXUzhEE98OVKNhJhneK276ALhRDznRVgIRQnB//3vfz05ESik2ILzFnsugZULBVUwc1IAfSb29YlF0Te0g4gDCKiMbbGf9+SYOzJfvmNfTAgSNz8IinFjBwaInhK3keM5mKXph3zbHQSDPmLDWVfEGiEnRxnViW2vR8SVOCKqAutANuzyHW9x8zlbffmObfhm40ZEiyBlG39x+YJl5Nv32eqM6oNCx31UmXqveAikWTOoXYXg4vVByUpK2/klY7hMKiY0E8JBuZCYCHhii2uFl1ITGmLCztUG8QICewThIKGFk4gHtVFlzmXWh7lEuDU06ghZCBAIwmKD6ol5RM44FJKwNsdOEl+lbncSb+FnCNxoxMX8y4bF41SJE5bgKVo4j17HI1AOfV+qcR+PSnU9Sbt2qxBcD8ZJ2s6vB00vqAkcOYrNbc7a44IqyyEzwiHB9jt37pxD6tpNwktF7HNrpRJiEyPsB4/ROZrmOLjUVF/mElp1PqiBMIxw5cwP6gLf2hw72fgvZbuz8RZ+zskP5hKYOvEBEvE3CCfR6zwQKHXfl3Lc5wFTvU2adu1uACIlNksuuHo8n503e8GFVWAB1d7+CuwyZblMEahvc0k0wbHxpMu0C4rCVrW2uyjgVXgh2vcV3oEp2U+7dmt0iJSAazZFQBFQBModgaiY3eXOczH4q9Z2FwO7Si9D+77Se7Bu+VchuG7x1toUAUVAEVAEFAFFQBFQBMoAARWCy6ATlAVFQBFQBBQBRUARUAQUgbpFQIXgusVba1MEFAFFQBFQBBQBRUARKAMEVAgug05QFhQBRUARUAQUAUVAEVAE6haBehMdom5h09oUAUVAEVAEFAFFQBFQBMoFgTRRwhYpF+YL5SNN4wuts1zypw0NUi78Kx+KQLkgoHOpXHpC+VAEFAFFIHcEWLvTkJpDpEFN8ygCioAioAgoAoqAIqAIVDQCKgRXdPcp84qAIqAIKAKKgCKgCCgCaRBQITgNappHEVAEFAFFQBFQBBQBRaCiEVAhuKK7T5lXBBSBakFg5MiRZsCAAWb27NnV0uS82lmO+Nx3333m/vvvz6sdxUhcqnqLwXuhZeg4KBTB6sqvQnB19be2VhFQBCoUgU6dOpmhQ4eagQMHVmgLapftcsNn/Pjx5phjjjEdOnSo3YaHSi9VvXXayITKdBwkgKOPaiCgQnANSPRGuSMwZ84cM2bMmLzY/Prrr43neXnlqe3Ev//+u/nyyy9ru5qSlv/jjz+ayZMnZ/Awbdo0M3PmzJLyVZeVX3zxxebcc881o0aNKqjapk2bmscee8w0b968oHKSMs+aNct88sknhjlWSqJ++ICfXKku8MmVF9JNmTLFDBkyxHTp0iWfbAWnrct6FyxYUPKxEgZMx0EYEb1OREAEg4qnCRMm1HkbBg8e7PXp0yfjd/XVV9c5H1RYivaXpKH/X+kbb7zhtWrVKmcWxo4d6/Xq1Svn9HEJwXmllVbyhg0bFpck5/tz58712rRp4/Xt29fmmT9/vte/f39v7bXX9rp37+6Jxi+xrF9++QWJ3vviiy8S0yU9pL6LLrrI++GHH7xu3bp5o0ePTkqe9dn333/vbb755hnprrnmGq9Fixbeu+++69+XDYzXu3fvrOWVIkHUXNptt90s1nG/119/PZHVcePGebfeequ32GKLJabL9pAxAr7geccdd2RLHvk82xhmPPbr188T4SYyP20dPnx45DNuFmNcUs7+++9v58a8efNi6wrzUgx8YivL80EcL2Ge8yw2a/K4esmYVHe2fot6nlRXVkZzTBBVbzBr1PO64AseouoONyuJl6T+CJej19kRiFq7s+fyPNUEJ24R4h+++OKLZsaMGWattdbyf23bto3PoE9KhsDJJ59sjjvuuILrb9asmdlxxx3NsssuW3BZIhQaEeStZg868cQT/4+9s4CS41batpw44DAzM3Oc3KDDzMzkgMN4w8zMzMwOM8dhZs4J2mFm1FdP/Vf99/Q2zPTMDuxWnTP2drdUKr2CLpWq1O6mm25Sn8/11lvPiRLg7r333rrLyWMgSrDDUrvZZptpmXPPPXde8sxn//zzj3vqqafcoEGDHFbeOO2+++5uu+22c7fcckt0m+1KiPp2Asni1r344ov6O/TQQ50os9E19+abb77cakw//fTu6quvdoMHD85NV/QQNwisXEOGDHGnnnqqY9u7Vsrrww8++KATBdtdeumlbvjhh09lPXDgQPfRRx+lPuMm2CDnRBNNlJmm6MHTTz/t6FPXXnutG2GEETKTJ2VpBD6ZhdX4IEuWpMw1si1MnlUuGespO61d88oqFLRBCdpVrlC9PIzqaY8GwWdsBIEe87GMZrcm2+vbbLON22KLLZpddFuXJysvd+utt7rllltOFR9emMsvv7ybY4453B133KHKA3+vuuqqFfXgxY5iOM4447gVV1zRTTrppNHzwPONN95wYinVF22c2DYV66zr06ePW2ONNZxYa6PHYgV2HKK9yiqrRPf+/fdfd/vtt+t2a79+/ZxYid1cc82lz8WyqtuYAwYMiNKjjKLIwJe0gT9bttdff70TC6ibdtpp3TrrrONGHHHEKF/eHz/88IMqHBB/X3zxxYrPEkssofeoq1gPnVhM89jos8cff9zJKtj179+/i//hhx9+qAoqZYkVMSqTfGIBdgsvvLD+FlhggS7lfPDBB8obvJdZZhmHApVGKNPnnHOOE6uHm3rqqbskoWyU7TixMDnyyCO1vdqd4v3ppZdeUgUx9BdkF2ulk90JN++887q77rrLoeQHRR+3HbGwqwIyxRRTZFaVNPT9eFmMHRbaYXHCmBlrrLEUS8ZKkVsEstDH2Y5HXv6mf8X7MALFxwNyv/rqqxX1C0JT999++03HiFi3VVbkiNd7hhlm0D6YNw7A6sknn3TjjjuuW3/99Sv6ZJgHGH+Mw/g8EAcvKQvlUrcxxxzT8eyGG27QMQvRL+nH9H+xvrkvv/xS+/t0002X2h5vv/22++abb9xCCy0UPUcxH3vssd2UU06psi+44IJu5JFH1ueMf9LHF5FpsqTJnBQgq2zGHgvMMuVSRjVlB1nS5hP6fLJds/pjLXjXkrZeuWT3raq2CzjUKxt80vpBre2R7CN23WAEqjEXt3uasmbweuolE7iXqF/Pdu+ZZ57pxSpTD7u68rai/lkCs40qXdSLxdRLUIhfaqmlvFivPFvKYau1b9++/sorr4xY/Pe///Xy8vKbb765bpPLi97LiyZ6jtsJeG+66aZeXjReLG+ROwTYizLgxZqpZYpS68VKH+U94IAD/E477VQhLnwmmGAC3XJdYYUVvEzwUR5RGlUWtqogsd6p24K85HSLmLrJAshLhL6XF6+6L8hCyMsugBdFsaKcvAuxgkauA5QlSoO6RASSBYQff/zxM1mErTh5UXt+ojRoPcR6FuU5+uijdQse/EhDPZ555hl9LkqZF4u233DDDVXu4YYbTvtzoNNOO83LS96vttpqUV5RijPl4cEll1zi5UXZJc0RRxzhxRpccV8sfX6kkUbyotB1Sd/KG0VjSRYr2j/i9Nlnn2m/wKUENx0whYowjvPYc889/ZJLLlnBl76511576b0LLrhAxxHtgbsM/U2U2or08QvKFmus32qrrbwowF4WpV52rSr6cEifNx7iPJEFGWQR6+kfafUu2iLeY489tN8xZugrolR6UfS1mKJ5IE+WPKyDTGAgSqT2Z/o7YzCNxHfbiwXayy6NPiYd84osDtR1iLaOjwXGmSwkI1ZZsiTxq6Xs+++/v3S5lFNUdtF8kmzXvP5YC95FaRspVzVtF2+TemXL6gfVtEda37B7+QgUzd1ZuQkW6ngqW/myFZegHp2QJp54YlW+UCJ4oYv1oSzLuvI1u/55wgZFUbaBNBnXKHNBMeCeWGW9bJ3rc3xaUd6Ccsa9HXbYIXqp3HbbbaqMoXhC8EMJQNmQgCsvFhIv1iN9Bok7gSqngXjh8cIOhI8hykDcrxEFfeedd47SXHjhhV4sml4scapI3HPPPfosrgTfeeed2uYS3KbPeHGKxduLddij4D322GOpP5Rn6Nxzz/UrrbSS/i1b5VpOnMR668WyXaEYx5+HCXq//faLbjPpsuiAXnnlFc0f91/edddd/cwzz6wLNhYVAVPSg3nIi2KKEnDzzTdHvMU678V6Gxehy99ZSjALleD7HM+ELPjWtxMVjaU8JRgFD6KPwScP42SdxfKvillYFNC3WSzizz506FDt58nFnVgzk2z0mr5D3wyKGvKgCKcpwdWMh3ghsuMRLZaCEhyvd1JZiucVa6Qu9kK/Y9GHEnzGGWcUzgNpFQ2yFGEdZNp7770jNszbeXECRx11lCrr4E87hvmsSJEqkiWOX1qduJdWdr3lwjev7KL5JN6uRf2xFryL0jZSriIMk+1Rj2xF/aCoPZKy2HUxAkVzdxYHc4coYVlnm0SsW27LLbd0oggrh0MOOUSPw5GXvW7L93YSq5hCwDYargKLLbZYBMmMM87ovv/+e71mO3WWWWapiKAWi7Bu+xF5LMqkugTAI/DDBUUsZ7rNj48kbgmiqOpz/HVxVWGLmi1ZXCHYKg2EjyHbvZBM5spDFEYninqUhnYVBVC3NyVIKNUlgW1//BbFyqz9AFcEtp+h33//XftHGolCrlu2ovw5UYI1Cdt0Sd9HUYD0NAue8XcWiQIfPUJetm0h8BAl04l1MXouir475ZRTlB9bq7/++qu6p7C9zY9riC1jtt3F6hjlxcUly080SpTxhyxa1NeZ0xHYOg/EdnXZ771nFNXS2wEv2nKaaabJxTgpKG2F2wKnCYjVTn2IwYqxwd9gjysC/RLCn5y2xpWG/hQn2o/xFlwrkAe3A/pckqoZD8k8yet4vZPPknLhYhDGMv1QFr9OlH91ocqbB/LGQLVYy45IJM4888yj4z6LRGHW8cy4xrULv/ZqqFpZ8nillZ10J0rmb0S58MyaT+LlPfLII7n9MaStBe+itI2UK4ld0XUZ2RrVHkWy2fP6Ech+u9bPu8dyQGHaf//9K+rHS4agGSYrC5ATZ/OE4pa8DuChjOEbGCde8CiY+ENylBbXcQqBafgMsiCRrbmK5yxEUA5oJ/4X14foOf6PciKC+tvib4g/bJrfIROfWKFTFWCY4R+HAkmAEv7G1I9F0EEHHaS+gkEhrhDsfxfIix8hCjREEFHyyDCu8cXN8sMNfFkEBEKZoH4QC4O4Ys+9cI3yL1u4jgP1UebxF6WccCwWmCXbpKwCTLn4mbKQOfnkkysUMeodFkOhDp38f1gQUwf6L/0hC+O0erKYEqu5KsF8YIGYA0gsrrqwFkt7RTaUzzQlGJ/XZPslrwOjasdDmrzhXrzeeemQKzmWw9gsmgfiYzhZRrVYs7ALFB8rSX5c81zcUTQIMSzo09Jxj8VqoGplyeJVS9mNLpeys+aTuLxF/THwqAXvorSNkIs2TVIcw+SzcF1Gtkb0gyx57H5jETAluASeOOizGpat6Cg3VjQGWdbLpkQxvSILwULhDN9gQSfohkkPpY1AFILY4kTwCMQzrL18QCDk5WtaWDWDwsf/BBiFoBUsy1glCRQJh9hvu+22FfyHDRvmCPbiRAlxE3BYMpNBSCixkBxV5cS1Qa2nKMOUQyAgQXJphCKIJZv0KOPIgmWcM4PBIQTroGDXc8g+yq24degLOmATThPgxY7FkaBBLBbQvvvuqwFDEG0CBkzkQfnlNBRw5xSLWomxwg+rX5wI2guBgLXybPf0nGyQh3Ga/CykCRjE2ksf5hqiPZhbOEkktAeLJALdxM+7CyvS08ZxyrK4VzMe4nzq2eVCLvpRnAhgE9cNrWPePNClknIjyFIG6zR+8XuMDc53Zlxg8GBMMx4D/uw0BSIoLlCRLNXgl1Z2sPaXLRf5qim7CBeeF/XHVi1si+QS9watXhaG1dS92jRF/QA+jWqPamWydOkIdF0apaezuzEEUKyw+BERz5Y9CszBBx+sSlB8xWqgFSPAViMWyJNOOkkTM4HiWoICwCSBMslnMDm2CUJxYksfYsuX7dzjjjtOr1mIYE2TYDi9hthijR8lhaKHpTYoD7hDcFRX/OMA8OCIstNPP11ffOLzGPELf0igiroaYFVFQUF5pe05bQLFHHeNtB/WT16k1JsTASC2rQdINPyxxx6r11jAzzvvvLpOHsHVgjpJ4KbyBBte5li+Oa0BDMKCjUUHFktcLyDqhRU65OWDBeRFrjL03HPP6bYy0fVxolzapycS/TgP47Q60y7sYmBB5tSMoPhgRadPMeewqGH3g8UI6dIs9PDA5YfFIYRyyekjaVTNeIjnQ2FlDAbXmTSeWfeYH/k4DO4dEKePbL311jrmi+aBNJ5BFhZstWKdxi/cQ0nCDUr8hp345+pctPHGGyvuWLJpp+CWArYoPIGK2r0Iv6yy6Qv1lIt8RWXnYRJ/Vmt/rJZvvemK5Cpqu3rLj+cv6geNbI9Gyt0reWU5C3fS/bIO0fXUkeApmZT0ZAKCiAiKku35eliWztuK+mcJG4LH5GUXJSEim2jiQETCE8QViMAzTmsQJUkDZ4jilu3R6DnBSERnE5UP3gS6ERgH8REGgmtCXvGr9Hy0IRCnd4hSG13Ly1uD7uBHMJooZ15cGjT4jgAdfqLQetJB8sLXExaQMR4YJ/6ZepKFTBoa+CfuEBrsJ9vLUVl5fxB0Fv+wBEF4ohBqMA5BUMhMeVkUD1QJaQjeEdeDKAvBf9QFrERB18A3gkNEqVUMOIWD9Jy4QYQ75RLYBxFcRYAhdaP+BDbygY88ygqMSzsdAvxoa3lZ5LFs+rOisZQXGBc/IaYajNMqJ2f1ap+67777Kh5zWgqBhPRzfrRZfIwleYkVWtuIITkIAAAgAElEQVSctpdFlj/++OP19Ip4HyZP0XhI8pUFqspHcGsIjIvXO61fxnlw4gL9jmAzWeTqPBDGTNE8kCWLLCBz+3OaTLLA9XPOOWeSpV5zkgJzCm0I0UfFZcqLVVivGWfMH3KknaYjfTgdoqjd4/gpswTllV1PuRSTV3YaRvH5JPk8rz8m01J2Ft5FadOel5ULOfIwTLZFWtnxeqQ9D7IV9YOi9kjKYtfFCBTN3Vkc+vCg07V/tvrCtm4z60KgClYRfFQ547NV1Kr6N7K++CZSD/yvkn6DlIOFBKzZ5k8GkdGFeYZfbtIfm0/24qIgAySy0pMeKxRW2+DPSDAblpJat6jwj2M7lHKTAUp5+HCGMh9hSG5b47oBBrXwyiuHZ/hOg03SVYf7nBUM3iGIKsmLNFi4k+4gyXR515wHjK+8vCCiZFgm8ZsO1sq8/M181uixBH5YcZNW8LJ1oq/hppLnI4tLkLyg1ded9iUQjV0rzueNWy2DDLWOB3YGsLxSrzRirGGhzupTyI8FlR215LxZNA8ky4vL0misk2XFr9kBZBdosskmS7XG58lShF93lQvfespOk4vgTOZMdnraifLGSVHbNbIeef2gO9qjkbJ3Gq+yc7cpwZ3W0inylm38FFY98pZYmzTSni+atQtxUsK6666rH8VA+W4V8eEElG58M7uDULDY8mbxEg8mZWGCL3W7vTx7wljCn5hgRznGT91sWPDxARoWI1m+6o1s++7uU42U1XjVh4C1dX34We7GIVB27rbAuMa1gXFqUwQIPuPlzzFHtVp6u6tKHNHE7gVfriJIr1WE33PWyR2NkInPJhMESKBhIILkOCqr3RTgRtS3HXhw3BqWXwIwsUSxq8BCBF/hZlB396lm1MHKqA4Ba+vqcLJU7YuAWYLbt22qlqzsCqjqAiyhIdBLEOhpY4mt3+5c5PSSbmHVNAQMgTZHoOzcbadDtHnDmniGgCFgCJRFwBTgsshZPkPAEOgNCJgS3Bta2epoCBgChoAhYAgYAoaAIVCBgCnB1iEMAUPAEDAEDAFDwBAwBHodAqYE97omtwobAoaAIWAIGAKGgCFgCJgSbH3AEDAEDAFDwBAwBAwBQ6DXIdBjTofodS1nFTYEDAFDwBAwBAwBQ8AQUATKfDStx5wTXKbyPaXflD0apKfU3+phCDQKARtLjULS+BgChoAh0DwEmLvLkLlDlEHN8hgChoAhYAgYAoaAIWAIdDQCpgR3dPOZ8IaAIWAIGAKGgCFgCBgCZRAwJbgMapbHEDAEDAFDwBAwBAwBQ6CjETAluKObz4Q3BAyB3oLAs88+64455hj3008/9ZYqd1s9v/jiC3fwwQe7M844w3399dfdVo4xNgQMgfZGwJTg9m4fk84QMAQMAUVg1llnddddd507++yzDZE6ERh77LHdWmut5e699163yy671MnNshsChkCnImBKcKe2XC+T+5dffnGvvfZal1q/9957znvf5X6rbvz888/urbfealXxLSv3008/dZ9//nlF+VjYvvvuu5bJ1C4FH3744e7AAw90zz//fF0ijTLKKO7GG290o48+el18Qua///7bMa7KUD15y5TX6Dwjjjii++uvv9zMM8+s1uDupEa1fy0y/vjjj+7ll18u3b61lBXStqLMMnJaHkMgjoApwXX0h4suusgtscQSOpHuu+++OqkalUPg/vvvdyhSWfTcc88p1nF644033KBBg1yfPn2yshXe51iVqaee2j344IOFaYsS/Pnnn27GGWd0+++/f5QUZYG+Mcccc7gBAwa466+/vohNxXMUSepXj2JN+byIwXexxRZzL774Yk0yJBN/8sknbtFFF624jYWSuj/55JPRfbac119//WT2jrtee+21tQ2yfg8//HBuncBgkkkm0favh+hLm266qdtnn33cBRdcUBWrV155xT311FNuhx12cHPOOadjzEDwYjwhVx4v+gz1/vDDD6Pyqs0bF7AR/TjwawQv6rDrrru6c845RxcW3UmNav9aZNxiiy3c8ccf70YeeeRashWmzZsvqymTsTJkyJDUchrRrqmM7aYhkIOAKcE54OQ9YksS5WLbbbd1Bx10kLviiivcoYcempfFnuUgsNdee7nHH388J0XXR7vttpvbcccduz6o4c6oo47qVl55ZTfhhBPWkCs96RNPPOHGG2+8ipcqW6033XST+nKut956bpNNNtEt2GYSShPKzGabbaYyzD333KWK/+eff1ShYuGR9KPcfffd3XbbbeduueWWiDfb9xD172Q64YQTdOHAjzE+2mijRdfcm2+++XKrN/3007urr77aDR48ODdd0UPmHKzBKBGnnnqqe/fdd4uyuAsvvFD7HsoHfeCqq67SPGV4hcLqyVsocJMSNLMOjWr/aqFhQT/GGGO4Sy+91A0//PDVZqsqXdZ8WW2ZAwcOdB999FFqWYwr2mWiiSZKfW43DYHuQKDHfCyjO8DJ4okycPTRR6sVYY011tBkvJyardxkydeu99l6xRL68ccfu2mnndats846jm3JRx55xP3www+OwJ/ZZptNfR9xcbj11lvVcjX77LOr4hGn119/3WGVWGWVVfT2v//+626//XbdAuzXr59beuml3VxzzaXP3nzzTYdVMm6Jo614OU011VSalv+hLBn1YQFRB14+gbi++OKL3R133BFZsanPWWed5ZZddtkCbl0fs0h4//33Xf/+/d1MM81UkQBLHQoq5S+yyCIVcmC5XXjhhfW3wAILdGH8wQcf6AIEjJdZZhnHiy6NUKbp8+x4YD1PEmUnrfksVI488shonCTzdMJ16BvI+tJLL6liEfoW99gBQMmcd9553V133aX9NywAcOF54YUXHC//KaaYIrO6pBlnnHGifkhClIVvv/02WrSsuuqqbqyxxlKMWXAVuUUg6zzzzOOw0N199906Po444giVgXEz/vjjKy/aPt5vM4X834MiOYr6U14/TpZdhtcff/yhOxILLrhgZAllzvnmm28iLLGCjznmmNqeN9xwg84FEH0b+RhDDz30kPvyyy91zEw33XRJ0Squ0+SMy/Hoo49q+qQc3At9hL8pix2VPKKvUb9xxx1Xd1pC28XnQPrfq6++WtFPs/KllUU/Zi6df/75lQd/L7nkkm6CCSaomC+LyozzBuvffvtN5+N33nlH+zr9OIybGWaYQec13glGhkDTEBBlo+NJFIOm1kG25n3fvn29THL+119/9aJgNbX8ZGHNrn+y/GquJaLdyyTnRaH18lL2k08+uReFS7MecsghXhQAv/jii/trrrlG762++upeJnkv279eLJderG1erKxRUQcccIDfaaedomvSyQTtxdLqV1hhBS+KipcXvz4XBdHLC8/LS02vxSLnZRvYy0vRy7YoDsVefIt9noxRQTl/iMXTy8szSkF5MqF7ebFG98RS6kX5yOFS+eirr75S+RZaaCH9iSKvdbv22mujhLIg86LAKmakoW7PPPOMPhfly4uV22+44YaK93DDDecvv/zyKO9pp53mZcvUr7baalFeeaHnynfJJZd4eVl1SSMKlhdrcMV9WTD6kUYayYuy1SV9O94oGkuyqNG+FKfPPvtM20hcRLSPgjVUhH2cx5577ulFyajgSz+WHRK9Jy4LXhba2k6ME8aPKCYV6eMX++23nxcl2Uvwl447xpAsgjRJXn9JMpQFlNYt9IkiObL6UzX9OFl2WV5JmUOdQ/3z2iXIudxyy3lRonVMMGYY21mUJWeRHPDLkyWtvD322EPHM3MoY3DKKaf0slDSpHlzYF6+ZDnIJNZYv9VWW3lRgD1YiHFCk8Xny6Iyk3zpy/RhcQ3zYJYcN2IY0L4mSnIyq10bAoUIFM3dWQywuHU8la182YoHRYYXvlgdVSlhsmjV4G12/cvgduedd6oyJIFjml2ChPzyyy/vxfKq1+AXFODbbrtNFTMUU4iJlxd/XAnm5cRECoklTidpsbboNcTLf+edd46uZVvYi/XSi3VNJ/h77rlHn8Un9TwZUeYee+yx1B/KM3Tuuef6lVZaKSpTtsC1rDiJtdaLj2WFYlyRIHERXsooNYF4SS211FJ6KT6fyu+BBx6Inouvoxc/dS/b5bqQCDiSQHxDo7wopiOMMIK/+eabo7wrrriiF+ttdJ32R5YSfOaZZ/o111yzSxZkEXehLvfb8UbRWMpTglE0IPojfPKwT9ZddghU2QqLBQky1IW27Hj4oUOHerHOR4s68rIIFKthko1eMw/B6+mnn9ZrxhgKE0pgXn+hjycprsgVyZHXn4r6cbLcenjlKZ9F7RLk3HvvvSORxI3Iy25RUkS9zpMzTw7yFsmSLFAsqbqoDuOZxTVKsAT25c6BefmSZTA/MU+HRQ99mbk5TQmuZt5N8pcdwGgRHpTgMG6GDRtmSnASMLuuGoGiuTuLkblDlLC5s60mk6WTyUKj3wmy2Hzzzd0GG2xQd9BRCXE6Igvb57iRiPXWbbnllrqlz5ZbGomyqe4CuExAbD+zpSvWsig5rhBsn0GiyOnWHyQvanULICCI7d5AlCnKnm6HbrTRRqnuCHky/v7779FWcsT0f3+IMq5bq/iFixIcPWY7FNniJIqNunrwjL+rJY5zCkQdRMHRS1HmNTCTrcpAovy7U045Rfnjuyu7Fdov2YbkxzXEdi/b62JdjPLiglLWj1AWKup/yikIbHEGYqu57HfdIyYd8EfAkTafZpppcrFPVoc2ZOsZn1384/EhBsNZZplF/6ZN2EqmD0P4ntMHcLmh78Xpvvvu021lxhiEqxa+6LLIy+0vbNXHXT8qmMoFbkt5cuT1p+BDntWPk2U1klecd7XtIrsqUTZcSphP0ihPTlxN8qhaWQIPypLFfzQvMr5lx8fJgid3DszLl5SPtATPhn5AX8blgrktSdXMu8k8adfxcZP23O4ZAt2JQPVv4e6UosN447vHBHDcccep/xLKMEcgEX2N72kjgqw6DJJCcXkpo4gR0IM/IhP49ttvr0GFSaWLhQUv+TglMeXlj38ahF/aYYcdpr62k046qfq+8n+SeLGJlTlVASZtnoxEWWcp7eQlwh4lAiU/EAEeySPCuMb3NsvvNilzuEaRCcRLjzpD+DDHlX3uhWsWBPiuX3bZZerDi28f5YZjscAQv8I4Jdui4mHBBX6ILF5OPvnkipcmOHz//fcFuTv/8cQTTxxVggUf/TsL+7TaslATa7oqweKy4rbZZhtNJhYzPaFBLPAV2VAe0pRg+hhzVJzC+MnrLxxxl6cEF8lRTX/K6sdJPBrJC94sPKFq24XFYaD4eCsjZzxPkKMWWUJ+/JOT82I1c2BevmR9SJucE5LXIU+1826yjOR1fNwkn9m1IdDdCJgSXAJhVvBMAEyoSTKn/iQi/+8aBRE6//zznbgNqBUSZRirZtzqQhrZ4tMgnji9/fbbFdcoegQOkR/LMRZIAi9CwBindsRJttr0aClOk+C4KKyWycCiPBnFdUMD+dIIpQ9LNXVCGUcWiAAXzg3mLOMQWMNCIMiYxqvWeyi3nADAyzUcFRdODeAUASyLBBHSZyFONOFFBxGoBS7046D8EkAF1mU+IIClkB/WqTgRtJc83q4iQQ+8EJ/tXOzTqozFjUBCrL1Y7MPxcrQTihhHeYV2QtElWIkjzpJEejCP9wmCI6G8/pLGK867SI68/sTuSy1UD6+AEQGLgdi9g8q0S57ceXKuu+66mjVNjjKyUBbjM04E9WGEYTcgaw7MyxcCiwNP0iaPMMvaxalm3k1iF+ao5H27NgRahYAdkVYCeU4r4NxXlCoUCLbKOTqJbSS+RGTUFQHOAWbLHuskL3SUQqxCnOQQKHwOFmWTkyI44gfihc72fpzYJg7KHkodltrwEscdgmO54h8CwMrGlvDpp5+uSqj4oXURMk9GFje4Y6T9sHTy4pUAEj0JIBBWNU6kOPbYY/UWkf7nnXeeKsyNItwvqOeJJ56oLHF14JxirOFEjYNLsOQQkY1lElcMiPbAKh3yctg9eZGzDHGWM1vwyTFAubRXbyIs33nYp2FBe4lPtVqQOXUmuDlgXaf/sWuCYssJBixSSJdmuefIPxZf9HWIxSKLTyivv6AA5VGRHI3sT/XwwloKlsF1hEUoyi9Upl3yMMmTM0+OMrKgsHJeOO4xECdSbL311lqnvDkwL1+ybvQ/XMs49xsCO064SaO8MtPScw+Fnfk8uGRlpbP7hkDTEMhyFu6k+2Udouupo0xGGnVNwApBXP/5z3+iYIJ6+JbJ24r61yqn+DP6EP3L6QgE/ch5s14s6sqKwC+CtEIAGAFIBB0SiU+UO0Fw8cA4Udy8KLaalxM6CPohPYFoooh5cbvQdiFohJ8o3ZoOkklYT1MgOC4eGFcko2bOIQLM4qdDkJRAPFEANaKbvoLMlFkthUCdeNClnKXpxfUgYkFAIPUDH6KvCZojKEeUWsVFtnY1PScEcDIAcoSARAJh6Me0CZhwsgGnnuRRVmBc2ukQYEowj7yo81i2zbOisZQXGEcgYqBqsE+rtJy3qsFB4tdb8ViOxNJgR1lg6I+2ZA7KIlnQeXEJ0n5HvxCrcnQ6RFZ/SeOVDO4qkiOrP1XTj5Pl18OLMcJ8wKkzBI9xMgFjoahd0uSUxYQXV7ekeNF1lpwkyJKDZ0WypBUouwE6ngm6JCCWIFnm0KI5MCtfWhmye6TzCP1GFvJePrqhJ59A8fmyqMw03pwERP8WxTw6HSKMmzTs03jYPUMgDYGiuTstD/f68E/TNO5uKojtmrDd201FZLJlCx3/4Fb6NbWy/pnAZDzAr5CtSTniqUtADxZNrGfx7UysBmzhJgPM8F/EFUI6vlqU6cZYRrAsh7bAQo/lodYtuDwZM6qlt/lQBB9WSG4n8gxrHH6GySCmPH61PsMfHV/rpA8f99kOxzKV5fNJGnBMuojUIgPnARMMxIH3gbAi4UsdLEu18GtF2kaPJXDFipu0jpetG2OH3afgC5rHh3S0B/7AjKskcUYr4yMexJhMk3VNUB7jKgTfJdM1oj8FnmV5EbDMztNkk03WxWLe6HZB1iw58+QI+WrpI7QrFlpcwuK+30VzYFa+eNuxG0fQNzEVzBkEJ3M2OGcMB2t6PH1Rmcl+wTU7TvTHNNdB5nPm/6x5Ko2f3TMEQKDs3G1KcA/oP2Ubv9OrzgcIeIHzBbN2IE5FwA+QD2KgXLQT8UEQlHB8CLuDeBmyNcuCJf7ZaBYq+IBnKUvdIUs9PHvTWKqnT9STt572sbzdiwC+6ATQcpIIrlwYFuTYRP3gTVZMRCMlsn7VSDR7F6+yc7cFxvWuftKjaksgCBMzn+ut1drbHUBwlBI7Enz1iSC9diL8Q2s5kq1W2flsMoGB+MkHIkiOI506RQGutc6dnr6ePlFP3k7HrSfLz1F9WH6JW8Cyzc4Vi1t8hZtB1q+agbKVEUfALME9oD+UXQH1gKpbFQyBhiJgY6mhcBqzDkYAN47uXDh3MDQmehsiUHbuttMh2rAxTSRDwBAwBAwBQ6CVCJgC3Er0rexmIWBKcLOQtnIMAUPAEDAEDAFDwBAwBNoGAVOC26YpTBBDwBAwBAwBQ8AQMAQMgWYhYEpws5C2cgwBQ8AQMAQMAUPAEDAE2gYBU4LbpilMEEPAEDAEDAFDwBAwBAyBZiFgSnCzkLZyDAFDwBAwBAwBQ8AQMATaBgFTgtumKUwQQ8AQMAQMAUPAEDAEDIFmIWBKcLOQtnIMAUPAEDAEDAFDwBAwBNoGAVOC26YpTBBDwBAwBAwBQ8AQMAQMgWYhYEpws5C2cgwBQ8AQMAQMAUPAEDAE2gYBU4LbpilMEEPAEDAEDAFDwBAwBAyBZiHQxws1q7DuKodvRhsZAoaAIWAIGAKGgCFgCPROBKaZZpqaK9635hxtmqFM5du0KjWLxSKgN9e/ZsAsgyGQgYCNpQxg7LYhYAgYAm2MQFljqLlDtHGjmmiGgCFgCBgChoAhYAgYAt2DgCnB3YOrcTUEDAFDwBAwBAwBQ8AQaGMETAlu48Yx0QwBQ8AQMAQMAUPAEDAEugcBU4K7B1fjaggYAoZAQxF46qmn3BFHHOF+/PHHhvI1ZsUIXHzxxe7SSy8tTmgpDAFDoKMQMCW4o5rLhDUEDIHeisAcc8zhbrrpJnfmmWf2VghaUu+33nrL7bzzzg78jQwBQ6BnIWBKcM9qz15fm7ffftu126l/WO5ef/310m3z999/l85Lxn///TfKDzbdgc/HH3/shg4dGpXz5Zdfum+//bYuudslM/jRBlm/IjwPPPBAt88++7gnn3yyriqNMsoo7rrrrnOjjz56XXzyMtNXn3/+effTTz/lJct9Vk9/rSZvo/Cspiwq+vXXX7vLL7/czT333Ln1toeGgCHQeQiYElyizR588EG3wgorpP54gRjVj8D777/vJp98cvfAAw9Uzey1115z22+/vevTp0/VeZIJy5Sb5BG//vPPP92MM87oDj30UL3Ni3evvfZys8wyi1tkkUXc1VdfnZddX8AjjDCCwxpVlvbbbz93wAEHuA8//NAtvPDC7sUXXyzLSvN9+umnrn///hU8sFDONttsbsiQIXr/m2++ceutt15d5bRL5nXXXVfbIOtX1Ee33HJL7cvLLLNMXQuQv/76y2288cbu4IMPLm0NLurfW2yxhTv11FPdqKOOmgr//fff7x566KHUZ9z8/vvvS/fXavt6I/CstiwwZ7xutdVWXTAvwiITJHtgCBgCbYOAKcElmmL88cd3Cy64YMVv6qmndg8//LAbc8wxS3C0LEkEsHatvfbabuKJJ04+yrzebbfd3E477ZT5vJoHZcrN4/v444+7CSaYQC14ENuqd9xxhzvllFPc5ptv7nih33nnnXks6n6GEvzdd9+5bbbZxm222WZunnnmKcUTheDRRx91W2+9tfKL0y677KILkFtuuUVvzzzzzKoM3XjjjaXKaqdMp512mnvzzTf1d9RRRzkssuGa/xdaaKFccZkbbrjhBnfrrbfWtUA755xz3Nhjj+0ee+wxd/755zt2PWqlvP5N2zK3XXLJJW644dJfDTvuuKP76KOPMosFG2SrZdxmMst40Cg8M9hX3M7DvAiLavhbGkPAEGgtAj3mYxnNhHH22Wd3/OK0yiqrqGIz3XTTNVOUjivr2muvdSuvvLK7+eab9WW63HLLuXnnndfddttt7oUXXnCzzjqrW2uttfRlzEJjiimmUOsZSuQaa6zh7rvvPt2uRckiXXhZYwX+4IMP3Kqrrhph8s8//6ji8dJLL7l+/fq5pZZays0///yOtGzdU3Ygyp9pppm0/UK5PPv555/dNddc49ju54Mk66+/vht55JGrxp3t5THGGEPT8zfBNSjBAwYM0HsoUfh4rrjiioU8UVLee+89rUO8/2HdI2gKBWfRRRdVRSlOWIDnm28+xTlpwSUd+VGssP6BSdZ2O9bk8847z2HdnmSSSbrISz2RL9Duu+/uDjnkEG2nTibqGuqLcsdOA30lEHhgFaRdaFus/HPNNZc+fuWVV7S/brLJJroYyqLnnnvOjTXWWBXzB+321VdfKV9opZVWcqONNpp79913dcFN+jxCFqz+tDs8nnnmGd29ivdv8sfHyVRTTaXyhjLj/Ln/66+/ujfeeEP77bTTTquLoni92Q2ABwugJLGIeuSRR7Tvg9cXX3yh/ZGxnKSivs6CN889oRFlIdPiiy+umOPKcsUVV+iuDpTEIq0OyTrZtSFgCLQhAnw2udNJXuItrcKFF17oRXlomQytrn8tFZch4OVF7MUi6pdddlkvCqVfffXVvVh9vWzF+hFHHNFfcMEFXtwG+Jy3F6Uq+luspl62g71YIr28mLwoZVHR/C2WmQpRRPHwE044oReLqxfl2Pft29eLsutFofWiQHh5EWt6sdJ5UXK8+LBWlCtKqxel2ItCo2XKy93LC7yW6npxE/Di9qB55MWu9aNugcQK7EVpzeQpSpDisMACC3hRcL1sqXtR/L34KGoesUx6UV69KJpeXthaX7E+R/zAbKKJJvKbbrqp4k5eiXSPnsvCTdtgzTXX1PykBfM8Ekuh4pKkY445xsu2cXRblCvlLe4TyaRte100lsAOvOP02WefaRuJq4niLwslfVyEfZyHbLn7xRZbrIKvKL1eFhJ679xzz/ViZdV2XnrppbW/iiJWkT5+MXDgQE2z7bbbelkA6VgTxb2if4f0WeMkyVz8mrXuc845pxfruE+rt+wQKBaiJCez+9CXkR+s6M+yoPCyMNa09fb1eIH1lgWvvPZLYtGlsnbDEDAEmopA0dydJQxWto6nspVvRMXFUugnnXRSLxafRrArxaOV9a9VYF6QvNAhlCSUro022ihis84666gynKYEy7Z+lE6CY7xYoKJr2ZLWF3Mgsc6p8iqWp+geysmgQYP0GkUOpVasbSrDPffco/fj5aKgjjTSSJ42hmhjsWL7X375RWUXa1zqD+U5kGynepQZ6Prrr/diSYye8YdYAFVp+P333yvuh4vwMo8r/NQBhenVV19VJUJ8UqO8e++9tyqo1IN+gVIWV2p33XXXSNn65JNPooVBYMCChAVKHmUpwdSVxUacxDIYKex5PNvlWdFYylOC99xzT62GWCELsU/WF6WRBQoLNEispNo2tDGLCBTg0Ed5fvjhh3txa0my0WvZFdB+Kzsteo08jJU0JbhonCQLEEtotIgKSnC83tUowfvuu2/ElkVTWFjW09eTcgZeZcqCV9HYIU0ci2T5dm0IGALNRaBo7s6SJt3xqw0t1u0q0sknn+xEIeniHtGu8raDXARnQbgy4H7AFn4gthvZykwj3CEC4TYRT8d3w6effvroOduxbAXTNgRy4ZuKu0XIg28sRx7hH4vvsVjKuhSJ+wNbxTvssINuP8Mftwn8HtkCP+GEE1J/w1irPW0AACAASURBVIYNU15s91555ZVR/f744w8nik1FOeFalOAu5cdvxOvOVjvb5KIUuRlmmMEtueSSUVL8FHFJAA/k//zzz3Ub/tlnn9XtXLbn2dKGCHAaZ5xx1D0lEL6rBEaVIbBmmxjXjEDIh5tKb6DgikObFmGfxAP3ClwDQqDkVVddpS4VuBfgQoALBu40tA8/XFbozwQgJol2pS1wJYKQJytIsWicJHmnXcfrnfY8eW+11VaLbjH+knUo09eTZYTrMmWRt9b2yyrf7hsChkB7I2A+wXW0D5H+Z599tio6RtUjkKUIFnFI+rrG0//www9OrJ7RLY61Ioqe9iEyH8V7sskmqyiCFyQ+w3ElMp4AhRxFmsAocRdQ3+TtttvOiRVO/YJRiPPorrvuUl/iEKyHfMmAMq7xVy4KqETxDsTigfrhrzzeeONViDDuuOPqNQo4L3KxGrvLLrtM/8aHEuUJrCD+RwmO0/DDD19xXcsFfpHLL7+8+sbjRw1RZ04M6A0UDwZj8ZSHfRoeBEmeccYZ7r///a8eycWJBBALGcYMi5g40X9RjEObh2ccT5ds12SakLaacZIma/xerUFw8b4e+nKcX5m+Hl8Ax3mVKYv8ZdqvCCd7bggYAu2HgCnBdbQJkfDi46nBE0atRQBlkECiECxDoNdxxx2nSiyBShAWXSy4ENZacR1wWE5RUpdYYokugUYosBDBYOLCodZggpOwXhEIKa4b+jxJWIhRoMUPV49443i0Y489Vu+JK4UGNoWXNta8eJBVklfeNVHyWFlRZEKAILwhArlQRPkRyIQSDHHGKpZxaMopp9QAQRZzYWFy77336pnGBB7VShyPxvGBBHkFok2wSvY2KsI+DQ+steKuokGjtMEGG2ygybDoYgnGAhzaiYUFOIsrVhdWpCewLE7sDKRR0ThJ5qnn+MEkr1qui/p6LbyqSVtN+7UKi2rktzSGgCFQHQLmDlEdTqmpeFlJkEddxx6lMrabNSOAe0RQAMmMNUz8IqOjmoiMR4lACYWwunHm6umnn+4k0CdV6SOCHeUYZZgXHhYvlE1OUWDxI76Qqb9wkgBpcbNA0YWwSGN1lgAytSpjBeYIJs5mLUO4MeBGgbIP4eYgPpBOguhU6cXSCwbBCoibxEUXXeRwy4CoG5HvIT8fSOAEiOT2dLWyUU9OCohbIWmT3hg5X4R9GqacrsFJGhw1J77Z0Skf9CHakbah37BoYZFCuuSuCnzZteAEFFwqINpdgk3TiiwcJ8lM9HtOdQkuNcnn3XVd1NcbXW417dcqLBpdV+NnCPRmBEwJLtn6vIzwyYz7s5ZkZdkagACLEY5tCoTFFuUWhRTlFWsv7hF81AGLrDjRuyOPPFKTo4gOHjy4y3m9G264oVp9sZiiSOKfKUF8uuWPgssOQNovfsQYik3c3xcl9Omnn1aZgpsG2+ZlCGWT+nAuK0fK8UPJlwA8ZYeSj881R1YhO8oR5xRTd1wpUIBZGMjpJuo3DFZY3LAWlyHqGY6DIz/KtgTfOQl8KsOuo/MUYZ9VORZEEnCmZ0gHAlPamUU3/RAXE6zA3As7AHF+WII565dzoXEhYuHFgi3NnShvnOAGlCT6EMfeZfkYJ9M36rqorzeqnMCnmvZrFRaNrqvxMwR6MwJ9iJjrdABCEFCn16Os/L29/uCG4kAgEViEr13RtXEXwOc2+C2iqGFVq2UrE95YR/EpLjqbNdmGuMzgHhG+pBaeY02DV5EvcJJf1jXuHfjzxv2iQ1pcHngup2Co4p1GpMEXM01RSkufdg+XD6yOKOVQOBM5fCgkLU+73Wv0WAJXLIYsUBpB+HrjrxrOK07jiUWfwEn6K7sYnOeLJfjuu+9O/XhJreMEP2R84qlXGuECQ1/M6mtpeWq5l9fXa+FTTdqi9ivCopoyLI0hYAjUj0DZudt8guvH3ji0AQIoBWyZYgHD9xdC0Q2+sEHEWj50EfLAu9bgn5AXn01e2vgix5UGrMuNpOCCkcYTGTgNA6Uby28apfmWpqXLu8eCIx58SIAcvtS9mRqBaxy/tEVOEl98vlkQslOFPzYLrpNOOkl3QtKo1nESt/an8ZMzinP7WlqeWu7l9fVa+FSTtqj9irCopgxLYwgYAq1DwJTg1mFvJTcYASyRbFHiK1mLpbfBYlSw42tdKOJ8pSv4BndneVm88X1O8x/NSl/r/T322EO/5seJGBCBWXxOOO0LdbXytvS1IYAPNi4+BGZiEcY9B8U0K5CzNu7Fqbu7rxVLYCkMAUPAEKgOAXOHqA6ntk5VdhugrStlwhkCLUCgp42l+MkfLYDTijQEDAFDoCkIlJ27LTCuKc1jhRgChoAh0HwEutP63/zaWImGgCFgCDQWAVOCG4uncTMEDAFDwBAwBAwBQ8AQ6AAETAnugEYyEQ0BQ8AQMAQMAUPAEDAEGouAKcGNxdO4GQKGgCFgCBgChoAhYAh0AAKmBHdAI5mIhoAhYAgYAoaAIWAIGAKNRaDHnA7RWFiMmyFgCBgChoAhYAgYAoZApyCQ/C5ANXL3mHOCy1S+GoA6IU3Zo0E6oW4moyHQTARsLDUTbSvLEDAEDIHGIMDcXYbMHaIMapbHEDAEDAFDwBAwBAwBQ6CjETAluKObz4Q3BAwBQ8AQMAQMAUPAECiDgCnBZVCzPIaAIWAIGAKGgCFgCBgCHY2AKcEd3XwmvCFgCBgChoAhYAgYAoZAGQRMCS6DmuUxBAwBQ6DJCDz77LPumGOOcT/99FOTS+59xV122WXu8ssv730VtxobAr0MAVOCe1mDW3UNAUOgMxGYddZZ3XXXXefOPvvszqxAh0j97rvvuu23397NNNNMHSKxiWkIGAJlETAluCxylq+tEXjvvfec975tZPz555/dW2+91TbydJcgn376qfv8888j9l9//bX77rvvuqu4juB7+OGHuwMPPNA9//zzdck7yiijuBtvvNGNPvrodfHJy/zjjz+6l19+2f3yyy95yRr+7I8//mh6mVmV+OKLL9xVV13l5p9//qwkdt8QMAR6CAKmBJdsyC+//NJtu+22ai1gsjz55JPbSukqWa0eke2NN95wgwYNcn369CldH84cnHrqqd2DDz5YmkfI+Oeff7oZZ5zR7b///hGvv//+2+27775ujjnmcAMGDHDXX399ZjkoktSlXiWa8lDIUFQXW2wx9+KLL2aWWc2DTz75xC266KIVSbFUUtcnn3xS76NQrL/++tWwa9s0a6+9tuKf9Xv44YdzZaf+k0wyibZzPUSf2XTTTd0+++zjLrjgglKsivr1Flts4Y4//ng38sgjp/KnrkOGDEl9xs28vkq/A8MPP/ywIj+L1XnnndftvvvumXwb8SBPtsA/jMtNNtmkC8ZFdW+EjMbDEDAEmouAKcEl8V5jjTUcyhY+eltuuaX+f+qpp5bkZtkaicBuu+3mdtxxx7pYjjrqqG7llVd2E044YV18yPzEE0+48cYbT614gXbZZRd30003ab9Zb731HC/de++9t+6y8higPKGIbLbZZlrm3HPPnZc889k///zjnnrqKV1ooFjECUVmu+22c7fccoveZgsfoq6dSieccIIuGPgdeuihbrTRRouuuTfffPPlVm366ad3V199tRs8eHBuuqKHuEFgDUYJZa5h275WyuvXLPjGGGMMd+mll7rhhx8+lfXAgQPdRx99lPqMm2CDnBNNNFFmmuSDxx57zE022WTutNNOSz5q+nUexkV1b7qwVqAhYAjUjUCP+WJc3UjUwOCbb75Rxeall15yc845p+bE4sWLf9ddd62BU+9IiqXn1ltvdcstt5xixEt0+eWXVyvoHXfcoQoFf6+66qoKyL///utuv/123Zbt16+fW3rppd1cc82lz958803FOm5VQ3lE0cBy+/rrrzusXausskoEbha/PF5TTTWVlsv/ENvDWGs//vhjN+2007p11lnHjTjiiFEZeX/88MMPqlwE4vriiy/Wui+xxBJ6mwXVWWed5ZZddtk8Vu7xxx9377//vuvfv38Xn0UsbCinlLXIIotUlAlTLLcLL7yw/hZYYIEu5XzwwQfKH0VmmWWWcShMaYQyfc4557i//vpLMU8S5aNsB2JRcuSRRzoWjp1IoQ8gO2MeBTH0R+5h6cdKiDXzrrvuUsU/KP+vvfaae+GFFxwK1BRTTJFZfdKMM844UX8jIePk22+/jRYrjI+xxhpLsWX+KXKLQBbGEDtVyMvf9Ld4v6ac+PhA7ldffbWifkFo6v7bb7/pGHznnXdUVuSI13uGGWbQflnt2KDPDh061O28887u999/dyONNJJ79NFH1YVmxRVX1P5IX37ooYccu2/02+mmmy4VR/pjtemzxhH4jDnmmNrON9xwg84rULLu1NPIEDAEegACoqB0PIlS0NQ6iCXMjzvuuP7CCy/UcmULzcsL3m+11VZNlSMU1uz611pJ8JGh4sWy6iXgxC+11FJeLFp+rbXW8muuuabfaKONfN++ff2VV16prGXL108wwQRerKN+hRVW8KJ0+LvvvlufyUvTy0vKy0tRr8W65mWr2cvCRK8POOAAv9NOO+nfgbL45fEKMotvsZdofC8vPT/77LN72S72k08+uRclsaKMvAuxgnp5kUdJkF2UBC8v7eieLA78+OOPn8rmq6++UvwWWmgh/ckCQDG59tpro/RHH320F+XVr7766poGTJ555pnouShhXqzafsMNN1TZhxtuOC/R79FzscJ52QL3q622WpRflOJUecLNSy65xIvC0yXNEUcc4cUaHN1nvIhy40V565K23W4UjSVZvGj/i9Nnn32m7SOuIV4s/ooxVIR5nMeee+7pl1xyyQq+9P299tpL74n7g44Z2mfxxRfXPihKbUX6+AVlizVW5yRRgL0sQP1ss82mcxWy0q8DZY2PJHNkQQZZsHr6S1q9Q18VRTmZ3csiTMsO/SreZ2Vh5ieeeGIvSrXfYYcdtI8GXsi+4IILar+k3zKe0qgofdE4ymuvZN3Tyrd7hoAh0DoEiubuLMnwY+14Klv5eiouFjdVGnixoLDJlqgX60U9LEvnbUX9axE2vHhlq1GzcY3CF5QF7onl1sv2uhermmIq1qCoCJRlsRRF1yw+xALpxVKmL/p77rknesaLkhd0oCJ+WbziysKdd96pSpwEtylbCXDyYsn2Yh32KHiynZv6Q3mGzj33XL/SSitFMsnWuModJ/qT+EtWKMbheXh577ffflEWXtgsJqBXXnlF8z7wwAPRc9mR8DPPPLPKR/9g0RZXfFA0Qn6U0xFGGMHffPPNUX6xwnmx4MZF7PJ3lhJ85pln6uImTshyxRVXdOHRbjeKxlKeErzHHntodehzRZgn6y07AarghYWCBBfqwlB2NrxYSr1Y5aOFIHlZ7IlVNMlGr+lL9NegbCIPinCaElw0PpIFyC5ItHgKSnC83tUqwWl9VlyEdFxLcJ7feuutIyV47733jsQQVx4vluykWHodys5KnzeOqmmveN1TBbCbhoAh0DIEiubuLMHMHaKENZ9tN3zy8AXcfPPNdevujDPOUL9HAkuM0hEIQVRsJ+NSQHBWIIKpvv/+eyfKmG7HQmyTsr0vL0wnSnOUFh9sUdh0m1isyBUuBLhCxLcqi/jl8QoFsuWPH6xYmNX/G1cEtpohtnDF8hnJFv8DH0e2VkX5c6IER4+IhEeuOInCo4GVPOPvNJLFQHSbuj/99NN6LYsAJ0qmE0ti9Jzt5VNOOUXdN6aZZhr13f3111/V9YTtbH5cQ2w1s80uVsYoP+4rWX6hUaKMP8RSqb7OnIbAVjnEtjJt05Mp4EfbFmGexIH2w22BUwnE6qg+xGA3yyyz6N+0Ba4I9HsIH3PaH9ca+licaE/GVnDjQB6C8+iHSSoaH8n0adfxeqc9T7tHn8VtItlnmVcZ0/H4CtndiFjMM888Oh/kUVH6tHFUa3vllW/PDAFDoHMQSH/bdo78LZGUABL8UFEwCFSBxMqiL5qNN964i4LTEiHbsNCkcpe8RmT8Ew877DD1j5100knVf5X/k8SL7rbbbuviQ4tSIJb5KHk1/LJ4BSa8rFEeeTHja4zcnCN60EEHaRR9UIiTMnJNFD/9BAU6EEFDyWPDuMYXN8sPl7yhr/G3WA0VKwh/5fgigXvhmuPKZOtc5eUDACj0+IdSTjgGC8zEUqy8ApVVgMmPXym+zZyYEhQv6swipyeTbOdH1WPRlId5Gg4ssMSKrkowH2rYZpttNJlYXPVUBbG8V2RD+UxTgvGdTbZn8jowqmZ8pMkavxevd1Ha8Jy+Fx+n3A99Viy52k9D0CULtEDxfp9VVlH6tHFUpr2yyrf7hoAh0DkImBJcoq3E7K4TdnwyxerCC0m23PQ4JKNyCBApjhWRQJRwWD1H0cVp2LBhekwUJ0DItr7D8hiChGgXAorCyQdF/PJ4hTJRYqHzzz/fiWuDWk5RhimDAD+C5NIIJZCdAdKj2FMvCKs35wZzlnEI8kHJLns4PwqDuHWoJTkcCxdODqAviu+wWhgJGsTiBXFcGsoSRMAWOKAIBOVXfLDd22+/7TjFolZ65JFHHD/xSY6yEgAVggBr5deJ6YswT6sTi2iCCLH2YqkPR8vRPih/nC4S2odFE4FuaXMN6ZPHmGVZ4YvGR1LO0L+S92u9ps+yQEQJp24QwXZQsGDXyrOe9NW0V6PqXo+cltcQMAQai4AdkVYCT04m4KXCNiXElrgEeagFLO2lVKKIXpsFxQzrasARdwjcTOKH92Mx40ix008/XRVH8UmM8GL7OH50VBG/PF6B6f3336/btrhn8MJGcWUBxMkVRMFLUFPqD+snSgunYhD9H4iXPH3o2GOP1VucAHDeeeeVdqXB1QJ8TjzxROWHmwNnEmNFRyHCAgumwRqIsoFVGNcLiLphhQ75+WAC+ZGrDD333HPqMjL22GNH2SmTtuktVIR5Gg6cqiG+1GpB5iSN4OaAVZ1+xs4DCx3csVickC7NYg8PXIo4sxliscVpJGlUND6SeTi9gQVNcKVJPq/2muMH6bMcPwfh6kGfY6GUtvNTLd+y6appr0bVvayMls8QMAS6AYEsZ+FOul/WIbqeOnKSAcFG8qLXADnxVfMEt7SCWlH/WuoZgszkYw9RNqK9iXgPRHQ8wV7ycvVEiouCqcFjokx5cUNQjMXvWn+ihGo6iBMeOBUhBMeJIudFsY345vEjWCuLVzwwTl7QXhQRjWwnoI+AJYL4xIpVFQwEnMVPhyATQX2iFOqJDQQ9ITNlplFasBFBhrLoipITSEhdOJ2ACH6C3ojGhwg0AlPZJtY8YsH2ROZTLsF9EMFUnIBB/cCToEVRktPEie5lBcYlT4cAP07DEEUjl187PCwaS3mBcbL4iqpQDeZp9RVXK+1n9913X8Vj+fiIBjoy3/CjDePjKclLLP/aD+gPsujy8gEMPb0ieTpE3vhgrCXpkEMOUfkIZA2BcfF6p/XVwCN5OgSnpMjORNRnCXgjCDBQGi9Z+Ho5ljIpll4XpU97HsZRNe0Vr3uqAHbTEDAEWoZA0dydJVgfHnSDbt1UllhlwzZvMwuWF4rjbFWsaGX84hola6vq3yj5k3zokuCKpTXgGs4QLdqSxAcWNwVcVoK7Sj384rLhm8kZ0fjYJoORknWIX3M2Mhav5BY1aXDdwIexFn55ZXGGMj7LaT6gPOOsYIKqsracSQNuRWfQ5snAmcCcZcuHByCskPhNB8tkXt5WP2v0WAJPrLhxq3g9daT/4baS9KeN85RTSdQtC4sq7U0QKuc6c5Yx2/5JqnV8sFPAzkLWWcCMPSzUWX0sWX5en02m7e7rovYqqnt3y2f8DQFDIB2BsnO3+QSn41nVXZSNcJh6VRksUVUIoOgmFzW8dKshXBBwD+CrV3zRDKqHX7xMFPIyix2+hoXPLe4HbKnGacopp6ymWlWnyfvCHc+IvEfp5kMAaZSXPy198l5QqPD5DMQpGfhS90aqF88kZmmLm2QaFiAEP8rRfup2g1KKfzqLkzSqdXzEP/ySxg8f/rw+lszTaIyS/Gu5LpKlqO61lGVpDQFDoPUImBLc+jYwCRqMAAFoBKvx+d4iy3GDi05lx7FOKPV87YqAv1YSftRpp3I0SiY+m0wgIIGLEAFycnaz+ggbNQcBjlvD8ktQJpZNdhnk3F31N24GdXcfa0YdrAxDwBDoHQiYO0QPaOey2wA9oOpWBUOgoQj0tLGEy1Z3LnoaCr4xMwQMAUOgJAJl5247HaIk4JbNEDAEDIF2R8AU4HZvIZPPEDAEWomAKcGtRN/KNgQMAUPAEDAEDAFDwBBoCQKmBLcEdivUEDAEDAFDwBAwBAwBQ6CVCJgS3Er0rWxDwBAwBAwBQ8AQMAQMgZYgYEpwS2C3Qg0BQ8AQMAQMAUPAEDAEWolAjzkdopUgWtmGgCFgCBgChoAhYAgYAq1DIPl9gWok6THnBJepfDUAdUKaskeDdELdTEZDoJkI2FhqJtpWliFgCBgCjUGAubsMmTtEGdQsjyFgCBgChoAhYAgYAoZARyNgSnBHN58JbwgYAoaAIWAIGAKGgCFQBgFTgsugZnkMAUPAEDAEDAFDwBAwBDoaAVOCO7r5THhDwBDoLQg8++yz7phjjnE//fRTb6lyW9Tzsssuc5dffnlbyGJCGAKGQGMRMCW4sXgaN0PAEDAEugWBWWed1V133XXu7LPP7hb+xrQrAu+++67bfvvt3UwzzdT1od0xBAyBjkfAlOCOb0KrQLsg8Msvv7jXX3+9LnHee+895713X3/9tfvuu+/q4mWZ2wOBww8/3B144IHu+eefr0ugUUYZxd14441u9NFHr4tPXuYff/zRvfzyy46+3An0999/d6usX3zxhbvqqqvc/PPP3wlwmIyGgCFQIwKmBNcIWEj++eefuy233FItBAMGDHBXXHFFSU6Wracg8Nxzz7mll166dHXeeOMNN2jQINenTx/Hy3f99dcvzcsyNg6BtddeW9sk6/fwww/nFkY7TjLJJDpP1EMofJtuuqnbZ5993AUXXFCKFccITT311O7BBx9Mzb/FFlu4448/3o088sipz6nrkCFDUp9xk8UbOL311lupaYryp2bKuAkeSyyxhGKbxKPacl555RX31FNPuR122MHNOeecjjEYCP777ruv22STTSr4F9UxQ1y7bQgYAm2IgCnBJRrljz/+0MkXqwmT7+abb+522WUX3ao0MgTKIrDbbru5HXfcUbOz9Q3ddNNNZdlZvgYhcMIJJ7gXX3xRf4ceeqgbbbTRomvuzTfffLklTT/99O7qq692gwcPzk1X9BA3CKzBKKGnnnqqY6u+Vhp11FHdyiuv7CaccMIuWVGMxxhjDHfppZe64YcfvstzbgwcONB99NFHqc+4CTbIOdFEE6WmKcqfminjZh4e1ZZz4YUXqp81SvOnn36qVt9AWfyL6pghrt02BAyBNkSgx3wso5nY3n333e7LL790L730khtppJHcIossogrxySef7NZdd91mimJlNRmBf//9191+++26ZdyvXz+1/M4111wVUnz//ffu5ptvdl999ZVbcskl3bzzzqvP2WK+/vrr3ccff+ymnXZat84667gRRxxRn+FGgZVulVVWiXihFB955JFujTXWqOBvF81FYKqppooKZMyjIMbb/M8//1Qlina+6667dAETFjGvvfaae+GFF1R5nGKKKTIFJ80444zj4mWhbH777bdu7rnn1nyrrrqqG2ussVRZe+KJJwrdIpCFfspWPvLyN4t3+my8nHifRu5XX321S5+mfOr+22+/uTfffNO98847ygM54vWeYYYZdHcs9Ot4hZP5p5xySvfkk0+6BRdcMLI8Mza++eYbN9xww6nCzwIi0LBhwxy/sOjIwiNZDjKlEenmmWceh/WbOZ1xfcQRR0RJGYvjjz++4v3444/rAgGi/bPqmFaO3TMEDIE2RkD8Dzue3n///abW4fTTT/ezzTZbRZnywvGiEDdVjlBYs+vfkkq2SaGyHe0nmGACL1ukfoUVVvDyQvTyAlXpRBHyY445ppcXq19vvfW8vET1+TnnnOMlot/Ly9jPPvvsXl66fvLJJ/fLLLNMVKsDDjjA77TTThW1/Oeff7RPyUu4TWrf88UoGksXX3yxtnGcPvvsMy9TvF900UX9eOON5zfccEN9LIqvF4urXtPWoth5OWUgFcQ999zTy4Kp4hn9a6+99tJ7suPkRSn0q622ml988cW1/4hSm8orlC3WWL/VVlt5UYD9csstp3OWbPGrrOJ7HuXN69PxApAFGeaYYw5/2mmn+bR6y8JP+Yui3EW2ZP5PPvlE037wwQdR2qOPPtovvPDC/pBDDtFy4rTxxht7cVvQW3l4JMvpIojc2G+//bz4Vvu11lpLx6UsNLTcQMghFl+/+uqr+4UWWsiLy4V/5pln9HFeHdPKsnuGgCHQ/QgUzd1ZEhCE0/FUtvJlK/7oo4/6EUYYwb/99tsRCxQbJnSxYpRlWzpfs+tfWtAOzygWP1UkaP9AvER33nlnvUQJpg+cf/750XPZSvdivfNiAVaF9ueff9ZnEiTll19+eS/WYb3mRYtikaSZZ57Zi7958rZddxMCRWMpTwneY489VCr6CXzGHXfcCmUTBW6ppZZKlVx8UVVJDgseiTnwffv29bJD4IcOHerFjSFabMGARdMCCyyQykt8XLWvBeUSeVCE05Tgoj6dLEB2MCJFPijB8XoXKYjx/HlKMLKLb7EXn10VgUUkCrgcE1cVHvFyknVAQQfrp59+Wh8xBsWyGynBlEnZDzzwQJR111139YxFFqZFdUyWZ9eGgCHQ/QgUzd1ZEphPcAkrvVh83AYbbODkJeQImmFLTRRi5ZQVUFKiGMvSZgjIwke3iml/UUw0Up/AGrbDA7GNS/BSII5XwlXm999/d/ICdWLtYmzjugAAIABJREFUdY899pgThUS3ztnyhXCFSNu2ZTu47DfR2wy+Hi+OWGm1jvSTaaaZRoPEJp54YvUfxtcUN4KsUxdEwVK3heCTig8xbgazzDKLe+SRR3QLHlcE3Gz4icXZiRLnfvjhhy64PvTQQ26xxRaLXB6QJyvIspo+3aWAxI14vYvSVvscV4t4wPENN9yg9cEVolY8kmXed9996s7Qv39/fcQYJPgt0D333ONoD1yZAslCV9sPdw0jQ8AQ6DkImE9wybYkeITJGJ8/IvpllaH+wEGpKcnWsrUxAvhOHnbYYe6ss85yk046qZPtU/0/ThxfFfeHxG+YYCQChVCGCGjC11CsfHr+6EEHHaQKDsqMuFl0qT358DE2an8EUHgDseChffnQAqcx4JNLP8hSgsnHaTNnnnmmk+18/TjDNttso+zE4qonLlxyySURf/5A+aTfiHtGxX3iFcQKXXEveR0eVtOnKxilXMTrnfK4plvMo4Hw1RW3BSeuCYojAchQrXgkBeDoQfyv4xQPFKSN8AWOU7jmVKDpppsuydKuDQFDoEMRMCW4RMNh4bnjjjvUGiz+ecpBfNg0wMOo5yKABZdIcgJqwuH52267bUWFUUp4SQfFgOAmvvCFxQ0SVwl37rnnOqx1KMMEPYnfob50SRuCoALTDz/8UIOZjDoLgWuvvVatugQ8YhWGOG4LBTWLsNYSDImlF6tjsN4SUMcOAzsP4dQGFDkC3TgeLEmkTx5jlrWbUE2fjvNHGa+H4vlDXeI7KQTFBRJXIz0t5ZZbbtHdkyuvvFIfVYNHnpzkZ1yhcId04poRlcuihVMj4s/DSRxpeNeDh+U1BAyB1iJg7hAl8Meiw/bYscceq1vcbJFjwcHyY9RzEUCBwd0lvAg5X5QjzJLWPfGRVBeJX3/9VfsJW9Pir6Tbq7hRoNBgTWLXAEsxxLZ32pFXROHzzKizEMB6T18JFljaEWsmxytmEacPrLnmmjqPcCJIsPAuu+yyurvArgGK2V9//aVHMpIuKJJxnvBgTgpHNvIBFvFlTi222j4dMnMaDgokfbsMxfPj0kGdUfoh5GTxEIjxwe6a+OPqiRZhYVkNHnlyckSc+OY7CXDWolh8sjgNtNJKK+mYPvHEE/UWdd1///115yfvhI+Igf1hCBgCnYNAlrNwJ90v6xBdTx3FOqFR4kQQE7Bx0kkn1cOurrytqH9dAndoZnkZavCMKK6eyHvxKfTi3uBF2fFnnHGGBsYRZc6pAAQyEZxEQJJY4bz4c3p5eWvgnFh9NehJ3Gi8bEcrGvLC9bIdXoEMeUT58aJQdShinSd20VjKC4yTRUxUYfED175CUKQcO6b9ghMH6BchGDINHTmrV/uI+K1WPJajxDQwa+yxx9Yf/OSDFGks9J5YoXVe4rQK8aX18gEMPb0ieTpEUZ9OFsCpDcjHySchMC5e76KgsXh+eMtZvDqexD3By5FpehpG/JQGOZpMy7vmmmtqwiNZTrIe999/vxdXJj29A4zE6l5RLsGvslDVZ+BIQCOBfFBRHZNl2bUhYAh0PwJFc3eWBH140Dkqe7qkbPWFLcf0FN1zl0AVAiUoO2x3d09J+VxbVf98qXrmU4aLRK6rBTdYpgh6w/IU34Jluxo3iKTlCFcJtnzliKsKX058DXGFwGIc/Mqx3hE8Zx9haV5favRY4st/WHFFcW1IJeg77D6l+Y+HAuh3nFGNvzrb/JxJLcf06VnGcUtrSF9tnw7pCfTEyp12FjBp6MNYqAlkS6Nkfr7Mxg7JZJNN1sWyLadBODlFRZ+nBR0THMi4C0Fu8fKS5SRlAUfOAMYfOI036Wk//PezfKqTPO3aEDAEWoNA2bnblODWtFdDSy3b+A0VwpjVjQAfVOBEAAItIZRi/IfTXvB1F2YMUhHoCWMJf2IC8e688049YYFF24orrqgfXuEDLd1NuC7wUQ9OdChLKPEouPjg44aA61kaNaKsNL52zxAwBDoLgbJztwXGdVY7m7Q9GAFe+Cgp2223nZPtWCdnB5sC3IPbu7uqxvFeWH45XQFLJr7FW2+9tfobN4PwtcV6Wg+xk8I4YCEoZyJnsmpEWZnM7YEhYAj0eATMEtwDmrjsCqgHVN2qYAg0FIGeNpZwNahXIW0owMbMEDAEDIFuQKDs3G2nQ3RDYxhLQ8AQMATaAQFTgNuhFUwGQ8AQaFcETAlu15YxuQwBQ8AQMAQMAUPAEDAEug0BU4K7DVpjbAgYAoaAIWAIGAKGgCHQrgiYEtyuLWNyGQKGgCFgCBgChoAhYAh0GwKmBHcbtMbYEDAEDAFDwBAwBAwBQ6BdEegxp0O0K8AmlyFgCBgChoAhYAgYAoZA9yJQ5qNp9R3m2L31qYl7mcrXVEAbJy57NEgbV8lEMwRagoCNpZbAboUaAoaAIVAXAszdZcjcIcqgZnkMAUPAEDAEDAFDwBAwBDoaAVOCO7r5THhDwBAwBAwBQ8AQMAQMgTIImBJcBjXLYwgYAoaAIWAIGAKGgCHQ0QiYEtzRzWfCGwKGgCFgCBgChoAhYAiUQcCU4DKoWR5DwBAwBAwBQ8AQMAQMgY5GwJTgjm4+E74nIPDLL7+41157rUtV3nvvPee9d19//bX77rvvujy3G81D4P3333cvv/xy9HvjjTfcb7/91nABsvpCwwuqgiF1/vTTT7ukHDZsmHvrrbe63OfGN998oxjl0b///qtp/vrrr7xk9swQMAQMgW5HwJTgGiH+5JNP3KKLLtol199//+323XdfN8ccc7gBAwa466+/vksau2EIpCHw3HPPuSWWWKLiEUrWoEGDXJ8+fdwXX3zh1l9//bSsdq9JCGy33XZu3nnndQsuuKD+GOejjz6622233RoqQVpfKFvA/fffn6rEVsPvhBNOcLPNNpu76KKLuiR/4okntP7ffvttl2f77bef9ts8YvEw11xzuS+//DIvmT0zBAwBQ6DbETAluEqI//nnH/fUU0/pBI9lLkm77LKLu+mmm9wxxxzj1ltvPbfJJpu4e++9N5nMrg2BqhBAudpxxx017ayzzqr/07+MWofATjvtpNZffr///ru78sor3emnn962C9699trLPf7446UAu/32291RRx3lDjrooC75V155ZdevXz934403VjxjjqSPbrDBBl3y2A1DwBAwBNoRgR7zsYzuBnefffZx55xzjm7hTT311BXF/fDDD+7iiy92d9xxR2TRw5J31llnuWWXXba7RTP+3YgA1q6XXnrJzTfffO7WW291n3/+uVtmmWXcnHPOqaXirsD9FVZYQRWAiSaayC2++OJuyJAhDovZOOOM41ZccUU36aSTRlKGPPSR2Wef3Y022mgVNXj99dcdB3+vssoq0X2U4iOPPNKtscYa3VhbY10tAn379tXF7oknnqiK5jrrrNPwvvDHH3+4u+++26200kqO8qAPPvjAffbZZ26hhRaKRH344Yfdk08+6cYdd1zdMRhjjDHcI4884piXnn32WbXohoVUsn5p/ZT6YKXFHYK+j9U2TiOPPLJbe+213dVXX+223nrr6BG8GC/rrruuw+UBRRq3BxTmpZdeugsfMlZbR/g88MADujPCGJhqqqmicnEhYeft448/dtNOO622xYgjjpisql0bAoaAIdAFAbMEd4Ek/cbxxx/vfvrpJ3fuued2SfDiiy86rCBxNwkUJZQgo85G4M0333RbbLGFW3LJJd3gwYNVuZ1//vnd5ZdfrhXjZb/66qs7dgL23ntv3X7mfxRY/CZvuOEGVULYRQi05ppruq222kqfY2nDYhena665RpXq4Yb7/8OTxRQKzdChQzsb0B4kPdZg2nvsscfWWjW6L3z//ffat1DyAt15553u4IMPjq733HNPVXzfffddd/LJJ6ubAv7jKMYowbhXpPmbwyCrnz722GPq28u8xi+NNt54Y1W08Q8ORF9nnEw44YQ6ZlCQkevBBx/UReQ999zThVU1dcSYwNz6yiuvKK9ZZpkl4vXzzz+7eeaZx5100knuww8/VJc0LNVGhoAhYAhUhYBYpTqexGLRtDpccsklfqaZZqooTywiXiyAFfdE6fFitfBiOe522ZpZ/26vTJsVIAqBl4HkRcGIJOPv8ccf38u2uBdfcH0uSq2XhZAXpdkPP/zw/plnnonS77DDDn7hhRfW69tuu82LJc1L0Jtek18sx3688caL0ouVz5922mnRdfhj5pln9ldccUWX+3ajcQhkjSWxZGobiruT/mTx4kX58uIX7EX5UgEa3Rdk10H7liiKUQXPOOMMjyyQWGm9WDyjvsRcM+WUU3rSQGLB9bKgivLG/yjqp4sssoi/4IILUvNyk74+2WSTReNCFgB+kkkm8eJD7P/8808vCz//6KOPRvnXWmstv/POO+u1KK5aL1lA+KI68nzUUUf1sviMeIH/DDPMoNeyKPAjjTSS8oSef/55v/zyy3tZOETp7Q9DwBDo+Qhkzd1FNTdLcFVLhfxEbOmNMMIIFYnYvhTwdbvPqPMRiG/7brvttuoX/vbbb0cV22abbdRyi/UfSxXW4kCbb765WoIJnsTKhlWXbVtIFGa1msUJVwh5yVfc42L66adXNwmj1iCAKwztyO/VV1/VAFgspaJ4VgjUyL6QV9OHHnpI3SJCX2LOkcWXumkUUVE/LcpPX99www3VJQKCH9ZjXBWYC8EH6y07F/gOY8UV5biIbZfnYD3KKKOoNRxLMj8szZycAj9c09iFw1+bscWuy1133aV5jAwBQ8AQKELAfIKLEKriOX6gySOsuMbXU6wYVXCwJO2MAG0Yb0d8HDkZgFMbeOlC+P5CKMf4ZsZJrLz6osZfkn7BdZx4qceJbewJJpig4h4X9DO2j41agwAuLrgcFFEj+0KyLFwuAuG3m+xLaf0myYPron6alid5D5eI4447Tn2HUXRx4RlrrLHULeSwww7TmAh84cWCXuETn+STvI7XkTFGHIZYpSuS4VLEOJFdOV2InHrqqeqCxEJg++23VzcjFphGhoAhYAjkIWBKcB46VT6bccYZHb5pWCemm246zcXEzARt1PkIYIXCCogSCuEH+eOPP1ZYAAnYgaaYYgrtB+wChHvvvPOOWqbEhULzEDAUp7hFmfuk++ijj9zcc89dkQ6fx+RRahUJ7KItEGhkX6BC7CAEIvgrEH2NwLk44Zcr7gEVQZUVCf53UdRP0/Ik7xHUiQ8y1mCUYOImICyynJJDUF2YA9k9yaOsOjJeCHK77rrrovFEbAa++oyTgMf555+v8RpYx1GGGTv4UxsZAoaAIZCHgLlD5KFT5TMildkaPfbYYzUHFr/zzjuvyzZ3lewsWRsiQPAaFimCoQiCI2I+zWVhueWW061bAnUgLLeHHHKIBi+hHBG5ToDbpZdeqs9RbE855ZSKGuNOQUBRklCmeWbUGQjU2xfYScLtAMUW4mQI8QmPKh+CL4NLAs9x24nvFqAwplGRbGl50u5hDeaEDOa8EJCGhZoTJMRHWLPg0sDJKfEAv8CrqI6LLbaYuldgcYZ+/fVXt+WWW7oDDjhArzkLmWA83C7ACiMEC052a4wMAUPAEChEoMhpuBOel3WILlO3tMA4+IjlzouC4mVrWwM5ZKLWQJlmUDPr34z6tFMZBMbJFq8XS5a2K0FtYvn3EnGvYoZgqBDoxj3xW/SyLe3l1AANXBKFw8v2c1QtOU7Py0vajznmmBpYRRBcPDBOlArtP3EiCA9e8SCpigR20RAEssYSwWi77rprbhnd0RfkBAcNsCUIjcBIUQajwDiEEQus9k9xwdF0AwcO9ASpQfLhCi8KpP6fRnn9tCgwLvCTjwd5UT79RhttFBUhiqoGEdLHCRju37+/F3cFHTsE7cUD48hUVEfxN9aAvzCexN/eiwVYy2NciI+9BtoRrCruEF7Oco8wSKu33TMEDIGeh0DW3F1U0z4kKNSU2zwBwULTTDNNW0jJNjZ+caLgNE2edqp/0yrdpII4M5Vt1a+++kr9ebGyJc+JThMFv0bahb6Q9NskPUE9WIHhlQyqxPWC7Vx8LUOAD+dQE/DDtrBR9yHQHWOpnr5ATfGLxYqaNcfhb44LDu4BwR85IEQ+rLJZ/rFFspVFmtcKlmksshNPPLGyYRcFV43gLhLnXVRH+DFe8PmdfPLJu4jF2ckE5vGsmXNvF0HshiFgCLQEgbJztynBLWmuxhZatvEbK0XP5BZXgptZQ7Ho6Wd6wydoUYrxeRSrWjPF6HVl2VjqdU1uFTYEDIEegEDZudt8gntA41sVeh4CBBZh9cUCxkcJOArLFOCe185WI0PAEDAEDIHWIWCW4NZh37CSy66AGiZAD2bEdrH4HdpRdz24jeNVs7HUSxraqmkIGAI9CoGyc7dZgntUN7DKNBoBIs7trOdGo2r8DAFDwBAwBAyB1iNgSnDr28AkMAQMAUPAEDAEDAFDwBBoMgKmBDcZcCvOEDAEDAFDwBAwBAwBQ6D1CJgS3Po2MAkMAUPAEDAEDAFDwBAwBJqMgCnBTQbcijMEDAFDwBAwBAwBQ8AQaD0CPeZ0iNZDaRIYAoaAIWAIGAKGgCFgCLQCgawPCuXJ0jfvYSc9K1P5TqpfnqxljwbJ42nPDIHeiICNpd7Y6lZnQ8AQ6HQEmLvLkLlDlEHN8hgChoAhYAgYAoaAIWAIdDQCpgR3dPOZ8IaAIWAIGAKGgCFgCBgCZRAwJbgMapbHEDAEDAFDwBAwBAwBQ6CjETAluKObz4Q3BAyB3oLAs88+64455hj3008/laryF1984Q4++GB3xhlnuK+//roUD8tkCBgChkBPQsCU4J7UmlYXQ8AQ6LEIzDrrrO66665zZ599dqk6jj322G6ttdZy9957r9tll11K8bBMhoAhYAj0JARMCe5JrWl16dUIvPfee857r1a+7777rldj0U6VP/zww92BBx7onn/++brEGmWUUdyNN97oRh999FJ8RhxxRPfXX3+5mWeeWa3BzaTvv//evfzyy+63337LLZY0f/75Z26aZj0M4yleHlb4hx56yF1wwQX6/7///tsscSrKoVywoj3bjWg/FlrnnXeeu+WWW9xXX33VbSLaXNdt0PYaxqYEl2jqTz75xC266KKpOfOepWawm4ZAAxB444033KBBg1yfPn0c297rr79+A7gaCxBYe+21Fdes38MPP5wLFG0xySSTuAEDBuSmK3r4999/u0033dTts88+qoTlETINGTKkIgn5d911V3fOOeeoMt1ddP/997tPP/20gj0YnHnmmW7kkUfOLPaff/5xc801l2MOLSL40x4ffvhhlBTFfvbZZ3d77bWX23PPPdV1pCzFx1PgceWVV7oJJ5zQbb311u6KK65wa6yxhso7dOjQssWUzsdigrK//PLLqnjE24SjpKaeemr34IMPVpW3lkRvvfWWm2mmmdy2227r7rjjDnfYYYdpWZdeemktbKpOa3Nd1VBZwgwETAnOACbtNpP0U089pcpG0qcu71kaL7tnCDQSgd12283tuOOOypJtc+imm25qZBG9ltcJJ5zgXnzxRf0deuihbrTRRouuuTfffPPlYjP99NO7q6++2g0ePDg3XdFD3CCwBqPcnnrqqe7dd9/NzDJw4ED30UcfVTyvJX8m4yoeoIQ+/vjjUco777zTcY77ueeeq4prdxFtAcaTTjqp+/HHH91mm21Wuqj4eILJzTffrMrvVVdd5bAQs8gAX6zyW265ZelympUx3iajjjqqW3nllVWhbzRtt912rn///ooRVmB2P+h3KMXdYRG2ua7RLdgL+cn2acfT+++/35Q6iHXBywvQjzTSSF5WuxVl5j3rbuGaVf/urkcz+ctWpj/qqKO8vJj9Dz/8oEX//vvvXl52XrYYI1HEauLlhe5l+1GfiQXGX3PNNf7YY4/1sh2p6W6//XYvW95eJv2KKvz888/+4osv9qI4ebEc+T/++KOwHBLUWtZrr73mp5tuOi8Lsaj8u+66yy+yyCIV8thFMQJFY4n2HHPMMSsY0a70J1G8/LXXXutpj0CvvvqqFyuY/sRKlimAKAv+gw8+qHguVk7/wgsvRPe4vuyyy7xY2LSsLBJl0Ivl2e+3337+7bffjpLBX5RxzR/6vGxdq+z0ednC1n4qynUX1vT1Sy65xD/xxBNeDAD+mWee6ZKGG6IcerH8+T322CPCgTq8/vrrFenTxp9Yqr28gv0777yjY40xJQs5HQ9JEmuxpqVOjFv4MTYDiYIaYffSSy8pzziJ9dZLoGGSrV4nxxPli4XZ//e//+2S/tFHH/X9+vXzn332We78QcZaxnXeXAQv5hbqLxZxlYmxz/wjlld//PHHe/pAoGSbBDngAW5vvvlmlJY/aGvaORD4nXjiif6kk07q0kcrMsoFWFx++eUVtylvlVVW8fApqlctGIVCbK5LtkLvvC6au7NQwYew46ls5ctWnJdBUgkOvPKelS2vKF+z618kT7s/5wUtVhC/xRZbaDtOOeWU/ttvv/Wff/65vljEfzGqgmyx+qWXXtqHF7RYUPz222/vl1pqKS9WOS+BRn7NNdf0G220ke/bt6+XLVPNK76DfoYZZtCXJ+VMPvnkfpllltFneeXwvNayDjjgAL/TTjsp70C8FFmshZdkxUO7yESgaCylKcEoQPQbcZHy4403nt9www2Vv1hjtZ9xTdsPN9xwXRSEIAiL6CWXXLJCrhVWWMGLBU/vifuD9rfVVlvNL7744tqfwiKsIpNckIe0c8wxhz/ttNP08dFHH60L+NVXX90vtNBCqiSjyIp1TmVfbrnl/IILLqjPkBPlMxDKtFg8ta/POOOMft555/VigUsWq9eHHHKIH2eccVRGFovQ5ptv7sWFI0qfNf5Cv2e8bbDBBjpuqAfKcJLiSnD875CO+i688MJ6iUxgEaeNN97Y77DDDkm2ep0cTyjUYJRU5JOZGzmui3gllWBxk/ETTDCB32STTTz9Zvjhh/d33323iphsk4CzWGu97B755ZdfvqIqc845pxdXEr0nLiza9mJV98x9KLmBb7L+XIu/uRc3Df/YY4+lPW743EchNtelQt3rbhbN3VmAmBKchUzO/TxFN+9ZDsu6HpVt/LoK7dDMWCMkQMjzAoCwgKEEo+zmvXjCi0O29jQf1+OPP36k8HAPa4e4yuhz2QJWJZSXFYSlj5fNL7/8klsOaWstC8UlKDta2P+IFxKWPaPqESgaS3lKMModhHUVPuOOO27Uz7iP0sXiKY3EB1WVz7BooS+yqELxwmopW9gVygeK2gILLJDGSu9NO+20kcL9yiuveHFD8A888ECUXnyDVWERn0pV8Pbee+/oGQoPiihEXhSqYDXFkifuH5lKMHlQgoICzHVcCc4bf6Hf77///pEsRxxxhC4uklSLEoy1mPpTF4gFKsp1liU4OZ7Ed1Yx+vXXX5NiVFznzR8krGVcF/GKK8H0t9lmm81jlQ7EgmXnnXeOruNtEleCsfiOMMIIagSA6Ie097Bhw3Seot+J+03EB+WYxX0WgSkLJPBioSauIv7666+PdsGK6lULRnEZbK7LapHec79o7s5CwnyCZbQa9R4EZPvPyUvOiZKglRZFw4lFzK233npVgRACIuVFoTwWW2yxKJ9YyaJobYJB8BMXC60Tq4iTl5STbTv16ayWqi2LQBd5MXVhiy9q2e+pd2FmNwoRECutphGlQn1giRuYeOKJ1X8YX1LZdnayCErlw4kN888/v6aD8CEWi6ubZZZZ3COPPOLobwRD4ZvKTyzO7umnn3bi1pDKL37znnvu0RMhxNIc3RYFSeX5+OOP9Z5YiKNn88wzj/vmm2/0mrwEmwW/Z1nYObHQRmlr/aOa8UfAWaDJJpus7hMQpppqKg1KJJgNuuGGGxz3sny5k+NJtugb6stc7biuFlv6m7jdaLA2QXoEPYrCX9UpG//5z38cGOO/C9H/xJKs/Zb4F+Yr+iz9gB9+xPj7Zp3gAabiTqJ9S9xHnOySuHXXXdeJdVkDdqulWjGyua5aZC1dEgFTgpOI2HWPRoBoahSIOMk2Ypd74TkvwDihNOddh2dESKP8oLyIhViDdfhQAYpxGiXLIU21ZaEIUYckTTTRRI6jqYyagwCKQyDamWAgsQY7cZVx4jfuCEgSa0SmMARYBUVN/CojZRNFgoAy2WWKfiiTKN3VKMEoMbJrUVFuuBbLnN4fa6yxoudikY6O/iLATHygK/Jy3nBZqmb8xWUpW04SZxR3FDzGmfhVO7FOZ7JOjicULPilBSLCb9VVV808aaGecZ0UMI0XabgvLg86BxDwRt9gvqmWOLlDrLWaXCz4UaAfSitHsHESSfhx4oO4f6X2O/oSQZAQ8x+Bulxz0gbK+cknn5wqUlq9qp37AkOb61KhtZtVIGBKcBUgWZKeg8AUU0zhZNukokJYhm677bbonmzJRX8HS1mtCIR8559/vlrVeLlIwErDy0EuFJrkSQDc5/iopPJTaz0sfTkEJEBOlS5xZ1AlgL9DJHsWR5QRrGxYerGkhWPu6LMoplj4giVY3DL0uDOOXkuj+CkM7Epg3YwrhkGhy8ofeKIAkja+eOMYrLJUzfirlTcLTShunQyW7MCLj4Sg0GPxZGdGfIIzi0mOJ9nWV0tm2kdKOKmDuYM0gRoxf9TCi/pwHJy4Q+jCm6Pi0naGsiosPuuOI9Tuu+8+VW5RpCFxE3OcLc0HWlCS+V100UV6BF3avMICh7zJk5NQiLHEx88ubyRGyGpzXVbr2v0iBEwJLkLInvcoBLDK8hJnuxkSf0E9+giLKUdfoWygFIdnwTJXKwi8VNh+xgICTzm9QbcWJbCkoeUgF1vmaVYqiYjXZ0bNR4D+xJm4WIIh2gILpJwkkSnMGGOMoVY2CbzUM2iDBXbZZZdVZeSggw5SRRbrHF98I11QAJNMcVtAMRA/VrfSSivplrZjHFhGAAAVnUlEQVRE+Gsy7onfrZPAMYdSmkcojyjA++67ry7msDJW86GNrE87542/PDnynrGzA3YsECAWEixC4sTYY1uehYP4O+t2fxYlxxMLiuOOO85deOGFTnyUVZmGmEfEz1t3elgsNHL+qIUXyid9LSxocGPgeMSk601Wm+CqhSvXNtts4ySwTt15IFy9+Ju6Q/QbdivEH12vkwRuLPTgETceSCCdWspXXHHFhmIUL9/mumRr2HW1CJgSXC1Slq5HIMA2IYotCgQvT/x6+RgCliG2q7FycA40lh2Uh913371UvbGuzD333OpvxzYlSjAvYRSaRpaDcHLygL6Q4yQBTE6CW5xE6ZeS3zLVhwCKAIoFvqcoGVh18Q9nsYIykUUoGbg/xP1ug4KHYoNSjV8mfpdcZ527u8466+hX6iiXPCiInNOLBY8fVlN2J4oI5RFLJ0oMfRnlGZ55H71A2WF8kTZJeeMvmbbaaxQ1ObJQXQKoK0qunC7RJTuYopwVnR+cNp4Yt2zt4xaAuwYuIfhZo/hhHYUaOa5r4cU8RR/DJQDlngUSiiqWWz5QAuW1Cc+Zr1g0xfsdC3Z4YAGXEz+0zuw4sRhII1wYOKcZ33WsyKSn/+AOdOSRR6r7Ti31Sisj7Z7NdWmo2L1qEehDxFy1ids1HVt9BKL0Vurt9S/T7li3sBihEDDBxwlfOKwojehTKDRY0FCqk76VjSoHXzwUbtw8QuAd2+UE4rGVaVQ9Ao0eS7QxVtx6/Gjj0tOX6LtpPuDJWmKxRFml/EDIg7ISLNTJPMlr+i/uHHKqRfQIizQfQcA/NIsYP5SdZanOG39ZPIvus8XOzgvKelq5cnKBkxNaNE2eEp82nuJlgwk8WECntWujxjVlVsuL1zi7WiiuwcqNcsiOQFgoFbVJFr7wRkGm38TdPrLScx8MWXCAT3CriKevtl55ZYRnNtdVg1LPT1N27jYluAf0jbKN3wOqblX4HwJ8IYzTBLBiQyjFWP74epNR9QjYWKrECkWGXQwsoCjC+DizayLn8LqtttqqemBbmJIvlXGSBn6zuIBgNS6i5HgqSm/PW4eAzXWtw76dSi47d5s7RDu1osliCJREgBc8Vl+sNhypxTFwpgCXBNOyRQjgMxy2xFlk4S6EJbhTFGAqQkAWn/PFKpnlz5ps8vh4Sj6z6/ZBwOa69mmLTpXELMGd2nIxucuugHpA1a0KhsD/tXcfsFJUexzHz4XLpShPpAhiBaNgidhjiS12o8aukdiwd401xhijJpbYa+y9a+xR0VgRRc2zK4q9YAVEmoiX8/6/89zJ7ty9s3OXLXdnvye5gd2ZOeUzZ3f/e+ac2YoK8FqqKCeZIYAAAjURKPe9m5HgmpweCkEAAQQQQAABBBDoTgIEwd3pbFAXBBBAAAEEEEAAgZoIEATXhJlCEEAAAQQQQAABBLqTAEFwdzob1AUBBBBAAAEEEECgJgIEwTVhphAEEEAAAQQQQACB7iSQmbtDdCdU6oIAAggggAACCCBQO4FyfuCqtXbVq25J5TS+ujWqXe7l3hqkdjWkJAQaQ4DXUmOcJ2qJAAII5AvovbucxHSIctQ4BgEEEEAAAQQQQKChBQiCG/r0UXkEEEAAAQQQQACBcgQIgstR4xgEEEAAAQQQQACBhhYgCG7o00flEUAAAQQQQAABBMoRIAguR41jEEAAAQQQQAABBBpaIDN3h2jos0DlEeiiwJw5c9zXX3/t1lhjjYIjv/jiC7fSSiu5adOmuZ49e7oll1yyizmze5LArFmz3DvvvOO+/PLL4Lz55pu7Hj3qM5awcOFC9+GHH7rVVlvN9erVK6naNdsml9mzZ0flqV4jRoxwffv2rWgdOuv/FS2EzBBAIPMC9Xn3bmDW77//3m266aYdWvDrr7+6ww8/PHwgrb322u6ss85yc+fO7bAfTyBQCQEFYltuuWVBVp988ok76qijXEtLi/vll1/cvvvuW4miyONfgXvuuccNHTrUHXbYYe7uu+92u+22m1trrbXcjz/+WBejefPmhfL13lMqvfDCC+6HH34Iu+lWQgpMX3zxxVKHdXn7kUce6dZdd1234YYbhr8111zT9e/f35100kldzivpgGL9P2n/pG35Nkn7sQ0BBLInQBCc8py2t7e7N998MwQZv//+e4ej9tprLzd58mR3/fXXu/POO8898sgjbty4cR324wkEqiWgQOPYY48N2a+++urh30cffbRaxTVVvo899lgIfu+9916n0faXX37ZffvttyHAa4TX+amnnupef/31cM4WW2wxt9NOO4WAvhrpuOOOcwrQ9ffXX385fXm4+uqr3UMPPVSN4hY5z3ybRc6MDBBAoKEECIJTnq4zzjjDbbPNNk6jBvGkkZVXX33V3XbbbeHyqD5grrvuuvCmn39pMH4cj+sjoADmggsucDfeeKP7888/QyXmz5/vHn/8cffPP/9EldJ0g4kTJ4bH3vuwXR/qDzzwgLv44ovdBx98ELY9/fTT7vzzz3dPPPFEeDx9+vQwyqa8NWJ4ySWXuPfffz9sU8rl9ffff4e8XnnllWjba6+95i666CJ30003FYww5o5RvZ966qmQR376+OOPwwjfzjvvHD2toPiyyy4r2I8HXReQ9dlnn+0U3O26665RBksssYS78MILnc7Zzz//XNE+pEJK9cl4SzQ9Qn1QX8LV5957772wi/rXzJkz3dtvv+3UT5Zaaim39dZbuxVXXDEE8/rynp/Ur994443oKfVd9aPLL7/cffPNN/FiEx+3tra6ffbZx62zzjpREN5Z/++s76uApP6f1qnY6z5uk9gYNiKAQPYE7M2l4ZPNQ6tZG26//XY/evTogvJUvk1/KHhu/PjxilL8H3/8UfW61bL9VW9MlQs4+eSTvY2A+YMPPjicxxVWWMFb0OotiOlwvq655hpvwUKokQXHYbt9wfFHH32032qrrXy/fv38Hnvs4XfffXc/duxYbx/43ka9/IQJE/zyyy/v7bKwt0vmfpdddvE2N9LfeeedBXnZpeNQvgXK4fnTTjvNW2DlDzroIL/tttv6AQMGeAtGwjYLvvygQYP8AQcc4G26jV9vvfX84MGDwzYl9T8L0qLH+o9dvfC9e/f2dhm84HkedC5Q7LVkI77h3FsA2fmBtqWSfUgFlcrPvmCHeuXOr/qGBbh+//339zvssIO3OeH+2Wef9eecc44fOHCgty/o/v7774/6so1oe7ty4LfffvuCdo0ZM8ZbcB+eu/baa72NdvsDDzww9H2b2xvy7Czp9XLiiScWbLYRYb/00kuHeijlXkv5/T+p7+uYpP5fyknHd/a6j9sUVJwHCCDQMALF3rvTVF7fsBs+ldv4chpeLAiO5/PTTz+FQMVGQOKbqvK4lu2vSgNqlKmNjPm2tjavD3+lBQsWhCBUwW6pD9LcB7dNdwnH6vGQIUP8fvvtF9XeRmG9TZcJQbCCExs5i7bp/9pfAUEur0MOOSQEqkqffvppCFreeuut6JhjjjnGb7LJJv7JJ5/0ffr0ieqt4xXQ5AfBG2+8sb/qqquiY3P/WXXVVaMgu8NGnuggUOy1ZKP64XzaHP8O++c/Uck+pHxL5ZcfBNtVBW+LJL1dkYqqpC9oxx9/fHhsc4dDAKyU6396HdiVjvAFTV8ElWxeeeiHU6dODeXb1AlvI7Rhm5KC41VWWSV6HP+PgmD1We2nPxtB9zYKHAJpG0UOu8f7f1Lf1/6l+n8pp6TXvfLPt4m3h8cIINAYAsXeu9PUnOkQFRzc1+VIGzkJK/ZtpM7dddddFcydrBZV4KWXXnIWLIZV/Uq6VGtBZ7hcmzblFkXqzgvKZ7PNNosOHTVqlLPAOnqsOaS5dMQRR4S55J999ln0nBZS5u4soGkXWlS5/vrrR9ttRDjMQ9dlXBsZjuqtsm0ku6DKmgphwUmHZqy88sphmgSpfAG9rrXYsFKpK30obZm6C4PuFKG8tVBPaxI0rUFTbpLSRhtt5JZddtkw1UdJc55tFNnZyG3oe3a1w+lODM8991z40zxizYlOyteC0nCs/lSnLbbYwr377rvOvnAWVCXX/5P6vgXMzr5Uluz/SW2sxOs+KX+2IYBA4wpwi7QKnTu98e+5555uxowZYR6oXWKsUM5kUykBraK30dOC7DQ/Ukl3U4gnBT/xpMA5P8Uf57Zp8ZH+ckm3iNIiKpWTu62ZXaKOtitAtukOBXmrrlqQad9wO9Q7vqhJcz5zbcnPZNiwYc6m5BTky4OuCeiLhI0ouClTpoS7HeQn9RHNE7YpANFixPj2eGnxPhN/HN+/VH7arnqce+65YS3CMsss42w0NvybJukuIlq/oC9dNloc5rsrqa/qS93NN99ckI1N/wlzjO3KRtHsNS9d84dLpVz/T+r7ml+v99T46zbe/+Nl5b92k1738eN4jAACzSXASHAFzrfecHfcccew0ES37iEArgBqFbKwebohoMxPDz/8sLPLrdFTGnnKpe+++67sWmj0TF+McskuL4eFcvmjYfmji6qbRtgUbOXS559/HkbidFXBLhkX1CV/RFkbFJDobgXxpIVMnQUr8X15XFxgueWWczZPNtz5JZ60mEv9R/vkUqX6UFfy02ipFulpga5GXW2KT9ErA/H667FN6QkLfp9//vkQ3Gphr5L6qk0fcg8++GAIkvV36623Ot1NoRJ9Ktf/k/q+ylE9SvV/1bcz9zSv+2IuPIcAAtkXIAiuwDnWB8hHH33kbPFIuAQ5adKk6E8jeaTuIaARKq2Ev++++0KFdPcHTVnQSOniiy8epiYoKM5t04j+oiQFCxpJ0x0lTjjhhHBP12JTFlTGdtttFy475+7moDrZop1wr9+99947rOy/4447QnUU2F5xxRUFVdNUCo1UxpMCaW0jlS+gYE2jo7fccku4C0jujiLqSzZvO9yRQ6PFle5DXclPo502b9wNHz48NFRTEXR7PPWpXNIPfRRLujKhqTyanmCL6qIf3tBUH02zyI0M677nuh2c7oFeyZTU92Wv208m9f9STkmv+1I2lWwneSGAQDcUSDNxuLvvU+6E6HLaVWxhnN3SKiycKfbH3SHKUa7eMTZXMtx1QXdasA9Yf+ihh3obyQ8Fnn766eE5myPptaDMPvw73B3CAp+ocvZjAN4uFUePTznllJCfFsapDJsHHBYWaVGbBRneviiFffMXJkUH239szmVY3W+/8hYW8Flw4O1ScdjFbr8XVubr7hFaZKRFcPkL4y699FJvAUp+dmERnvKpRR8sKLiBHyS9l9hIaVhIqT6i86vXuwVo/rfffotaXKk+lMswKb/8hXFatKcFaeojNgXGb7DBBv7KK68MfU8LP88888ywAE7/Fut/duu90B6bw1tw9rRwTm3O9Umbs+7tCkmnZ7jY3SHiOxcrP6nv6/hS/T/JSccnve7zbeJ15TECCDSGQNJ7d1ILWrSxG8bmXaqSFv6MHDmyS8dkaedmb39Xz6VG5zX1QJda8+flKh/Ng9To2aL0J/0ogeaJWnAU5jNqVFe/0JUmaWqNzqcFWR3mQWoxkkaBlVf8Z3I19UK/VKjpHppCoaT7Vj/zzDPhcjYpnUCa15Ld/SUsPtPCyGI/S12JPpRf27T56a1cVzc0/1wL25R0FcJukxcW9qlfa7RYCyu7kpSv+p3mLudP++hKHmn2Ter7Oj6p/2t7Kaek1325NmnaxT4IIFB9gTTv3cVqQRBcTKXBniv35DdYMxumuvlBcC0rbaPQ4Sdr9auGSgqKb7jhBmejgrWsRkOXxWupoU8flUcAgSYVKPe9mznBTdphaHb2BLQwSqO+GrnTL2HpdnAEwNk7z7QIAQQQQKAyAowEV8axrrmU+w2orpXOcOG6rGvzcQtukZbh5maqabyWMnU6aQwCCDSJQLnv3YwEN0kHoZm1E9BdJvLvEVy7kikJAQQQQAABBNIKEASnlWI/BBBAAAEEEEAAgcwIEARn5lTSEAQQQAABBBBAAIG0AgTBaaXYDwEEEEAAAQQQQCAzAgTBmTmVNAQBBBBAAAEEEEAgrQBBcFop9kMAAQQQQAABBBDIjABBcGZOJQ1BAAEEEEAAAQQQSCtAEJxWiv0QQAABBBBAAAEEMiNAEJyZU0lDEEAAAQQQQAABBNIKEASnlWI/BBBAAAEEEEAAgcwIEARn5lTSEAQQQAABBBBAAIG0AgTBaaXYDwEEEEAAAQQQQCAzAgTBmTmVNAQBBBBAAAEEEEAgrQBBcFop9kMAAQQQQAABBBDIjABBcGZOJQ1BAAEEEEAAAQQQSCtAEJxWiv0QQAABBBBAAAEEMiNAEJyZU0lDEEAAAQQQQAABBNIKEASnlWI/BBBAAAEEEEAAgcwIEARn5lTSEAQQQAABBBBAAIG0AgTBaaXYDwEEEEAAAQQQQCAzAgTBmTmVNAQBBBBAAAEEEEAgrQBBcFop9kMAAQQQQAABBBDIjECLt9Torfnqq68avQnUHwEEEEAAAQQQQKBMgZEjR3b5yNYuH9ENDxgwYIAbOHBgN6xZbao0ffr0pm5/bZQppRkEeC01w1mmjQggkDUBvXeXkzIxElxOwzkGAQQQQAABBBBAoHkFWmfMmBG1vmfPnq5///6upaWleUVoOQIIIIAAAggggEDmBVpGjr02zAlW2LvuiMXcheM2cyNGjMh8w2kgAggggAACCCCAQPMK9BjSv48b3L+vmz3fu19nzHNtbW3Nq0HLEUAAAQQQQAABBJpCoHXQgD5umP0tP6TNTZs+y7W3tzdFw2kkAggggAACCCCAQPMK9Bj/35/dxMnTnfftTvMiWlszccOI5j2jtBwBBBBAAAEEEECgpED4sYywDG7h/28X/A8jwSXR2AEBBBBAAAEEEECgsQXyfjHu39/MaPzfzmjsM0LtEUAAAQQQQAABBKouEPvZZM/t0apOTgEIIIAAAggggAAC9RaIguCW/0+KIAiu9xmhfAQQQAABBBBAAIGqC3ScDlH1IikAAQQQQAABBBBAAIH6CsSmQ9gSOX4srr5nhNIRQAABBBBAAAEEqi4QBcE2G9gKs8Vx/66Pq3rJFIAAAggggAACCCCAQJ0EmA5RJ3iKRQABBBBAAAEEEKifQF4QrKVxLTYQzFBw/U4HJSOAAAIIIIAAAgjUQqBgJFgBcI+W2DThWtSCMhBAAAEEEEAAAQQQqKFA61ZjBrtlBv/HzZ49x4qdV8OiKQoBBBBAAAEEEEAAgfoI9Jg7b4GbMnWmmzB5ht0Zoqdr52eT63MmKBUBBBBAAAEEEECgZgKtPXVXiIXtbpWh/dzo4X1cr169alY4BSGAAAIIIIAAAgggUA+BlkmTJum3ksMvxfXp3duNGjXKtbW11aMulIkAAggggAACCCCAQE0E/geqKh1IM9VQHwAAAABJRU5ErkJggg==)"
      ]
    },
    {
      "cell_type": "code",
      "metadata": {
        "id": "E_HUpaILguVf"
      },
      "source": [
        ""
      ],
      "execution_count": null,
      "outputs": []
    }
  ]
}