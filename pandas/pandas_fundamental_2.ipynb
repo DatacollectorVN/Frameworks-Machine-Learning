{
  "nbformat": 4,
  "nbformat_minor": 2,
  "metadata": {
    "colab": {
      "name": "pandas-fundamental-2",
      "provenance": [],
      "collapsed_sections": []
    },
    "kernelspec": {
      "name": "python3",
      "display_name": "Python 3.7.10 64-bit ('odmalocation': conda)"
    },
    "language_info": {
      "name": "python",
      "version": "3.7.10",
      "mimetype": "text/x-python",
      "codemirror_mode": {
        "name": "ipython",
        "version": 3
      },
      "pygments_lexer": "ipython3",
      "nbconvert_exporter": "python",
      "file_extension": ".py"
    },
    "interpreter": {
      "hash": "a544b203ddd38b28b508f60318b5c665d2ebecb4eb8aa67f23bf03004429078a"
    }
  },
  "cells": [
    {
      "cell_type": "code",
      "execution_count": 1,
      "source": [
        "# HW: https://www.w3resource.com/python-exercises/pandas/index.php"
      ],
      "outputs": [],
      "metadata": {}
    },
    {
      "cell_type": "code",
      "execution_count": 1,
      "source": [
        "from google.colab import drive\n",
        "drive.mount('/content/gdrive', force_remount = True)"
      ],
      "outputs": [
        {
          "output_type": "stream",
          "name": "stdout",
          "text": [
            "Mounted at /content/gdrive\n"
          ]
        }
      ],
      "metadata": {
        "colab": {
          "base_uri": "https://localhost:8080/"
        },
        "id": "2z7oCrHIj1Pl",
        "outputId": "c82f94f4-08a9-4922-bfc4-8908f9431c82"
      }
    },
    {
      "cell_type": "code",
      "execution_count": 2,
      "source": [
        "%cd \"/content/gdrive/MyDrive/BME/Lab-513/Training/Pandas\""
      ],
      "outputs": [
        {
          "output_type": "stream",
          "name": "stdout",
          "text": [
            "/content/gdrive/MyDrive/BME/Lab-513/Training/Pandas\n"
          ]
        }
      ],
      "metadata": {
        "colab": {
          "base_uri": "https://localhost:8080/"
        },
        "id": "dEkKhHXLj4ZQ",
        "outputId": "f64df745-913f-4f88-c76d-0abb2aa6994d"
      }
    },
    {
      "cell_type": "code",
      "execution_count": 3,
      "source": [
        "!ls"
      ],
      "outputs": [
        {
          "output_type": "stream",
          "name": "stdout",
          "text": [
            " download_data.py\t\t   pandas-fundamental-1\n",
            "'Example-pandas(Panel-1).gsheet'   pandas-fundamental-2\n"
          ]
        }
      ],
      "metadata": {
        "colab": {
          "base_uri": "https://localhost:8080/"
        },
        "id": "s7etMqyAj45W",
        "outputId": "d32b2ca1-04c7-41b0-9229-82a3d80354f9"
      }
    },
    {
      "cell_type": "code",
      "execution_count": 4,
      "source": [
        "!python download_data.py"
      ],
      "outputs": [
        {
          "output_type": "stream",
          "name": "stdout",
          "text": [
            "Start to download, this process take a few minutes\n",
            "Downloaded dataset - https://github.com/DatacollectorVN/Frameworks-Machine-Learning/releases/download/1/sinh_vien_VL.csv to-'./dataset/sinh_vien_VL.csv'\n"
          ]
        }
      ],
      "metadata": {
        "colab": {
          "base_uri": "https://localhost:8080/"
        },
        "id": "GW6k4JjKkmhc",
        "outputId": "efcbacb2-76ff-4bb0-95e6-4e37844219fb"
      }
    },
    {
      "cell_type": "code",
      "execution_count": 5,
      "source": [
        "!ls"
      ],
      "outputs": [
        {
          "output_type": "stream",
          "name": "stdout",
          "text": [
            " dataset\t   'Example-pandas(Panel-1).gsheet'   pandas-fundamental-2\n",
            " download_data.py   pandas-fundamental-1\n"
          ]
        }
      ],
      "metadata": {
        "colab": {
          "base_uri": "https://localhost:8080/"
        },
        "id": "FYPo6MK2konI",
        "outputId": "3104adcd-20d1-4460-c5e4-24d52747e1fe"
      }
    },
    {
      "cell_type": "code",
      "execution_count": 16,
      "source": [
        "!ls dataset/"
      ],
      "outputs": [
        {
          "output_type": "stream",
          "name": "stdout",
          "text": [
            "sinh_vien_VL.csv  titanic.csv\n"
          ]
        }
      ],
      "metadata": {
        "colab": {
          "base_uri": "https://localhost:8080/"
        },
        "id": "xR7DAjMIkqBT",
        "outputId": "f41f872d-3f63-47fa-fea7-a1b3a709bf2a"
      }
    },
    {
      "cell_type": "code",
      "execution_count": 7,
      "source": [
        "import pandas as pd\n",
        "import numpy as np \n",
        "import warnings\n",
        "warnings.filterwarnings('ignore')"
      ],
      "outputs": [],
      "metadata": {
        "id": "CCWpwjI4kraV"
      }
    },
    {
      "cell_type": "markdown",
      "source": [
        "+ load file (.csv)"
      ],
      "metadata": {
        "id": "46mn6aO5lECs"
      }
    },
    {
      "cell_type": "code",
      "execution_count": 19,
      "source": [
        "df = pd.read_csv('dataset/titanic.csv', header = None)\n",
        "df.head()"
      ],
      "outputs": [
        {
          "output_type": "execute_result",
          "data": {
            "text/plain": [
              "            0         1       2   ...       9      10        11\n",
              "0  PassengerId  Survived  Pclass  ...     Fare  Cabin  Embarked\n",
              "1            1         0       3  ...     7.25    NaN         S\n",
              "2            2         1       1  ...  71.2833    C85         C\n",
              "3            3         1       3  ...    7.925    NaN         S\n",
              "4            4         1       1  ...     53.1   C123         S\n",
              "\n",
              "[5 rows x 12 columns]"
            ],
            "text/html": [
              "<div>\n",
              "<style scoped>\n",
              "    .dataframe tbody tr th:only-of-type {\n",
              "        vertical-align: middle;\n",
              "    }\n",
              "\n",
              "    .dataframe tbody tr th {\n",
              "        vertical-align: top;\n",
              "    }\n",
              "\n",
              "    .dataframe thead th {\n",
              "        text-align: right;\n",
              "    }\n",
              "</style>\n",
              "<table border=\"1\" class=\"dataframe\">\n",
              "  <thead>\n",
              "    <tr style=\"text-align: right;\">\n",
              "      <th></th>\n",
              "      <th>0</th>\n",
              "      <th>1</th>\n",
              "      <th>2</th>\n",
              "      <th>3</th>\n",
              "      <th>4</th>\n",
              "      <th>5</th>\n",
              "      <th>6</th>\n",
              "      <th>7</th>\n",
              "      <th>8</th>\n",
              "      <th>9</th>\n",
              "      <th>10</th>\n",
              "      <th>11</th>\n",
              "    </tr>\n",
              "  </thead>\n",
              "  <tbody>\n",
              "    <tr>\n",
              "      <th>0</th>\n",
              "      <td>PassengerId</td>\n",
              "      <td>Survived</td>\n",
              "      <td>Pclass</td>\n",
              "      <td>Name</td>\n",
              "      <td>Sex</td>\n",
              "      <td>Age</td>\n",
              "      <td>SibSp</td>\n",
              "      <td>Parch</td>\n",
              "      <td>Ticket</td>\n",
              "      <td>Fare</td>\n",
              "      <td>Cabin</td>\n",
              "      <td>Embarked</td>\n",
              "    </tr>\n",
              "    <tr>\n",
              "      <th>1</th>\n",
              "      <td>1</td>\n",
              "      <td>0</td>\n",
              "      <td>3</td>\n",
              "      <td>Braund, Mr. Owen Harris</td>\n",
              "      <td>male</td>\n",
              "      <td>22</td>\n",
              "      <td>1</td>\n",
              "      <td>0</td>\n",
              "      <td>A/5 21171</td>\n",
              "      <td>7.25</td>\n",
              "      <td>NaN</td>\n",
              "      <td>S</td>\n",
              "    </tr>\n",
              "    <tr>\n",
              "      <th>2</th>\n",
              "      <td>2</td>\n",
              "      <td>1</td>\n",
              "      <td>1</td>\n",
              "      <td>Cumings, Mrs. John Bradley (Florence Briggs Th...</td>\n",
              "      <td>female</td>\n",
              "      <td>38</td>\n",
              "      <td>1</td>\n",
              "      <td>0</td>\n",
              "      <td>PC 17599</td>\n",
              "      <td>71.2833</td>\n",
              "      <td>C85</td>\n",
              "      <td>C</td>\n",
              "    </tr>\n",
              "    <tr>\n",
              "      <th>3</th>\n",
              "      <td>3</td>\n",
              "      <td>1</td>\n",
              "      <td>3</td>\n",
              "      <td>Heikkinen, Miss. Laina</td>\n",
              "      <td>female</td>\n",
              "      <td>26</td>\n",
              "      <td>0</td>\n",
              "      <td>0</td>\n",
              "      <td>STON/O2. 3101282</td>\n",
              "      <td>7.925</td>\n",
              "      <td>NaN</td>\n",
              "      <td>S</td>\n",
              "    </tr>\n",
              "    <tr>\n",
              "      <th>4</th>\n",
              "      <td>4</td>\n",
              "      <td>1</td>\n",
              "      <td>1</td>\n",
              "      <td>Futrelle, Mrs. Jacques Heath (Lily May Peel)</td>\n",
              "      <td>female</td>\n",
              "      <td>35</td>\n",
              "      <td>1</td>\n",
              "      <td>0</td>\n",
              "      <td>113803</td>\n",
              "      <td>53.1</td>\n",
              "      <td>C123</td>\n",
              "      <td>S</td>\n",
              "    </tr>\n",
              "  </tbody>\n",
              "</table>\n",
              "</div>"
            ]
          },
          "metadata": {
            "tags": []
          },
          "execution_count": 19
        }
      ],
      "metadata": {
        "colab": {
          "base_uri": "https://localhost:8080/",
          "height": 206
        },
        "id": "N2wB-u0Tk0rO",
        "outputId": "991bb874-9a54-4a20-ca68-469b99fe8ce9"
      }
    },
    {
      "cell_type": "code",
      "execution_count": 99,
      "source": [
        "df = pd.read_csv('dataset/titanic.csv', index_col = 0)\n",
        "df.head()"
      ],
      "outputs": [
        {
          "output_type": "execute_result",
          "data": {
            "text/plain": [
              "             Survived  Pclass  ... Cabin Embarked\n",
              "PassengerId                    ...               \n",
              "1                   0       3  ...   NaN        S\n",
              "2                   1       1  ...   C85        C\n",
              "3                   1       3  ...   NaN        S\n",
              "4                   1       1  ...  C123        S\n",
              "5                   0       3  ...   NaN        S\n",
              "\n",
              "[5 rows x 11 columns]"
            ],
            "text/html": [
              "<div>\n",
              "<style scoped>\n",
              "    .dataframe tbody tr th:only-of-type {\n",
              "        vertical-align: middle;\n",
              "    }\n",
              "\n",
              "    .dataframe tbody tr th {\n",
              "        vertical-align: top;\n",
              "    }\n",
              "\n",
              "    .dataframe thead th {\n",
              "        text-align: right;\n",
              "    }\n",
              "</style>\n",
              "<table border=\"1\" class=\"dataframe\">\n",
              "  <thead>\n",
              "    <tr style=\"text-align: right;\">\n",
              "      <th></th>\n",
              "      <th>Survived</th>\n",
              "      <th>Pclass</th>\n",
              "      <th>Name</th>\n",
              "      <th>Sex</th>\n",
              "      <th>Age</th>\n",
              "      <th>SibSp</th>\n",
              "      <th>Parch</th>\n",
              "      <th>Ticket</th>\n",
              "      <th>Fare</th>\n",
              "      <th>Cabin</th>\n",
              "      <th>Embarked</th>\n",
              "    </tr>\n",
              "    <tr>\n",
              "      <th>PassengerId</th>\n",
              "      <th></th>\n",
              "      <th></th>\n",
              "      <th></th>\n",
              "      <th></th>\n",
              "      <th></th>\n",
              "      <th></th>\n",
              "      <th></th>\n",
              "      <th></th>\n",
              "      <th></th>\n",
              "      <th></th>\n",
              "      <th></th>\n",
              "    </tr>\n",
              "  </thead>\n",
              "  <tbody>\n",
              "    <tr>\n",
              "      <th>1</th>\n",
              "      <td>0</td>\n",
              "      <td>3</td>\n",
              "      <td>Braund, Mr. Owen Harris</td>\n",
              "      <td>male</td>\n",
              "      <td>22.0</td>\n",
              "      <td>1</td>\n",
              "      <td>0</td>\n",
              "      <td>A/5 21171</td>\n",
              "      <td>7.2500</td>\n",
              "      <td>NaN</td>\n",
              "      <td>S</td>\n",
              "    </tr>\n",
              "    <tr>\n",
              "      <th>2</th>\n",
              "      <td>1</td>\n",
              "      <td>1</td>\n",
              "      <td>Cumings, Mrs. John Bradley (Florence Briggs Th...</td>\n",
              "      <td>female</td>\n",
              "      <td>38.0</td>\n",
              "      <td>1</td>\n",
              "      <td>0</td>\n",
              "      <td>PC 17599</td>\n",
              "      <td>71.2833</td>\n",
              "      <td>C85</td>\n",
              "      <td>C</td>\n",
              "    </tr>\n",
              "    <tr>\n",
              "      <th>3</th>\n",
              "      <td>1</td>\n",
              "      <td>3</td>\n",
              "      <td>Heikkinen, Miss. Laina</td>\n",
              "      <td>female</td>\n",
              "      <td>26.0</td>\n",
              "      <td>0</td>\n",
              "      <td>0</td>\n",
              "      <td>STON/O2. 3101282</td>\n",
              "      <td>7.9250</td>\n",
              "      <td>NaN</td>\n",
              "      <td>S</td>\n",
              "    </tr>\n",
              "    <tr>\n",
              "      <th>4</th>\n",
              "      <td>1</td>\n",
              "      <td>1</td>\n",
              "      <td>Futrelle, Mrs. Jacques Heath (Lily May Peel)</td>\n",
              "      <td>female</td>\n",
              "      <td>35.0</td>\n",
              "      <td>1</td>\n",
              "      <td>0</td>\n",
              "      <td>113803</td>\n",
              "      <td>53.1000</td>\n",
              "      <td>C123</td>\n",
              "      <td>S</td>\n",
              "    </tr>\n",
              "    <tr>\n",
              "      <th>5</th>\n",
              "      <td>0</td>\n",
              "      <td>3</td>\n",
              "      <td>Allen, Mr. William Henry</td>\n",
              "      <td>male</td>\n",
              "      <td>35.0</td>\n",
              "      <td>0</td>\n",
              "      <td>0</td>\n",
              "      <td>373450</td>\n",
              "      <td>8.0500</td>\n",
              "      <td>NaN</td>\n",
              "      <td>S</td>\n",
              "    </tr>\n",
              "  </tbody>\n",
              "</table>\n",
              "</div>"
            ]
          },
          "metadata": {
            "tags": []
          },
          "execution_count": 99
        }
      ],
      "metadata": {
        "colab": {
          "base_uri": "https://localhost:8080/",
          "height": 237
        },
        "id": "JXeEcwLYk6sM",
        "outputId": "b1ace7b1-f05b-4c09-cafb-d82fc96560df"
      }
    },
    {
      "cell_type": "markdown",
      "source": [
        "+  Overall dataframe"
      ],
      "metadata": {
        "id": "8fkRG3WslhCE"
      }
    },
    {
      "cell_type": "code",
      "execution_count": 100,
      "source": [
        "df.shape"
      ],
      "outputs": [
        {
          "output_type": "execute_result",
          "data": {
            "text/plain": [
              "(891, 11)"
            ]
          },
          "metadata": {
            "tags": []
          },
          "execution_count": 100
        }
      ],
      "metadata": {
        "colab": {
          "base_uri": "https://localhost:8080/"
        },
        "id": "MDSFC87el1Fm",
        "outputId": "64dfe023-69e5-4a16-c26d-2d2dc3920060"
      }
    },
    {
      "cell_type": "code",
      "execution_count": 101,
      "source": [
        "print(f'Number of sample (rows) = {df.shape[0]}')\n",
        "print(f'Number of feature (cols) = {df.shape[1]}')"
      ],
      "outputs": [
        {
          "output_type": "stream",
          "name": "stdout",
          "text": [
            "Number of samples (rows) = 891\n",
            "Number of feature (cols) = 11\n"
          ]
        }
      ],
      "metadata": {
        "colab": {
          "base_uri": "https://localhost:8080/"
        },
        "id": "0HiNOmfnl2iw",
        "outputId": "089c6e14-8513-4b8b-d801-eaae508d004f"
      }
    },
    {
      "cell_type": "code",
      "execution_count": 102,
      "source": [
        "df.info()"
      ],
      "outputs": [
        {
          "output_type": "stream",
          "name": "stdout",
          "text": [
            "<class 'pandas.core.frame.DataFrame'>\n",
            "Int64Index: 891 entries, 1 to 891\n",
            "Data columns (total 11 columns):\n",
            " #   Column    Non-Null Count  Dtype  \n",
            "---  ------    --------------  -----  \n",
            " 0   Survived  891 non-null    int64  \n",
            " 1   Pclass    891 non-null    int64  \n",
            " 2   Name      891 non-null    object \n",
            " 3   Sex       891 non-null    object \n",
            " 4   Age       714 non-null    float64\n",
            " 5   SibSp     891 non-null    int64  \n",
            " 6   Parch     891 non-null    int64  \n",
            " 7   Ticket    891 non-null    object \n",
            " 8   Fare      891 non-null    float64\n",
            " 9   Cabin     204 non-null    object \n",
            " 10  Embarked  889 non-null    object \n",
            "dtypes: float64(2), int64(4), object(5)\n",
            "memory usage: 83.5+ KB\n"
          ]
        }
      ],
      "metadata": {
        "colab": {
          "base_uri": "https://localhost:8080/"
        },
        "id": "0PQHhaS6lwul",
        "outputId": "429fe9cf-bde5-460d-b440-8a0666f2c9d4"
      }
    },
    {
      "cell_type": "markdown",
      "source": [
        "+ 3 cols have NaN or Null value"
      ],
      "metadata": {
        "id": "k64ih56zmAjp"
      }
    },
    {
      "cell_type": "code",
      "execution_count": 103,
      "source": [
        "df.describe()"
      ],
      "outputs": [
        {
          "output_type": "execute_result",
          "data": {
            "text/plain": [
              "         Survived      Pclass         Age       SibSp       Parch        Fare\n",
              "count  891.000000  891.000000  714.000000  891.000000  891.000000  891.000000\n",
              "mean     0.383838    2.308642   29.699118    0.523008    0.381594   32.204208\n",
              "std      0.486592    0.836071   14.526497    1.102743    0.806057   49.693429\n",
              "min      0.000000    1.000000    0.420000    0.000000    0.000000    0.000000\n",
              "25%      0.000000    2.000000   20.125000    0.000000    0.000000    7.910400\n",
              "50%      0.000000    3.000000   28.000000    0.000000    0.000000   14.454200\n",
              "75%      1.000000    3.000000   38.000000    1.000000    0.000000   31.000000\n",
              "max      1.000000    3.000000   80.000000    8.000000    6.000000  512.329200"
            ],
            "text/html": [
              "<div>\n",
              "<style scoped>\n",
              "    .dataframe tbody tr th:only-of-type {\n",
              "        vertical-align: middle;\n",
              "    }\n",
              "\n",
              "    .dataframe tbody tr th {\n",
              "        vertical-align: top;\n",
              "    }\n",
              "\n",
              "    .dataframe thead th {\n",
              "        text-align: right;\n",
              "    }\n",
              "</style>\n",
              "<table border=\"1\" class=\"dataframe\">\n",
              "  <thead>\n",
              "    <tr style=\"text-align: right;\">\n",
              "      <th></th>\n",
              "      <th>Survived</th>\n",
              "      <th>Pclass</th>\n",
              "      <th>Age</th>\n",
              "      <th>SibSp</th>\n",
              "      <th>Parch</th>\n",
              "      <th>Fare</th>\n",
              "    </tr>\n",
              "  </thead>\n",
              "  <tbody>\n",
              "    <tr>\n",
              "      <th>count</th>\n",
              "      <td>891.000000</td>\n",
              "      <td>891.000000</td>\n",
              "      <td>714.000000</td>\n",
              "      <td>891.000000</td>\n",
              "      <td>891.000000</td>\n",
              "      <td>891.000000</td>\n",
              "    </tr>\n",
              "    <tr>\n",
              "      <th>mean</th>\n",
              "      <td>0.383838</td>\n",
              "      <td>2.308642</td>\n",
              "      <td>29.699118</td>\n",
              "      <td>0.523008</td>\n",
              "      <td>0.381594</td>\n",
              "      <td>32.204208</td>\n",
              "    </tr>\n",
              "    <tr>\n",
              "      <th>std</th>\n",
              "      <td>0.486592</td>\n",
              "      <td>0.836071</td>\n",
              "      <td>14.526497</td>\n",
              "      <td>1.102743</td>\n",
              "      <td>0.806057</td>\n",
              "      <td>49.693429</td>\n",
              "    </tr>\n",
              "    <tr>\n",
              "      <th>min</th>\n",
              "      <td>0.000000</td>\n",
              "      <td>1.000000</td>\n",
              "      <td>0.420000</td>\n",
              "      <td>0.000000</td>\n",
              "      <td>0.000000</td>\n",
              "      <td>0.000000</td>\n",
              "    </tr>\n",
              "    <tr>\n",
              "      <th>25%</th>\n",
              "      <td>0.000000</td>\n",
              "      <td>2.000000</td>\n",
              "      <td>20.125000</td>\n",
              "      <td>0.000000</td>\n",
              "      <td>0.000000</td>\n",
              "      <td>7.910400</td>\n",
              "    </tr>\n",
              "    <tr>\n",
              "      <th>50%</th>\n",
              "      <td>0.000000</td>\n",
              "      <td>3.000000</td>\n",
              "      <td>28.000000</td>\n",
              "      <td>0.000000</td>\n",
              "      <td>0.000000</td>\n",
              "      <td>14.454200</td>\n",
              "    </tr>\n",
              "    <tr>\n",
              "      <th>75%</th>\n",
              "      <td>1.000000</td>\n",
              "      <td>3.000000</td>\n",
              "      <td>38.000000</td>\n",
              "      <td>1.000000</td>\n",
              "      <td>0.000000</td>\n",
              "      <td>31.000000</td>\n",
              "    </tr>\n",
              "    <tr>\n",
              "      <th>max</th>\n",
              "      <td>1.000000</td>\n",
              "      <td>3.000000</td>\n",
              "      <td>80.000000</td>\n",
              "      <td>8.000000</td>\n",
              "      <td>6.000000</td>\n",
              "      <td>512.329200</td>\n",
              "    </tr>\n",
              "  </tbody>\n",
              "</table>\n",
              "</div>"
            ]
          },
          "metadata": {
            "tags": []
          },
          "execution_count": 103
        }
      ],
      "metadata": {
        "colab": {
          "base_uri": "https://localhost:8080/",
          "height": 300
        },
        "id": "LdUlOWgSmVG4",
        "outputId": "cac914f9-9237-40be-a9b6-c581a3b35081"
      }
    },
    {
      "cell_type": "markdown",
      "source": [
        "+ 3 colums with null-value: Age; Cabin; Embarked"
      ],
      "metadata": {
        "id": "4ZhubYOfrfmY"
      }
    },
    {
      "cell_type": "markdown",
      "source": [
        "### clean data"
      ],
      "metadata": {
        "id": "7TlyZwW6lc1F"
      }
    },
    {
      "cell_type": "markdown",
      "source": [
        "![image.png](data:image/png;base64,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)"
      ],
      "metadata": {
        "id": "DqiYCQyxsnb2"
      }
    },
    {
      "cell_type": "markdown",
      "source": [
        "![image.png](data:image/png;base64,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)"
      ],
      "metadata": {
        "id": "wfXXQiCEs9Sf"
      }
    },
    {
      "cell_type": "markdown",
      "source": [
        "Count the NaN under a single DataFrame column"
      ],
      "metadata": {
        "id": "ZMc3uR8Wr0Bf"
      }
    },
    {
      "cell_type": "code",
      "execution_count": 104,
      "source": [
        "columns_with_null = ['Age', 'Cabin', 'Embarked']\n",
        "for col in columns_with_null:\n",
        "  count = df[col].isnull().sum()\n",
        "  print(f'Number of NaN of {col} = {count}')"
      ],
      "outputs": [
        {
          "output_type": "stream",
          "name": "stdout",
          "text": [
            "Number of NaN of Age = 177\n",
            "Number of NaN of Cabin = 687\n",
            "Number of NaN of Embarked = 2\n"
          ]
        }
      ],
      "metadata": {
        "colab": {
          "base_uri": "https://localhost:8080/"
        },
        "id": "ImzyHQktlPCZ",
        "outputId": "6c528c65-09f2-4aa5-9019-6e75a9763662"
      }
    },
    {
      "cell_type": "code",
      "execution_count": 105,
      "source": [
        "print(f'Number of samples (rows) = {df.shape[0]}')"
      ],
      "outputs": [
        {
          "output_type": "stream",
          "name": "stdout",
          "text": [
            "Number of samples (rows) = 891\n"
          ]
        }
      ],
      "metadata": {
        "colab": {
          "base_uri": "https://localhost:8080/"
        },
        "id": "nTHU18bdsV2b",
        "outputId": "32675857-981f-4125-a5ca-33d4aa32d55c"
      }
    },
    {
      "cell_type": "markdown",
      "source": [
        "+ remove the sample with NaN in Embarked columns"
      ],
      "metadata": {
        "id": "0wcPaqiFtRln"
      }
    },
    {
      "cell_type": "code",
      "execution_count": 106,
      "source": [
        "df[df['Embarked'].isnull()].index"
      ],
      "outputs": [
        {
          "output_type": "execute_result",
          "data": {
            "text/plain": [
              "Int64Index([62, 830], dtype='int64', name='PassengerId')"
            ]
          },
          "metadata": {
            "tags": []
          },
          "execution_count": 106
        }
      ],
      "metadata": {
        "colab": {
          "base_uri": "https://localhost:8080/"
        },
        "id": "-sMKSV5KsbPH",
        "outputId": "4da0d3d6-4977-4a0a-9b0f-ad1ca49749e0"
      }
    },
    {
      "cell_type": "code",
      "execution_count": 107,
      "source": [
        "df = df.drop(df[df['Embarked'].isnull()].index)"
      ],
      "outputs": [],
      "metadata": {
        "id": "HWVTCnzDthRn"
      }
    },
    {
      "cell_type": "markdown",
      "source": [
        "+ remove the Cabin column"
      ],
      "metadata": {
        "id": "26iA58bOu7ZM"
      }
    },
    {
      "cell_type": "code",
      "execution_count": 108,
      "source": [
        "df = df.drop(['Cabin'], axis = 1)"
      ],
      "outputs": [],
      "metadata": {
        "id": "xyuzavfyun_A"
      }
    },
    {
      "cell_type": "markdown",
      "source": [
        "+ in the Age column"
      ],
      "metadata": {
        "id": "GJh_f3vqvH0m"
      }
    },
    {
      "cell_type": "code",
      "execution_count": 109,
      "source": [
        "df[['Age', 'Survived']].plot.scatter(x = 'Age', y = 'Survived')"
      ],
      "outputs": [
        {
          "output_type": "execute_result",
          "data": {
            "text/plain": [
              "<matplotlib.axes._subplots.AxesSubplot at 0x7f3dcfd38550>"
            ]
          },
          "metadata": {
            "tags": []
          },
          "execution_count": 109
        },
        {
          "output_type": "display_data",
          "data": {
            "text/plain": [
              "<Figure size 432x288 with 1 Axes>"
            ],
            "image/png": "[encoded data removed]"
          },
          "metadata": {
            "tags": [],
            "needs_background": "light"
          }
        }
      ],
      "metadata": {
        "colab": {
          "base_uri": "https://localhost:8080/",
          "height": 296
        },
        "id": "YPMsW85mvdWp",
        "outputId": "fca14904-899c-4d4a-d707-50b452ecd533"
      }
    },
    {
      "cell_type": "code",
      "execution_count": 110,
      "source": [
        "df[['Age', 'Survived']].corr(method='pearson')"
      ],
      "outputs": [
        {
          "output_type": "execute_result",
          "data": {
            "text/plain": [
              "               Age  Survived\n",
              "Age       1.000000 -0.082446\n",
              "Survived -0.082446  1.000000"
            ],
            "text/html": [
              "<div>\n",
              "<style scoped>\n",
              "    .dataframe tbody tr th:only-of-type {\n",
              "        vertical-align: middle;\n",
              "    }\n",
              "\n",
              "    .dataframe tbody tr th {\n",
              "        vertical-align: top;\n",
              "    }\n",
              "\n",
              "    .dataframe thead th {\n",
              "        text-align: right;\n",
              "    }\n",
              "</style>\n",
              "<table border=\"1\" class=\"dataframe\">\n",
              "  <thead>\n",
              "    <tr style=\"text-align: right;\">\n",
              "      <th></th>\n",
              "      <th>Age</th>\n",
              "      <th>Survived</th>\n",
              "    </tr>\n",
              "  </thead>\n",
              "  <tbody>\n",
              "    <tr>\n",
              "      <th>Age</th>\n",
              "      <td>1.000000</td>\n",
              "      <td>-0.082446</td>\n",
              "    </tr>\n",
              "    <tr>\n",
              "      <th>Survived</th>\n",
              "      <td>-0.082446</td>\n",
              "      <td>1.000000</td>\n",
              "    </tr>\n",
              "  </tbody>\n",
              "</table>\n",
              "</div>"
            ]
          },
          "metadata": {
            "tags": []
          },
          "execution_count": 110
        }
      ],
      "metadata": {
        "colab": {
          "base_uri": "https://localhost:8080/",
          "height": 112
        },
        "id": "-OLgiHrUwA6R",
        "outputId": "4d59227e-e51b-438b-ed6c-5467e79a01dd"
      }
    },
    {
      "cell_type": "markdown",
      "source": [
        "+ Age and survived are independence"
      ],
      "metadata": {
        "id": "meuSwGd6w5nu"
      }
    },
    {
      "cell_type": "code",
      "execution_count": 111,
      "source": [
        "df[['Age']].plot.hist(bins = 100)"
      ],
      "outputs": [
        {
          "output_type": "execute_result",
          "data": {
            "text/plain": [
              "<matplotlib.axes._subplots.AxesSubplot at 0x7f3dcfc4a650>"
            ]
          },
          "metadata": {
            "tags": []
          },
          "execution_count": 111
        },
        {
          "output_type": "display_data",
          "data": {
            "text/plain": [
              "<Figure size 432x288 with 1 Axes>"
            ],
            "image/png": "[encoded data removed]"
          },
          "metadata": {
            "tags": [],
            "needs_background": "light"
          }
        }
      ],
      "metadata": {
        "colab": {
          "base_uri": "https://localhost:8080/",
          "height": 282
        },
        "id": "Mj3_gVO1uq95",
        "outputId": "83d8abd2-9f48-4175-d264-1bfaeb448639"
      }
    },
    {
      "cell_type": "code",
      "execution_count": 112,
      "source": [
        "df[df['Sex'] == \"female\"][['Age']].plot.hist(bins = 100)"
      ],
      "outputs": [
        {
          "output_type": "execute_result",
          "data": {
            "text/plain": [
              "<matplotlib.axes._subplots.AxesSubplot at 0x7f3dcfca97d0>"
            ]
          },
          "metadata": {
            "tags": []
          },
          "execution_count": 112
        },
        {
          "output_type": "display_data",
          "data": {
            "text/plain": [
              "<Figure size 432x288 with 1 Axes>"
            ],
            "image/png": "[encoded data removed]"
          },
          "metadata": {
            "tags": [],
            "needs_background": "light"
          }
        }
      ],
      "metadata": {
        "colab": {
          "base_uri": "https://localhost:8080/",
          "height": 282
        },
        "id": "jSALOdtbwqth",
        "outputId": "c8169645-852a-4672-86fb-c2ca239144e2"
      }
    },
    {
      "cell_type": "code",
      "execution_count": 113,
      "source": [
        "df[df['Sex'] == \"male\"][['Age']].plot.hist(bins = 100)"
      ],
      "outputs": [
        {
          "output_type": "execute_result",
          "data": {
            "text/plain": [
              "<matplotlib.axes._subplots.AxesSubplot at 0x7f3dcf9b7710>"
            ]
          },
          "metadata": {
            "tags": []
          },
          "execution_count": 113
        },
        {
          "output_type": "display_data",
          "data": {
            "text/plain": [
              "<Figure size 432x288 with 1 Axes>"
            ],
            "image/png": "[encoded data removed]"
          },
          "metadata": {
            "tags": [],
            "needs_background": "light"
          }
        }
      ],
      "metadata": {
        "colab": {
          "base_uri": "https://localhost:8080/",
          "height": 282
        },
        "id": "7mcC5PReyDSf",
        "outputId": "3db3e871-b8bf-4469-d79c-1a7ad1beafcc"
      }
    },
    {
      "cell_type": "markdown",
      "source": [
        "conclusion: \n",
        "+ Age = median(female) (if that person is female)\n",
        "+ Age = median(male) (if that person is male)"
      ],
      "metadata": {
        "id": "jcG09RjUyiaD"
      }
    },
    {
      "cell_type": "code",
      "execution_count": 114,
      "source": [
        "median_female = df[df['Sex'] == \"female\"][['Age']].median().values[0]\n",
        "median_male = df[df['Sex'] == \"male\"][['Age']].median().values[0]\n",
        "\n",
        "print(f'median_female = {median_female}')\n",
        "print(f'median_male = {median_male}')"
      ],
      "outputs": [
        {
          "output_type": "stream",
          "name": "stdout",
          "text": [
            "median_female = 27.0\n",
            "median_male = 29.0\n"
          ]
        }
      ],
      "metadata": {
        "colab": {
          "base_uri": "https://localhost:8080/"
        },
        "id": "NdZYdE9893F6",
        "outputId": "4ad06267-1ba2-4cbf-be2e-9eb2079dcb69"
      }
    },
    {
      "cell_type": "code",
      "execution_count": 115,
      "source": [
        "index = df[df['Age'].isnull()].index\n",
        "for i in df.loc[index][df['Sex'] == \"female\"]['Age'].index :\n",
        "  df['Age'][i] = median_female\n",
        "\n",
        "for i in df.loc[index][df['Sex'] == \"male\"]['Age'].index :\n",
        "  df['Age'][i] = median_male\n",
        "\n",
        "print('Done')"
      ],
      "outputs": [
        {
          "output_type": "stream",
          "name": "stdout",
          "text": [
            "Done\n"
          ]
        }
      ],
      "metadata": {
        "colab": {
          "base_uri": "https://localhost:8080/"
        },
        "id": "d7zdOP88yZLT",
        "outputId": "4e113f8f-c00d-4cff-d159-68aa0be32bf0"
      }
    },
    {
      "cell_type": "markdown",
      "source": [
        "+ Check again"
      ],
      "metadata": {
        "id": "ODzbxSv0-dB0"
      }
    },
    {
      "cell_type": "code",
      "execution_count": 116,
      "source": [
        "df.info()"
      ],
      "outputs": [
        {
          "output_type": "stream",
          "name": "stdout",
          "text": [
            "<class 'pandas.core.frame.DataFrame'>\n",
            "Int64Index: 889 entries, 1 to 891\n",
            "Data columns (total 10 columns):\n",
            " #   Column    Non-Null Count  Dtype  \n",
            "---  ------    --------------  -----  \n",
            " 0   Survived  889 non-null    int64  \n",
            " 1   Pclass    889 non-null    int64  \n",
            " 2   Name      889 non-null    object \n",
            " 3   Sex       889 non-null    object \n",
            " 4   Age       889 non-null    float64\n",
            " 5   SibSp     889 non-null    int64  \n",
            " 6   Parch     889 non-null    int64  \n",
            " 7   Ticket    889 non-null    object \n",
            " 8   Fare      889 non-null    float64\n",
            " 9   Embarked  889 non-null    object \n",
            "dtypes: float64(2), int64(4), object(4)\n",
            "memory usage: 116.4+ KB\n"
          ]
        }
      ],
      "metadata": {
        "colab": {
          "base_uri": "https://localhost:8080/"
        },
        "id": "jh4b0Fuoy-wO",
        "outputId": "0d452530-53ac-4cfb-e0fd-b7005d586a35"
      }
    },
    {
      "cell_type": "markdown",
      "source": [
        "+ Check outlier = Boxplot (IQR)"
      ],
      "metadata": {
        "id": "s2MhWMUa_K94"
      }
    },
    {
      "cell_type": "code",
      "execution_count": 118,
      "source": [
        "df[['Age', 'Fare']].plot.box()"
      ],
      "outputs": [
        {
          "output_type": "execute_result",
          "data": {
            "text/plain": [
              "<matplotlib.axes._subplots.AxesSubplot at 0x7f3dcf79f310>"
            ]
          },
          "metadata": {
            "tags": []
          },
          "execution_count": 118
        },
        {
          "output_type": "display_data",
          "data": {
            "text/plain": [
              "<Figure size 432x288 with 1 Axes>"
            ],
            "image/png": "[encoded data removed]"
          },
          "metadata": {
            "tags": [],
            "needs_background": "light"
          }
        }
      ],
      "metadata": {
        "colab": {
          "base_uri": "https://localhost:8080/",
          "height": 282
        },
        "id": "rCdVhFY70SF9",
        "outputId": "f2212ff3-af11-4b80-e955-0529ef09fb7f"
      }
    },
    {
      "cell_type": "markdown",
      "source": [
        "+ too many outlier in Age and Fare column --> need to solve these but in this repository, we just ignore."
      ],
      "metadata": {
        "id": "YuU90Lzx_rQz"
      }
    },
    {
      "cell_type": "markdown",
      "source": [
        "### Convert dataset "
      ],
      "metadata": {
        "id": "GqdJ2XV_A0Q5"
      }
    },
    {
      "cell_type": "code",
      "execution_count": 120,
      "source": [
        "# calculate the mean of age of the survived and non-survived people\n",
        "df.groupby(by = \"Survived\").mean()['Age']"
      ],
      "outputs": [
        {
          "output_type": "execute_result",
          "data": {
            "text/plain": [
              "Survived\n",
              "0    30.193989\n",
              "1    28.104912\n",
              "Name: Age, dtype: float64"
            ]
          },
          "metadata": {
            "tags": []
          },
          "execution_count": 120
        }
      ],
      "metadata": {
        "colab": {
          "base_uri": "https://localhost:8080/"
        },
        "id": "u1_3UktHA2Vn",
        "outputId": "a983e3c0-0878-4b5c-ac41-87cadf6ee34c"
      }
    },
    {
      "cell_type": "code",
      "execution_count": 121,
      "source": [
        "# calculate the total of survived accroding to Pclass\n",
        "df.groupby(by = \"Pclass\").sum()['Survived']"
      ],
      "outputs": [
        {
          "output_type": "execute_result",
          "data": {
            "text/plain": [
              "Pclass\n",
              "1    134\n",
              "2     87\n",
              "3    119\n",
              "Name: Survived, dtype: int64"
            ]
          },
          "metadata": {
            "tags": []
          },
          "execution_count": 121
        }
      ],
      "metadata": {
        "colab": {
          "base_uri": "https://localhost:8080/"
        },
        "id": "UkCIgewuBMDW",
        "outputId": "4633a0d4-4ec0-4743-f369-75aa7ec187ee"
      }
    },
    {
      "cell_type": "code",
      "execution_count": 131,
      "source": [
        "total_people_pclass_1  =df[df['Pclass'] == 1]['Survived'].value_counts().sum()\n",
        "total_people_pclass_2  =df[df['Pclass'] == 2]['Survived'].value_counts().sum()\n",
        "total_people_pclass_3  =df[df['Pclass'] == 3]['Survived'].value_counts().sum()\n",
        "\n",
        "print(f'total_people_pclass_1 = {total_people_pclass_1}')\n",
        "print(f'total_people_pclass_2 = {total_people_pclass_2}')\n",
        "print(f'total_people_pclass_3 = {total_people_pclass_3}')"
      ],
      "outputs": [
        {
          "output_type": "stream",
          "name": "stdout",
          "text": [
            "total_people_pclass_1 = 214\n",
            "total_people_pclass_2 = 184\n",
            "total_people_pclass_3 = 491\n"
          ]
        }
      ],
      "metadata": {
        "colab": {
          "base_uri": "https://localhost:8080/"
        },
        "id": "si-9gWxqBjrS",
        "outputId": "1ce782c2-8da6-4830-b831-beaa698dc370"
      }
    },
    {
      "cell_type": "code",
      "execution_count": 132,
      "source": [
        "# how many % survived according to Pclass\n",
        "per_class_1 = round(df.groupby(by = \"Pclass\").sum()['Survived'][1] / total_people_pclass_1, 2) * 100\n",
        "per_class_2 = round(df.groupby(by = \"Pclass\").sum()['Survived'][2] / total_people_pclass_2, 2) * 100\n",
        "per_class_3 = round(df.groupby(by = \"Pclass\").sum()['Survived'][3] / total_people_pclass_3, 2) * 100\n",
        "\n",
        "print(f'per_class_1 = {per_class_1}%')\n",
        "print(f'per_class_2 = {per_class_2}%')\n",
        "print(f'per_class_3 = {per_class_3}%')"
      ],
      "outputs": [
        {
          "output_type": "stream",
          "name": "stdout",
          "text": [
            "per_class_1 = 63.0%\n",
            "per_class_2 = 47.0%\n",
            "per_class_3 = 24.0%\n"
          ]
        }
      ],
      "metadata": {
        "colab": {
          "base_uri": "https://localhost:8080/"
        },
        "id": "bmfyTv68CHT-",
        "outputId": "c8e28d9c-a3ae-4d25-982a-9e169ecd484f"
      }
    },
    {
      "cell_type": "code",
      "execution_count": 134,
      "source": [
        "df.groupby(by = \"Pclass\").mean()['Fare']"
      ],
      "outputs": [
        {
          "output_type": "execute_result",
          "data": {
            "text/plain": [
              "Pclass\n",
              "1    84.193516\n",
              "2    20.662183\n",
              "3    13.675550\n",
              "Name: Fare, dtype: float64"
            ]
          },
          "metadata": {
            "tags": []
          },
          "execution_count": 134
        }
      ],
      "metadata": {
        "colab": {
          "base_uri": "https://localhost:8080/"
        },
        "id": "mNIy_m2zCss8",
        "outputId": "b5d5e7cc-a321-4194-b29a-fe13e5a8f2a4"
      }
    },
    {
      "cell_type": "markdown",
      "source": [
        "Conclusion: \n",
        "+ Đừng hỏi tiền nhiều để làm gì nữa nghen :> \n",
        "+ Nếu đi du lịch biển, nhớ chi tiền nằm hạng thương gia --> tỉ lệ sống sót cao hơn "
      ],
      "metadata": {
        "id": "BEKQ3ck3C83i"
      }
    },
    {
      "cell_type": "markdown",
      "source": [
        "### Concatenate dataset\n",
        "\n",
        "pd.concat([df1, df2, ..])\n",
        "\n",
        "df.append([df1, df2, ...])\n",
        "\n",
        "pd.merge(df1, df2, how = )"
      ],
      "metadata": {
        "id": "46tGWFvAABnE"
      }
    },
    {
      "cell_type": "code",
      "execution_count": 135,
      "source": [
        "df_left = pd.DataFrame({\"Key_1\" : [\"K0\", \"K1\", \"K2\", \"K3\"], \n",
        "                        \"Key_2\" : ['Z0', \"Z1\", \"Z2\", \"Z3\"], \n",
        "                        \"City\" : [\"city1\", \"city2\", \"city3\", \"city4\"]})\n",
        "\n",
        "df_right = pd.DataFrame({\"Key_1\" : [\"K0\", \"K1\", \"K2\", \"K3\"], \n",
        "                         \"Key_2\" : ['Z0', \"Z1\", \"Z2\", \"Z3\"], \n",
        "                         \"User_Name\" : [\"urser1\", \"user2\", \"user3\", \"user4\"]})"
      ],
      "outputs": [],
      "metadata": {
        "id": "3D5zx0oN_eGu"
      }
    },
    {
      "cell_type": "code",
      "execution_count": 136,
      "source": [
        "df_left"
      ],
      "outputs": [
        {
          "output_type": "execute_result",
          "data": {
            "text/plain": [
              "  Key_1 Key_2   City\n",
              "0    K0    Z0  city1\n",
              "1    K1    Z1  city2\n",
              "2    K2    Z2  city3\n",
              "3    K3    Z3  city4"
            ],
            "text/html": [
              "<div>\n",
              "<style scoped>\n",
              "    .dataframe tbody tr th:only-of-type {\n",
              "        vertical-align: middle;\n",
              "    }\n",
              "\n",
              "    .dataframe tbody tr th {\n",
              "        vertical-align: top;\n",
              "    }\n",
              "\n",
              "    .dataframe thead th {\n",
              "        text-align: right;\n",
              "    }\n",
              "</style>\n",
              "<table border=\"1\" class=\"dataframe\">\n",
              "  <thead>\n",
              "    <tr style=\"text-align: right;\">\n",
              "      <th></th>\n",
              "      <th>Key_1</th>\n",
              "      <th>Key_2</th>\n",
              "      <th>City</th>\n",
              "    </tr>\n",
              "  </thead>\n",
              "  <tbody>\n",
              "    <tr>\n",
              "      <th>0</th>\n",
              "      <td>K0</td>\n",
              "      <td>Z0</td>\n",
              "      <td>city1</td>\n",
              "    </tr>\n",
              "    <tr>\n",
              "      <th>1</th>\n",
              "      <td>K1</td>\n",
              "      <td>Z1</td>\n",
              "      <td>city2</td>\n",
              "    </tr>\n",
              "    <tr>\n",
              "      <th>2</th>\n",
              "      <td>K2</td>\n",
              "      <td>Z2</td>\n",
              "      <td>city3</td>\n",
              "    </tr>\n",
              "    <tr>\n",
              "      <th>3</th>\n",
              "      <td>K3</td>\n",
              "      <td>Z3</td>\n",
              "      <td>city4</td>\n",
              "    </tr>\n",
              "  </tbody>\n",
              "</table>\n",
              "</div>"
            ]
          },
          "metadata": {
            "tags": []
          },
          "execution_count": 136
        }
      ],
      "metadata": {
        "colab": {
          "base_uri": "https://localhost:8080/",
          "height": 175
        },
        "id": "m3O27dI4QFe5",
        "outputId": "c1f6276f-c5d8-460e-e953-41fdf77a48dd"
      }
    },
    {
      "cell_type": "code",
      "execution_count": 137,
      "source": [
        "df_right"
      ],
      "outputs": [
        {
          "output_type": "execute_result",
          "data": {
            "text/plain": [
              "  Key_1 Key_2 User_Name\n",
              "0    K0    Z0    urser1\n",
              "1    K1    Z1     user2\n",
              "2    K2    Z2     user3\n",
              "3    K3    Z3     user4"
            ],
            "text/html": [
              "<div>\n",
              "<style scoped>\n",
              "    .dataframe tbody tr th:only-of-type {\n",
              "        vertical-align: middle;\n",
              "    }\n",
              "\n",
              "    .dataframe tbody tr th {\n",
              "        vertical-align: top;\n",
              "    }\n",
              "\n",
              "    .dataframe thead th {\n",
              "        text-align: right;\n",
              "    }\n",
              "</style>\n",
              "<table border=\"1\" class=\"dataframe\">\n",
              "  <thead>\n",
              "    <tr style=\"text-align: right;\">\n",
              "      <th></th>\n",
              "      <th>Key_1</th>\n",
              "      <th>Key_2</th>\n",
              "      <th>User_Name</th>\n",
              "    </tr>\n",
              "  </thead>\n",
              "  <tbody>\n",
              "    <tr>\n",
              "      <th>0</th>\n",
              "      <td>K0</td>\n",
              "      <td>Z0</td>\n",
              "      <td>urser1</td>\n",
              "    </tr>\n",
              "    <tr>\n",
              "      <th>1</th>\n",
              "      <td>K1</td>\n",
              "      <td>Z1</td>\n",
              "      <td>user2</td>\n",
              "    </tr>\n",
              "    <tr>\n",
              "      <th>2</th>\n",
              "      <td>K2</td>\n",
              "      <td>Z2</td>\n",
              "      <td>user3</td>\n",
              "    </tr>\n",
              "    <tr>\n",
              "      <th>3</th>\n",
              "      <td>K3</td>\n",
              "      <td>Z3</td>\n",
              "      <td>user4</td>\n",
              "    </tr>\n",
              "  </tbody>\n",
              "</table>\n",
              "</div>"
            ]
          },
          "metadata": {
            "tags": []
          },
          "execution_count": 137
        }
      ],
      "metadata": {
        "colab": {
          "base_uri": "https://localhost:8080/",
          "height": 175
        },
        "id": "O2Hg1pGLQGs3",
        "outputId": "375d5139-b88a-44ad-c7f5-96154b85a966"
      }
    },
    {
      "cell_type": "markdown",
      "source": [
        "+ pd.concat()"
      ],
      "metadata": {
        "id": "3ljGcr8aRPxT"
      }
    },
    {
      "cell_type": "code",
      "execution_count": 142,
      "source": [
        "df_concat = pd.concat([df_left, df_right], axis = 0)\n",
        "df_concat"
      ],
      "outputs": [
        {
          "output_type": "execute_result",
          "data": {
            "text/plain": [
              "  Key_1 Key_2   City User_Name\n",
              "0    K0    Z0  city1       NaN\n",
              "1    K1    Z1  city2       NaN\n",
              "2    K2    Z2  city3       NaN\n",
              "3    K3    Z3  city4       NaN\n",
              "0    K0    Z0    NaN    urser1\n",
              "1    K1    Z1    NaN     user2\n",
              "2    K2    Z2    NaN     user3\n",
              "3    K3    Z3    NaN     user4"
            ],
            "text/html": [
              "<div>\n",
              "<style scoped>\n",
              "    .dataframe tbody tr th:only-of-type {\n",
              "        vertical-align: middle;\n",
              "    }\n",
              "\n",
              "    .dataframe tbody tr th {\n",
              "        vertical-align: top;\n",
              "    }\n",
              "\n",
              "    .dataframe thead th {\n",
              "        text-align: right;\n",
              "    }\n",
              "</style>\n",
              "<table border=\"1\" class=\"dataframe\">\n",
              "  <thead>\n",
              "    <tr style=\"text-align: right;\">\n",
              "      <th></th>\n",
              "      <th>Key_1</th>\n",
              "      <th>Key_2</th>\n",
              "      <th>City</th>\n",
              "      <th>User_Name</th>\n",
              "    </tr>\n",
              "  </thead>\n",
              "  <tbody>\n",
              "    <tr>\n",
              "      <th>0</th>\n",
              "      <td>K0</td>\n",
              "      <td>Z0</td>\n",
              "      <td>city1</td>\n",
              "      <td>NaN</td>\n",
              "    </tr>\n",
              "    <tr>\n",
              "      <th>1</th>\n",
              "      <td>K1</td>\n",
              "      <td>Z1</td>\n",
              "      <td>city2</td>\n",
              "      <td>NaN</td>\n",
              "    </tr>\n",
              "    <tr>\n",
              "      <th>2</th>\n",
              "      <td>K2</td>\n",
              "      <td>Z2</td>\n",
              "      <td>city3</td>\n",
              "      <td>NaN</td>\n",
              "    </tr>\n",
              "    <tr>\n",
              "      <th>3</th>\n",
              "      <td>K3</td>\n",
              "      <td>Z3</td>\n",
              "      <td>city4</td>\n",
              "      <td>NaN</td>\n",
              "    </tr>\n",
              "    <tr>\n",
              "      <th>0</th>\n",
              "      <td>K0</td>\n",
              "      <td>Z0</td>\n",
              "      <td>NaN</td>\n",
              "      <td>urser1</td>\n",
              "    </tr>\n",
              "    <tr>\n",
              "      <th>1</th>\n",
              "      <td>K1</td>\n",
              "      <td>Z1</td>\n",
              "      <td>NaN</td>\n",
              "      <td>user2</td>\n",
              "    </tr>\n",
              "    <tr>\n",
              "      <th>2</th>\n",
              "      <td>K2</td>\n",
              "      <td>Z2</td>\n",
              "      <td>NaN</td>\n",
              "      <td>user3</td>\n",
              "    </tr>\n",
              "    <tr>\n",
              "      <th>3</th>\n",
              "      <td>K3</td>\n",
              "      <td>Z3</td>\n",
              "      <td>NaN</td>\n",
              "      <td>user4</td>\n",
              "    </tr>\n",
              "  </tbody>\n",
              "</table>\n",
              "</div>"
            ]
          },
          "metadata": {
            "tags": []
          },
          "execution_count": 142
        }
      ],
      "metadata": {
        "colab": {
          "base_uri": "https://localhost:8080/",
          "height": 300
        },
        "id": "4jPSZ4qnQHb-",
        "outputId": "35e77150-1a24-4a92-a4a5-d7d381951c48"
      }
    },
    {
      "cell_type": "code",
      "execution_count": 144,
      "source": [
        "df_concat = pd.concat([df_left, df_right], axis = 1)\n",
        "df_concat"
      ],
      "outputs": [
        {
          "output_type": "execute_result",
          "data": {
            "text/plain": [
              "  Key_1 Key_2   City Key_1 Key_2 User_Name\n",
              "0    K0    Z0  city1    K0    Z0    urser1\n",
              "1    K1    Z1  city2    K1    Z1     user2\n",
              "2    K2    Z2  city3    K2    Z2     user3\n",
              "3    K3    Z3  city4    K3    Z3     user4"
            ],
            "text/html": [
              "<div>\n",
              "<style scoped>\n",
              "    .dataframe tbody tr th:only-of-type {\n",
              "        vertical-align: middle;\n",
              "    }\n",
              "\n",
              "    .dataframe tbody tr th {\n",
              "        vertical-align: top;\n",
              "    }\n",
              "\n",
              "    .dataframe thead th {\n",
              "        text-align: right;\n",
              "    }\n",
              "</style>\n",
              "<table border=\"1\" class=\"dataframe\">\n",
              "  <thead>\n",
              "    <tr style=\"text-align: right;\">\n",
              "      <th></th>\n",
              "      <th>Key_1</th>\n",
              "      <th>Key_2</th>\n",
              "      <th>City</th>\n",
              "      <th>Key_1</th>\n",
              "      <th>Key_2</th>\n",
              "      <th>User_Name</th>\n",
              "    </tr>\n",
              "  </thead>\n",
              "  <tbody>\n",
              "    <tr>\n",
              "      <th>0</th>\n",
              "      <td>K0</td>\n",
              "      <td>Z0</td>\n",
              "      <td>city1</td>\n",
              "      <td>K0</td>\n",
              "      <td>Z0</td>\n",
              "      <td>urser1</td>\n",
              "    </tr>\n",
              "    <tr>\n",
              "      <th>1</th>\n",
              "      <td>K1</td>\n",
              "      <td>Z1</td>\n",
              "      <td>city2</td>\n",
              "      <td>K1</td>\n",
              "      <td>Z1</td>\n",
              "      <td>user2</td>\n",
              "    </tr>\n",
              "    <tr>\n",
              "      <th>2</th>\n",
              "      <td>K2</td>\n",
              "      <td>Z2</td>\n",
              "      <td>city3</td>\n",
              "      <td>K2</td>\n",
              "      <td>Z2</td>\n",
              "      <td>user3</td>\n",
              "    </tr>\n",
              "    <tr>\n",
              "      <th>3</th>\n",
              "      <td>K3</td>\n",
              "      <td>Z3</td>\n",
              "      <td>city4</td>\n",
              "      <td>K3</td>\n",
              "      <td>Z3</td>\n",
              "      <td>user4</td>\n",
              "    </tr>\n",
              "  </tbody>\n",
              "</table>\n",
              "</div>"
            ]
          },
          "metadata": {
            "tags": []
          },
          "execution_count": 144
        }
      ],
      "metadata": {
        "colab": {
          "base_uri": "https://localhost:8080/",
          "height": 175
        },
        "id": "vgfKjLcFQR0W",
        "outputId": "854a2c48-7fd5-4577-a15f-dac971798c8b"
      }
    },
    {
      "cell_type": "code",
      "execution_count": 145,
      "source": [
        "df_concat = pd.concat([df_left, df_right], axis = 0, join = \"inner\")\n",
        "df_concat"
      ],
      "outputs": [
        {
          "output_type": "execute_result",
          "data": {
            "text/plain": [
              "  Key_1 Key_2\n",
              "0    K0    Z0\n",
              "1    K1    Z1\n",
              "2    K2    Z2\n",
              "3    K3    Z3\n",
              "0    K0    Z0\n",
              "1    K1    Z1\n",
              "2    K2    Z2\n",
              "3    K3    Z3"
            ],
            "text/html": [
              "<div>\n",
              "<style scoped>\n",
              "    .dataframe tbody tr th:only-of-type {\n",
              "        vertical-align: middle;\n",
              "    }\n",
              "\n",
              "    .dataframe tbody tr th {\n",
              "        vertical-align: top;\n",
              "    }\n",
              "\n",
              "    .dataframe thead th {\n",
              "        text-align: right;\n",
              "    }\n",
              "</style>\n",
              "<table border=\"1\" class=\"dataframe\">\n",
              "  <thead>\n",
              "    <tr style=\"text-align: right;\">\n",
              "      <th></th>\n",
              "      <th>Key_1</th>\n",
              "      <th>Key_2</th>\n",
              "    </tr>\n",
              "  </thead>\n",
              "  <tbody>\n",
              "    <tr>\n",
              "      <th>0</th>\n",
              "      <td>K0</td>\n",
              "      <td>Z0</td>\n",
              "    </tr>\n",
              "    <tr>\n",
              "      <th>1</th>\n",
              "      <td>K1</td>\n",
              "      <td>Z1</td>\n",
              "    </tr>\n",
              "    <tr>\n",
              "      <th>2</th>\n",
              "      <td>K2</td>\n",
              "      <td>Z2</td>\n",
              "    </tr>\n",
              "    <tr>\n",
              "      <th>3</th>\n",
              "      <td>K3</td>\n",
              "      <td>Z3</td>\n",
              "    </tr>\n",
              "    <tr>\n",
              "      <th>0</th>\n",
              "      <td>K0</td>\n",
              "      <td>Z0</td>\n",
              "    </tr>\n",
              "    <tr>\n",
              "      <th>1</th>\n",
              "      <td>K1</td>\n",
              "      <td>Z1</td>\n",
              "    </tr>\n",
              "    <tr>\n",
              "      <th>2</th>\n",
              "      <td>K2</td>\n",
              "      <td>Z2</td>\n",
              "    </tr>\n",
              "    <tr>\n",
              "      <th>3</th>\n",
              "      <td>K3</td>\n",
              "      <td>Z3</td>\n",
              "    </tr>\n",
              "  </tbody>\n",
              "</table>\n",
              "</div>"
            ]
          },
          "metadata": {
            "tags": []
          },
          "execution_count": 145
        }
      ],
      "metadata": {
        "colab": {
          "base_uri": "https://localhost:8080/",
          "height": 300
        },
        "id": "USyJ2mYjQU7f",
        "outputId": "2a91ca6d-f6ff-4991-abb3-e1b01bfad8bc"
      }
    },
    {
      "cell_type": "code",
      "execution_count": 150,
      "source": [
        "df_append = df_left.append(df_right)\n",
        "df_append"
      ],
      "outputs": [
        {
          "output_type": "execute_result",
          "data": {
            "text/plain": [
              "  Key_1 Key_2   City User_Name\n",
              "0    K0    Z0  city1       NaN\n",
              "1    K1    Z1  city2       NaN\n",
              "2    K2    Z2  city3       NaN\n",
              "3    K3    Z3  city4       NaN\n",
              "0    K0    Z0    NaN    urser1\n",
              "1    K1    Z1    NaN     user2\n",
              "2    K2    Z2    NaN     user3\n",
              "3    K3    Z3    NaN     user4"
            ],
            "text/html": [
              "<div>\n",
              "<style scoped>\n",
              "    .dataframe tbody tr th:only-of-type {\n",
              "        vertical-align: middle;\n",
              "    }\n",
              "\n",
              "    .dataframe tbody tr th {\n",
              "        vertical-align: top;\n",
              "    }\n",
              "\n",
              "    .dataframe thead th {\n",
              "        text-align: right;\n",
              "    }\n",
              "</style>\n",
              "<table border=\"1\" class=\"dataframe\">\n",
              "  <thead>\n",
              "    <tr style=\"text-align: right;\">\n",
              "      <th></th>\n",
              "      <th>Key_1</th>\n",
              "      <th>Key_2</th>\n",
              "      <th>City</th>\n",
              "      <th>User_Name</th>\n",
              "    </tr>\n",
              "  </thead>\n",
              "  <tbody>\n",
              "    <tr>\n",
              "      <th>0</th>\n",
              "      <td>K0</td>\n",
              "      <td>Z0</td>\n",
              "      <td>city1</td>\n",
              "      <td>NaN</td>\n",
              "    </tr>\n",
              "    <tr>\n",
              "      <th>1</th>\n",
              "      <td>K1</td>\n",
              "      <td>Z1</td>\n",
              "      <td>city2</td>\n",
              "      <td>NaN</td>\n",
              "    </tr>\n",
              "    <tr>\n",
              "      <th>2</th>\n",
              "      <td>K2</td>\n",
              "      <td>Z2</td>\n",
              "      <td>city3</td>\n",
              "      <td>NaN</td>\n",
              "    </tr>\n",
              "    <tr>\n",
              "      <th>3</th>\n",
              "      <td>K3</td>\n",
              "      <td>Z3</td>\n",
              "      <td>city4</td>\n",
              "      <td>NaN</td>\n",
              "    </tr>\n",
              "    <tr>\n",
              "      <th>0</th>\n",
              "      <td>K0</td>\n",
              "      <td>Z0</td>\n",
              "      <td>NaN</td>\n",
              "      <td>urser1</td>\n",
              "    </tr>\n",
              "    <tr>\n",
              "      <th>1</th>\n",
              "      <td>K1</td>\n",
              "      <td>Z1</td>\n",
              "      <td>NaN</td>\n",
              "      <td>user2</td>\n",
              "    </tr>\n",
              "    <tr>\n",
              "      <th>2</th>\n",
              "      <td>K2</td>\n",
              "      <td>Z2</td>\n",
              "      <td>NaN</td>\n",
              "      <td>user3</td>\n",
              "    </tr>\n",
              "    <tr>\n",
              "      <th>3</th>\n",
              "      <td>K3</td>\n",
              "      <td>Z3</td>\n",
              "      <td>NaN</td>\n",
              "      <td>user4</td>\n",
              "    </tr>\n",
              "  </tbody>\n",
              "</table>\n",
              "</div>"
            ]
          },
          "metadata": {
            "tags": []
          },
          "execution_count": 150
        }
      ],
      "metadata": {
        "colab": {
          "base_uri": "https://localhost:8080/",
          "height": 300
        },
        "id": "DgaKhcBeQvb-",
        "outputId": "bd1a785f-b893-460e-fb75-69fe34c90947"
      }
    },
    {
      "cell_type": "markdown",
      "source": [
        "+ df.append()"
      ],
      "metadata": {
        "id": "1UuF1spSRNIW"
      }
    },
    {
      "cell_type": "code",
      "execution_count": 149,
      "source": [
        "df_append = df_left.append(df_right, ignore_index = True)\n",
        "df_append"
      ],
      "outputs": [
        {
          "output_type": "execute_result",
          "data": {
            "text/plain": [
              "  Key_1 Key_2   City User_Name\n",
              "0    K0    Z0  city1       NaN\n",
              "1    K1    Z1  city2       NaN\n",
              "2    K2    Z2  city3       NaN\n",
              "3    K3    Z3  city4       NaN\n",
              "4    K0    Z0    NaN    urser1\n",
              "5    K1    Z1    NaN     user2\n",
              "6    K2    Z2    NaN     user3\n",
              "7    K3    Z3    NaN     user4"
            ],
            "text/html": [
              "<div>\n",
              "<style scoped>\n",
              "    .dataframe tbody tr th:only-of-type {\n",
              "        vertical-align: middle;\n",
              "    }\n",
              "\n",
              "    .dataframe tbody tr th {\n",
              "        vertical-align: top;\n",
              "    }\n",
              "\n",
              "    .dataframe thead th {\n",
              "        text-align: right;\n",
              "    }\n",
              "</style>\n",
              "<table border=\"1\" class=\"dataframe\">\n",
              "  <thead>\n",
              "    <tr style=\"text-align: right;\">\n",
              "      <th></th>\n",
              "      <th>Key_1</th>\n",
              "      <th>Key_2</th>\n",
              "      <th>City</th>\n",
              "      <th>User_Name</th>\n",
              "    </tr>\n",
              "  </thead>\n",
              "  <tbody>\n",
              "    <tr>\n",
              "      <th>0</th>\n",
              "      <td>K0</td>\n",
              "      <td>Z0</td>\n",
              "      <td>city1</td>\n",
              "      <td>NaN</td>\n",
              "    </tr>\n",
              "    <tr>\n",
              "      <th>1</th>\n",
              "      <td>K1</td>\n",
              "      <td>Z1</td>\n",
              "      <td>city2</td>\n",
              "      <td>NaN</td>\n",
              "    </tr>\n",
              "    <tr>\n",
              "      <th>2</th>\n",
              "      <td>K2</td>\n",
              "      <td>Z2</td>\n",
              "      <td>city3</td>\n",
              "      <td>NaN</td>\n",
              "    </tr>\n",
              "    <tr>\n",
              "      <th>3</th>\n",
              "      <td>K3</td>\n",
              "      <td>Z3</td>\n",
              "      <td>city4</td>\n",
              "      <td>NaN</td>\n",
              "    </tr>\n",
              "    <tr>\n",
              "      <th>4</th>\n",
              "      <td>K0</td>\n",
              "      <td>Z0</td>\n",
              "      <td>NaN</td>\n",
              "      <td>urser1</td>\n",
              "    </tr>\n",
              "    <tr>\n",
              "      <th>5</th>\n",
              "      <td>K1</td>\n",
              "      <td>Z1</td>\n",
              "      <td>NaN</td>\n",
              "      <td>user2</td>\n",
              "    </tr>\n",
              "    <tr>\n",
              "      <th>6</th>\n",
              "      <td>K2</td>\n",
              "      <td>Z2</td>\n",
              "      <td>NaN</td>\n",
              "      <td>user3</td>\n",
              "    </tr>\n",
              "    <tr>\n",
              "      <th>7</th>\n",
              "      <td>K3</td>\n",
              "      <td>Z3</td>\n",
              "      <td>NaN</td>\n",
              "      <td>user4</td>\n",
              "    </tr>\n",
              "  </tbody>\n",
              "</table>\n",
              "</div>"
            ]
          },
          "metadata": {
            "tags": []
          },
          "execution_count": 149
        }
      ],
      "metadata": {
        "colab": {
          "base_uri": "https://localhost:8080/",
          "height": 300
        },
        "id": "Im2v12Q9QsXO",
        "outputId": "dbfd77c9-6ff5-417e-93c4-a6dd028179b3"
      }
    },
    {
      "cell_type": "markdown",
      "source": [
        "+ pd.merge()"
      ],
      "metadata": {
        "id": "HsoqkznPRTEn"
      }
    },
    {
      "cell_type": "code",
      "execution_count": 153,
      "source": [
        "df_concat = pd.merge(df_left, df_right, how = \"inner\")\n",
        "df_concat"
      ],
      "outputs": [
        {
          "output_type": "execute_result",
          "data": {
            "text/plain": [
              "  Key_1 Key_2   City User_Name\n",
              "0    K0    Z0  city1    urser1\n",
              "1    K1    Z1  city2     user2\n",
              "2    K2    Z2  city3     user3\n",
              "3    K3    Z3  city4     user4"
            ],
            "text/html": [
              "<div>\n",
              "<style scoped>\n",
              "    .dataframe tbody tr th:only-of-type {\n",
              "        vertical-align: middle;\n",
              "    }\n",
              "\n",
              "    .dataframe tbody tr th {\n",
              "        vertical-align: top;\n",
              "    }\n",
              "\n",
              "    .dataframe thead th {\n",
              "        text-align: right;\n",
              "    }\n",
              "</style>\n",
              "<table border=\"1\" class=\"dataframe\">\n",
              "  <thead>\n",
              "    <tr style=\"text-align: right;\">\n",
              "      <th></th>\n",
              "      <th>Key_1</th>\n",
              "      <th>Key_2</th>\n",
              "      <th>City</th>\n",
              "      <th>User_Name</th>\n",
              "    </tr>\n",
              "  </thead>\n",
              "  <tbody>\n",
              "    <tr>\n",
              "      <th>0</th>\n",
              "      <td>K0</td>\n",
              "      <td>Z0</td>\n",
              "      <td>city1</td>\n",
              "      <td>urser1</td>\n",
              "    </tr>\n",
              "    <tr>\n",
              "      <th>1</th>\n",
              "      <td>K1</td>\n",
              "      <td>Z1</td>\n",
              "      <td>city2</td>\n",
              "      <td>user2</td>\n",
              "    </tr>\n",
              "    <tr>\n",
              "      <th>2</th>\n",
              "      <td>K2</td>\n",
              "      <td>Z2</td>\n",
              "      <td>city3</td>\n",
              "      <td>user3</td>\n",
              "    </tr>\n",
              "    <tr>\n",
              "      <th>3</th>\n",
              "      <td>K3</td>\n",
              "      <td>Z3</td>\n",
              "      <td>city4</td>\n",
              "      <td>user4</td>\n",
              "    </tr>\n",
              "  </tbody>\n",
              "</table>\n",
              "</div>"
            ]
          },
          "metadata": {
            "tags": []
          },
          "execution_count": 153
        }
      ],
      "metadata": {
        "colab": {
          "base_uri": "https://localhost:8080/",
          "height": 175
        },
        "id": "SQ5gSFkbRE_Q",
        "outputId": "360b9597-2727-4436-e1cc-26532da54fd8"
      }
    },
    {
      "cell_type": "markdown",
      "source": [
        "+ string manipulation --> Regurlar Expression\n",
        "+ Timestampls --> datetime\n",
        "\n",
        "we don't mention in this repository"
      ],
      "metadata": {
        "id": "omPffX0URgTS"
      }
    },
    {
      "cell_type": "markdown",
      "source": [
        "![image.png](data:image/png;base64,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)"
      ],
      "metadata": {
        "id": "aV2ZxEOaRzMo"
      }
    },
    {
      "cell_type": "code",
      "execution_count": null,
      "source": [],
      "outputs": [],
      "metadata": {
        "id": "tDgpcpBvSsry"
      }
    }
  ]
}